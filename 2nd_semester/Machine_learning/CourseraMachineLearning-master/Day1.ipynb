{
 "cells": [
  {
   "cell_type": "markdown",
   "metadata": {},
   "source": [
    "The contents contained in this Jupyter notebook may be freely distributed for teaching-learning purpose. When more than 20% of this notebook is used for a presentation or distribution it may be cited as follows:\n",
    "\n",
    "Python Tutorial: developed by Naveen Kumar (Professor, Department of Computer Science), Ankit Rajpal (Assistant Professor, Department of Computer Science), Sheetal Rajpal (Assistant Professor, Dyal Singh College), University of Delhi"
   ]
  },
  {
   "cell_type": "markdown",
   "metadata": {},
   "source": [
    "**Link to download:**\n",
    "\n",
    "Python: https://www.python.org/ftp/python/3.11.4/python-3.11.4-amd64.exe \n",
    "Anaconda: https://repo.anaconda.com/archive/Anaconda3-2023.07-2-Windows-x86_64.exe"
   ]
  },
  {
   "cell_type": "markdown",
   "metadata": {},
   "source": [
    "Python Introduction, IDLE/Jupyter/Google Colab Introduction, Interpreter and Script Mode, Identifiers and their naming conventions, keywords, data types, arithmetic operators"
   ]
  },
  {
   "cell_type": "markdown",
   "metadata": {},
   "source": [
    "---\n",
    "# <font color= blue > **PYTHON** </font>\n",
    "* Interactive, interpreted, and object-oriented programming language. \n",
    "* Simple syntax \n",
    "* Developed by Guido Van Rossum in 1991 at the National Research Institute for Mathematics and Computer Science in the Netherlands.\n",
    "* Python is a Beginner's Language − Python is a great language for the beginner-level programmers and supports the development of a wide range of applications from simple text processing to WWW browsers to games.\n",
    "* Python is derived from many other languages, including ABC, Modula-3, C, C++, Algol-68, SmallTalk, and Unix shell and other scripting languages.\n",
    "* Python is copyrighted. Like Perl, Python source code is now available under the GNU General Public License (GPL).\n",
    " \n"
   ]
  },
  {
   "cell_type": "markdown",
   "metadata": {},
   "source": [
    "## <font color= blue > PYTHON PROGRAMMING ENVIRONMENT </font>\n",
    "* Available on a wide variety of platforms including Windows, Linux and Mac OS X. \n",
    "* Official Website: __[python.org](https://python.org)__ \n",
    "* IDLE stands for Integrated Development and Learning Environment. Python IDLE comprises Python Shell and Python Editor.\n",
    "                                Python Shell                                    Python Editor                  \n",
    "![](1.png)\n",
    "\n",
    "---"
   ]
  },
  {
   "cell_type": "markdown",
   "metadata": {},
   "source": [
    "---\n",
    "# <font color= blue > First Python Program </font>\n",
    "* Interactive Mode Programming \n",
    "  \n",
    "  python\n",
    "  \n",
    "  get a prompt\n",
    "  \n",
    "* Script Mode Programming\n",
    "  \n",
    "  Write a program with any editor and save it with .py extension\n",
    "  \n",
    "  python test.py"
   ]
  },
  {
   "cell_type": "markdown",
   "metadata": {},
   "source": [
    "## <font color= blue > Display on screen </font>"
   ]
  },
  {
   "cell_type": "code",
   "execution_count": 2,
   "metadata": {},
   "outputs": [
    {
     "name": "stdout",
     "output_type": "stream",
     "text": [
      "hello world!\n"
     ]
    }
   ],
   "source": [
    "print('hello world!')"
   ]
  },
  {
   "cell_type": "markdown",
   "metadata": {},
   "source": [
    "---\n",
    "\n",
    "## <font color= blue >Lines and Indentation </font>\n",
    "\n",
    "* Python provides no braces to indicate blocks of code for class and function definitions or flow control. Blocks of code are denoted by line indentation, which is rigidly enforced.\n",
    "\n",
    "* The number of spaces in the indentation is variable, but all statements within the block must be indented the same amount.\n"
   ]
  },
  {
   "cell_type": "markdown",
   "metadata": {},
   "source": [
    "---\n",
    "\n",
    "## <font color= blue > Names (Variables) and Assignment Statements </font>\n",
    "* Variables provide a means to name values so that they can be used and manipulated later.\n",
    "* Python variables do not need explicit declaration to reserve memory space. The declaration happens automatically when you assign a value to a variable. The equal sign (=) is used to assign values to variables.\n",
    "* Assignment Statement: Statement that assigns value to a variable."
   ]
  },
  {
   "cell_type": "code",
   "execution_count": 4,
   "metadata": {},
   "outputs": [
    {
     "name": "stdout",
     "output_type": "stream",
     "text": [
      "57\n"
     ]
    }
   ],
   "source": [
    "english = 57\n",
    "print(english)"
   ]
  },
  {
   "cell_type": "code",
   "execution_count": 5,
   "metadata": {},
   "outputs": [],
   "source": [
    "studentMarks = 89\n",
    "studentMarksUpdate = 90"
   ]
  },
  {
   "cell_type": "code",
   "execution_count": 6,
   "metadata": {},
   "outputs": [
    {
     "data": {
      "text/plain": [
       "13"
      ]
     },
     "execution_count": 6,
     "metadata": {},
     "output_type": "execute_result"
    }
   ],
   "source": [
    "a = 6\n",
    "a.__add__(7)"
   ]
  },
  {
   "cell_type": "code",
   "execution_count": 7,
   "metadata": {},
   "outputs": [
    {
     "ename": "NameError",
     "evalue": "name 'studentmarks' is not defined",
     "output_type": "error",
     "traceback": [
      "\u001b[1;31m---------------------------------------------------------------------------\u001b[0m",
      "\u001b[1;31mNameError\u001b[0m                                 Traceback (most recent call last)",
      "Cell \u001b[1;32mIn[7], line 1\u001b[0m\n\u001b[1;32m----> 1\u001b[0m \u001b[38;5;28mprint\u001b[39m(\u001b[43mstudentmarks\u001b[49m,studentMarksUpdate)\n",
      "\u001b[1;31mNameError\u001b[0m: name 'studentmarks' is not defined"
     ]
    }
   ],
   "source": [
    "print(studentmarks,studentMarksUpdate)"
   ]
  },
  {
   "cell_type": "markdown",
   "metadata": {},
   "source": [
    "Python associates the **name** (variable) **english** with value **57** i.e. the name (variable) **english** is assigned the value **57**, or that the name (variable) **english** refers to value **57**. Values are also called **objects**.\n",
    "![title](2.png)"
   ]
  },
  {
   "cell_type": "markdown",
   "metadata": {},
   "source": [
    "### <font color= blue > Rules for creating a name (variable) </font>\n",
    "* Must begin with a letter or _ (underscore character)\n",
    "* May contain any number of letters, digits, or underscore\n",
    "characters. No other character apart from these is allowed."
   ]
  },
  {
   "cell_type": "markdown",
   "metadata": {},
   "source": [
    "### <font color= blue > Multiple Assignments </font>\n",
    "* Used to enhance the readability of the program."
   ]
  },
  {
   "cell_type": "code",
   "execution_count": 10,
   "metadata": {},
   "outputs": [
    {
     "name": "stdout",
     "output_type": "stream",
     "text": [
      "Meeting Mon 9\n"
     ]
    }
   ],
   "source": [
    "msg, day, time = 'Meeting', 'Mon', '9'\n",
    "print(msg, day, time)\n",
    "totalMarks = 0\n",
    "count = 0\n",
    "\n",
    "totalMarks = count = 0"
   ]
  },
  {
   "cell_type": "markdown",
   "metadata": {},
   "source": [
    "---\n",
    "## <font color= blue > Arithmetic Operators </font>"
   ]
  },
  {
   "cell_type": "code",
   "execution_count": null,
   "metadata": {},
   "outputs": [],
   "source": [
    "print(\"18 + 5 =\", 18 + 5)    #Addition\n",
    "print(\"18 - 5 =\", 18 - 5)    #Subtraction\n",
    "print(\"18 * 5 =\", 18 * 5)    #Multiplication\n",
    "print(\"27 / 5 =\", 27 / 5)    #Division\n",
    "print(\"27 // 5 =\", 27 // 5)  #Integer Division\n",
    "print(\"27 % 5 =\", 27 % 5)    #Modulus\n",
    "print(\"2 ** 3 =\", 2 ** 3)    #Exponentiation\n",
    "print(\"-2 ** 3 =\", -2 ** 3)  #Exponentiation"
   ]
  },
  {
   "cell_type": "code",
   "execution_count": null,
   "metadata": {},
   "outputs": [],
   "source": [
    "print(\"'how' + ' are' + ' you?':\", 'how' + ' are' + ' you?')\n",
    "print(\"'hello' * 5             :\", 'hello' * 5)"
   ]
  },
  {
   "cell_type": "code",
   "execution_count": null,
   "metadata": {},
   "outputs": [],
   "source": [
    "'Hello' + '3'"
   ]
  },
  {
   "cell_type": "code",
   "execution_count": null,
   "metadata": {},
   "outputs": [],
   "source": [
    "1 / 2 ** 3"
   ]
  },
  {
   "cell_type": "markdown",
   "metadata": {},
   "source": [
    "### <font color= green > Precedence of Arithmetic Operators </font>\n",
    "![title](3.png)"
   ]
  },
  {
   "cell_type": "markdown",
   "metadata": {},
   "source": [
    "---\n",
    "## <font color= blue > Shorthand Operators </font>"
   ]
  },
  {
   "cell_type": "code",
   "execution_count": null,
   "metadata": {},
   "outputs": [],
   "source": [
    "a = 6\n",
    "a = a + 5\n",
    "print(a)\n",
    "a = 6\n",
    "a += 5\n",
    "print(a)"
   ]
  },
  {
   "cell_type": "code",
   "execution_count": null,
   "metadata": {},
   "outputs": [],
   "source": [
    "a = 9\n",
    "\n",
    "a += 5\n",
    "\n",
    "print(a)"
   ]
  },
  {
   "cell_type": "markdown",
   "metadata": {},
   "source": [
    "---\n",
    "## <font color= blue > Relational Operators </font>\n",
    "* Used for comparing two expressions and yield True or False.\n",
    "* The arithmetic operators have higher precedence than the relational operators."
   ]
  },
  {
   "cell_type": "code",
   "execution_count": 11,
   "metadata": {},
   "outputs": [
    {
     "name": "stdout",
     "output_type": "stream",
     "text": [
      "23 < 25  : True\n",
      "23 > 25  : False\n",
      "23 <= 23 : True\n",
      "23 - 2.5 >= 5 * 4 : True\n",
      "23 == 25 : False\n",
      "23 != 25 : True\n"
     ]
    }
   ],
   "source": [
    "print(\"23 < 25  :\", 23 < 25)           #less than\n",
    "print(\"23 > 25  :\", 23 > 25)           #greater than\n",
    "print(\"23 <= 23 :\", 23 <= 23)          #less than or equal to\n",
    "print(\"23 - 2.5 >= 5 * 4 :\", 23 - 2.5 >= 5 * 4) #greater than or equal to\n",
    "print(\"23 == 25 :\", 23 == 25)          #equal to\n",
    "print(\"23 != 25 :\", 23 != 25)          #not equal to"
   ]
  },
  {
   "cell_type": "markdown",
   "metadata": {},
   "source": [
    "* When the relational operators are applied to strings, strings are compared left to right, character by character, based on their ASCII codes, also called ASCII values."
   ]
  },
  {
   "cell_type": "code",
   "execution_count": null,
   "metadata": {},
   "outputs": [],
   "source": [
    "print(\"'hello' < 'Hello' :\", 'hello' < 'Hello') \n",
    "print(\"'hi' > 'hello'    :\", 'hi' > 'hello') "
   ]
  },
  {
   "cell_type": "markdown",
   "metadata": {},
   "source": [
    "---\n",
    "## <font color= blue > Logical Operators </font>\n",
    "* The logical operators not, and, and or are applied to logical operands True and False, also called Boolean values, and yield either True or False.\n",
    "* As compared to relational and arithmetic operators, logical operators have the least precedence level."
   ]
  },
  {
   "cell_type": "code",
   "execution_count": null,
   "metadata": {},
   "outputs": [],
   "source": [
    "print(\"not True:\", not True)              #not operator\n",
    "print(\"10 < 25 and 5 > 6  :\", 10 < 25 and 5 > 6) #and operator\n",
    "print(\"10 < 25 or 5 > 6   :\", 10 < 25 or 5 > 6)   #or operator"
   ]
  },
  {
   "cell_type": "markdown",
   "metadata": {},
   "source": [
    "### <font color= green > Precedence of Logical Operators </font>\n",
    "![title](4.png)"
   ]
  },
  {
   "cell_type": "markdown",
   "metadata": {},
   "source": [
    "---\n",
    "## <font color= blue > Python Keywords </font>\n",
    "* Reserved words that are already defined by the Python for specific uses."
   ]
  },
  {
   "cell_type": "code",
   "execution_count": 12,
   "metadata": {},
   "outputs": [
    {
     "name": "stdout",
     "output_type": "stream",
     "text": [
      "['False', 'None', 'True', 'and', 'as', 'assert', 'async', 'await', 'break', 'class', 'continue', 'def', 'del', 'elif', 'else', 'except', 'finally', 'for', 'from', 'global', 'if', 'import', 'in', 'is', 'lambda', 'nonlocal', 'not', 'or', 'pass', 'raise', 'return', 'try', 'while', 'with', 'yield']\n"
     ]
    }
   ],
   "source": [
    "import keyword\n",
    "print(keyword.kwlist)"
   ]
  },
  {
   "cell_type": "markdown",
   "metadata": {},
   "source": [
    "['False', 'None', 'True', 'and', 'as', 'assert', 'async', 'await', 'break', 'class', 'continue', 'def', 'del', 'elif', 'else', 'except', 'finally', 'for', 'from', 'global', 'if', 'import', 'in', 'is', 'lambda', 'nonlocal', 'not', 'or', 'pass', 'raise', 'return', 'try', 'while', 'with', 'yield']"
   ]
  },
  {
   "cell_type": "markdown",
   "metadata": {},
   "source": [
    "Exercises:\n",
    "\n",
    "1. Open the Python Shell and display the result of computing the following expressions:\n",
    "<br> a. 13/6+5*4\n",
    "<br> b. 22/7*5*5\n",
    "\n",
    "\n",
    "2. Execute the following commands in the Python Shell and evaluate the output.\n",
    "<br> >>> print(\"I am learning Python\")\n",
    "<br> >>> print(\"I will now play with numbers\")\n",
    "<br> >>> print(10+20+30+40+50)\n",
    "<br> >>> print(2*22/7*4)"
   ]
  }
 ],
 "metadata": {
  "celltoolbar": "Raw Cell Format",
  "kernelspec": {
   "display_name": "Python 3 (ipykernel)",
   "language": "python",
   "name": "python3"
  },
  "language_info": {
   "codemirror_mode": {
    "name": "ipython",
    "version": 3
   },
   "file_extension": ".py",
   "mimetype": "text/x-python",
   "name": "python",
   "nbconvert_exporter": "python",
   "pygments_lexer": "ipython3",
   "version": "3.10.12"
  }
 },
 "nbformat": 4,
 "nbformat_minor": 4
}
