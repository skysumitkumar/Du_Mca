{
 "cells": [
  {
   "cell_type": "markdown",
   "metadata": {},
   "source": [
    "**Link to PythonTutor:**\n",
    "\n",
    "https://pythontutor.com/"
   ]
  },
  {
   "cell_type": "markdown",
   "metadata": {},
   "source": [
    "Inbuilt functions, defining functions - Need of Modularity, Naming conventions and Documentation, Invoking a function, Introduction to PythonTutor."
   ]
  },
  {
   "cell_type": "markdown",
   "metadata": {},
   "source": [
    "---\n",
    "## <font color= blue > Functions </font>\n",
    "* Functions provide a systematic way of problem solving by dividing the given problem into several sub-problems, finding their individual solutions, and integrating the solutions of individual problems to solve the original problem.\n",
    "* This approach to problem solving is called stepwise refinement method or modular approach."
   ]
  },
  {
   "cell_type": "code",
   "execution_count": 2,
   "metadata": {},
   "outputs": [],
   "source": [
    "import math\n",
    "#dir(math)"
   ]
  },
  {
   "cell_type": "markdown",
   "metadata": {},
   "source": [
    "### <font color= green > Advantages of Modular Programming </font>\n",
    "\n",
    "**Ease of Use**: accessing the code in the form of modules improves the readability of the code. <br>\n",
    "\n",
    "**Reusability**: allows users to reuse the functionality wherever required. <br>\n",
    "\n",
    "**Ease of Maintenance**: Enables multiple programmers to collaborate."
   ]
  },
  {
   "cell_type": "markdown",
   "metadata": {},
   "source": [
    "## <font color= blue > Built-in Functions </font>\n",
    "* Predefined functions that are already available in Python."
   ]
  },
  {
   "cell_type": "markdown",
   "metadata": {},
   "source": [
    "### <font color= green > Type Conversion: int, float, str functions </font>"
   ]
  },
  {
   "cell_type": "code",
   "execution_count": null,
   "metadata": {},
   "outputs": [],
   "source": [
    "str(123)"
   ]
  },
  {
   "cell_type": "code",
   "execution_count": null,
   "metadata": {},
   "outputs": [],
   "source": [
    "int('234')"
   ]
  },
  {
   "cell_type": "code",
   "execution_count": null,
   "metadata": {},
   "outputs": [],
   "source": [
    "int(234.8)"
   ]
  },
  {
   "cell_type": "markdown",
   "metadata": {},
   "source": [
    "### <font color= green > input function </font>\n",
    "* Enables us to accept an input string from the user\n",
    "without evaluating its value. \n",
    "* The function input continues to read input text from the user until it encounters a newline."
   ]
  },
  {
   "cell_type": "code",
   "execution_count": null,
   "metadata": {},
   "outputs": [],
   "source": [
    "name = input('Enter a name: ')\n",
    "print('Welcome', name)"
   ]
  },
  {
   "cell_type": "code",
   "execution_count": null,
   "metadata": {},
   "outputs": [],
   "source": [
    "costPrice = int(input('Enter cost price: '))\n",
    "profit = int(input('Enter profit: '))\n",
    "sellingPrice = costPrice + profit\n",
    "print('Selling Price: ', sellingPrice)"
   ]
  },
  {
   "cell_type": "markdown",
   "metadata": {},
   "source": [
    "### <font color= green > Output function: Print </font>\n",
    "\n",
    "Output produced on invoking the print() function is displayed on the screen.\n",
    "\n",
    "Syntax:\n",
    "print(value, [,…,] [, sep = <separator>])"
   ]
  },
  {
   "cell_type": "code",
   "execution_count": null,
   "metadata": {},
   "outputs": [],
   "source": [
    "print('Hello')"
   ]
  },
  {
   "cell_type": "markdown",
   "metadata": {},
   "source": [
    "https://unicode.org/emoji/charts/full-emoji-list.html"
   ]
  },
  {
   "cell_type": "code",
   "execution_count": null,
   "metadata": {},
   "outputs": [],
   "source": [
    "print('\\N{slightly smiling face}')"
   ]
  },
  {
   "cell_type": "code",
   "execution_count": null,
   "metadata": {},
   "outputs": [],
   "source": [
    "print('\\N{winking face}')"
   ]
  },
  {
   "cell_type": "code",
   "execution_count": 3,
   "metadata": {},
   "outputs": [
    {
     "name": "stdout",
     "output_type": "stream",
     "text": [
      "👍\n"
     ]
    }
   ],
   "source": [
    "print('\\U0001f44d')"
   ]
  },
  {
   "cell_type": "code",
   "execution_count": null,
   "metadata": {},
   "outputs": [],
   "source": [
    "print('\\U0001F600')"
   ]
  },
  {
   "cell_type": "code",
   "execution_count": null,
   "metadata": {},
   "outputs": [],
   "source": [
    "print('\\U0001F60A')"
   ]
  },
  {
   "cell_type": "markdown",
   "metadata": {},
   "source": [
    "The backslash character '\\' is used with escape sequences, such as '\\n' and '\\t' which are interpreted as newline and tab characters respectively."
   ]
  },
  {
   "cell_type": "code",
   "execution_count": null,
   "metadata": {},
   "outputs": [],
   "source": [
    "print('Python', '\\nLanguage')"
   ]
  },
  {
   "cell_type": "code",
   "execution_count": null,
   "metadata": {},
   "outputs": [],
   "source": [
    "print(3*50+42)"
   ]
  },
  {
   "cell_type": "code",
   "execution_count": null,
   "metadata": {},
   "outputs": [],
   "source": [
    "print('2*3=',2*3,'3*4=',3*4,sep='#')"
   ]
  },
  {
   "cell_type": "code",
   "execution_count": null,
   "metadata": {},
   "outputs": [],
   "source": [
    "print('Python', 'Language' , sep='**')"
   ]
  },
  {
   "cell_type": "code",
   "execution_count": null,
   "metadata": {},
   "outputs": [],
   "source": [
    "print('Python', 'Language',end='&&&')\n",
    "print('ANkit Rajpal')"
   ]
  },
  {
   "cell_type": "code",
   "execution_count": null,
   "metadata": {},
   "outputs": [],
   "source": [
    "print(type('Hello' + str(123)))"
   ]
  },
  {
   "cell_type": "markdown",
   "metadata": {},
   "source": [
    "### <font color= green > eval function </font>\n",
    "* Used to evaluate the value of a string."
   ]
  },
  {
   "cell_type": "code",
   "execution_count": null,
   "metadata": {},
   "outputs": [],
   "source": [
    "a = eval('15+10')\n",
    "print(a)"
   ]
  },
  {
   "cell_type": "code",
   "execution_count": 4,
   "metadata": {},
   "outputs": [
    {
     "name": "stdout",
     "output_type": "stream",
     "text": [
      "Enter a:234\n"
     ]
    }
   ],
   "source": [
    "a = eval(input('Enter a:'))"
   ]
  },
  {
   "cell_type": "code",
   "execution_count": 5,
   "metadata": {},
   "outputs": [
    {
     "data": {
      "text/plain": [
       "int"
      ]
     },
     "execution_count": 5,
     "metadata": {},
     "output_type": "execute_result"
    }
   ],
   "source": [
    "type(a)"
   ]
  },
  {
   "cell_type": "markdown",
   "metadata": {},
   "source": [
    "### <font color= green > min and max functions </font>\n",
    "* Used to find maximum and minimum value respectively out of several values."
   ]
  },
  {
   "cell_type": "code",
   "execution_count": null,
   "metadata": {},
   "outputs": [],
   "source": [
    "a = max(59, 80, 95.6, 95.2)\n",
    "b = min('hello', 'how', 'are', 'you', 'Sir')\n",
    "\n",
    "print(\"Maximum Value\", a)\n",
    "print(\"Minimum Value\", b)"
   ]
  },
  {
   "cell_type": "markdown",
   "metadata": {},
   "source": [
    "### <font color= green > Functions from math module </font>\n",
    "* Used to find maximum and minimum value respectively out of several values."
   ]
  },
  {
   "cell_type": "code",
   "execution_count": 6,
   "metadata": {},
   "outputs": [
    {
     "name": "stdout",
     "output_type": "stream",
     "text": [
      "math.ceil(3.4)  : 4\n",
      "math.pow(3, 3)  : 27.0\n",
      "math.sqrt(65)   : 8.06225774829855\n",
      "math.sqrt(65)   : 8.06\n",
      "math.log10(100) : 2.0\n"
     ]
    }
   ],
   "source": [
    "import math\n",
    "print(\"math.ceil(3.4)  :\", math.ceil(3.4))\n",
    "print(\"math.pow(3, 3)  :\", math.pow(3, 3))\n",
    "print(\"math.sqrt(65)   :\", math.sqrt(65))\n",
    "print(\"math.sqrt(65)   :\", round(math.sqrt(65),2))\n",
    "print(\"math.log10(100) :\", math.log10(100))"
   ]
  },
  {
   "cell_type": "markdown",
   "metadata": {},
   "source": [
    "### <font color= green > help function </font>\n",
    "* Used to know the purpose of a function and how it is used."
   ]
  },
  {
   "cell_type": "code",
   "execution_count": 7,
   "metadata": {},
   "outputs": [
    {
     "name": "stdout",
     "output_type": "stream",
     "text": [
      "Help on built-in function cos in module math:\n",
      "\n",
      "cos(x, /)\n",
      "    Return the cosine of x (measured in radians).\n",
      "\n",
      "None\n"
     ]
    }
   ],
   "source": [
    "import math\n",
    "print(help(math.cos))"
   ]
  },
  {
   "cell_type": "markdown",
   "metadata": {},
   "source": [
    "## <font color= blue > Function Definition and Call </font>"
   ]
  },
  {
   "cell_type": "markdown",
   "metadata": {},
   "source": [
    "> The **syntax** for a function definition is as follows:\n",
    "\n",
    "    def function_name ( comma_separated_list_of_parameters):\n",
    "        statements\n",
    "Note: Statements below **def** begin with four spaces. This is called **indentation**. It is a requirement of Python that the code following a colon must be indented."
   ]
  },
  {
   "cell_type": "code",
   "execution_count": null,
   "metadata": {},
   "outputs": [],
   "source": [
    "def triangle():\n",
    "    '''\n",
    "    Objective: To print a right angled triangle.\n",
    "    Input Parameter: None\n",
    "    Return Value: None\n",
    "    '''\n",
    "    '''\n",
    "    Approach: To use a print statement for each line of output\n",
    "    '''\n",
    "    print('*')\n",
    "    print('* *')\n",
    "    print('* * *')\n",
    "    print('* * * *')\n",
    "    \n",
    "triangle()"
   ]
  },
  {
   "cell_type": "markdown",
   "metadata": {},
   "source": [
    "#### Invoking the function"
   ]
  },
  {
   "cell_type": "code",
   "execution_count": null,
   "metadata": {},
   "outputs": [],
   "source": [
    "triangle()"
   ]
  },
  {
   "cell_type": "markdown",
   "metadata": {},
   "source": [
    "### <font color= green > Computing Area of the Rectangle </font>"
   ]
  },
  {
   "cell_type": "code",
   "execution_count": null,
   "metadata": {},
   "outputs": [],
   "source": [
    "def areaRectangle(length, breadth):\n",
    "    '''\n",
    "    Objective: To compute the area of rectangle\n",
    "    Input Parameters: length, breadth – numeric value\n",
    "    Return Value: area - numeric value\n",
    "    '''\n",
    "    area = length * breadth\n",
    "    return area"
   ]
  },
  {
   "cell_type": "code",
   "execution_count": null,
   "metadata": {},
   "outputs": [],
   "source": [
    "areaRectangle(7,5)"
   ]
  },
  {
   "cell_type": "code",
   "execution_count": null,
   "metadata": {},
   "outputs": [],
   "source": [
    "help(areaRectangle)"
   ]
  },
  {
   "cell_type": "code",
   "execution_count": null,
   "metadata": {},
   "outputs": [],
   "source": [
    "def areaRectangle(length, breadth=1):\n",
    "    '''\n",
    "    Objective: To compute the area of rectangle\n",
    "    Input Parameters: length, breadth - numeric value\n",
    "    Return Value: area - numeric value\n",
    "    '''\n",
    "    area = length * breadth\n",
    "    return area\n",
    "\n",
    "def main():\n",
    "    '''\n",
    "    Objective: To compute the area of rectangle based on user input\n",
    "    Input Parameter: None\n",
    "    Return Value: None\n",
    "    '''\n",
    "    print('Enter the following values for rectangle:')\n",
    "    lengthRect = int(input('Length : integer value: '))\n",
    "    breadthRect = int(input('Breadth : integer value: '))\n",
    "    areaRect = areaRectangle(lengthRect, breadthRect)\n",
    "    print('Area of rectangle is', areaRect)\n",
    "\n",
    "main()\n"
   ]
  },
  {
   "cell_type": "markdown",
   "metadata": {},
   "source": [
    "---\n",
    "## <font color= blue > Pass by reference vs value </font>\n",
    "\n",
    "* All parameters (arguments) in the Python language are passed by reference. It means if you change what a parameter refers to within a function, the change also reflects back in the calling function\n"
   ]
  },
  {
   "cell_type": "code",
   "execution_count": null,
   "metadata": {},
   "outputs": [],
   "source": [
    "def sum(a,b=1):\n",
    "    a = 5\n",
    "    print(a)\n",
    "    print(b)\n",
    "    return (a+b)\n",
    "\n",
    "def main():\n",
    "    x = int(input('Enter integer'))\n",
    "    y = int(input('Enter integer'))\n",
    "    print(x)\n",
    "    print(y)\n",
    "    z = sum(x,y)\n",
    "    #sum(b=y,a=x)\n",
    "    #sum(x)\n",
    "    print(x)\n",
    "    print(y)\n",
    "    print(z)\n",
    "\n",
    "main()"
   ]
  },
  {
   "cell_type": "code",
   "execution_count": null,
   "metadata": {},
   "outputs": [],
   "source": [
    "def changeme(mylist):\n",
    "   #This changes a passed list into this function\n",
    "   mylist.append(40)\n",
    "   print('Values inside the function:')\n",
    "   print(mylist)\n",
    "   return\n",
    "\n",
    "# Now you can call changeme function\n",
    "mylist = [10,20,30]\n",
    "changeme(mylist)\n",
    "print('Values outside the function: ')\n",
    "print(mylist)"
   ]
  },
  {
   "cell_type": "code",
   "execution_count": null,
   "metadata": {},
   "outputs": [],
   "source": [
    "def changeme(mylist):\n",
    "   #This changes a passed list into this function\n",
    "   mylist = [1,2,3,4] # This would assig new reference in mylist\n",
    "   print('Values inside the function: ')\n",
    "   print(mylist)\n",
    "   return\n",
    "\n",
    "# Now you can call changeme function\n",
    "mylist = [10,20,30]\n",
    "changeme( mylist )\n",
    "print('Values outside the function: ')\n",
    "print(mylist)"
   ]
  },
  {
   "cell_type": "markdown",
   "metadata": {},
   "source": [
    "---\n",
    "## <font color= blue > Variable-length arguments </font>\n",
    "\n",
    "* You may need to process a function for more arguments than you specified while defining the function. These arguments are called variable-length arguments and are not named in the function definition, unlike required and default arguments.\n",
    "\n",
    "* Syntax for a function with non-keyword variable arguments is this −\n",
    "  \n",
    "  def functionname([formal_args,] *var_args_tuple ):\n",
    "      \"function_docstring\"\n",
    "       function_suite\n",
    "       return ()\n",
    "* An asterisk (*) is placed before the variable name that holds the values of all nonkeyword variable arguments. This tuple remains empty if no additional arguments are specified during the function call.\n",
    "\n"
   ]
  },
  {
   "cell_type": "code",
   "execution_count": 9,
   "metadata": {},
   "outputs": [
    {
     "name": "stdout",
     "output_type": "stream",
     "text": [
      "Output is: \n",
      "10\n",
      "Output is: \n",
      "70\n",
      "60\n",
      "50\n"
     ]
    }
   ],
   "source": [
    "# Function definition is here\n",
    "def printinfo( arg1, *vartuple): \n",
    "   \"This prints a variable passed arguments\"\n",
    "   print('Output is: ')\n",
    "   print(arg1)\n",
    "   for var in vartuple:\n",
    "      print(var)\n",
    "   return\n",
    "\n",
    "# Now you can call printinfo function\n",
    "printinfo( 10 )\n",
    "printinfo( 70, 60, 50 )"
   ]
  },
  {
   "cell_type": "markdown",
   "metadata": {},
   "source": [
    "---\n",
    "## <font color= blue > Global and Local variables </font>\n",
    "* follows LEGB (local, enclosing, global ,built-in)"
   ]
  },
  {
   "cell_type": "code",
   "execution_count": 11,
   "metadata": {},
   "outputs": [
    {
     "name": "stdout",
     "output_type": "stream",
     "text": [
      "inside function g, global a= 4\n",
      "inside function f, local a= 5\n",
      "outside of all function definitions a = 4\n"
     ]
    }
   ],
   "source": [
    "a=3\n",
    "def f():\n",
    "    def g():\n",
    "        global a\n",
    "        #a=4\n",
    "        print('inside function g, global a=',a)\n",
    "    #g()\n",
    "    #global a\n",
    "    a=5\n",
    "    g()\n",
    "    print('inside function f, local a=',a)\n",
    "\n",
    "f()\n",
    "print('outside of all function definitions a =',a)"
   ]
  },
  {
   "cell_type": "code",
   "execution_count": null,
   "metadata": {},
   "outputs": [],
   "source": []
  }
 ],
 "metadata": {
  "celltoolbar": "Raw Cell Format",
  "kernelspec": {
   "display_name": "Python 3 (ipykernel)",
   "language": "python",
   "name": "python3"
  },
  "language_info": {
   "codemirror_mode": {
    "name": "ipython",
    "version": 3
   },
   "file_extension": ".py",
   "mimetype": "text/x-python",
   "name": "python",
   "nbconvert_exporter": "python",
   "pygments_lexer": "ipython3",
   "version": "3.11.5"
  }
 },
 "nbformat": 4,
 "nbformat_minor": 2
}
