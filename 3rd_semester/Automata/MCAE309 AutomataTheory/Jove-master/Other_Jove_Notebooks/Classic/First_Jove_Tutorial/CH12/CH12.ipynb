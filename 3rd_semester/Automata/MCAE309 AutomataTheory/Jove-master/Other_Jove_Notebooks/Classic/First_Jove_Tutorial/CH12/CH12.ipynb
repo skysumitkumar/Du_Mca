{
 "cells": [
  {
   "cell_type": "markdown",
   "metadata": {
    "run_control": {
     "frozen": false,
     "read_only": false
    }
   },
   "source": [
    " # PDA definition and testing\n",
    " \n",
    " You may wish to watch this Youtube and then play with\n",
    " various PDA defined in this notebook\n",
    " "
   ]
  },
  {
   "cell_type": "code",
   "execution_count": 1,
   "metadata": {
    "run_control": {
     "frozen": false,
     "read_only": false
    }
   },
   "outputs": [
    {
     "data": {
      "image/jpeg": "[encoded data removed]",
      "text/html": [
       "\n",
       "        <iframe\n",
       "            width=\"400\"\n",
       "            height=\"300\"\n",
       "            src=\"https://www.youtube.com/embed/cvVl1lQ4agU\"\n",
       "            frameborder=\"0\"\n",
       "            allowfullscreen\n",
       "        ></iframe>\n",
       "        "
      ],
      "text/plain": [
       "<IPython.lib.display.YouTubeVideo at 0x10d759f28>"
      ]
     },
     "execution_count": 1,
     "metadata": {},
     "output_type": "execute_result"
    }
   ],
   "source": [
    "# This Youtube video walks through this notebook\n",
    "from IPython.display import YouTubeVideo\n",
    "YouTubeVideo('cvVl1lQ4agU')"
   ]
  },
  {
   "cell_type": "code",
   "execution_count": 6,
   "metadata": {
    "run_control": {
     "frozen": false,
     "read_only": false
    }
   },
   "outputs": [],
   "source": [
    "#~~~~~~~~~~~~~~~~~~~~~~~~~~~~~~~~~~~~~~~~~~~~~~~~~~~~~~~\n",
    "import sys\n",
    "\n",
    "# -- Detect if in Own Install or in Colab\n",
    "try:\n",
    "    import google.colab\n",
    "    OWN_INSTALL = False\n",
    "except:\n",
    "    OWN_INSTALL = True\n",
    "    \n",
    "if OWN_INSTALL:\n",
    "    \n",
    "  #---- Leave these definitions ON if running on laptop\n",
    "  #---- Else turn OFF by putting them between ''' ... '''\n",
    "\n",
    "  sys.path[0:0] = ['../../../../..',  '../../../../../3rdparty',  \n",
    "                   '../../../..',  '../../../../3rdparty',  \n",
    "                   '../../..',     '../../../3rdparty', \n",
    "                   '../..',        '../../3rdparty',\n",
    "                   '..',           '../3rdparty' ]\n",
    "\n",
    "else: # In colab\n",
    "  ! if [ ! -d Jove ]; then git clone https://github.com/anon-Jove/Jove Jove; fi\n",
    "  sys.path.append('./Jove')\n",
    "  sys.path.append('./Jove/jove')\n",
    "\n",
    "# -- common imports --\n",
    "\n",
    "from jove.SystemImports import *\n",
    "from jove.DotBashers    import *\n",
    "from jove.Def_md2mc      import *\n",
    "from jove.Def_PDA        import *\n",
    " \n",
    "#~~~~~~~~~~~~~~~~~~~~~~~~~~~~~~~~~~~~~~~~~~~~~~~~~~~~~~~\n",
    "\n",
    "\n",
    "\n",
    " \n"
   ]
  },
  {
   "cell_type": "code",
   "execution_count": 3,
   "metadata": {
    "run_control": {
     "frozen": false,
     "read_only": false
    }
   },
   "outputs": [
    {
     "data": {
      "image/svg+xml": [
       "<?xml version=\"1.0\" encoding=\"UTF-8\" standalone=\"no\"?>\n",
       "<!DOCTYPE svg PUBLIC \"-//W3C//DTD SVG 1.1//EN\"\n",
       " \"http://www.w3.org/Graphics/SVG/1.1/DTD/svg11.dtd\">\n",
       "<!-- Generated by graphviz version 2.40.1 (20161225.0304)\n",
       " -->\n",
       "<!-- Title: %3 Pages: 1 -->\n",
       "<svg width=\"261pt\" height=\"97pt\"\n",
       " viewBox=\"0.00 0.00 261.20 96.85\" xmlns=\"http://www.w3.org/2000/svg\" xmlns:xlink=\"http://www.w3.org/1999/xlink\">\n",
       "<g id=\"graph0\" class=\"graph\" transform=\"scale(1 1) rotate(0) translate(4 92.8483)\">\n",
       "<title>%3</title>\n",
       "<polygon fill=\"#ffffff\" stroke=\"transparent\" points=\"-4,4 -4,-92.8483 257.1967,-92.8483 257.1967,4 -4,4\"/>\n",
       "<!-- EMPTY -->\n",
       "<g id=\"node1\" class=\"node\">\n",
       "<title>EMPTY</title>\n",
       "</g>\n",
       "<!-- IF -->\n",
       "<g id=\"node3\" class=\"node\">\n",
       "<title>IF</title>\n",
       "<ellipse fill=\"none\" stroke=\"#000000\" cx=\"113.8483\" cy=\"-22.8483\" rx=\"18.724\" ry=\"18.724\"/>\n",
       "<ellipse fill=\"none\" stroke=\"#000000\" cx=\"113.8483\" cy=\"-22.8483\" rx=\"22.6977\" ry=\"22.6977\"/>\n",
       "<text text-anchor=\"middle\" x=\"113.8483\" y=\"-19.1483\" font-family=\"Times,serif\" font-size=\"14.00\" fill=\"#000000\">IF</text>\n",
       "</g>\n",
       "<!-- EMPTY&#45;&gt;IF -->\n",
       "<g id=\"edge1\" class=\"edge\">\n",
       "<title>EMPTY&#45;&gt;IF</title>\n",
       "<path fill=\"none\" stroke=\"#000000\" d=\"M54.0033,-22.8483C62.5212,-22.8483 72.0276,-22.8483 80.9112,-22.8483\"/>\n",
       "<polygon fill=\"#000000\" stroke=\"#000000\" points=\"80.9572,-26.3484 90.9572,-22.8483 80.9572,-19.3484 80.9572,-26.3484\"/>\n",
       "</g>\n",
       "<!-- A -->\n",
       "<g id=\"node2\" class=\"node\">\n",
       "<title>A</title>\n",
       "<ellipse fill=\"none\" stroke=\"#000000\" cx=\"232.6967\" cy=\"-22.8483\" rx=\"18\" ry=\"18\"/>\n",
       "<text text-anchor=\"middle\" x=\"232.6967\" y=\"-19.1483\" font-family=\"Times,serif\" font-size=\"14.00\" fill=\"#000000\">A</text>\n",
       "</g>\n",
       "<!-- A&#45;&gt;A -->\n",
       "<g id=\"edge3\" class=\"edge\">\n",
       "<title>A&#45;&gt;A</title>\n",
       "<path fill=\"none\" stroke=\"#000000\" d=\"M223.1221,-38.3898C220.427,-48.757 223.6185,-58.8483 232.6967,-58.8483 238.6542,-58.8483 242.0765,-54.5024 242.9638,-48.5845\"/>\n",
       "<polygon fill=\"#000000\" stroke=\"#000000\" points=\"246.441,-48.1295 242.2712,-38.3898 239.4571,-48.604 246.441,-48.1295\"/>\n",
       "<text text-anchor=\"middle\" x=\"232.6967\" y=\"-77.6483\" font-family=\"Times,serif\" font-size=\"14.00\" fill=\"#000000\">), ( ; &#39;&#39; </text>\n",
       "<text text-anchor=\"middle\" x=\"232.6967\" y=\"-62.6483\" font-family=\"Times,serif\" font-size=\"14.00\" fill=\"#000000\"> (, ( ; ((</text>\n",
       "</g>\n",
       "<!-- A&#45;&gt;IF -->\n",
       "<g id=\"edge4\" class=\"edge\">\n",
       "<title>A&#45;&gt;IF</title>\n",
       "<path fill=\"none\" stroke=\"#000000\" d=\"M217.591,-12.7783C211.3899,-9.2165 203.968,-5.6494 196.6967,-3.8483 178.5776,.6397 172.9228,.1831 154.6967,-3.8483 150.9642,-4.6739 147.168,-5.8768 143.4685,-7.2828\"/>\n",
       "<polygon fill=\"#000000\" stroke=\"#000000\" points=\"141.8091,-4.1867 134.0115,-11.3595 144.5802,-10.6149 141.8091,-4.1867\"/>\n",
       "<text text-anchor=\"middle\" x=\"175.6967\" y=\"-7.6483\" font-family=\"Times,serif\" font-size=\"14.00\" fill=\"#000000\">&#39;&#39;, # ; #</text>\n",
       "</g>\n",
       "<!-- IF&#45;&gt;A -->\n",
       "<g id=\"edge2\" class=\"edge\">\n",
       "<title>IF&#45;&gt;A</title>\n",
       "<path fill=\"none\" stroke=\"#000000\" d=\"M136.7635,-22.8483C156.0635,-22.8483 183.7522,-22.8483 204.4265,-22.8483\"/>\n",
       "<polygon fill=\"#000000\" stroke=\"#000000\" points=\"204.5168,-26.3484 214.5168,-22.8483 204.5167,-19.3484 204.5168,-26.3484\"/>\n",
       "<text text-anchor=\"middle\" x=\"175.6967\" y=\"-26.6483\" font-family=\"Times,serif\" font-size=\"14.00\" fill=\"#000000\">(, # ; (#</text>\n",
       "</g>\n",
       "</g>\n",
       "</svg>\n"
      ],
      "text/plain": [
       "<graphviz.dot.Digraph at 0x10e168d30>"
      ]
     },
     "execution_count": 3,
     "metadata": {},
     "output_type": "execute_result"
    }
   ],
   "source": [
    "pdaDyck = md2mc('''PDA\n",
    "IF : (, #; (# -> A\n",
    "A  : (, (; (( -> A\n",
    "A  : ), (; '' -> A\n",
    "A  : '',#; #  -> IF\n",
    "''')\n",
    "DOpdaDyck = dotObj_pda(pdaDyck, FuseEdges=True)\n",
    "DOpdaDyck"
   ]
  },
  {
   "cell_type": "code",
   "execution_count": 4,
   "metadata": {
    "run_control": {
     "frozen": false,
     "read_only": false
    }
   },
   "outputs": [
    {
     "name": "stdout",
     "output_type": "stream",
     "text": [
      "String  accepted by your PDA in 1 ways :-) \n",
      "Here are the ways: \n",
      "Final state  ('IF', '', '#')\n",
      "Reached as follows:\n",
      "->  ('IF', '', '#') .\n"
     ]
    }
   ],
   "source": [
    "explore_pda(\"\", pdaDyck)"
   ]
  },
  {
   "cell_type": "code",
   "execution_count": 5,
   "metadata": {
    "run_control": {
     "frozen": false,
     "read_only": false
    }
   },
   "outputs": [
    {
     "name": "stdout",
     "output_type": "stream",
     "text": [
      "String () accepted by your PDA in 1 ways :-) \n",
      "Here are the ways: \n",
      "Final state  ('IF', '', '#')\n",
      "Reached as follows:\n",
      "->  ('IF', '()', '#')\n",
      "->  ('A', ')', '(#')\n",
      "->  ('A', '', '#')\n",
      "->  ('IF', '', '#') .\n"
     ]
    }
   ],
   "source": [
    "explore_pda(\"()\", pdaDyck)"
   ]
  },
  {
   "cell_type": "code",
   "execution_count": null,
   "metadata": {
    "run_control": {
     "frozen": false,
     "read_only": false
    }
   },
   "outputs": [],
   "source": [
    "explore_pda(\"()()(())\", pdaDyck)"
   ]
  },
  {
   "cell_type": "code",
   "execution_count": null,
   "metadata": {
    "run_control": {
     "frozen": false,
     "read_only": false
    }
   },
   "outputs": [],
   "source": [
    "explore_pda(\"()()(()\", pdaDyck)  "
   ]
  },
  {
   "cell_type": "code",
   "execution_count": null,
   "metadata": {
    "run_control": {
     "frozen": false,
     "read_only": false
    }
   },
   "outputs": [],
   "source": [
    "pda1 = md2mc('''PDA\n",
    "I : a, b; c -> F\n",
    "''')\n",
    "DOpda1 = dotObj_pda(pda1, FuseEdges=True)\n",
    "DOpda1"
   ]
  },
  {
   "cell_type": "code",
   "execution_count": null,
   "metadata": {
    "run_control": {
     "frozen": false,
     "read_only": false
    }
   },
   "outputs": [],
   "source": [
    "pda2 = md2mc('''PDA\n",
    "I : a, b  ; c  -> F\n",
    "I : '', ''; d  -> A\n",
    "A : '', d ; '' -> F\n",
    "''')\n",
    "DOpda2 = dotObj_pda(pda2, FuseEdges=True)\n",
    "DOpda2"
   ]
  },
  {
   "cell_type": "code",
   "execution_count": null,
   "metadata": {
    "run_control": {
     "frozen": false,
     "read_only": false
    }
   },
   "outputs": [],
   "source": [
    "explore_pda(\"a\", pda1)"
   ]
  },
  {
   "cell_type": "code",
   "execution_count": null,
   "metadata": {
    "run_control": {
     "frozen": false,
     "read_only": false
    }
   },
   "outputs": [],
   "source": [
    "explore_pda(\"a\", pda2)"
   ]
  },
  {
   "cell_type": "code",
   "execution_count": null,
   "metadata": {
    "run_control": {
     "frozen": false,
     "read_only": false
    }
   },
   "outputs": [],
   "source": [
    "pda3 = md2mc('''PDA\n",
    "I : a, b  ; c  -> F\n",
    "I : '', ''; d  -> A\n",
    "A : a, d ; '' -> F\n",
    "''')\n",
    "DOpda3 = dotObj_pda(pda3, FuseEdges=True)\n",
    "DOpda3"
   ]
  },
  {
   "cell_type": "code",
   "execution_count": null,
   "metadata": {
    "run_control": {
     "frozen": false,
     "read_only": false
    }
   },
   "outputs": [],
   "source": [
    "explore_pda(\"a\", pda3)"
   ]
  },
  {
   "cell_type": "code",
   "execution_count": null,
   "metadata": {
    "run_control": {
     "frozen": false,
     "read_only": false
    }
   },
   "outputs": [],
   "source": [
    "pda4 = md2mc('''PDA\n",
    "I : a, #  ; c  -> F\n",
    "I : '', ''; d  -> A\n",
    "A : a, d ; '' -> F\n",
    "''')\n",
    "DOpda4 = dotObj_pda(pda4, FuseEdges=True)\n",
    "DOpda4"
   ]
  },
  {
   "cell_type": "code",
   "execution_count": null,
   "metadata": {
    "run_control": {
     "frozen": false,
     "read_only": false
    }
   },
   "outputs": [],
   "source": [
    "explore_pda(\"a\", pda4)"
   ]
  },
  {
   "cell_type": "code",
   "execution_count": null,
   "metadata": {
    "run_control": {
     "frozen": false,
     "read_only": false
    }
   },
   "outputs": [],
   "source": [
    "pda5 = md2mc('''PDA\n",
    "I : a, #  ; c  -> F\n",
    "I : '', ''; d  -> A\n",
    "A : '', ''; '' -> A\n",
    "A : a, d ; '' -> F\n",
    "''')\n",
    "DOpda5 = dotObj_pda(pda5, FuseEdges=True)\n",
    "DOpda5"
   ]
  },
  {
   "cell_type": "code",
   "execution_count": null,
   "metadata": {
    "run_control": {
     "frozen": false,
     "read_only": false
    }
   },
   "outputs": [],
   "source": [
    "explore_pda(\"a\", pda5)"
   ]
  },
  {
   "cell_type": "code",
   "execution_count": null,
   "metadata": {
    "run_control": {
     "frozen": false,
     "read_only": false
    }
   },
   "outputs": [],
   "source": [
    "pda6 = md2mc('''PDA\n",
    "I : a, #  ; c  -> F\n",
    "I : '', ''; d  -> A\n",
    "A : '', ''; z  -> A\n",
    "A : '', z ; '' -> B\n",
    "B : '', z ; '' -> C\n",
    "C : '', z ; '' -> C\n",
    "C : '', # ; '' | a, d; '' -> F\n",
    "A : a, d ; ''  -> F\n",
    "''')\n",
    "DOpda6 = dotObj_pda(pda6, FuseEdges=True)\n",
    "DOpda6"
   ]
  },
  {
   "cell_type": "code",
   "execution_count": null,
   "metadata": {
    "run_control": {
     "frozen": false,
     "read_only": false
    }
   },
   "outputs": [],
   "source": [
    "explore_pda(\"a\", pda6)"
   ]
  },
  {
   "cell_type": "code",
   "execution_count": null,
   "metadata": {
    "run_control": {
     "frozen": false,
     "read_only": false
    }
   },
   "outputs": [],
   "source": [
    "explore_pda(\"a\", pda6, chatty=True)"
   ]
  },
  {
   "cell_type": "code",
   "execution_count": null,
   "metadata": {
    "run_control": {
     "frozen": false,
     "read_only": false
    }
   },
   "outputs": [],
   "source": [
    "explore_pda(\"a\", pda6, STKMAX = 6, chatty=True)"
   ]
  },
  {
   "cell_type": "code",
   "execution_count": null,
   "metadata": {
    "run_control": {
     "frozen": false,
     "read_only": false
    }
   },
   "outputs": [],
   "source": [
    "f27sip = md2mc('''PDA \n",
    "!!---------------------------------------------------------------------------\n",
    "!! This is a PDA From Sipser's book\n",
    "!! This matches a's and b's ignoring c's\n",
    "!! or matches a's and c's, ignoring b's in the middle\n",
    "!! thus matching either a^m b^m c^n or a^m b^n c^m\n",
    "!!---------------------------------------------------------------------------\n",
    "\n",
    "!!---------------------------------------------------------------------------\n",
    "!! State: in , sin ; spush -> tostates !! comment\n",
    "!!---------------------------------------------------------------------------\n",
    "iq1    : '' , ''  ; $     -> q2       !!  start in init state by pushing a $\n",
    "\n",
    "q2     : a  , ''  ; a     -> q2       !!  stack a's\n",
    "q2     : '' , ''  ; ''    -> q3,q5    !!  split non-det for a^m b^m c^n (q3)\n",
    "                                      !!  or a^m b^n c^m (q5)\n",
    "\n",
    "q3     : b  , a   ; ''    -> q3       !!  match b's against a's\n",
    "q3     : '' , $   ; ''    -> fq4      !!  hope for acceptance when $ surfaces\n",
    "\n",
    "fq4    : c  , ''  ; ''    -> fq4      !!  be happy so long as c's come\n",
    "                                      !!  will choke and reject if anything\n",
    "                                      !!  other than c's come\n",
    "\n",
    "q5     : b  , ''  ; ''    -> q5       !!  here, we are going to punt over b's\n",
    "q5     : '' , ''  ; ''    -> q6       !!  and non-det decide to honor c's matching\n",
    "                                      !!  against a's\n",
    "\n",
    "q6     : c  , a   ; ''    -> q6       !!  OK to match so long as c's keep coming\n",
    "q6     : '' , $   ; ''    -> fq7      !!  when $ surfaces, be ready to accept in\n",
    "                                      !!  state fq7. However, anything else coming in\n",
    "                                      !!  now will foil match and cause rejection.\n",
    "!!---------------------------------------------------------------------------\n",
    "!! You may use the line below as an empty shell to populate for your purposes\n",
    "!! Also serves as a syntax reminder for entering PDAs.\n",
    "!!\n",
    "!! State : i1 , si1 ; sp1 | i2 , si2 ; sp2 -> tos1, tos2 !! comment\n",
    "!!\n",
    "!! ..    : .. , ..  ; ..  | .. , ..  ; ..  -> ..  , ..   !!  ..\n",
    "!!---------------------------------------------------------------------------\n",
    "!!---------------------------------------------------------------------------\n",
    "!!\n",
    "!! Good commenting and software-engineering methods, good clean indentation,\n",
    "!! grouping of similar states, columnar alignment, etc etc. are HUGELY\n",
    "!! important in any programming endeavor -- especially while programming\n",
    "!! automata. Otherwise, you can easily make a mistake in your automaton\n",
    "!! code. Besides, you cannot rely upon others to find your mistakes, as\n",
    "!! they will find your automaton code impossible to read!\n",
    "!!\n",
    "!!---------------------------------------------------------------------------\n",
    "\n",
    "''')\n"
   ]
  },
  {
   "cell_type": "code",
   "execution_count": null,
   "metadata": {
    "run_control": {
     "frozen": false,
     "read_only": false
    }
   },
   "outputs": [],
   "source": [
    "Dof27sip = dotObj_pda(f27sip, FuseEdges=True)\n",
    "Dof27sip"
   ]
  },
  {
   "cell_type": "code",
   "execution_count": null,
   "metadata": {
    "run_control": {
     "frozen": false,
     "read_only": false
    }
   },
   "outputs": [],
   "source": [
    "explore_pda(\"aaabbbccc\", f27sip)"
   ]
  },
  {
   "cell_type": "code",
   "execution_count": null,
   "metadata": {
    "run_control": {
     "frozen": false,
     "read_only": false
    }
   },
   "outputs": [],
   "source": [
    "# Parsing an arithmetic expression\n",
    "pdaEamb = md2mc('''PDA\n",
    "!!E -> E * E | E + E | ~E | ( E ) | 2 | 3\n",
    "I : '', #  ; E#  -> M\n",
    "M : '', E  ; ~E  -> M\n",
    "M : '', E  ; E+E -> M\n",
    "M : '', E  ; E*E -> M\n",
    "M : '', E  ; (E) -> M\n",
    "M : '', E  ; 2   -> M\n",
    "M : '', E  ; 3   -> M\n",
    "M : ~,  ~  ; ''  -> M\n",
    "M : 2,  2  ; ''  -> M\n",
    "M : 3,  3  ; ''  -> M\n",
    "M : (,  (  ; ''  -> M\n",
    "M : ),  )  ; ''  -> M\n",
    "M : +,  +  ; ''  -> M\n",
    "M : *,  *  ; ''  -> M\n",
    "M : '', #  ; #   -> F\n",
    "'''\n",
    ")"
   ]
  },
  {
   "cell_type": "code",
   "execution_count": null,
   "metadata": {
    "run_control": {
     "frozen": false,
     "read_only": false
    }
   },
   "outputs": [],
   "source": [
    "DOpdaEamb = dotObj_pda(pdaEamb, FuseEdges=True)\n",
    "DOpdaEamb"
   ]
  },
  {
   "cell_type": "code",
   "execution_count": null,
   "metadata": {
    "run_control": {
     "frozen": false,
     "read_only": false
    }
   },
   "outputs": [],
   "source": [
    "explore_pda(\"3+2*3+2*3\", pdaEamb, STKMAX=8)"
   ]
  },
  {
   "cell_type": "code",
   "execution_count": null,
   "metadata": {
    "run_control": {
     "frozen": false,
     "read_only": false
    }
   },
   "outputs": [],
   "source": [
    "# Parsing an arithmetic expression\n",
    "pdaE = md2mc('''PDA\n",
    "!!E -> E+T | T\n",
    "!!T -> T*F | F\n",
    "!!F -> 2 | 3 | ~F | (E)\n",
    "I : '', #  ; E#  -> M\n",
    "M : '', E  ; E+T -> M\n",
    "M : '', E  ; T   -> M\n",
    "M : '', T  ; T*F -> M\n",
    "M : '', T  ; F   -> M\n",
    "M : '', F  ; 2   -> M\n",
    "M : '', F  ; 3   -> M\n",
    "M : '', F  ; ~F  -> M\n",
    "M : '', F  ; (E) -> M\n",
    "M : ~,  ~  ; ''  -> M\n",
    "M : 2,  2  ; ''  -> M\n",
    "M : 3,  3  ; ''  -> M\n",
    "M : (,  (  ; ''  -> M\n",
    "M : ),  )  ; ''  -> M\n",
    "M : +,  +  ; ''  -> M\n",
    "M : *,  *  ; ''  -> M\n",
    "M : '', #  ; #   -> F\n",
    "'''\n",
    ")"
   ]
  },
  {
   "cell_type": "code",
   "execution_count": null,
   "metadata": {
    "run_control": {
     "frozen": false,
     "read_only": false
    }
   },
   "outputs": [],
   "source": [
    "DOpdaE = dotObj_pda(pdaE, FuseEdges=True)\n",
    "DOpdaE"
   ]
  },
  {
   "cell_type": "code",
   "execution_count": null,
   "metadata": {
    "run_control": {
     "frozen": false,
     "read_only": false
    }
   },
   "outputs": [],
   "source": [
    "explore_pda(\"3+3+2+2*3+2*3\", pdaE, STKMAX=5)"
   ]
  },
  {
   "cell_type": "code",
   "execution_count": null,
   "metadata": {
    "run_control": {
     "frozen": false,
     "read_only": false
    }
   },
   "outputs": [],
   "source": [
    "explore_pda(\"3*2*~3+~~3*~3\", pdaEamb, STKMAX=5)"
   ]
  },
  {
   "cell_type": "code",
   "execution_count": null,
   "metadata": {
    "run_control": {
     "frozen": false,
     "read_only": false
    }
   },
   "outputs": [],
   "source": [
    "explore_pda(\"3*~2*3+~2*3+3+~2+3*~2\", pdaE, STKMAX=13)"
   ]
  },
  {
   "cell_type": "code",
   "execution_count": null,
   "metadata": {
    "run_control": {
     "frozen": false,
     "read_only": false
    }
   },
   "outputs": [],
   "source": []
  }
 ],
 "metadata": {
  "kernelspec": {
   "display_name": "Python 3",
   "language": "python",
   "name": "python3"
  },
  "language_info": {
   "codemirror_mode": {
    "name": "ipython",
    "version": 3
   },
   "file_extension": ".py",
   "mimetype": "text/x-python",
   "name": "python",
   "nbconvert_exporter": "python",
   "pygments_lexer": "ipython3",
   "version": "3.7.3"
  },
  "toc": {
   "colors": {
    "hover_highlight": "#DAA520",
    "running_highlight": "#FF0000",
    "selected_highlight": "#FFD700"
   },
   "moveMenuLeft": true,
   "nav_menu": {
    "height": "318px",
    "width": "252px"
   },
   "navigate_menu": true,
   "number_sections": true,
   "sideBar": true,
   "threshold": 4,
   "toc_cell": false,
   "toc_section_display": "block",
   "toc_window_display": false,
   "widenNotebook": false
  }
 },
 "nbformat": 4,
 "nbformat_minor": 1
}
