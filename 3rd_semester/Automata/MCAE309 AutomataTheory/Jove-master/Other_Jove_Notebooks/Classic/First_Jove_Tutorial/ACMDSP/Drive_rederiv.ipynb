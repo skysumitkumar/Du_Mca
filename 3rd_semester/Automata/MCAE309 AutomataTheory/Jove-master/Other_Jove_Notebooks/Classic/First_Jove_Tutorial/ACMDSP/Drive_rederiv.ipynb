{
 "cells": [
  {
   "cell_type": "markdown",
   "metadata": {
    "run_control": {
     "frozen": false,
     "read_only": false
    }
   },
   "source": [
    "# Demo of RE derivative based pattern matching\n",
    "\n",
    "In this notebook, we first present many examples of parsing a given regular expression (RE) and building a parse tree. This parsing is done using the standard Lex and Yacc mechanisms and has nothing to do with RE derivatives. The reason we need to parse an RE is of course to build an abstract syntax tree for it so that further processing wrt this RE is facilitated. The functions defined are:\n",
    "* re2ast - parse an ER and render it as an AST, and also return a list of nodes (nl) and edges (el)\n",
    "* drawPT - which takes the nl and el and draws the parse tree for RE so that you can visually confirm the AST built for it\n",
    "\n",
    "We then ask the primary question that this notebook aspires to demonstrate -- whether a given string _matches the given RE_. This pattern match itself is computed using RE derivatives. The workhorse routines that accomplish this task are\n",
    "* nullable : given an RE, determine whether it is nullable (includes $\\varepsilon$ in its language)\n",
    "* dv : given a character c and an RE, it determines the derivative RE of the given RE w.r.t. c\n",
    "* matches : given a word w and an RE, it determines whether w is matched by the RE (w is in the language\n",
    "  of the RE)."
   ]
  },
  {
   "cell_type": "code",
   "execution_count": null,
   "metadata": {
    "run_control": {
     "frozen": false,
     "read_only": false
    }
   },
   "outputs": [],
   "source": [
    "#~~~~~~~~~~~~~~~~~~~~~~~~~~~~~~~~~~~~~~~~~~~~~~~~~~~~~~~\n",
    "import sys\n",
    "\n",
    "# -- Detect if in Own Install or in Colab\n",
    "try:\n",
    "    import google.colab\n",
    "    OWN_INSTALL = False\n",
    "except:\n",
    "    OWN_INSTALL = True\n",
    "    \n",
    "if OWN_INSTALL:\n",
    "    \n",
    "  #---- Leave these definitions ON if running on laptop\n",
    "  #---- Else turn OFF by putting them between ''' ... '''\n",
    "\n",
    "  sys.path[0:0] = ['../../../../..',  '../../../../../3rdparty',  \n",
    "                   '../../../..',  '../../../../3rdparty',  \n",
    "                   '../../..',     '../../../3rdparty', \n",
    "                   '../..',        '../../3rdparty',\n",
    "                   '..',           '../3rdparty' ]\n",
    "\n",
    "else: # In colab\n",
    "  ! if [ ! -d Jove ]; then git clone https://github.com/anon-Jove/Jove Jove; fi\n",
    "  sys.path.append('./Jove')\n",
    "  sys.path.append('./Jove/jove')\n",
    "\n",
    "# -- common imports --\n",
    "from jove.Def_rederiv import *\n",
    "#~~~~~~~~~~~~~~~~~~~~~~~~~~~~~~~~~~~~~~~~~~~~~~~~~~~~~~~"
   ]
  },
  {
   "cell_type": "code",
   "execution_count": null,
   "metadata": {
    "run_control": {
     "frozen": false,
     "read_only": false
    }
   },
   "outputs": [],
   "source": [
    "(ast, nl, el) = re2ast(\"''*\")\n",
    "drawPT(nl, el)\n",
    "ast"
   ]
  },
  {
   "cell_type": "code",
   "execution_count": null,
   "metadata": {
    "run_control": {
     "frozen": false,
     "read_only": false
    }
   },
   "outputs": [],
   "source": [
    "ResetStNum()\n",
    "(ast, nl, el) = re2ast(\"(ae)&(a+db+c&d*!d)&(d)\")\n",
    "drawPT(nl, el)"
   ]
  },
  {
   "cell_type": "code",
   "execution_count": null,
   "metadata": {
    "run_control": {
     "frozen": false,
     "read_only": false
    }
   },
   "outputs": [],
   "source": [
    "ResetStNum()\n",
    "(ast, nl, el) = re2ast(\"(a)\")\n",
    "drawPT(nl, el)"
   ]
  },
  {
   "cell_type": "code",
   "execution_count": null,
   "metadata": {
    "run_control": {
     "frozen": false,
     "read_only": false
    }
   },
   "outputs": [],
   "source": [
    "drawPT(nl, el)"
   ]
  },
  {
   "cell_type": "code",
   "execution_count": null,
   "metadata": {
    "run_control": {
     "frozen": false,
     "read_only": false
    }
   },
   "outputs": [],
   "source": [
    "(ast, nl, el) = re2ast(\"ab+cd''\")"
   ]
  },
  {
   "cell_type": "code",
   "execution_count": null,
   "metadata": {
    "run_control": {
     "frozen": false,
     "read_only": false
    }
   },
   "outputs": [],
   "source": [
    "drawPT(nl, el) "
   ]
  },
  {
   "cell_type": "code",
   "execution_count": null,
   "metadata": {
    "run_control": {
     "frozen": false,
     "read_only": false
    }
   },
   "outputs": [],
   "source": [
    "ast"
   ]
  },
  {
   "cell_type": "code",
   "execution_count": null,
   "metadata": {
    "run_control": {
     "frozen": false,
     "read_only": false
    }
   },
   "outputs": [],
   "source": [
    "ResetStNum()\n",
    "(ast, nl, el) = re2ast(\"ab+cd&e\")\n",
    "drawPT(nl, el)"
   ]
  },
  {
   "cell_type": "code",
   "execution_count": null,
   "metadata": {
    "run_control": {
     "frozen": false,
     "read_only": false
    }
   },
   "outputs": [],
   "source": [
    "#=== Now comes derivMatch as illustration of RE Derivative scanning\n",
    "\n",
    "# These four functions are simple extractors of the operator and arguments\n",
    "\n",
    "def opr(E):\n",
    "    \"\"\"Given an RE E represented as an AST with a root node of some arity,\n",
    "       this function returns the root node (or the operator).\n",
    "       For instance, given r1+r2, it will return r1.\n",
    "    \"\"\"\n",
    "    return E[0]\n",
    "\n",
    "def arg1(E):\n",
    "    \"\"\"Given an RE E represented as an AST with a root node of arity 2, \n",
    "       this function returns the first argument. \n",
    "       For instance, given r1+r2, it returns + and given r*, it returns *.\n",
    "    \"\"\"\n",
    "    return E[1][0]\n",
    "\n",
    "def arg2(E):\n",
    "    \"\"\"Given an RE E represented as an AST with a root node of arity 2, \n",
    "       this function returns the second argument. \n",
    "       For instance, given r1+r2, it will return r2.\n",
    "    \"\"\"\n",
    "    return E[1][1]\n",
    "\n",
    "def arg(E):\n",
    "    \"\"\"Given an RE E represented as an AST with a root node of arity 1, \n",
    "       this function returns the argument. For instance, given a*, it will return a.\n",
    "    \"\"\"\n",
    "    return E[1]\n",
    "\n",
    "def nullable(E):\n",
    "    \"\"\"Given an RE E represented as an AST, this function determines whether E is nullable.\n",
    "    \"\"\"\n",
    "    if (opr(E) == \"str\") :\n",
    "        return False\n",
    "    elif (opr(E) == '@') :\n",
    "        return True\n",
    "    elif (opr(E) == \"mty\") :\n",
    "        return False\n",
    "    elif (opr(E) == \"*\"):\n",
    "        return True\n",
    "    elif (opr(E) == \"!\"):\n",
    "        return not nullable(arg(E))\n",
    "    elif (opr(E) == '+') :\n",
    "        return nullable(arg1(E)) or nullable(arg2(E))\n",
    "    elif (opr(E) == '.') :\n",
    "        return nullable(arg1(E)) and nullable(arg2(E))\n",
    "    elif (opr(E) == '&') :\n",
    "        return nullable(arg1(E)) and nullable(arg2(E))\n",
    "    else:\n",
    "        return \"???\"    \n",
    "\n",
    "def dv(c, E):\n",
    "    \"\"\"Given a character c and an RE E represented as an AST, this function \n",
    "       computes the Brzozowski derivative of E with respect to c, returning a new RE.\n",
    "    \"\"\"\n",
    "    if (opr(E) == \"str\") :\n",
    "        if (arg(E) == c):\n",
    "            return ('@', '@')\n",
    "        else:\n",
    "            return (\"mty\", \"mty\")\n",
    "    elif (opr(E) == '@') :\n",
    "        return (\"mty\", \"mty\")\n",
    "    elif (opr(E) == \"mty\") :\n",
    "        return (\"mty\", \"mty\")\n",
    "    elif (opr(E) == \"*\"):\n",
    "        return (\".\", (dv(c, arg(E)), E))\n",
    "    elif (opr(E) == \"!\"):\n",
    "        return (\"!\", dv(c, arg(E)))\n",
    "    elif (opr(E) == '+') :\n",
    "        return (\"+\", (dv(c, arg1(E)), dv(c, arg2(E))))\n",
    "    elif (opr(E) == '&') :\n",
    "        return (\"&\", (dv(c, arg1(E)), dv(c, arg2(E))))\n",
    "    elif (opr(E) == '.') :\n",
    "        if nullable(arg1(E)):\n",
    "            return (\"+\", ( ('.', (dv(c,arg1(E)), arg2(E))), dv(c, arg2(E)) ))\n",
    "        else:\n",
    "            return ('.', (dv(c,arg1(E)), arg2(E)))\n",
    "    else:\n",
    "        return \"???\"        \n",
    "\n",
    "def matches(w, E):\n",
    "    \"\"\"Given a word w and an RE E represented as an AST, this function, \n",
    "       determines whether w is included in the language of E (or in other words, RE E \n",
    "       pattern-matches word w).\n",
    "    \"\"\"\n",
    "    if w==\"\":\n",
    "        return nullable(E)\n",
    "    else:\n",
    "        return matches(w[1:], dv(w[0], E))"
   ]
  },
  {
   "cell_type": "code",
   "execution_count": null,
   "metadata": {
    "run_control": {
     "frozen": false,
     "read_only": false
    }
   },
   "outputs": [],
   "source": [
    "(ast,nl,el)  = re2ast(\"''\")\n",
    "drawPT(nl, el)"
   ]
  },
  {
   "cell_type": "code",
   "execution_count": null,
   "metadata": {
    "run_control": {
     "frozen": false,
     "read_only": false
    }
   },
   "outputs": [],
   "source": [
    "ast"
   ]
  },
  {
   "cell_type": "code",
   "execution_count": null,
   "metadata": {
    "run_control": {
     "frozen": false,
     "read_only": false
    }
   },
   "outputs": [],
   "source": [
    "opr(ast)"
   ]
  },
  {
   "cell_type": "code",
   "execution_count": null,
   "metadata": {
    "run_control": {
     "frozen": false,
     "read_only": false
    }
   },
   "outputs": [],
   "source": []
  },
  {
   "cell_type": "code",
   "execution_count": null,
   "metadata": {
    "run_control": {
     "frozen": false,
     "read_only": false
    }
   },
   "outputs": [],
   "source": [
    "nullable(ast)"
   ]
  },
  {
   "cell_type": "code",
   "execution_count": null,
   "metadata": {
    "run_control": {
     "frozen": false,
     "read_only": false
    }
   },
   "outputs": [],
   "source": [
    "ast"
   ]
  },
  {
   "cell_type": "code",
   "execution_count": null,
   "metadata": {
    "run_control": {
     "frozen": false,
     "read_only": false
    }
   },
   "outputs": [],
   "source": [
    "dv('a', ast)"
   ]
  },
  {
   "cell_type": "code",
   "execution_count": null,
   "metadata": {
    "run_control": {
     "frozen": false,
     "read_only": false
    }
   },
   "outputs": [],
   "source": [
    "(pt, nl, el) = re2ast(\"!((aaa)*)\")\n",
    "\n",
    "print(' matches(\"aa\", pt) = ', matches(\"aa\", re2ast(\"!((aaa)*)\")[0]))\n",
    "re4 = '(a+b)*b(a+b)(a+b)(a+b)'\n",
    "nre4 = '!((a+b)*b(a+b)(a+b)(a+b))'\n",
    "\n",
    "(pt4, nl4, el4) = re2ast(re4)\n",
    "\n",
    "print(' matches(\"aabaa\", pt4) = ', matches(\"aabaa\", pt4))\n",
    "\n",
    "(npt4, nnl4, nel4) = re2ast(nre4)\n",
    "\n",
    "print(' matches(\"aabaa\", re2ast(nre4)) = ', matches(\"aabaa\", npt4))\n",
    "\n",
    "\n",
    "matches(\"ab\", re2ast(\"!b\")[0])\n"
   ]
  },
  {
   "cell_type": "code",
   "execution_count": null,
   "metadata": {
    "run_control": {
     "frozen": false,
     "read_only": false
    }
   },
   "outputs": [],
   "source": [
    "reand = '!((a+b)&(a+c))'\n",
    "(pt, nl, el) = re2ast(reand)\n",
    "drawPT(nl, el)"
   ]
  },
  {
   "cell_type": "code",
   "execution_count": null,
   "metadata": {
    "run_control": {
     "frozen": false,
     "read_only": false
    }
   },
   "outputs": [],
   "source": [
    "matches(\"b\", pt)"
   ]
  },
  {
   "cell_type": "code",
   "execution_count": null,
   "metadata": {
    "run_control": {
     "frozen": false,
     "read_only": false
    }
   },
   "outputs": [],
   "source": []
  },
  {
   "cell_type": "code",
   "execution_count": null,
   "metadata": {
    "run_control": {
     "frozen": false,
     "read_only": false
    }
   },
   "outputs": [],
   "source": [
    "reand = '(aaa+bb)*&(aa+bb)*'\n",
    "(pt, nl, el) = re2ast(reand)\n",
    "drawPT(nl, el)"
   ]
  },
  {
   "cell_type": "code",
   "execution_count": null,
   "metadata": {
    "run_control": {
     "frozen": false,
     "read_only": false
    }
   },
   "outputs": [],
   "source": [
    "matches(\"bbb\", pt)"
   ]
  },
  {
   "cell_type": "markdown",
   "metadata": {
    "run_control": {
     "frozen": false,
     "read_only": false
    }
   },
   "source": [
    "# End of demonstration of RE derivative based parsing"
   ]
  }
 ],
 "metadata": {
  "kernelspec": {
   "display_name": "Python 3",
   "language": "python",
   "name": "python3"
  },
  "language_info": {
   "codemirror_mode": {
    "name": "ipython",
    "version": 3
   },
   "file_extension": ".py",
   "mimetype": "text/x-python",
   "name": "python",
   "nbconvert_exporter": "python",
   "pygments_lexer": "ipython3",
   "version": "3.7.3"
  },
  "toc": {
   "colors": {
    "hover_highlight": "#DAA520",
    "running_highlight": "#FF0000",
    "selected_highlight": "#FFD700"
   },
   "moveMenuLeft": true,
   "nav_menu": {
    "height": "12px",
    "width": "252px"
   },
   "navigate_menu": true,
   "number_sections": true,
   "sideBar": true,
   "threshold": 4,
   "toc_cell": false,
   "toc_section_display": "block",
   "toc_window_display": false,
   "widenNotebook": false
  }
 },
 "nbformat": 4,
 "nbformat_minor": 2
}
