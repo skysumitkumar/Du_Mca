{
 "cells": [
  {
   "cell_type": "markdown",
   "metadata": {},
   "source": [
    "# Examples of Turing Machines\n",
    "\n",
    "\n",
    "You may wish to watch this video and then play with TM definitions.\n",
    "\n",
    "You may also wish to convert some \"old fashioned\" TMs (created before\n",
    "automd was designed) to the automd markdown syntax.\n"
   ]
  },
  {
   "cell_type": "code",
   "execution_count": null,
   "metadata": {
    "run_control": {
     "frozen": false,
     "read_only": false
    }
   },
   "outputs": [],
   "source": [
    "# This Youtube video walks through this notebook\n",
    "from IPython.display import YouTubeVideo\n",
    "YouTubeVideo('E1X8OTWUxJ0')"
   ]
  },
  {
   "cell_type": "markdown",
   "metadata": {
    "run_control": {
     "frozen": false,
     "read_only": false
    }
   },
   "source": [
    "# Turing Machines"
   ]
  },
  {
   "cell_type": "code",
   "execution_count": null,
   "metadata": {
    "run_control": {
     "frozen": false,
     "read_only": false
    }
   },
   "outputs": [],
   "source": [
    "#~~~~~~~~~~~~~~~~~~~~~~~~~~~~~~~~~~~~~~~~~~~~~~~~~~~~~~~\n",
    "import sys\n",
    "\n",
    "# -- Detect if in Own Install or in Colab\n",
    "try:\n",
    "    import google.colab\n",
    "    OWN_INSTALL = False\n",
    "except:\n",
    "    OWN_INSTALL = True\n",
    "    \n",
    "if OWN_INSTALL:\n",
    "    \n",
    "  #---- Leave these definitions ON if running on laptop\n",
    "  #---- Else turn OFF by putting them between ''' ... '''\n",
    "\n",
    "  sys.path[0:0] = ['../../../../..',  '../../../../../3rdparty',  \n",
    "                   '../../../..',  '../../../../3rdparty',  \n",
    "                   '../../..',     '../../../3rdparty', \n",
    "                   '../..',        '../../3rdparty',\n",
    "                   '..',           '../3rdparty' ]\n",
    "\n",
    "else: # In colab\n",
    "  ! if [ ! -d Jove ]; then git clone https://github.com/anon-Jove/Jove Jove; fi\n",
    "  sys.path.append('./Jove')\n",
    "  sys.path.append('./Jove/jove')\n",
    "\n",
    "# -- common imports --\n",
    "from jove.Def_TM     import *\n",
    "from jove.Def_md2mc  import *\n",
    "from jove.DotBashers import *\n",
    "from jove.JoveEditor import *\n",
    "from jove.AnimateTM import * #-- usage: AnimateTM(whas101DTM, FuseEdges=True)\n",
    "#~~~~~~~~~~~~~~~~~~~~~~~~~~~~~~~~~~~~~~~~~~~~~~~~~~~~~~~"
   ]
  },
  {
   "cell_type": "markdown",
   "metadata": {
    "run_control": {
     "frozen": false,
     "read_only": false
    }
   },
   "source": [
    "# Various DTMs and NDTMs below"
   ]
  },
  {
   "cell_type": "code",
   "execution_count": null,
   "metadata": {
    "run_control": {
     "frozen": false,
     "read_only": false
    }
   },
   "outputs": [],
   "source": [
    "flipperTM = md2mc('''TM\n",
    "I : . ; ., S -> F\n",
    "I : 0 ; 1, R -> I\n",
    "I : 1 ; 0, R -> I\n",
    "''')\n",
    "DOflipperTM = dotObj_tm(flipperTM, FuseEdges=True)\n",
    "DOflipperTM\n"
   ]
  },
  {
   "cell_type": "code",
   "execution_count": null,
   "metadata": {
    "run_control": {
     "frozen": false,
     "read_only": false
    }
   },
   "outputs": [],
   "source": [
    "explore_tm(flipperTM, \"010011\", 100)"
   ]
  },
  {
   "cell_type": "code",
   "execution_count": null,
   "metadata": {
    "run_control": {
     "frozen": false,
     "read_only": false
    }
   },
   "outputs": [],
   "source": [
    "help(explore_tm)"
   ]
  },
  {
   "cell_type": "code",
   "execution_count": null,
   "metadata": {},
   "outputs": [],
   "source": [
    "# The following display(...) call is needed to see the animation buttons in Colab\n",
    "#display(HTML('<link rel=\"stylesheet\" href=\"//stackpath.bootstrapcdn.com/font-awesome/4.7.0/css/font-awesome.min.css\"/>'))\n",
    "AnimateTM(flipperTM, FuseEdges=True)"
   ]
  },
  {
   "cell_type": "code",
   "execution_count": null,
   "metadata": {
    "run_control": {
     "frozen": false,
     "read_only": false
    }
   },
   "outputs": [],
   "source": [
    "wpw_tm = md2mc(src='File', fname=\"wpw.tm\")\n",
    "dotObj_tm(wpw_tm, FuseEdges = True)"
   ]
  },
  {
   "cell_type": "code",
   "execution_count": null,
   "metadata": {
    "run_control": {
     "frozen": false,
     "read_only": false
    }
   },
   "outputs": [],
   "source": [
    "DOwpw = dotObj_tm(wpw_tm, FuseEdges = True)"
   ]
  },
  {
   "cell_type": "code",
   "execution_count": null,
   "metadata": {
    "run_control": {
     "frozen": false,
     "read_only": false
    }
   },
   "outputs": [],
   "source": [
    "explore_tm(wpw_tm, \"001#001\", 120)"
   ]
  },
  {
   "cell_type": "code",
   "execution_count": null,
   "metadata": {},
   "outputs": [],
   "source": [
    "# The following display(...) call is needed to see the animation buttons in Colab\n",
    "#display(HTML('<link rel=\"stylesheet\" href=\"//stackpath.bootstrapcdn.com/font-awesome/4.7.0/css/font-awesome.min.css\"/>'))\n",
    "\n",
    "#---SET FUEL TO 100 OR SO, else there will be no animation shown---\n",
    "AnimateTM(wpw_tm, FuseEdges=True)\n",
    "\n"
   ]
  },
  {
   "cell_type": "code",
   "execution_count": null,
   "metadata": {
    "run_control": {
     "frozen": false,
     "read_only": false
    }
   },
   "outputs": [],
   "source": [
    "wwndtm_md = md2mc(src='File', fname=\"wwndtm.tm\")\n",
    "dotObj_tm(wwndtm_md)"
   ]
  },
  {
   "cell_type": "code",
   "execution_count": null,
   "metadata": {
    "run_control": {
     "frozen": false,
     "read_only": false
    }
   },
   "outputs": [],
   "source": [
    "DOwwndtm = dotObj_tm(wwndtm_md, FuseEdges=True)\n",
    "DOwwndtm"
   ]
  },
  {
   "cell_type": "code",
   "execution_count": null,
   "metadata": {
    "run_control": {
     "frozen": false,
     "read_only": false
    }
   },
   "outputs": [],
   "source": [
    "explore_tm(wwndtm_md, \"001001\", 170)"
   ]
  },
  {
   "cell_type": "code",
   "execution_count": null,
   "metadata": {},
   "outputs": [],
   "source": [
    "#---SET FUEL TO 100 OR SO, else there will be no animation shown---\n",
    "AnimateTM(wwndtm_md, FuseEdges=True)\n"
   ]
  },
  {
   "cell_type": "code",
   "execution_count": null,
   "metadata": {},
   "outputs": [],
   "source": [
    "Jaddtm = md2mc('''TM\n",
    "\n",
    "!!-------------------------------------------------------------------------------\n",
    "!! Designed by Ian Briggs, PhD student, SoC, Univ of Utah\n",
    "!! \n",
    "!!  M adds two numbers in base 2.\n",
    "!!\n",
    "!! Input: matches the regex [01][01]*\\+[01][01]*\n",
    "!!        Interpreted as a+b where a and b are unsigned integers in big-endian\n",
    "!!          form.\n",
    "!! Start:  Starts in Istart\n",
    "!! Output: Occurs on a halt in the Fdone state.\n",
    "!!         The sum of the numbers in big endian form.\n",
    "!!         No other characters will be on the tape.\n",
    "!!         There willbe no leading zeros on the answer.\n",
    "!! Errors: The only errors that can occur are input errors which lead to\n",
    "!!           a halt on the error state. This indicates the input does\n",
    "!!           not conform to the input requirement.\n",
    "!! Detail: There is no length maximums on the input.\n",
    "!!         The numbers can be of different lengths.\n",
    "!!         Leading zeros on inputs only cause a longer runtime.\n",
    "!!-------------------------------------------------------------------------------\n",
    "\n",
    "!! Begin input validation\n",
    "\n",
    "        Istart:  . ;  ., S  -> error \n",
    "        Istart:  + ;  ., S -> error\n",
    "        Istart:  0 ;  0, R -> check_a\n",
    "        Istart:  1 ;  1, R -> check_a\n",
    "        \n",
    " !!\n",
    "         check_a: 0 ;  0, R -> check_a\n",
    "         check_a: 1 ;  1, R -> check_a\n",
    "         check_a: . ;  ., S -> error\n",
    "         check_a: + ;  a, R -> check_b_start\n",
    " \n",
    " !!\n",
    "         check_b_start: 0 ;  0, R -> check_b\n",
    "         check_b_start: 1 ;  1, R -> check_b\n",
    "         check_b_start: . ;  ., S -> error\n",
    "         check_b_start: + ;  +, S -> error\n",
    " \n",
    " !!\n",
    "         check_b: 0 ;  0, R -> check_b\n",
    "         check_b: 1 ;  1, R -> check_b\n",
    "         check_b: . ;  b, L -> read_next_b_digit\n",
    "         check_b: + ;  +, S -> error\n",
    " \n",
    " !! End input validation\n",
    " \n",
    " \n",
    " !! Begin adder\n",
    "         read_next_b_digit: 0 ;  X, L -> 0_scan_to_a\n",
    "         read_next_b_digit: 1 ;  Y, L -> 1_scan_to_a\n",
    " \n",
    " !!\n",
    "         0_scan_to_a: 0 ;  0, L -> 0_scan_to_a\n",
    "         0_scan_to_a: 1 ;  1, L -> 0_scan_to_a\n",
    "         0_scan_to_a: a ;  a, L -> 0_scan_to_a_digit\n",
    " \n",
    " !!\n",
    "         1_scan_to_a: 0 ;  0, L -> 1_scan_to_a\n",
    "         1_scan_to_a: 1 ;  1, L -> 1_scan_to_a\n",
    "         1_scan_to_a: a ;  a, L -> 1_scan_to_a_digit\n",
    " \n",
    " !!\n",
    "         n_scan_to_a: 0 ;  0, L -> n_scan_to_a\n",
    "         n_scan_to_a: 1 ;  1, L -> n_scan_to_a\n",
    "         n_scan_to_a: a ;  a, L -> n_scan_to_a_digit\n",
    " \n",
    " !!\n",
    "         0_scan_to_a_digit: X ;  X, L -> 0_scan_to_a_digit\n",
    "         0_scan_to_a_digit: Y ;  Y, L -> 0_scan_to_a_digit\n",
    "         0_scan_to_a_digit: 0 ;  X, R -> 0_scan_to_output\n",
    "         0_scan_to_a_digit: 1 ;  Y, R -> 1_scan_to_output\n",
    "         0_scan_to_a_digit: . ;  s, R -> 0_scan_to_output\n",
    "         0_scan_to_a_digit: s ;  s, R -> 0_scan_to_output\n",
    " \n",
    " !!\n",
    "         1_scan_to_a_digit: X ;  X, L -> 1_scan_to_a_digit\n",
    "         1_scan_to_a_digit: Y ;  Y, L -> 1_scan_to_a_digit\n",
    "         1_scan_to_a_digit: 0 ;  X, R -> 1_scan_to_output\n",
    "         1_scan_to_a_digit: 1 ;  Y, R -> c0_scan_to_output\n",
    "         1_scan_to_a_digit: . ;  s, R -> 1_scan_to_output\n",
    "         1_scan_to_a_digit: s ;  s, R -> 1_scan_to_output\n",
    " \n",
    " !!\n",
    "         n_scan_to_a_digit: X ;  X, L -> n_scan_to_a_digit\n",
    "         n_scan_to_a_digit: Y ;  Y, L -> n_scan_to_a_digit\n",
    "         n_scan_to_a_digit: 0 ;  X, R -> 0_scan_to_output\n",
    "         n_scan_to_a_digit: 1 ;  Y, R -> 1_scan_to_output\n",
    "         n_scan_to_a_digit: . ;  s, R -> erase_until_sum\n",
    "         n_scan_to_a_digit: s ;  s, R -> erase_until_sum\n",
    " \n",
    " !!\n",
    "         0_scan_to_output: 0 ;  0, R -> 0_scan_to_output\n",
    "         0_scan_to_output: 1 ;  1, R -> 0_scan_to_output\n",
    "         0_scan_to_output: X ;  X, R -> 0_scan_to_output\n",
    "         0_scan_to_output: Y ;  Y, R -> 0_scan_to_output\n",
    "         0_scan_to_output: a ;  a, R -> 0_scan_to_output\n",
    "         0_scan_to_output: b ;  b, R -> 0_scan_to_output\n",
    "         0_scan_to_output: . ;  0, L -> scan_to_b\n",
    "         0_scan_to_output: c ;  1, L -> scan_to_b\n",
    " \n",
    " !!\n",
    "         1_scan_to_output: 0 ;  0, R -> 1_scan_to_output\n",
    "         1_scan_to_output: 1 ;  1, R -> 1_scan_to_output\n",
    "         1_scan_to_output: X ;  X, R -> 1_scan_to_output\n",
    "         1_scan_to_output: Y ;  Y, R -> 1_scan_to_output\n",
    "         1_scan_to_output: a ;  a, R -> 1_scan_to_output\n",
    "         1_scan_to_output: b ;  b, R -> 1_scan_to_output\n",
    "         1_scan_to_output: . ;  1, L -> scan_to_b\n",
    "         1_scan_to_output: c ;  0, R -> write_carry\n",
    " \n",
    " !!\n",
    "         c0_scan_to_output: 0 ;  0, R -> c0_scan_to_output\n",
    "         c0_scan_to_output: 1 ;  1, R -> c0_scan_to_output\n",
    "         c0_scan_to_output: X ;  X, R -> c0_scan_to_output\n",
    "         c0_scan_to_output: Y ;  Y, R -> c0_scan_to_output\n",
    "         c0_scan_to_output: a ;  a, R -> c0_scan_to_output\n",
    "         c0_scan_to_output: b ;  b, R -> c0_scan_to_output\n",
    "         c0_scan_to_output: . ;  0, R -> write_carry\n",
    "         c0_scan_to_output: c ;  1, R -> write_carry\n",
    " \n",
    " !!\n",
    "         write_carry: . ;  c, L -> scan_to_b\n",
    " \n",
    " !!\n",
    "         scan_to_b: 0 ;  0, L -> scan_to_b\n",
    "         scan_to_b: 1 ;  1, L -> scan_to_b\n",
    "         scan_to_b: b ;  b, L -> scan_to_b_digit\n",
    " \n",
    " !!\n",
    "         scan_to_b_digit: X ;  X, L -> scan_to_b_digit\n",
    "         scan_to_b_digit: Y ;  Y, L -> scan_to_b_digit\n",
    "         scan_to_b_digit: 0 ;  0, S -> read_next_b_digit\n",
    "         scan_to_b_digit: 1 ;  1, S -> read_next_b_digit\n",
    "         scan_to_b_digit: a ;  a, S -> n_scan_to_a\n",
    " \n",
    " !! End adder\n",
    " \n",
    " !! Begin answer formatting\n",
    "         erase_until_sum: 0 ;  ., R -> erase_until_sum\n",
    "         erase_until_sum: 1 ;  ., R -> erase_until_sum\n",
    "         erase_until_sum: X ;  ., R -> erase_until_sum\n",
    "         erase_until_sum: Y ;  ., R -> erase_until_sum\n",
    "         erase_until_sum: a ;  ., R -> erase_until_sum\n",
    "         erase_until_sum: b ;  ., R -> find_end_of_sum\n",
    " \n",
    " !!\n",
    "         find_end_of_sum: 0 ;  0, R -> find_end_of_sum\n",
    "         find_end_of_sum: 1 ;  1, R -> find_end_of_sum\n",
    "         find_end_of_sum: c ;  1, S -> read_msb_of_sum\n",
    "         find_end_of_sum: . ;  ., L -> read_msb_of_sum\n",
    " \n",
    " !!\n",
    "         read_msb_of_sum: 0 ;  ., L -> 0_check_end_of_sum\n",
    "         read_msb_of_sum: 1 ;  ., L -> 1_check_end_of_sum\n",
    " \n",
    " !!\n",
    "         0_check_end_of_sum: 0 ;  0, L -> 0_find_end_of_sum\n",
    "         0_check_end_of_sum: 1 ;  1, L -> 0_find_end_of_sum\n",
    "         0_check_end_of_sum: . ;  ., L -> 0_write_last_digit\n",
    " \n",
    " !!\n",
    "         1_check_end_of_sum: 0 ;  0, L -> 1_find_end_of_sum\n",
    "         1_check_end_of_sum: 1 ;  1, L -> 1_find_end_of_sum\n",
    "         1_check_end_of_sum: . ;  ., L -> 1_write_last_digit\n",
    " \n",
    " !!\n",
    "         0_write_last_digit: . ;  ., L -> 0_write_last_digit\n",
    "         0_write_last_digit: 0 ;  0, R -> write_last_0\n",
    "         0_write_last_digit: 1 ;  1, R -> write_last_0\n",
    "         0_write_last_digit: s ;  ., R -> write_last_0\n",
    " \n",
    " !!\n",
    "         1_write_last_digit: . ;  ., L -> 1_write_last_digit\n",
    "         1_write_last_digit: 0 ;  0, R -> write_last_1\n",
    "         1_write_last_digit: 1 ;  1, R -> write_last_1\n",
    "         1_write_last_digit: s ;  ., R -> write_last_1\n",
    " \n",
    " !!\n",
    "         write_last_0: . ;  0, S -> find_start_of_answer\n",
    " \n",
    " !!\n",
    "         write_last_1: . ;  1, S -> find_start_of_answer\n",
    " \n",
    " !!\n",
    "         0_find_end_of_sum: 0 ;  0, L -> 0_find_end_of_sum\n",
    "         0_find_end_of_sum: 1 ;  1, L -> 0_find_end_of_sum\n",
    "         0_find_end_of_sum: . ;  ., L -> 0_find_answer\n",
    " \n",
    " !!\n",
    "         1_find_end_of_sum: 0 ;  0, L -> 1_find_end_of_sum\n",
    "         1_find_end_of_sum: 1 ;  1, L -> 1_find_end_of_sum\n",
    "         1_find_end_of_sum: . ;  ., L -> 1_find_answer\n",
    " \n",
    " !!\n",
    "         0_find_answer: . ;  ., L -> 0_find_answer\n",
    "         0_find_answer: 0 ;  0, R -> write_0\n",
    "         0_find_answer: 1 ;  1, R -> write_0\n",
    "         0_find_answer: s ;  ., R -> write_0\n",
    " \n",
    " !!\n",
    "         1_find_answer: . ;  ., L -> 1_find_answer\n",
    "         1_find_answer: 0 ;  0, R -> write_1\n",
    "         1_find_answer: 1 ;  1, R -> write_1\n",
    "         1_find_answer: s ;  ., R -> write_1\n",
    " \n",
    " !!\n",
    "         write_0: . ;  0, R -> find_start_of_sum\n",
    " \n",
    " !!\n",
    "         write_1: . ;  1, R -> find_start_of_sum\n",
    " \n",
    " !!\n",
    "         find_start_of_sum: . ;  ., R -> find_start_of_sum\n",
    "         find_start_of_sum: 0 ;  0, S -> find_end_of_sum\n",
    "         find_start_of_sum: 1 ;  1, S -> find_end_of_sum\n",
    " \n",
    " !!\n",
    "         find_start_of_answer: 0 ;  0, L -> find_start_of_answer\n",
    "         find_start_of_answer: 1 ;  1, L -> find_start_of_answer\n",
    "         find_start_of_answer: . ;  ., R -> erase_leading_zeros\n",
    " \n",
    "\n",
    "\n",
    "!!- !!\n",
    "         erase_leading_zeros: 0 ;  ., R -> erase_leading_zeros\n",
    "         erase_leading_zeros: 1 ;  1, S -> Fdone\n",
    "         erase_leading_zeros: . ;  0, S -> Fdone\n",
    " \n",
    " !! End answer formatting\n",
    " \n",
    " ''')\n",
    "\n"
   ]
  },
  {
   "cell_type": "code",
   "execution_count": null,
   "metadata": {},
   "outputs": [],
   "source": [
    "dotObj_tm(Jaddtm, FuseEdges=True)"
   ]
  },
  {
   "cell_type": "code",
   "execution_count": null,
   "metadata": {},
   "outputs": [],
   "source": [
    "explore_tm(Jaddtm, \"1+111\", 735)"
   ]
  },
  {
   "cell_type": "code",
   "execution_count": null,
   "metadata": {},
   "outputs": [],
   "source": [
    "explore_tm(Jaddtm, \"1001+0111\", 735)"
   ]
  },
  {
   "cell_type": "code",
   "execution_count": null,
   "metadata": {
    "run_control": {
     "frozen": false,
     "read_only": false
    }
   },
   "outputs": [],
   "source": [
    "dec_doub = md2mc(src='File', fname='decimal_double_tm.tm')\n",
    "dotObj_tm(dec_doub)"
   ]
  },
  {
   "cell_type": "code",
   "execution_count": null,
   "metadata": {
    "run_control": {
     "frozen": false,
     "read_only": false
    }
   },
   "outputs": [],
   "source": [
    "dotObj_tm(dec_doub, FuseEdges = True)"
   ]
  },
  {
   "cell_type": "code",
   "execution_count": null,
   "metadata": {
    "run_control": {
     "frozen": false,
     "read_only": false
    }
   },
   "outputs": [],
   "source": [
    "# Doubles the number given on the tape in decimal!\n",
    "explore_tm(dec_doub, \"231\", 100)"
   ]
  },
  {
   "cell_type": "code",
   "execution_count": null,
   "metadata": {
    "run_control": {
     "frozen": false,
     "read_only": false
    }
   },
   "outputs": [],
   "source": [
    "collatz_tm = md2mc(src='File', fname='collatz_tm.tm')\n",
    "dotObj_tm(collatz_tm)"
   ]
  },
  {
   "cell_type": "code",
   "execution_count": null,
   "metadata": {
    "run_control": {
     "frozen": false,
     "read_only": false
    }
   },
   "outputs": [],
   "source": [
    "DOcollatz = dotObj_tm(collatz_tm, FuseEdges=True)\n",
    "DOcollatz"
   ]
  },
  {
   "cell_type": "code",
   "execution_count": null,
   "metadata": {
    "run_control": {
     "frozen": false,
     "read_only": false
    }
   },
   "outputs": [],
   "source": [
    "# Will loop if the Collatz (\"3x+1\") program will ever loop!\n",
    "explore_tm(collatz_tm, \"0110\", 100)"
   ]
  },
  {
   "cell_type": "code",
   "execution_count": null,
   "metadata": {
    "run_control": {
     "frozen": false,
     "read_only": false
    }
   },
   "outputs": [],
   "source": [
    "shiftl_tm = md2mc(src='File', fname='shift_left_tm.tm')\n",
    "dotObj_tm(shiftl_tm)"
   ]
  },
  {
   "cell_type": "code",
   "execution_count": null,
   "metadata": {
    "run_control": {
     "frozen": false,
     "read_only": false
    }
   },
   "outputs": [],
   "source": [
    "dotObj_tm(shiftl_tm, FuseEdges=True)"
   ]
  },
  {
   "cell_type": "code",
   "execution_count": null,
   "metadata": {
    "run_control": {
     "frozen": false,
     "read_only": false
    }
   },
   "outputs": [],
   "source": [
    "explore_tm(shiftl_tm, \"abaaba\", 100)"
   ]
  },
  {
   "cell_type": "code",
   "execution_count": null,
   "metadata": {
    "run_control": {
     "frozen": false,
     "read_only": false
    }
   },
   "outputs": [],
   "source": [
    "shiftr_tm = md2mc(src='File', fname='shift_right_tm.tm')\n",
    "dotObj_tm(shiftr_tm)"
   ]
  },
  {
   "cell_type": "code",
   "execution_count": null,
   "metadata": {
    "run_control": {
     "frozen": false,
     "read_only": false
    }
   },
   "outputs": [],
   "source": [
    "dotObj_tm(shiftr_tm, True)"
   ]
  },
  {
   "cell_type": "code",
   "execution_count": null,
   "metadata": {
    "run_control": {
     "frozen": false,
     "read_only": false
    }
   },
   "outputs": [],
   "source": [
    "explore_tm(shiftr_tm, \"ababba\", 100)"
   ]
  },
  {
   "cell_type": "code",
   "execution_count": null,
   "metadata": {},
   "outputs": [],
   "source": []
  },
  {
   "cell_type": "code",
   "execution_count": null,
   "metadata": {},
   "outputs": [],
   "source": []
  }
 ],
 "metadata": {
  "kernelspec": {
   "display_name": "Python 3",
   "language": "python",
   "name": "python3"
  },
  "language_info": {
   "codemirror_mode": {
    "name": "ipython",
    "version": 3
   },
   "file_extension": ".py",
   "mimetype": "text/x-python",
   "name": "python",
   "nbconvert_exporter": "python",
   "pygments_lexer": "ipython3",
   "version": "3.7.3"
  },
  "toc": {
   "colors": {
    "hover_highlight": "#DAA520",
    "running_highlight": "#FF0000",
    "selected_highlight": "#FFD700"
   },
   "moveMenuLeft": true,
   "nav_menu": {
    "height": "318px",
    "width": "252px"
   },
   "navigate_menu": true,
   "number_sections": true,
   "sideBar": true,
   "threshold": 4,
   "toc_cell": false,
   "toc_section_display": "block",
   "toc_window_display": false,
   "widenNotebook": false
  }
 },
 "nbformat": 4,
 "nbformat_minor": 1
}
