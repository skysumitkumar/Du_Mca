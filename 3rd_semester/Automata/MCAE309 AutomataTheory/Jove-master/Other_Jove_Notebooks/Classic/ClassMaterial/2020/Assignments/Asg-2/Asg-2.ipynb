{
 "cells": [
  {
   "cell_type": "markdown",
   "metadata": {
    "colab_type": "text",
    "id": "Sg7maR11hwFS",
    "run_control": {
     "frozen": false,
     "read_only": false
    }
   },
   "source": [
    "# A DFA Overview Video\n",
    "\n",
    "If you'd like to relive my first lecture on DFA, be my guest; play the Youtube video below!\n",
    "My own advice: listen a little and then stop the video and start playing with the code below!"
   ]
  },
  {
   "cell_type": "code",
   "execution_count": null,
   "metadata": {
    "colab": {},
    "colab_type": "code",
    "id": "ZbudUFY3hwFY",
    "run_control": {
     "frozen": false,
     "read_only": false
    }
   },
   "outputs": [],
   "source": [
    "# This Youtube video walks through a basic DFA lecture\n",
    "from IPython.display import YouTubeVideo\n",
    "YouTubeVideo('FItN6CK1mow')"
   ]
  },
  {
   "cell_type": "markdown",
   "metadata": {
    "colab_type": "text",
    "id": "emNZ7YXKhwFe",
    "run_control": {
     "frozen": false,
     "read_only": false
    }
   },
   "source": [
    "# Simple DFA Exercises"
   ]
  },
  {
   "cell_type": "code",
   "execution_count": null,
   "metadata": {
    "colab": {},
    "colab_type": "code",
    "id": "2VL7QYP-hwFf",
    "run_control": {
     "frozen": false,
     "read_only": false
    }
   },
   "outputs": [],
   "source": [
    "#~~~~~~~~~~~~~~~~~~~~~~~~~~~~~~~~~~~~~~~~~~~~~~~~~~~~~~~\n",
    "import sys\n",
    "\n",
    "# -- Detect if in Own Install or in Colab\n",
    "try:\n",
    "    import google.colab\n",
    "    OWN_INSTALL = False\n",
    "except:\n",
    "    OWN_INSTALL = True\n",
    "    \n",
    "if OWN_INSTALL:\n",
    "    \n",
    "  #---- Leave these definitions ON if running on laptop\n",
    "  #---- Else turn OFF by putting them between ''' ... '''\n",
    "\n",
    "  sys.path[0:0] = ['../../../../..',  '../../../../../3rdparty',  \n",
    "                   '../../../..',  '../../../../3rdparty',  \n",
    "                   '../../..',     '../../../3rdparty', \n",
    "                   '../..',        '../../3rdparty',\n",
    "                   '..',           '../3rdparty' ]\n",
    "\n",
    "else: # In colab\n",
    "  ! if [ ! -d Jove ]; then git clone https://github.com/anon-Jove/Jove Jove; fi\n",
    "  sys.path.append('./Jove')\n",
    "  sys.path.append('./Jove/jove')\n",
    "\n",
    "# -- common imports --\n",
    "from jove.DotBashers import *\n",
    "from jove.Def_md2mc  import *\n",
    "from jove.Def_DFA    import *\n",
    "from jove.LangDef    import *  # for testing DFA actions\n",
    "#~~~~~~~~~~~~~~~~~~~~~~~~~~~~~~~~~~~~~~~~~~~~~~~~~~~~~~~"
   ]
  },
  {
   "cell_type": "markdown",
   "metadata": {
    "colab_type": "text",
    "id": "-gVerXSIhwFk",
    "run_control": {
     "frozen": false,
     "read_only": false
    }
   },
   "source": [
    "# Asg-2's helpful functions begin here"
   ]
  },
  {
   "cell_type": "code",
   "execution_count": null,
   "metadata": {
    "colab": {},
    "colab_type": "code",
    "id": "uXIPyPpdhwFq",
    "run_control": {
     "frozen": false,
     "read_only": false
    }
   },
   "outputs": [],
   "source": [
    "help(nthnumeric)"
   ]
  },
  {
   "cell_type": "markdown",
   "metadata": {
    "colab_type": "text",
    "id": "Qve1eGQ6ilq_"
   },
   "source": [
    "# Here is how to write a test"
   ]
  },
  {
   "cell_type": "code",
   "execution_count": null,
   "metadata": {
    "colab": {},
    "colab_type": "code",
    "id": "vvWz0zA6iV-G"
   },
   "outputs": [],
   "source": [
    "# tests\n",
    "tests = [ nthnumeric(i, Sigma={'0','1'}) for i in range(17)]\n",
    "# testdfa\n",
    "testdfa = md2mc('''DFA \n",
    "I : 0 -> F\n",
    "F : 0 -> I\n",
    "I : 1 -> I\n",
    "F : 1 -> F''')\n",
    "\n",
    "dotObj_dfa(testdfa)"
   ]
  },
  {
   "cell_type": "code",
   "execution_count": null,
   "metadata": {
    "colab": {},
    "colab_type": "code",
    "id": "F2wM6Thrjvnm"
   },
   "outputs": [],
   "source": [
    "for s in tests:\n",
    "    if accepts_dfa(testdfa, s):\n",
    "        print(\"testdfa accepts \", s)\n",
    "    else:\n",
    "        print(\"testdfa does not accept \", s)"
   ]
  },
  {
   "cell_type": "code",
   "execution_count": null,
   "metadata": {
    "colab": {},
    "colab_type": "code",
    "id": "YaTqDCCtj9pE"
   },
   "outputs": [],
   "source": []
  },
  {
   "cell_type": "code",
   "execution_count": null,
   "metadata": {
    "colab": {},
    "colab_type": "code",
    "id": "QdM3lnIOjB2l"
   },
   "outputs": [],
   "source": [
    "# Let's create a simple DFA to illustrate\n",
    "from jove.AnimateDFA import *\n",
    "AnimateDFA(testdfa, FuseEdges=True)\n",
    "display(HTML('<link rel=\"stylesheet\" href=\"//stackpath.bootstrapcdn.com/font-awesome/4.7.0/css/font-awesome.min.css\"/>'))"
   ]
  },
  {
   "cell_type": "code",
   "execution_count": null,
   "metadata": {
    "colab": {},
    "colab_type": "code",
    "id": "Bc_LVw92kNXT"
   },
   "outputs": [],
   "source": [
    "Odd0OREven1 = md2mc('''DFA\n",
    "IFEE : 0 -> FOE\n",
    "IFEE : 1 -> SEO\n",
    "FOE  : 0 -> IFEE\n",
    "FOE  : 1 -> FOO\n",
    "FOO  : 0 -> SEO\n",
    "FOO  : 1 -> FOE\n",
    "SEO  : 0 -> FOO\n",
    "SEO  : 1 -> IFEE\n",
    "''')"
   ]
  },
  {
   "cell_type": "code",
   "execution_count": null,
   "metadata": {
    "colab": {},
    "colab_type": "code",
    "id": "pHWNbK1Zi2Jx"
   },
   "outputs": [],
   "source": [
    "dotObj_dfa(Odd0OREven1)"
   ]
  },
  {
   "cell_type": "code",
   "execution_count": null,
   "metadata": {
    "colab": {},
    "colab_type": "code",
    "id": "-9HNsD1_idjx"
   },
   "outputs": [],
   "source": [
    "Odd0OREven1"
   ]
  },
  {
   "cell_type": "code",
   "execution_count": null,
   "metadata": {},
   "outputs": [],
   "source": []
  },
  {
   "cell_type": "code",
   "execution_count": null,
   "metadata": {},
   "outputs": [],
   "source": []
  }
 ],
 "metadata": {
  "colab": {
   "name": "Copy of Asg-2.ipynb",
   "provenance": [
    {
     "file_id": "https://github.com/anon-Jove/Jove/blob/colab/ClassMaterial/2020/Assignments/Asg-2/Asg-2.ipynb",
     "timestamp": 1578782914814
    }
   ]
  },
  "kernelspec": {
   "display_name": "Python 3",
   "language": "python",
   "name": "python3"
  },
  "language_info": {
   "codemirror_mode": {
    "name": "ipython",
    "version": 3
   },
   "file_extension": ".py",
   "mimetype": "text/x-python",
   "name": "python",
   "nbconvert_exporter": "python",
   "pygments_lexer": "ipython3",
   "version": "3.7.3"
  },
  "toc": {
   "colors": {
    "hover_highlight": "#DAA520",
    "running_highlight": "#FF0000",
    "selected_highlight": "#FFD700"
   },
   "moveMenuLeft": true,
   "nav_menu": {
    "height": "318px",
    "width": "252px"
   },
   "navigate_menu": true,
   "number_sections": true,
   "sideBar": true,
   "threshold": 4,
   "toc_cell": false,
   "toc_section_display": "block",
   "toc_window_display": false,
   "widenNotebook": false
  }
 },
 "nbformat": 4,
 "nbformat_minor": 1
}
