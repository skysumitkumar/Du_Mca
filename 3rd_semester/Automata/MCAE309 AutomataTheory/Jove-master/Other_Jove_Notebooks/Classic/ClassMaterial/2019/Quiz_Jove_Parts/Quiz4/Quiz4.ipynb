{
 "cells": [
  {
   "cell_type": "markdown",
   "metadata": {
    "run_control": {
     "frozen": false,
     "read_only": false
    }
   },
   "source": [
    "# This is a minimal template for Quiz4\n",
    "\n",
    "We have provided the right include files for you.\n",
    "You are required to include any commands necessary \n",
    "to produce the answers being requested. Hints are \n",
    "provided to help you save some time. Try to use\n",
    "help(function_name) to obtain details of usage.\n"
   ]
  },
  {
   "cell_type": "code",
   "execution_count": null,
   "metadata": {
    "run_control": {
     "frozen": false,
     "read_only": false
    }
   },
   "outputs": [],
   "source": [
    "#----TURN ON THESE IF YOU ARE RUNNING ON YOUR OWN INSTALLATION----\n",
    "\n",
    "import sys\n",
    "#\n",
    "# These paths must help climb upstairs two, three, or four flights\n",
    "sys.path[0:0] = ['../..',      '../../3rdparty',\n",
    "                 '../../..',   '../../../3rdparty',\n",
    "                 '../../../..','../../../../3rdparty']  \n",
    "#\n",
    "# This \"cocktail\" of imports must pull in all needed functions\n",
    "# \n",
    "from jove.Def_md2mc  import *\n",
    "from jove.Def_NFA    import *\n",
    "from jove.Def_DFA    import *\n",
    "from jove.AnimateNFA import *\n",
    "from jove.Def_RE2NFA import *\n",
    "from jove.Def_NFA2RE import *\n",
    "\n",
    "#----TURN THESE ON IF RUNNING ON JOVE ON COLAB BY REMOVING THE ''' ... '''\n",
    "\n",
    "'''\n",
    "! if [ ! -d Jove ]; then git clone https://github.com/anon-Jove/Jove Jove; fi\n",
    "import sys\n",
    "sys.path.append('./Jove')\n",
    "sys.path.append('./Jove/jove')\n",
    "\n",
    "# This \"cocktail\" of imports must pull in all needed functions\n",
    "# \n",
    "from jove.Def_md2mc  import *\n",
    "from jove.Def_NFA    import *\n",
    "from jove.Def_DFA    import *\n",
    "from jove.AnimateNFA import *\n",
    "from jove.Def_RE2NFA import *\n",
    "from jove.Def_NFA2RE import *\n",
    "\n",
    "'''"
   ]
  },
  {
   "cell_type": "markdown",
   "metadata": {},
   "source": [
    "# Question 3"
   ]
  },
  {
   "cell_type": "code",
   "execution_count": null,
   "metadata": {},
   "outputs": [],
   "source": [
    "# This should be handy for use in some questions\n",
    "\n",
    "FBloat = md2mc(''' DFA\n",
    "IS1 : a -> FS2\n",
    "IS1 : b -> FS3\n",
    "FS2 : a -> S4\n",
    "FS2 : b -> S5\n",
    "FS3 : a -> S5\n",
    "FS3 : b -> S4\n",
    "S4  : a|b -> FS6\n",
    "S5  : a|b -> FS6\n",
    "FS6 : a|b -> FS6\n",
    "''')"
   ]
  },
  {
   "cell_type": "code",
   "execution_count": null,
   "metadata": {},
   "outputs": [],
   "source": [
    "dotObj_dfa(FBloat)"
   ]
  },
  {
   "cell_type": "code",
   "execution_count": null,
   "metadata": {},
   "outputs": [],
   "source": []
  },
  {
   "cell_type": "markdown",
   "metadata": {},
   "source": [
    "# Question 4"
   ]
  },
  {
   "cell_type": "code",
   "execution_count": null,
   "metadata": {},
   "outputs": [],
   "source": [
    "# Add commands to carry out Brzozowski's minimization"
   ]
  },
  {
   "cell_type": "markdown",
   "metadata": {},
   "source": [
    "# Question 5"
   ]
  },
  {
   "cell_type": "code",
   "execution_count": null,
   "metadata": {},
   "outputs": [],
   "source": [
    "# Type in the commands to enter the RE for the bit-transmission\n",
    "# problem and convert it to a DFA, minimize it, etc."
   ]
  }
 ],
 "metadata": {
  "kernelspec": {
   "display_name": "Python 3",
   "language": "python",
   "name": "python3"
  },
  "language_info": {
   "codemirror_mode": {
    "name": "ipython",
    "version": 3
   },
   "file_extension": ".py",
   "mimetype": "text/x-python",
   "name": "python",
   "nbconvert_exporter": "python",
   "pygments_lexer": "ipython3",
   "version": "3.7.3"
  },
  "toc": {
   "colors": {
    "hover_highlight": "#DAA520",
    "running_highlight": "#FF0000",
    "selected_highlight": "#FFD700"
   },
   "moveMenuLeft": true,
   "nav_menu": {
    "height": "121px",
    "width": "252px"
   },
   "navigate_menu": true,
   "number_sections": true,
   "sideBar": true,
   "threshold": 4,
   "toc_cell": false,
   "toc_section_display": "block",
   "toc_window_display": false,
   "widenNotebook": false
  },
  "widgets": {
   "state": {
    "430c92ee02b34ec1912bf03c8de1e6dc": {
     "views": [
      {
       "cell_index": 20
      }
     ]
    }
   },
   "version": "1.2.0"
  }
 },
 "nbformat": 4,
 "nbformat_minor": 2
}
