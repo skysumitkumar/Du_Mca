{
 "cells": [
  {
   "cell_type": "code",
   "execution_count": null,
   "metadata": {
    "run_control": {
     "frozen": false,
     "read_only": false
    }
   },
   "outputs": [],
   "source": [
    "#~~~~~~~~~~~~~~~~~~~~~~~~~~~~~~~~~~~~~~~~~~~~~~~~~~~~~~~\n",
    "import sys\n",
    "\n",
    "# -- Detect if in Own Install or in Colab\n",
    "try:\n",
    "    import google.colab\n",
    "    OWN_INSTALL = False\n",
    "except:\n",
    "    OWN_INSTALL = True\n",
    "    \n",
    "if OWN_INSTALL:\n",
    "    \n",
    "  #---- Leave these definitions ON if running on laptop\n",
    "  #---- Else turn OFF by putting them between ''' ... '''\n",
    "\n",
    "  sys.path[0:0] = ['../../../../..',  '../../../../../3rdparty',  \n",
    "                   '../../../..',  '../../../../3rdparty',  \n",
    "                   '../../..',     '../../../3rdparty', \n",
    "                   '../..',        '../../3rdparty',\n",
    "                   '..',           '../3rdparty' ]\n",
    "\n",
    "else: # In colab\n",
    "  ! if [ ! -d Jove ]; then git clone https://github.com/anon-Jove/Jove Jove; fi\n",
    "  sys.path.append('./Jove')\n",
    "  sys.path.append('./Jove/jove')\n",
    "\n",
    "# -- common imports --\n",
    "from jove.DotBashers import *\n",
    "from jove.Def_DFA import *\n",
    "from jove.Def_NFA import *\n",
    "from jove.Def_RE2NFA import *\n",
    "from jove.Def_NFA2RE import *\n",
    "from jove.Def_md2mc import *\n",
    "from jove.JoveEditor import *\n",
    "#~~~~~~~~~~~~~~~~~~~~~~~~~~~~~~~~~~~~~~~~~~~~~~~~~~~~~~~"
   ]
  },
  {
   "cell_type": "markdown",
   "metadata": {},
   "source": [
    "# PDA Programming Approaches\n",
    "\n",
    "* Use stack to tally\n",
    "\n",
    "* Create alternate denominations\n",
    "\n",
    "* Use nondeterminism to decide what to match in stack\n",
    "\n",
    "* Use stack for simple-minded counting"
   ]
  },
  {
   "cell_type": "markdown",
   "metadata": {},
   "source": [
    "## Stacks to tally\n",
    "\n",
    "Let Sigma = {a,b}\n",
    "\n",
    "* Design a PDA for even length strings \n",
    "  - as plain DFA\n",
    "  - Use power of nondet \n",
    "\n",
    "* Student exercise: Design a PDA for proper nesting of { (,[,],) }"
   ]
  },
  {
   "cell_type": "markdown",
   "metadata": {},
   "source": [
    "# As a plain DFA over a,b\n"
   ]
  },
  {
   "cell_type": "code",
   "execution_count": null,
   "metadata": {},
   "outputs": [],
   "source": [
    "pdaEven1 = md2mc('''PDA\n",
    "IF : a,''; '' | b,''; '' -> Odd !! Pretend this is an NFA\n",
    "Odd: a,''; '' | b,''; '' -> IF  !! Ignore the stack, just shuttle between IF and Odd\n",
    "''')"
   ]
  },
  {
   "cell_type": "code",
   "execution_count": null,
   "metadata": {},
   "outputs": [],
   "source": [
    "dotObj_pda(pdaEven1, FuseEdges=True)"
   ]
  },
  {
   "cell_type": "code",
   "execution_count": null,
   "metadata": {},
   "outputs": [],
   "source": [
    "explore_pda('aaba', pdaEven1)"
   ]
  },
  {
   "cell_type": "markdown",
   "metadata": {},
   "source": [
    "# As a nondet device"
   ]
  },
  {
   "cell_type": "code",
   "execution_count": null,
   "metadata": {},
   "outputs": [],
   "source": [
    "pdaEven2 = md2mc('''PDA\n",
    "\n",
    "\n",
    "!! Keep stacking\n",
    "IF  : a,''; a | b,''; b -> Stk\n",
    "Stk : a,''; a | b,''; b -> Stk\n",
    "Stk : '','';''          -> Try !! We guess that we are at the midpoint... could be wrong\n",
    "\n",
    "Try : a,a; '' | b,b; '' | a,b; '' | b,a; '' -> Try !! Match around the guessed midpoint\n",
    "\n",
    "Try : '',#; # -> FoundMid  !! The number of items stacked = the number matched -- must be even! If not, fail\n",
    "\n",
    "''')"
   ]
  },
  {
   "cell_type": "code",
   "execution_count": null,
   "metadata": {},
   "outputs": [],
   "source": [
    "dotObj_pda(pdaEven2, FuseEdges=True)"
   ]
  },
  {
   "cell_type": "code",
   "execution_count": null,
   "metadata": {},
   "outputs": [],
   "source": [
    "explore_pda('aaba', pdaEven2, STKMAX=10)"
   ]
  },
  {
   "cell_type": "code",
   "execution_count": null,
   "metadata": {},
   "outputs": [],
   "source": [
    "explore_pda('', pdaEven2, STKMAX=10)"
   ]
  },
  {
   "cell_type": "code",
   "execution_count": null,
   "metadata": {},
   "outputs": [],
   "source": [
    "explore_pda('aabaa', pdaEven2, STKMAX=10)"
   ]
  },
  {
   "cell_type": "code",
   "execution_count": null,
   "metadata": {},
   "outputs": [],
   "source": [
    "explore_pda('aba', pdaEven2, STKMAX=10)"
   ]
  },
  {
   "cell_type": "code",
   "execution_count": null,
   "metadata": {},
   "outputs": [],
   "source": [
    "explore_pda('abaabb', pdaEven2, STKMAX=10)"
   ]
  },
  {
   "cell_type": "code",
   "execution_count": null,
   "metadata": {},
   "outputs": [],
   "source": [
    "# Students match ([...]) or [(...)]\n",
    "# Try this, students"
   ]
  },
  {
   "cell_type": "markdown",
   "metadata": {},
   "source": [
    "## Create alternate denominations\n",
    "\n",
    "Let Sigma = {a,b}\n",
    "* Design a PDA for #a = 2 #b + 3 #c\n",
    "\n",
    "aa b\n",
    "aaa c\n",
    "aa aaa bc\n",
    "in some order\n",
    "a versus b/c game\n",
    "\n",
    "multiply b's twofold with B\n",
    "multiply c's threefold with C\n",
    "then a's and B's and a's and C's are equals\n",
    "\n",
    "All orders must be heeded\n",
    "\n",
    "a first - stack - a on top, b next -> BB -> leave B on stack\n",
    "b first - stack BB - c next stack CCC \n",
    "\n"
   ]
  },
  {
   "cell_type": "code",
   "execution_count": null,
   "metadata": {},
   "outputs": [],
   "source": [
    "pdaabc = md2mc('''PDA\n",
    "\n",
    "!! Stack a,b,c but expand b as BB and c as CCC\n",
    "IF : a,''; a | b,''; BB | c,''; CCC -> Work \n",
    "\n",
    "!! Continue stacking, with the \"currency conversion\" going on\n",
    "Work: a,a; aa | b,B; BBB | b,C; BBC | c,B; CCCB | c,C; CCCC | a,#; a# | b,#; BB# | c,#; CCC# -> Work\n",
    "\n",
    "!! When a b comes, see if we can match upto two a's\n",
    "Work: b,a; '' -> Undera !! An a may have come and we may have put it on the stack; if so find it at the top\n",
    "\n",
    "!! Lucky that another  was found; eat that and go back to Work\n",
    "Undera : '',a; '' -> Work\n",
    "\n",
    "!! Not another 'a'; so split the earlier seen B and also put back what was popped now; then go to Work\n",
    "Undera : '',B; BB | '',C; BC | '',#; B#  -> Work\n",
    "\n",
    "!! When a 'c' comes, see if we can find upto 3 a's on the stack\n",
    "Work: c,a; '' -> Underaa\n",
    "\n",
    "!! Two a's are desired underneath; if so, we can knock-off the c; else stack the remaining C's and go Work\n",
    "Underaa: '', a; '' -> UnderOneMorea\n",
    "\n",
    "!! we have two unmet a's, and the C's are stacked for that\n",
    "Underaa: '', B; CCB | '', C; CCC | '',#; CC# -> Work \n",
    "\n",
    "!! Avoid stacking anything as we got c versus 3 a's\n",
    "UnderOneMorea: '',a; '' -> Work \n",
    "\n",
    "!! One unmet a for which we stacked a C\n",
    "UnderOneMorea: '',B; CB | '',C; CC | '',#; C# -> Work \n",
    "\n",
    "!! We tally a and B on an equal footing; same with a versus C\n",
    "Work: a,B; ''| a,C; '' -> Work\n",
    "\n",
    "!! In the work state, when # shows up, we are ready to accept\n",
    "Work: '',#; # -> F\n",
    "\n",
    "\n",
    "''')"
   ]
  },
  {
   "cell_type": "code",
   "execution_count": null,
   "metadata": {},
   "outputs": [],
   "source": [
    "dotObj_pda(pdaabc, FuseEdges=True)"
   ]
  },
  {
   "cell_type": "code",
   "execution_count": null,
   "metadata": {},
   "outputs": [],
   "source": [
    "explore_pda('aaac', pdaabc)"
   ]
  },
  {
   "cell_type": "code",
   "execution_count": null,
   "metadata": {},
   "outputs": [],
   "source": [
    "explore_pda('aaca', pdaabc)"
   ]
  },
  {
   "cell_type": "code",
   "execution_count": null,
   "metadata": {},
   "outputs": [],
   "source": [
    "explore_pda('acaa', pdaabc)"
   ]
  },
  {
   "cell_type": "code",
   "execution_count": null,
   "metadata": {},
   "outputs": [],
   "source": [
    "explore_pda('caaa', pdaabc)"
   ]
  },
  {
   "cell_type": "code",
   "execution_count": null,
   "metadata": {},
   "outputs": [],
   "source": [
    "explore_pda('aaaccaaa', pdaabc)"
   ]
  },
  {
   "cell_type": "code",
   "execution_count": null,
   "metadata": {},
   "outputs": [],
   "source": [
    "explore_pda('aaccaaa', pdaabc)"
   ]
  },
  {
   "cell_type": "code",
   "execution_count": null,
   "metadata": {},
   "outputs": [],
   "source": [
    "explore_pda('aaaccaaabaaaab', pdaabc)"
   ]
  },
  {
   "cell_type": "markdown",
   "metadata": {},
   "source": [
    "## Stack nondet\n",
    "\n",
    "a=b or a=c\n",
    "\n",
    "i.e. {a^i b^j c^k : i=j or i=k }\n",
    "\n",
    "*consult the book for this*\n",
    "\n",
    "This is the Sipser example discussed in the book"
   ]
  },
  {
   "cell_type": "markdown",
   "metadata": {},
   "source": [
    "## Stack for simple counting \n",
    "\n",
    "a^i b^j c^k d^l : if i=2 then j=k else l > k\n",
    "\n",
    "Try the reverse also\n"
   ]
  },
  {
   "cell_type": "code",
   "execution_count": null,
   "metadata": {},
   "outputs": [],
   "source": [
    "aibjck = md2mc('''PDA\n",
    "!! First get two a's and then if that happens, look for a bc match else look for a d>c situation\n",
    "!! Start in state I and not IF because epsilon is not in the language\n",
    "\n",
    "!! Now d>c must be true\n",
    "I: c,''; c -> NowCsDs\n",
    "\n",
    "I: d,''; '' -> F1\n",
    "\n",
    "I: a,'';''    -> Onea\n",
    "\n",
    "Onea: a,'';'' -> Twoa\n",
    "Twoa: a,'';'' -> MoreThanTwoa\n",
    "\n",
    "Twoa: c,''; c -> NowCDMatch\n",
    "\n",
    "NowCDMatch: c,'';c -> NowCDMatch\n",
    "\n",
    "NowCDMatch: d,c; '' -> NowCDMatch\n",
    "\n",
    "NowCDMatch: '',#; # -> F2\n",
    "\n",
    "!! d>c when one a only\n",
    "Onea: d,'';'' -> F1\n",
    "Onea: c,'';c  -> NowCsDs\n",
    "\n",
    "!! d>c must hold\n",
    "MoreThanTwoa: a,'';'' -> MoreThanTwoa\n",
    "\n",
    "MoreThanTwoa: c,''; c -> NowCsDs\n",
    "\n",
    "MoreThanTwoa: d,''; '' -> F1\n",
    "\n",
    "NowCsDs: c,''; c -> NowCsDs\n",
    "\n",
    "NowCsDs: d,c; '' -> NowDsOnly\n",
    "\n",
    "NowDsOnly: d,d;'' -> NowDsOnly\n",
    "\n",
    "NowDsOnly: d,c; '' -> NowDsOnly\n",
    "\n",
    "NowDsOnly: d,#; # -> F1\n",
    "\n",
    "MoreThanTwoa: d,'';'' -> F1\n",
    "F1 : d,''; '' -> F1\n",
    "\n",
    "\n",
    "\n",
    "''')"
   ]
  },
  {
   "cell_type": "code",
   "execution_count": null,
   "metadata": {},
   "outputs": [],
   "source": [
    "dotObj_pda(aibjck, FuseEdges=True)"
   ]
  },
  {
   "cell_type": "code",
   "execution_count": null,
   "metadata": {},
   "outputs": [],
   "source": [
    "explore_pda('d', aibjck)"
   ]
  },
  {
   "cell_type": "code",
   "execution_count": null,
   "metadata": {},
   "outputs": [],
   "source": [
    "explore_pda('dd', aibjck)"
   ]
  },
  {
   "cell_type": "code",
   "execution_count": null,
   "metadata": {},
   "outputs": [],
   "source": [
    "explore_pda('cdd', aibjck)"
   ]
  },
  {
   "cell_type": "code",
   "execution_count": null,
   "metadata": {},
   "outputs": [],
   "source": [
    "explore_pda('ccdd', aibjck)"
   ]
  },
  {
   "cell_type": "code",
   "execution_count": null,
   "metadata": {},
   "outputs": [],
   "source": [
    "explore_pda('ccd', aibjck)"
   ]
  },
  {
   "cell_type": "code",
   "execution_count": null,
   "metadata": {},
   "outputs": [],
   "source": [
    "explore_pda('acd', aibjck)"
   ]
  },
  {
   "cell_type": "code",
   "execution_count": null,
   "metadata": {},
   "outputs": [],
   "source": [
    "explore_pda('aacd', aibjck)"
   ]
  },
  {
   "cell_type": "code",
   "execution_count": null,
   "metadata": {},
   "outputs": [],
   "source": [
    "explore_pda('aaad', aibjck)"
   ]
  },
  {
   "cell_type": "code",
   "execution_count": null,
   "metadata": {},
   "outputs": [],
   "source": [
    "explore_pda('aaaccdd', aibjck)"
   ]
  },
  {
   "cell_type": "code",
   "execution_count": null,
   "metadata": {},
   "outputs": [],
   "source": [
    "explore_pda('aaaccddd', aibjck)"
   ]
  },
  {
   "cell_type": "code",
   "execution_count": null,
   "metadata": {},
   "outputs": [],
   "source": []
  }
 ],
 "metadata": {
  "kernelspec": {
   "display_name": "Python 3",
   "language": "python",
   "name": "python3"
  },
  "language_info": {
   "codemirror_mode": {
    "name": "ipython",
    "version": 3
   },
   "file_extension": ".py",
   "mimetype": "text/x-python",
   "name": "python",
   "nbconvert_exporter": "python",
   "pygments_lexer": "ipython3",
   "version": "3.7.3"
  },
  "toc": {
   "colors": {
    "hover_highlight": "#DAA520",
    "running_highlight": "#FF0000",
    "selected_highlight": "#FFD700"
   },
   "moveMenuLeft": true,
   "nav_menu": {
    "height": "318px",
    "width": "252px"
   },
   "navigate_menu": true,
   "number_sections": true,
   "sideBar": true,
   "threshold": 4,
   "toc_cell": false,
   "toc_section_display": "block",
   "toc_window_display": false,
   "widenNotebook": false
  }
 },
 "nbformat": 4,
 "nbformat_minor": 2
}
