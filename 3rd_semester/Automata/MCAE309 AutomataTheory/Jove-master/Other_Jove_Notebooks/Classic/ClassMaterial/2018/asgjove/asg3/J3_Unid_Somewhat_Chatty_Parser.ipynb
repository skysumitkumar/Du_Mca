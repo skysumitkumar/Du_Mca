{
 "cells": [
  {
   "cell_type": "markdown",
   "metadata": {
    "run_control": {
     "frozen": false,
     "read_only": false
    }
   },
   "source": [
    "# Asg-3\n",
    "\n",
    "This assignment tells us how Jove's own parser works. It adds print statements to RE2nfa and md2mc\n",
    "to cause prints that explain Jove's markdown parser.\n",
    "\n",
    "\n",
    "* Make RE2NFA chatty\n",
    "\n",
    "  - ergo learn how compilers work\n",
    "  \n",
    "* Make md2mc chatty\n",
    "  \n",
    "  - ergo learn how compilers work\n",
    "  \n",
    "* I've made two files above somewhat chatty\n",
    "  \n",
    "  - Make them chattier + produce more info!\n",
    "  \n",
    "* Build your own calculator (appears in J3_Unid_Calculator.ipynb)\n",
    "\n",
    "  - further seal knowledge of lexers (RE based) and parsers (CFG based) in your minds\n",
    "  \n",
    "## YOUR TASKS\n",
    "\n",
    "Your tasks will be denoted by \"---> YOUR TASK n <---\" below"
   ]
  },
  {
   "cell_type": "code",
   "execution_count": null,
   "metadata": {
    "run_control": {
     "frozen": false,
     "read_only": false
    }
   },
   "outputs": [],
   "source": [
    "\n",
    "#----TURN THESE ON IF RUNNING ON JOVE ON COLAB BY REMOVING THE ''' ... '''\n",
    "\n",
    "'''\n",
    "! if [ ! -d Jove ]; then git clone https://github.com/anon-Jove/Jove Jove; fi\n",
    "import sys\n",
    "sys.path.append('./Jove')\n",
    "sys.path.append('./Jove/jove')\n",
    "'''\n",
    "\n",
    "#----TURN THESE ON IF RUNNING ON OWN INSTALLATION (default turned-on)\n",
    "\n",
    "import sys\n",
    "sys.path[0:0] = ['../..',\n",
    "                 '../../3rdparty',\n",
    "                 '../../..',\n",
    "                 '../../../3rdparty',\n",
    "                 '../../../..',\n",
    "                 '../../../../3rdparty'\n",
    "                ] # Put these at the head of the search path\n",
    "\n",
    "from jove.DotBashers import *\n",
    "from jove.Def_md2mc_chatty import *     # Change this to the _chatty file\n",
    "from jove.Def_DFA   import *\n",
    "from jove.LangDef   import *\n",
    "from jove.Def_RE2NFA_chatty   import *  # Change this to the _chatty file\n",
    "from jove.Def_NFA   import *"
   ]
  },
  {
   "cell_type": "markdown",
   "metadata": {
    "run_control": {
     "frozen": false,
     "read_only": false
    }
   },
   "source": [
    "# Make RE2NFA and md2mc chatty\n",
    "\n",
    "* Copy Def_RE2NFA.py into Def_RE2NFA_chatty.py and Def_md2mc.py into Def_md2mc_chatty.py\n",
    "\n",
    "* Edit the \"_chatty.py\" files to tell user when\n",
    "\n",
    "  - a token is being picked up\n",
    "  \n",
    "  - when a CFG rule is getting finished\n",
    "  \n",
    "* Examples are provided to the student\n",
    "\n",
    "  - THEIR TASK: Finish making these routines as chatty and informative as they can!\n",
    "  \n",
    "  - Their printout should not be a mess; rather:\n",
    "  \n",
    "     * It must include extra info regarding the token obtained\n",
    "     \n",
    "     * Then can increase the indentation level based on the level at which a rule is parsed (if possible)"
   ]
  },
  {
   "cell_type": "code",
   "execution_count": null,
   "metadata": {
    "run_control": {
     "frozen": false,
     "read_only": false
    }
   },
   "outputs": [],
   "source": [
    "re2nfa(\"a+b\")"
   ]
  },
  {
   "cell_type": "markdown",
   "metadata": {
    "run_control": {
     "frozen": false,
     "read_only": false
    }
   },
   "source": [
    "## This is the main design the students will work on!!\n",
    "\n",
    " ---> YOUR TASK 1 is below <---"
   ]
  },
  {
   "cell_type": "code",
   "execution_count": null,
   "metadata": {
    "run_control": {
     "frozen": false,
     "read_only": false
    }
   },
   "outputs": [],
   "source": [
    "Db01XORe01 = md2mc('''\n",
    "!! \n",
    "!!- The overall algorithm is to case-analyze on whether we began with a 01 or not.\n",
    "!!- Please see the state names assigned. Once you understand how the state names were designed,\n",
    "!!- the transitions should make sense.  \n",
    "!!\n",
    "DFA                     !! This DFA chooses meaningful state names and records the last bit seen\n",
    " \n",
    "I    :   0   -> S_0     !! No acceptance upon seeing a 0; record in state name S0\n",
    " \n",
    "FMNE_1 : 0 -> FMNE_0\n",
    "''')"
   ]
  },
  {
   "cell_type": "code",
   "execution_count": null,
   "metadata": {
    "run_control": {
     "frozen": false,
     "read_only": false
    }
   },
   "outputs": [],
   "source": []
  }
 ],
 "metadata": {
  "kernelspec": {
   "display_name": "Python 3",
   "language": "python",
   "name": "python3"
  },
  "language_info": {
   "codemirror_mode": {
    "name": "ipython",
    "version": 3
   },
   "file_extension": ".py",
   "mimetype": "text/x-python",
   "name": "python",
   "nbconvert_exporter": "python",
   "pygments_lexer": "ipython3",
   "version": "3.7.3"
  },
  "toc": {
   "colors": {
    "hover_highlight": "#DAA520",
    "running_highlight": "#FF0000",
    "selected_highlight": "#FFD700"
   },
   "moveMenuLeft": true,
   "nav_menu": {
    "height": "318px",
    "width": "252px"
   },
   "navigate_menu": true,
   "number_sections": true,
   "sideBar": true,
   "threshold": 4,
   "toc_cell": false,
   "toc_section_display": "block",
   "toc_window_display": false,
   "widenNotebook": false
  }
 },
 "nbformat": 4,
 "nbformat_minor": 1
}
