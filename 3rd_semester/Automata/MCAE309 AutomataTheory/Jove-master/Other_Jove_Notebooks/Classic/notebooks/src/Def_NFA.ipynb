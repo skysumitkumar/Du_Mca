{
 "cells": [
  {
   "cell_type": "code",
   "execution_count": null,
   "metadata": {
    "run_control": {
     "frozen": false,
     "read_only": false
    }
   },
   "outputs": [],
   "source": [
    "#~~~~~~~~~~~~~~~~~~~~~~~~~~~~~~~~~~~~~~~~~~~~~~~~~~~~~~~\n",
    "import sys\n",
    "\n",
    "#---- Leave these definitions ON if running on laptop\n",
    "#---- Else turn OFF by putting them between ''' ... '''\n",
    "\n",
    "sys.path[0:0] = ['../../../../..',  '../../../../../3rdparty',  \n",
    "                 '../../../..',  '../../../../3rdparty',  \n",
    "                 '../../..',     '../../../3rdparty', \n",
    "                 '../..',        '../../3rdparty',\n",
    "\t\t '..',           '../3rdparty' ]\n",
    "\n",
    "\n",
    "from jove.DotBashers import is_consistent_nfa\n",
    "from jove.TransitionSelectors import *\n",
    "from jove.SysConsts import *\n",
    "from jove.SystemImports import *\n",
    "from jove.ShrinkStates import *\n",
    "from jove.Def_DFA import mk_dfa  # used in nfa2dfa\n",
    " \n",
    "#---- Turn these definitions ON if running on COLAB by removing ''' ... '''\n",
    "#---- Else leave them OFF\n",
    "\n",
    "'''\n",
    "! if [ ! -d Jove ]; then git clone https://github.com/anon-Jove/Jove Jove; fi\n",
    "import sys\n",
    "sys.path.append('./Jove')\n",
    "sys.path.append('./Jove/jove')\n",
    "\n",
    "from jove.DotBashers import is_consistent_nfa\n",
    "from jove.TransitionSelectors import *\n",
    "from jove.SysConsts import *\n",
    "from jove.SystemImports import *\n",
    "from jove.ShrinkStates import *\n",
    "from jove.Def_DFA import mk_dfa  # used in nfa2dfa\n",
    " \n",
    "#display(HTML('<link rel=\"stylesheet\" href=\"//stackpath.bootstrapcdn.com/font-awesome/4.7.0/css/font-awesome.min.css\"/>'))\n",
    "'''\n",
    "\n",
    "#~~~~~~~~~~~~~~~~~~~~~~~~~~~~~~~~~~~~~~~~~~~~~~~~~~~~~~~\n",
    "\n",
    "\n",
    "\n",
    " \n"
   ]
  },
  {
   "cell_type": "markdown",
   "metadata": {
    "run_control": {
     "frozen": false,
     "read_only": false
    }
   },
   "source": [
    "# Definitions of NFA routines"
   ]
  },
  {
   "cell_type": "markdown",
   "metadata": {
    "editable": false,
    "run_control": {
     "frozen": false,
     "read_only": false
    }
   },
   "source": [
    " __We will follow Kozen and endow an NFA with multiple start states __\n",
    "\n",
    "This will allow the NFA to be more naturally handled. For instance, the reverse of a DFA is an NFA. When we reverse a DFA, all its final states become initial states of the NFA (that models the reversed language). There are 2 ways to handle this:\n",
    "\n",
    "1. Introduce a fake new initial state and jump from it via $\\varepsilon$ onto (what were the final state of the DFA).\n",
    "\n",
    "2. Don't introduce the fake new initial state, but rather allow the NFA to start from all of F being really its start state.\n",
    "\n",
    "We prefer the latter.\n",
    "\n",
    "__So now, following Kozen, we have__\n",
    "\n",
    "\n",
    "An NFA is a quintuple $(Q,\\Sigma,\\delta,Q_0,F)$, where:\n",
    "\n",
    "* $Q$ is a _finite nonempty_ set of states.\n",
    "\n",
    "* $\\Sigma$ is a _finite nonempty_ alphabet containing _symbols_.\n",
    "\n",
    "* $\\delta$ is a (partial)\n",
    "\ttransition function, containing a set of _transitions_. The transitions take\n",
    "    a pair from $Q\\times \\Sigma$ and return a __subset__ of states in $Q$. All this is succinctly\n",
    "    captured by writing\n",
    "    $\\delta: Q\\times \\Sigma \\rightarrow 2^Q$. \n",
    "    Here we use $2^Q$ to denote the powerset of $Q$.\n",
    "    \n",
    "  \n",
    "* $Q_0\\subseteq Q$, is __a set of initial states__.  Notice that we change from q0 (or $q_0$) which is what you find books such as Sipser and Linz using.\n",
    "\n",
    "\n",
    "* $F\\subseteq Q$ is a _finite_ (and _possibly empty_) set of\n",
    "\tfinal (or _accepting_) states. These are shown as double-circled nodes in the graph of a DFA. \n",
    " \n",
    "> There is no other change. I.e. $\\delta$ remains the same as before.\n",
    "> It is that when an NFA starts, it can find itself in a set of start states.\n",
    "> Most NFAs start from a __singleton__ Q0, which is then, effectively, an NFA\n",
    " that matches most books say.\n",
    "\n",
    "Some terminology:\n",
    "\n",
    "> We call $Q$,$\\Sigma$, $\\delta$, $Q_0$, and $F$ the **_traits_** of the NFA.\n",
    "\n",
    "> We will call an NFA **_structurally consistent_** or simply **\"consistent\"** if its traits pass the aforesaid checks.\n",
    "\n",
    "\n",
    "Here is how the checks will be broken down:\n",
    "\n",
    "* The supplied $\\delta$ function will be checked to see if it has allowed domain and range points. \n",
    " - The domain points must be a subset of $Q\\times \\Sigma$\n",
    " - The range points must be a subset of $2^Q$\n",
    "  We do no insist that the supplied $\\delta$ be total.\n",
    "    \n",
    "* $Q_0\\subseteq Q$, is _the_ initial state.\n",
    "\n",
    "* $F\\subseteq Q$ is a _finite_ (and _possibly empty_) set of\n",
    "\tfinal (or _accepting_) states.  \n",
    "    \n",
    "We will often use the state set({}) to be the equivalent of a black-hole state for an NFA."
   ]
  },
  {
   "cell_type": "markdown",
   "metadata": {
    "ExecuteTime": {
     "end_time": "2017-05-04T16:48:47.563840Z",
     "start_time": "2017-05-04T16:48:47.552840Z"
    },
    "code_folding": [],
    "run_control": {
     "frozen": false,
     "read_only": false
    }
   },
   "source": [
    "# Making NFA"
   ]
  },
  {
   "cell_type": "code",
   "execution_count": null,
   "metadata": {
    "code_folding": [],
    "editable": false,
    "run_control": {
     "frozen": false,
     "read_only": false
    }
   },
   "outputs": [],
   "source": [
    "def mk_nfa(Q, Sigma, Delta, Q0, F):\n",
    "    \"\"\"Check for structural consistency of the given NFA traits.\n",
    "       If the check passes, make and return an NFA.\n",
    "    \"\"\"\n",
    "    newNFA = {\"Q\":Q, \"Sigma\":Sigma, \"Delta\":Delta, \"Q0\":Q0, \"F\":F}\n",
    "    assert(\n",
    "        is_consistent_nfa(newNFA)\n",
    "    ), \"NFA given to mk_nfa is not consistent. Plz check its components.\"\n",
    "    return(newNFA)\n"
   ]
  },
  {
   "cell_type": "code",
   "execution_count": null,
   "metadata": {
    "code_folding": [],
    "run_control": {
     "frozen": false,
     "read_only": false
    }
   },
   "outputs": [],
   "source": [
    "\n",
    "def totalize_nfa(N):\n",
    "    \"\"\"In : NFA N\n",
    "       Out: Totalized NFA\n",
    "       Given a partially specified NFA, make it total by \n",
    "       transitioning to state set({}) wherever the incoming \n",
    "       Delta has gaps. This is done for an NFA only for things \n",
    "       like printing.\n",
    "    \"\"\"\n",
    "    assert(\n",
    "        is_consistent_nfa(N)\n",
    "    ), \"NFA given to totalize_nfa is not consistent.\"\n",
    "    Sigma_w_Eps = (N[\"Sigma\"] | {\"\"}) # Extended Alphabet\n",
    "    add_delta = { (q,c) : set({}) \n",
    "                   for q in N[\"Q\"] \n",
    "                   for c in Sigma_w_Eps \n",
    "                   if (q,c) not in N[\"Delta\"] }\n",
    "    #\n",
    "    add_delta.update(N[\"Delta\"])\n",
    "    #\n",
    "    return {\"Q\"    : N[\"Q\"],\n",
    "            \"Sigma\": N[\"Sigma\"],\n",
    "            \"Delta\": add_delta,\n",
    "            \"Q0\"   : N[\"Q0\"],\n",
    "            \"F\"    : N[\"F\"]}"
   ]
  },
  {
   "cell_type": "code",
   "execution_count": null,
   "metadata": {
    "run_control": {
     "frozen": false,
     "read_only": false
    }
   },
   "outputs": [],
   "source": [
    "def apply_h_dfa(D, h):\n",
    "    \"\"\"Given a DFA D and a homomorphism h on Sigma* (as a lambda from chars to\n",
    "       chars) where Sigma is D's alphabet, return an NFA with the homomorphism\n",
    "       applied to D (essentially to D's Sigma and Delta).\n",
    "    \"\"\"\n",
    "    deltaL = list(\n",
    "        map(lambda x: ((x[0][0], h(x[0][1])), x[1]), D[\"Delta\"].items()))\n",
    "    # If we have two targets for same key, make a set of the targets\n",
    "    NFADelta = dict([(x, {y for (z,y) in deltaL if z==x}) for (x,w) in deltaL])     \n",
    "    return mk_nfa(\n",
    "    D[\"Q\"], \n",
    "    set(map(h,D[\"Sigma\"])),\n",
    "    NFADelta,\n",
    "    {D[\"q0\"]},\n",
    "    D[\"F\"])    "
   ]
  },
  {
   "cell_type": "markdown",
   "metadata": {
    "editable": false,
    "run_control": {
     "frozen": false,
     "read_only": false
    }
   },
   "source": [
    "# Stepping and Running NFA\n",
    "\n",
    "Now that we've defined NFA and allied actions such as consistency checking and printing, let's write functions to step and run them.\n",
    "\n",
    "* How the state transition function $\\delta$ \"works\"\n",
    "  - captured in step_nfa"
   ]
  },
  {
   "cell_type": "code",
   "execution_count": null,
   "metadata": {
    "code_folding": [],
    "editable": false,
    "run_control": {
     "frozen": false,
     "read_only": false
    }
   },
   "outputs": [],
   "source": [
    "def step_nfa(N, q, c):\n",
    "    \"\"\"In : N (consistent NFA)\n",
    "            q (state in N)\n",
    "            c (symbol in N's sigma or \"\")\n",
    "       Out: The set of states reached via N's Delta.\n",
    "       EClosure is NOT performed.\n",
    "       If the move is not defined, return {}.\n",
    "    \"\"\"    \n",
    "    assert(\n",
    "        c in (N[\"Sigma\"] | {\"\"})\n",
    "    ), \"c given to step_nfa not in Sigma.\"\n",
    "    assert(\n",
    "        q in  N[\"Q\"]\n",
    "    ), \"q given to step_nfa not in Q.\"\n",
    "    \n",
    "    \n",
    "    # We have to run it wrt the total version of the NFA. \n",
    "    # Since that is expensive to do each time, special-case this check.                                                               \n",
    "    if (q,c) in N[\"Delta\"].keys():\n",
    "        return  N[\"Delta\"][(q,c)]\n",
    "    else:\n",
    "        # If a move is undefined, it is a transition to the empty set\n",
    "        return  set({})  "
   ]
  },
  {
   "cell_type": "markdown",
   "metadata": {
    "editable": false,
    "run_control": {
     "frozen": false,
     "read_only": false
    }
   },
   "source": [
    "## Now we define the $\\hat{\\delta}$ function that runs an NFA on a string\n",
    "\n",
    "* This is captured in run_nfa\n",
    "  \n",
    "     * This is more elaborate than with a DFA because we need to account for Epsilon moves\n",
    "     * So we will define routines to compute the E-closure of a state\n",
    "     \n",
    "       - The set of states reachable by traversing Epsilon edges\n",
    "  \n",
    "* Our algorithm is this:\n",
    "\n",
    "     * Eclose the given set of states S\n",
    "         - If given string s is \"\", we are done (retn Eclosed set of states)\n",
    "         - Else take step via s[0]; Eclose it to get S'; run s[1:] on S'"
   ]
  },
  {
   "cell_type": "code",
   "execution_count": null,
   "metadata": {
    "editable": false,
    "run_control": {
     "frozen": false,
     "read_only": false
    }
   },
   "outputs": [],
   "source": [
    "def run_nfa(N, S, s, chatty=False):\n",
    "    \"\"\"In : N (consistent NFA)\n",
    "            S (SET of states S belonging to N's states)\n",
    "            s (string over N's alphabet)\n",
    "       Out: SET of states reached after processing s.\n",
    "       Run the NFA starting with a SET of states S on string,\n",
    "       with EClosure wherever necessary. Return set of states reached.\n",
    "    \"\"\"       \n",
    "    # First EClose the given set of states S.\n",
    "    S = Eclosure(N, S)\n",
    "    if s==\"\":\n",
    "        # run_nfa returns S if nothing to process\n",
    "        return S\n",
    "    else:\n",
    "        # else one step via s[0]; return Eclosure of the resulting states\n",
    "        return run_nfa(N, ec_step_nfa(N, S, s[0], chatty), s[1:], chatty)"
   ]
  },
  {
   "cell_type": "code",
   "execution_count": null,
   "metadata": {
    "run_control": {
     "frozen": false,
     "read_only": false
    }
   },
   "outputs": [],
   "source": [
    "def ec_step_nfa(N, S, c, chatty=False):\n",
    "    \"\"\"Helper for run_nfa\n",
    "       ---\n",
    "       In : N (consistent NFA)\n",
    "            S (EClosed set of states)\n",
    "            c (character in N's alphabet; does not equal \"\")\n",
    "            chatty (Boolean): Verbose-mode optional parameter\n",
    "       Return Eclosure of all states one \"c\" step away from S.   \n",
    "    \"\"\"\n",
    "    post_c_state_sets = list(map(lambda st: step_nfa(N, st, c), S))\n",
    "                                                                              \n",
    "    # Take union of state sets contained in post_c_states\n",
    "    # basis case set({}) added to make reduction succeed                                \n",
    "    post_c_states = reduce(lambda x,y: set(x) | set(y), \n",
    "                           post_c_state_sets, \n",
    "                           set({}))\n",
    "        \n",
    "    # Eclose from post-c-states                                                                          \n",
    "    Eclosed_post_c_states = Eclosure(N, post_c_states)\n",
    "    \n",
    "    # Return final set of states after second Eclosure  \n",
    "    if chatty:\n",
    "        print(\"States reached = \", Eclosed_post_c_states)\n",
    "    return Eclosed_post_c_states\n",
    "\n",
    "def Eclosure(N, S):\n",
    "    \"\"\"In : N (consistent NFA)\n",
    "            S (set of states of NFA to be Eclosed)\n",
    "       Out: Eclosure of S (set of states).\n",
    "    \"\"\"\n",
    "    return Echelp(N, S, set({}))\n",
    "\n",
    "def Echelp(Nfa, Allsofar, Previous):\n",
    "    \"\"\"Helper for Eclosure\n",
    "       ---\n",
    "       In : Nfa (consistent NFA)\n",
    "            Allsofar (set of states reached so far)\n",
    "            Previous (set of states reached previously)                                     \n",
    "       len(N[\"Delta\"].items()) is the longest chain in the NFA;\n",
    "       We will end up iterating that much. \n",
    "    \"\"\"\n",
    "    # Fixpoint reached; return Allsofar\n",
    "    if (Allsofar == Previous):\n",
    "        return Allsofar\n",
    "    else:\n",
    "        # When we apply step_nfa, we get state sets; \n",
    "        # form a list of those.\n",
    "        post_eps_state_sets = list(map(lambda q: \n",
    "                                       step_nfa(Nfa, q, \"\"), \n",
    "                                       Allsofar))\n",
    "        \n",
    "        # Now OR-reduce 'em; basis case of set({}) \n",
    "        # added to make reduction succeed                           \n",
    "        post_eps_states = reduce(lambda x, y: set(x) | set(y), \n",
    "                                 post_eps_state_sets,\n",
    "                                 set({}))\n",
    "            \n",
    "        # Recurse till fixpoint reached\n",
    "        return Echelp(Nfa      = Nfa, \n",
    "                      Allsofar = set(post_eps_states) | \n",
    "                                 set(Allsofar), \n",
    "                      Previous = Allsofar)"
   ]
  },
  {
   "cell_type": "markdown",
   "metadata": {
    "editable": false,
    "run_control": {
     "frozen": false,
     "read_only": false
    }
   },
   "source": [
    "Now we define NFA acceptance. We provide a silent version and a chatty (verbose) version called accepts_nfav that tells you HOW the acceptance was concluded."
   ]
  },
  {
   "cell_type": "code",
   "execution_count": null,
   "metadata": {
    "run_control": {
     "frozen": false,
     "read_only": false
    }
   },
   "outputs": [],
   "source": [
    "def accepts_nfa(N, s, chatty=False):\n",
    "    \"\"\"NFA acceptance.\n",
    "       Input : N : given NFA\n",
    "               s : given string\n",
    "               chatty : Boolean (prints accepting path,\n",
    "                        which is the state-sets encountered).\n",
    "    \"\"\"\n",
    "    Q0 = N[\"Q0\"]\n",
    "    if (run_nfa(N, Q0, s, chatty) & N[\"F\"]) != set({}):\n",
    "        if chatty:\n",
    "            print(\"NFA accepts '\" + s + \n",
    "                  \"' by reaching \" + \n",
    "                  str(run_nfa(N, Q0, s, False)))\n",
    "        return True\n",
    "    else:\n",
    "        if chatty:\n",
    "            print(\"NFA rejects '\" + s + \"'\")\n",
    "        return False"
   ]
  },
  {
   "cell_type": "markdown",
   "metadata": {
    "editable": false,
    "run_control": {
     "frozen": false,
     "read_only": false
    }
   },
   "source": [
    "# NFA to DFA conversion\n",
    "\n",
    "This is one of the most important of NFA-related operations. It will have a lot in common with running NFA where the computation of EClosure was involved in every step.\n",
    "\n"
   ]
  },
  {
   "cell_type": "code",
   "execution_count": null,
   "metadata": {
    "run_control": {
     "frozen": false,
     "read_only": false
    }
   },
   "outputs": [],
   "source": [
    "def nfa2dfa(N, STATENAME_MAXSIZE=20): #--default state size kept\n",
    "    \"\"\"In : N (consistent NFA), and optional STATENAME_MAXSIZE\n",
    "            for the generated DFA states\n",
    "       Out: A consistent DFA that is language-equivalent to N.\n",
    "    \"\"\"\n",
    "    assert(\n",
    "        is_consistent_nfa(N)\n",
    "    ), \"nfa2dfa was given an inconsistent NFA.\"\n",
    "    # EClose the starting state of the NFA\n",
    "    EC = Eclosure(N, N[\"Q0\"])\n",
    "    return n2d(Frontier=[EC], Visited=[EC], Delta=dict({}), Nfa=N,\n",
    "                STATENAME_MAXSIZE=STATENAME_MAXSIZE)"
   ]
  },
  {
   "cell_type": "code",
   "execution_count": null,
   "metadata": {
    "run_control": {
     "frozen": false,
     "read_only": false
    }
   },
   "outputs": [],
   "source": [
    "def n2d(Frontier, Visited, Delta, Nfa, STATENAME_MAXSIZE=20):\n",
    "    \"\"\"Helper for nfa2dfa.\n",
    "       ---\n",
    "       In : Frontier (list of state sets; initially Eclosed Q0)\n",
    "            Visited  (list of visited state sets; initially Eclosed Q0)\n",
    "            Delta    (the DFA transition function being formed)\n",
    "            Nfa      (the NFA being converted)\n",
    "            STATENAME_MAXSIZE : number\n",
    "       Helper to nfa2dfa. Given a (BFS) frontier, a Visited\n",
    "       set of states, the Delta being formed, and NFA Nfa, see\n",
    "       if all new moves are in Visited: \n",
    "         do last gasp of Delta update; make and return a DFA;\n",
    "       else: extend Frontier, Visited, Delta; recurse.\n",
    "    \"\"\"\n",
    "    All_c_Moves = [ ((Q,c),ec_step_nfa(Nfa,Q,c)) \n",
    "                   for Q in Frontier \n",
    "                   for c in Nfa[\"Sigma\"] ]\n",
    "    New_c_Moves = list(filter(lambda QcQ: trTrg(QcQ) not in Visited, \n",
    "                              All_c_Moves))  \n",
    "    if New_c_Moves == []:\n",
    "        # Add last-gasp c-moves that curl back!\n",
    "        last_gasp_c_moves = dict([ ((mkSSnam(Qfrom),c),mkSSnam(Qto)) \n",
    "                                  for ((Qfrom, c), Qto) in All_c_Moves ])\n",
    "        Delta.update(last_gasp_c_moves)\n",
    "                  \n",
    "        # DFA states are visited states\n",
    "        DFA_Q = { mkSSnam(Q) for Q in Visited }\n",
    "                  \n",
    "        # Retain alphabet\n",
    "        DFA_Sigma = Nfa[\"Sigma\"]\n",
    "                  \n",
    "        # Delta is ready to go\n",
    "        DFA_Delta = Delta\n",
    "                  \n",
    "        # DFA starts at Eclosure of Nfa's Q0 set of states\n",
    "        DFA_q0 = mkSSnam(Eclosure(Nfa, Nfa[\"Q0\"]))\n",
    "                  \n",
    "        # DFA's final states are those in visited that contain an NFA \n",
    "        # F-state but don't retain any empty sets, in case the NFA given \n",
    "        # has no F-states!\n",
    "        # This is another corner-case (i.e. don't shove-in black hole \n",
    "        # states!)\n",
    "        DFA_F = set(map(lambda Q: mkSSnam(Q), \n",
    "                        filter(lambda Q: (Nfa[\"F\"]&Q) != set({}), \n",
    "                               Visited)))\n",
    "                  \n",
    "        # Make the DFA; send it to the DFA-shrink to bask ugly long \n",
    "        # state names...\n",
    "        return shrink_dfastates(mk_dfa(DFA_Q, \n",
    "                                       DFA_Sigma, \n",
    "                                       DFA_Delta, \n",
    "                                       DFA_q0, \n",
    "                                       DFA_F),\n",
    "                               STATENAME_MAXSIZE=STATENAME_MAXSIZE)\n",
    "    else:\n",
    "        newFrontier = list(map(lambda QcQ: trTrg(QcQ), New_c_Moves)) \n",
    "        newVisited = Visited + newFrontier\n",
    "                  \n",
    "        # Even though the NFA has not closed back on itself, we MUST \n",
    "        # accommodate for the \"curl-backs\" along the way !!  Thus, run it\n",
    "        # over All_c_Moves which may include \"partial revisits along the \n",
    "        # way\". We MUST pick up those curl-backs!\n",
    "        NewMovesDelta = dict([ ((mkSSnam(Qfrom),c),mkSSnam(Qto)) \n",
    "                              for ((Qfrom, c), Qto) in All_c_Moves ]) \n",
    "        Delta.update(NewMovesDelta)\n",
    "        return n2d(newFrontier, newVisited, Delta, Nfa,\n",
    "                  STATENAME_MAXSIZE=STATENAME_MAXSIZE)\n",
    "                                  \n",
    "#---NFA to DFA"
   ]
  },
  {
   "cell_type": "markdown",
   "metadata": {
    "editable": false,
    "run_control": {
     "frozen": false,
     "read_only": false
    }
   },
   "source": [
    "# Brzozowski's DFA Minimization\n",
    "\n",
    "Picking up from our earlier discussions, to minimize a DFA using Brzozowski's algorithm, here are the steps:\n",
    "\n",
    "* Make sure that the given DFA has no unreachable states\n",
    "* Reverse the DFA\n",
    "* Determinize it\n",
    "* Reverse that DFA\n",
    "* Determinize it\n",
    "\n",
    "Thus we need to write a routine to reverse a DFA. We already have a way to ensure that a DFA does not have unreachable states (in another Jupyter notebook; we won't bother to include it here, and trust the user to always provide such DFA only).\n",
    "\n",
    "We can observe that if a DFA has black-hole states, then those states won't matter in the reversed machine (reversed NFA). Thus, we can work with __partial__ dfa (i.e., DFA that are partially consistent)."
   ]
  },
  {
   "cell_type": "markdown",
   "metadata": {
    "editable": false,
    "run_control": {
     "frozen": false,
     "read_only": false
    }
   },
   "source": [
    "## DFA reversal"
   ]
  },
  {
   "cell_type": "code",
   "execution_count": null,
   "metadata": {
    "run_control": {
     "frozen": false,
     "read_only": false
    }
   },
   "outputs": [],
   "source": [
    "def inSets(D,trg,ch):\n",
    "    \"\"\"Helper for rev_dfa\n",
    "       ---\n",
    "       In : D   = partially consistent dfa,\n",
    "            trg = a target state in D[\"q\"]\n",
    "            ch  = a member of D[\"Sigma\"]\n",
    "       Out: a set of states. { q s.t. Delta[q,ch] == trg }\n",
    "    \"\"\"\n",
    "    return { q for q in D[\"Q\"] if D[\"Delta\"][(q,ch)] == trg }\n",
    "\n",
    "def rev_dfa(D):\n",
    "    \"\"\"In : D = a partially consistent DFA without any unreachable states.\n",
    "       Out: A consistent NFA whose language is D's language reversed.\n",
    "    \"\"\"\n",
    "    # 1. Given that NFAs start from a SET of states, we already have that\n",
    "    #   info. No need to add any transitions from \"a new initial state\" \n",
    "    #   etc\n",
    "    \n",
    "    # 2. Now add the inSets of each state as the NFA next set of states\n",
    "    NDict = { (q,ch) : inSets(D,q,ch) \n",
    "              for q in D[\"Q\"] \n",
    "              for ch in D[\"Sigma\"] }\n",
    "    \n",
    "    # Notice that we retain D[\"Q\"] and start from Q0 = D[\"F\"]\n",
    "    # going backwards along NDict toward F_dfa = { D[\"q0\"] }\n",
    "    return mk_nfa(D[\"Q\"], D[\"Sigma\"], NDict, D[\"F\"], {D[\"q0\"]})"
   ]
  },
  {
   "cell_type": "code",
   "execution_count": null,
   "metadata": {
    "run_control": {
     "frozen": false,
     "read_only": false
    }
   },
   "outputs": [],
   "source": [
    "def min_dfa_brz(D):\n",
    "    \"\"\"Minimize a DFA as per Brzozowski's algorithm.\n",
    "    \"\"\"\n",
    "    return nfa2dfa(rev_dfa(nfa2dfa(rev_dfa(D))))"
   ]
  },
  {
   "cell_type": "code",
   "execution_count": null,
   "metadata": {
    "run_control": {
     "frozen": false,
     "read_only": false
    }
   },
   "outputs": [],
   "source": [
    "print('''You may use any of these help commands:\n",
    "help(mk_nfa)\n",
    "help(totalize_nfa)\n",
    "help(step_nfa)\n",
    "help(run_nfa)\n",
    "help(ec_step_nfa)\n",
    "help(Eclosure)\n",
    "help(Echelp)\n",
    "help(accepts_nfa)\n",
    "help(nfa2dfa)\n",
    "help(n2d)\n",
    "help(inSets)\n",
    "help(rev_dfa)\n",
    "help(min_dfa_brz)\n",
    "''')"
   ]
  }
 ],
 "metadata": {
  "kernelspec": {
   "display_name": "Python 3",
   "language": "python",
   "name": "python3"
  },
  "language_info": {
   "codemirror_mode": {
    "name": "ipython",
    "version": 3
   },
   "file_extension": ".py",
   "mimetype": "text/x-python",
   "name": "python",
   "nbconvert_exporter": "python",
   "pygments_lexer": "ipython3",
   "version": "3.7.3"
  },
  "toc": {
   "colors": {
    "hover_highlight": "#DAA520",
    "running_highlight": "#FF0000",
    "selected_highlight": "#FFD700"
   },
   "moveMenuLeft": true,
   "nav_menu": {
    "height": "318px",
    "width": "252px"
   },
   "navigate_menu": true,
   "number_sections": true,
   "sideBar": true,
   "threshold": 4,
   "toc_cell": false,
   "toc_section_display": "block",
   "toc_window_display": false,
   "widenNotebook": false
  }
 },
 "nbformat": 4,
 "nbformat_minor": 1
}
