{
 "cells": [
  {
   "cell_type": "markdown",
   "metadata": {
    "run_control": {
     "frozen": false,
     "read_only": false
    }
   },
   "source": [
    "# Turing Machines"
   ]
  },
  {
   "cell_type": "markdown",
   "metadata": {
    "run_control": {
     "frozen": false,
     "read_only": false
    }
   },
   "source": [
    "This module encodes non-deterministic Turing Machines with a doubly-infinite tape (call it the \"dub TM\" :-) ). We begin with a tape containing exactly the given input and let the computation begin facing the left-end of the given input string.\n",
    "\n",
    "The given input string could be empty (epsilon). This situation translates to the TM's initial head facing a sea of blanks on the tape -- both to its left and to its right. No amount of \"sniff-check\" will let you sniff anything other than a sea (of blanks).\n",
    "\n",
    "Each attempt to ``fall off either end of the tape'' is met with an allocation of some number (currently 8) of extra blank characters. Halting configurations as well as paths leading to them are maintained. All executions are bounded by a constant __fuel__ that the user can progressively increase till the desired acceptances are seen (or the user surmises nontermination). This is like the gas in your tank! When you run out of gas, you are forced to halt.\n",
    "\n",
    "We maintain nsteps as remaining \"fuel\" per thread (non-deterministic) of execution. When a thread runs out of fuel, it stops running. A run ends with a printout of the terminal configurations plus the fuel remaining per thread. This is ideal from the point of explaining nondeterministic runtimes. We elaborate now.\n",
    "\n",
    "An NDTM accepts a string in nondeterminstic polynomial time (NP) if there is an accepting computational history of polynomial length. In our NDTM simulation, you'll see the remaining fuel per thread. Any thread with the least fuel consumption and still accepts is the one we go by in measuring runtimes!"
   ]
  },
  {
   "cell_type": "code",
   "execution_count": null,
   "metadata": {
    "run_control": {
     "frozen": false,
     "read_only": false
    }
   },
   "outputs": [],
   "source": [
    "#~~~~~~~~~~~~~~~~~~~~~~~~~~~~~~~~~~~~~~~~~~~~~~~~~~~~~~~\n",
    "import sys\n",
    "\n",
    "#---- Leave these definitions ON if running on laptop\n",
    "#---- Else turn OFF by putting them between ''' ... '''\n",
    "\n",
    "sys.path[0:0] = ['../../../../..',  '../../../../../3rdparty',  \n",
    "                 '../../../..',  '../../../../3rdparty',  \n",
    "                 '../../..',     '../../../3rdparty', \n",
    "                 '../..',        '../../3rdparty',\n",
    "\t\t '..',           '../3rdparty' ]\n",
    "\n",
    "\n",
    "from jove.SystemImports       import *\n",
    "from jove.TransitionSelectors import *\n",
    " \n",
    "#---- Turn these definitions ON if running on COLAB by removing ''' ... '''\n",
    "#---- Else leave them OFF\n",
    "\n",
    "'''\n",
    "! if [ ! -d Jove ]; then git clone https://github.com/anon-Jove/Jove Jove; fi\n",
    "import sys\n",
    "sys.path.append('./Jove')\n",
    "sys.path.append('./Jove/jove')\n",
    "\n",
    "from jove.SystemImports       import *\n",
    "from jove.TransitionSelectors import *\n",
    " \n",
    "#display(HTML('<link rel=\"stylesheet\" href=\"//stackpath.bootstrapcdn.com/font-awesome/4.7.0/css/font-awesome.min.css\"/>'))\n",
    "'''\n",
    "\n",
    "#~~~~~~~~~~~~~~~~~~~~~~~~~~~~~~~~~~~~~~~~~~~~~~~~~~~~~~~\n",
    "\n",
    "\n",
    "\n",
    " \n"
   ]
  },
  {
   "cell_type": "markdown",
   "metadata": {
    "collapsed": true,
    "run_control": {
     "frozen": false,
     "read_only": false
    }
   },
   "source": [
    "## Basic Definitions\n",
    "\n",
    "Turing Machines are structures \n",
    "\n",
    "  $(Q, Sigma, Gamma, Delta, q0, B, F)$\n",
    "  \n",
    "where\n",
    "\n",
    " * $Q$       : Finite non-empty set of states\n",
    "\n",
    " * $Sigma$   : Finite non-empty input alphabet\n",
    "\n",
    " * $Gamma$   : Finite non-empty tape alphabet (subsumes Sigma, so that the user-given input can be written on the tape; also, $Gamma$ always includes $B$, representing an empty space (``blank'') on the tape).\n",
    " \n",
    "   - Computations are set up by writing the user-given input on the tape\n",
    "   \n",
    "   - The portion of the tape before and after the user input is filled with an infinite **sea of blanks** (we allocate it on demand).\n",
    "   \n",
    "       - Note: In our TMs, the blank character \n",
    "       is user-selectable. The preferred \n",
    "         blank symbol is \".\" (dot).\n",
    "\n",
    " * $Delta$   : A transition function that takes a state, a current tape\n",
    " symbol being scanned\n",
    "\n",
    "$Delta$'s signature is\n",
    "       \n",
    "$(Q \\times Gamma) \\rightarrow P(Q \\times Gamma \\times \\{L,R,S\\} )$\n",
    "\n",
    "This means that the TM, in state q, while scanning tape symbol s will choose one of the (q1, g, Dir) tripes. Here, q1 is the next control state, is the new tape symbol that replaces what's being looked at, and Dir is one of Left, Right, or Same, encoded by \"L\", \"R\", or \"S\". \n",
    "\n",
    "A TM is ``stuck'' if it cannot fire __any__ transition from a given configuration. Such terminal configurations are halting configurations with a __reject__ status. All final states are also terminal configurations with an __accept__ status.\n",
    " \n",
    "\n",
    "## Computation wrt Instantaneous Descriptions (ID)\n",
    "\n",
    "Let us define the transition function (transition table) as follows:\n",
    "\n",
    "* { (q, g) : { (q1, g1, D1), (q2, g2, D2), ... }\n",
    "\n",
    "An ID of a TM is, mathematically, a triple\n",
    "\n",
    "     (q, tape, position-of-tape-being-ogled-at)\n",
    " \n",
    "For our (more practical) TM, the ID is a quadruple\n",
    "\n",
    "     (q, hi, tape, fuel)\n",
    "    \n",
    "where \n",
    "\n",
    "- q is the present control state of the TM,\n",
    "\n",
    "- hi is the head index (into the tape, \n",
    "treating index=0 as the leftmost position of the tape).\n",
    "\n",
    "- tape is the string that constitutes the tape, and\n",
    "\n",
    "- fuel is the amount of \"fuel\" (computational steps) left\n",
    "  for this ID. \n",
    "  \n",
    "    - Note that  when we split IDs, we convey the same\n",
    "      amount of remaining fuel to the threads being spawned.\n",
    "\n",
    " \n",
    "\n",
    "Examples now follow, and they will drive home these ideas.\n"
   ]
  },
  {
   "cell_type": "markdown",
   "metadata": {
    "collapsed": true,
    "run_control": {
     "frozen": false,
     "read_only": false
    }
   },
   "source": [
    " Consistency checker(s) for TM have gone to DotBashers"
   ]
  },
  {
   "cell_type": "code",
   "execution_count": null,
   "metadata": {
    "run_control": {
     "frozen": false,
     "read_only": false
    }
   },
   "outputs": [],
   "source": [
    " TAPE_ALLOC_SIZE = 8\n",
    "def step_tm(T, q_hi_tape_fuel, path, haltList):\n",
    "    \"\"\"Helper for run_tm\n",
    "       ---\n",
    "       Inputs: * A TM T\n",
    "               * An ID -- a tuple q_hi_tape_fuel capturing\n",
    "               - q:  the present state of the TM\n",
    "               - hi: the head index that is initialized to 0.\n",
    "               - tape: The full string representing the tape. \n",
    "                 tape[0] is the element at the leftmost position.\n",
    "               - fuel: The amount of fuel left in this thread.\n",
    "                 When an NDTM splits, it imparts the currently\n",
    "                 remaining amount of fuel to all the progeny \n",
    "                 threads.\n",
    "               * A path that leads to q_hi_tape_fuel\n",
    "               * A haltList of halting configurations that \n",
    "                 builds up. Each halting config kept with path\n",
    "                 leading to it.\n",
    "       Output: A pair (l_id_path, nhaltList)\n",
    "               * l_id_path is a list  \n",
    "                  [ ((nq, nhi, ntape, nfuel), npath) ]   \n",
    "                where (nq, nhi, ntape, nfuel) is the new ID \n",
    "                and npath is the extended path reaching it.\n",
    "               * nhaltList is the extended halting config list.\n",
    "       Detail: When the head is about to fall off either end, we \n",
    "               allocate TAPE_ALLOC_SIZE blank characters, thus keeping\n",
    "               the head on the tape.\n",
    "    \"\"\" \n",
    "    (q, hi, tape, fuel) = q_hi_tape_fuel\n",
    "    extpath             = path + [q_hi_tape_fuel]\n",
    "    nl_id_path          = []\n",
    "    \n",
    "    if (hi == len(tape)):\n",
    "        # Going beyond end of allocated tape; allocate more!\n",
    "        print(\"Allocating \", TAPE_ALLOC_SIZE, \" tape cells to the RIGHT!\")\n",
    "        tape = tape + T[\"B\"]*TAPE_ALLOC_SIZE\n",
    "        \n",
    "    if (q, tape[hi]) not in T[\"Delta\"]:\n",
    "        # No move on (q, tape[hi]), so record halt lset; return\n",
    "        return (nl_id_path, haltList + [(q_hi_tape_fuel, path)])\n",
    "               \n",
    "    l_nq_ng_dirn      = T[\"Delta\"][(q, tape[hi])] \n",
    "    \n",
    "    for nq_ng_dirn in l_nq_ng_dirn:\n",
    "        (nq, ng, dirn) = nq_ng_dirn\n",
    "        # Head attempts to move to the left of the left-end\n",
    "        if (hi==0) and (dirn==\"L\"):\n",
    "            print(\"Allocating \", TAPE_ALLOC_SIZE, \" tape cells to the LEFT!\")\n",
    "            ntape = T[\"B\"]*TAPE_ALLOC_SIZE + ng + tape[1:]  \n",
    "            nhi   = TAPE_ALLOC_SIZE - 1  # Do the left move too!\n",
    "        else:\n",
    "            ntape = tape[0:hi] +  ng  + tape[hi+1:len(tape)]\n",
    "            nhi = (hi+1 if dirn==\"R\"\n",
    "                   else ((hi-1) if dirn==\"L\" \n",
    "                         else (hi if dirn==\"S\"\n",
    "                              else print(\"Illegal direction!\"))))\n",
    "           \n",
    "        if (fuel > 0):\n",
    "            nl_id_path += [((nq, nhi, ntape, fuel-1), extpath)]\n",
    "                \n",
    "    return (nl_id_path, haltList)\n",
    "\n",
    " \n",
    "       "
   ]
  },
  {
   "cell_type": "markdown",
   "metadata": {
    "run_control": {
     "frozen": false,
     "read_only": false
    }
   },
   "source": [
    "# Routines to run TM\n",
    "\n",
    "We now devise a routine to run an NDTM."
   ]
  },
  {
   "cell_type": "code",
   "execution_count": null,
   "metadata": {
    "run_control": {
     "frozen": false,
     "read_only": false
    }
   },
   "outputs": [],
   "source": [
    "def run_tm(T, tape, fuel):\n",
    "    \"\"\"Helper for explore_tm\n",
    "       ---\n",
    "       Given a TM T and a tape, run the TM for fuel steps\n",
    "       (e.g., gallons of gas in your tank), \n",
    "       collecting all halting configurations. \n",
    "       \n",
    "       Return a triple\n",
    "       (id_path_pairs, haltSet, nfuel) of\n",
    "        - all resulting id_path_pairs \n",
    "        - the final haltSet\n",
    "        - the remaining fuel\n",
    "       This way, one can find all accepting and rejecting \n",
    "       IDs in the final haltSet and print paths to them.\n",
    "    \"\"\"\n",
    "    q_hi_tape_fuel = (T[\"q0\"], 0, tape, fuel)\n",
    "    path         = []\n",
    "    l_id_path    = [ (q_hi_tape_fuel, path) ]\n",
    "    haltList     = [ ]\n",
    "    l_trunc_path = [] # List of truncated paths\n",
    "    \n",
    "    while (l_id_path != []):\n",
    "        (q_hi_tape_fuel, path)  = l_id_path[0] \n",
    "        (nq, nhi, ntape, nfuel) = q_hi_tape_fuel\n",
    "        if (nfuel > 0):\n",
    "            (nl_id_path, haltList) = step_tm(T, q_hi_tape_fuel, \n",
    "                                             path, haltList)\n",
    "            l_id_path = nl_id_path + l_id_path[1:]\n",
    "        else:\n",
    "            l_trunc_path += [path]\n",
    "            l_id_path = l_id_path[1:]\n",
    "    \n",
    "    return (l_trunc_path, haltList)\n"
   ]
  },
  {
   "cell_type": "code",
   "execution_count": null,
   "metadata": {
    "run_control": {
     "frozen": false,
     "read_only": false
    }
   },
   "outputs": [],
   "source": [
    "def explore_tm(T, tape, nsteps):\n",
    "    \"\"\"A handy routine to print the result of run_tm plus making \n",
    "       future extensions to explore run-results.\n",
    "    \"\"\"\n",
    "    (l_trunc_path, haltList) = run_tm(T, tape, nsteps)\n",
    "    if (haltList == []):\n",
    "        print(\"TM hasn't halted.\")\n",
    "        print(\"The truncated paths so far are as follows.\")\n",
    "        for trunc_path in l_trunc_path:\n",
    "            print(trunc_path)\n",
    "    else:\n",
    "        if (l_trunc_path != []):\n",
    "            print(\"There are still \", len(l_trunc_path), \"truncated paths.\")\n",
    "        print(\"Detailing the halted configs now.\")\n",
    "        \n",
    "        for (haltConfig, path) in haltList:\n",
    "            (haltState, head, tape, fuel) = haltConfig\n",
    "            if (haltState in T[\"F\"]):\n",
    "                print(\"Accepted at \", haltConfig)\n",
    "            else:\n",
    "                print(\"Rejected at \", haltConfig)\n",
    "            print(\" via .. \")\n",
    "            for id in path:\n",
    "                print(\" ->\", end=\"\")\n",
    "                print(id)\n",
    "            print(\" ->\", end=\"\")\n",
    "            print(haltConfig)\n",
    "   "
   ]
  },
  {
   "cell_type": "code",
   "execution_count": null,
   "metadata": {
    "run_control": {
     "frozen": false,
     "read_only": false
    }
   },
   "outputs": [],
   "source": [
    "print('''You may use any of these help commands:\n",
    "help(step_tm)\n",
    "help(run_tm)\n",
    "help(explore_tm)\n",
    "''')"
   ]
  }
 ],
 "metadata": {
  "kernelspec": {
   "display_name": "Python 3",
   "language": "python",
   "name": "python3"
  },
  "language_info": {
   "codemirror_mode": {
    "name": "ipython",
    "version": 3
   },
   "file_extension": ".py",
   "mimetype": "text/x-python",
   "name": "python",
   "nbconvert_exporter": "python",
   "pygments_lexer": "ipython3",
   "version": "3.7.3"
  },
  "toc": {
   "colors": {
    "hover_highlight": "#DAA520",
    "running_highlight": "#FF0000",
    "selected_highlight": "#FFD700"
   },
   "moveMenuLeft": true,
   "nav_menu": {
    "height": "318px",
    "width": "252px"
   },
   "navigate_menu": true,
   "number_sections": true,
   "sideBar": true,
   "threshold": 4,
   "toc_cell": false,
   "toc_section_display": "block",
   "toc_window_display": false,
   "widenNotebook": false
  }
 },
 "nbformat": 4,
 "nbformat_minor": 1
}
