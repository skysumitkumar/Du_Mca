{
 "cells": [
  {
   "cell_type": "code",
   "execution_count": null,
   "metadata": {
    "run_control": {
     "frozen": false,
     "read_only": false
    }
   },
   "outputs": [],
   "source": [
    "#~~~~~~~~~~~~~~~~~~~~~~~~~~~~~~~~~~~~~~~~~~~~~~~~~~~~~~~\n",
    "import sys\n",
    "\n",
    "# -- Detect if in Own Install or in Colab\n",
    "try:\n",
    "    import google.colab\n",
    "    OWN_INSTALL = False\n",
    "except:\n",
    "    OWN_INSTALL = True\n",
    "    \n",
    "if OWN_INSTALL:\n",
    "    \n",
    "  #---- Leave these definitions ON if running on laptop\n",
    "  #---- Else turn OFF by putting them between ''' ... '''\n",
    "\n",
    "  sys.path[0:0] = ['../../../../..',  '../../../../../3rdparty',  \n",
    "                   '../../../..',  '../../../../3rdparty',  \n",
    "                   '../../..',     '../../../3rdparty', \n",
    "                   '../..',        '../../3rdparty',\n",
    "                   '..',           '../3rdparty' ]\n",
    "\n",
    "else: # In colab\n",
    "  ! if [ ! -d Jove ]; then git clone https://github.com/anon-Jove/Jove Jove; fi\n",
    "  sys.path.append('./Jove')\n",
    "  sys.path.append('./Jove/jove')\n",
    "\n",
    "# -- common imports --\n",
    "from jove.DotBashers  import *\n",
    "from jove.Def_md2mc   import *\n",
    "from jove.Def_DFA     import addtosigma_dfa, totalize_dfa\n",
    "#~~~~~~~~~~~~~~~~~~~~~~~~~~~~~~~~~~~~~~~~~~~~~~~~~~~~~~~"
   ]
  },
  {
   "cell_type": "markdown",
   "metadata": {
    "run_control": {
     "frozen": false,
     "read_only": false
    }
   },
   "source": [
    " # This is now a universal markdown!"
   ]
  },
  {
   "cell_type": "markdown",
   "metadata": {
    "run_control": {
     "frozen": false,
     "read_only": false
    }
   },
   "source": [
    "This is now a markdown that supports all machines!"
   ]
  },
  {
   "cell_type": "markdown",
   "metadata": {
    "run_control": {
     "frozen": false,
     "read_only": false
    }
   },
   "source": [
    "# A Frequently Committee Mistake"
   ]
  },
  {
   "cell_type": "markdown",
   "metadata": {
    "run_control": {
     "frozen": false,
     "read_only": false
    }
   },
   "source": [
    "I am expecting a frequent mistake to be committed in PDA specifications. So I list this mistake and how to avoid it, first."
   ]
  },
  {
   "cell_type": "markdown",
   "metadata": {
    "run_control": {
     "frozen": false,
     "read_only": false
    }
   },
   "source": [
    "\"\"\"\n",
    "THE FOLLOWING PDA syntax is in error. The stack part should be a single string\n",
    "WITHOUT any blanks\n",
    "\n",
    "brpda = md2mc('''PDA\n",
    " I : '', '' ; S     -> M\n",
    " \n",
    " M : '', S  ; (S)   -> M    !! <--- THIS IS RIGHT\n",
    " \n",
    " M : '', S  ; ( S ) -> M    !! <--- THIS IS WRONG\n",
    " \n",
    " M : '', S  ; SS   -> M     !! <--- THIS IS RIGHT\n",
    " \n",
    " M : '', S  ; S S  -> M     !! <--- THIS IS WRONG\n",
    " \n",
    " M : '', S  ; e     -> M\n",
    " M : (,  (  ; ''    -> M\n",
    " M : ),  )  ; ''    -> M\n",
    " M : e,  e  ; ''    -> M\n",
    " M : '', #  ; ''    -> F''')\n",
    "dotObj_pda(brpda, FuseEdges=True)\n",
    "\"\"\"\n"
   ]
  },
  {
   "cell_type": "markdown",
   "metadata": {
    "run_control": {
     "frozen": false,
     "read_only": false
    }
   },
   "source": [
    "\"\"\"\n",
    "\n",
    "HERE IS ANOTHER MISTAKE!\n",
    "\n",
    "THE FOLLOWING PDA syntax is in error. The stack part should be a single string\n",
    "WITHOUT any blanks\n",
    "\n",
    "brpda = md2mc('''PDA\n",
    " I : '', '' ; S     -> M\n",
    " \n",
    " M : '', S  ; (S)   -> M         \n",
    " \n",
    " M : '', S  ; SS  -> M       \n",
    " \n",
    " M : '', S  ; 'e'     -> M  # <--- THIS IS WRONG: no need to quote e\n",
    " \n",
    " M : (,  '(' ; ''    -> M   # <--- THIS IS WRONG: no quotes around (\n",
    " \n",
    " M : ')',  )  ; ''    -> M  # <--- THIS IS WRONG: no quotes around )\n",
    " \n",
    " M : e,  e  ; ''    -> M\n",
    " \n",
    " M : '', '#'  ; ''    -> F''') # <--- THIS IS WRONG: no quotes around #\n",
    " \n",
    "dotObj_pda(brpda, FuseEdges=True)\n",
    "\n",
    "\n",
    "\"\"\""
   ]
  },
  {
   "cell_type": "code",
   "execution_count": null,
   "metadata": {
    "run_control": {
     "frozen": false,
     "read_only": false
    }
   },
   "outputs": [],
   "source": [
    "brpda = md2mc('''PDA\n",
    " I : '', '' ; S     -> M\n",
    " M : '', S  ; (S) -> M\n",
    " M : '', S  ; SS   -> M\n",
    " M : '', S  ; e     -> M\n",
    " M : (,  (  ; ''    -> M\n",
    " M : ),  )  ; ''    -> M\n",
    " M : e,  e  ; ''    -> M\n",
    " M : '', #  ; ''    -> F''')\n",
    "dotObj_pda(brpda) # <-- Ugh, without FuseEdges as a parameter, the drawing is a mess..."
   ]
  },
  {
   "cell_type": "code",
   "execution_count": null,
   "metadata": {
    "run_control": {
     "frozen": false,
     "read_only": false
    }
   },
   "outputs": [],
   "source": [
    "brpda = md2mc('''PDA\n",
    " I : '', '' ; S     -> M\n",
    " M : '', S  ; (S) -> M\n",
    " M : '', S  ; SS   -> M\n",
    " M : '', S  ; e     -> M\n",
    " M : (,  (  ; ''    -> M\n",
    " M : ),  )  ; ''    -> M\n",
    " M : e,  e  ; ''    -> M\n",
    " M : '', #  ; ''    -> F''')\n",
    "dotObj_pda(brpda, FuseEdges=True)  # <-- what a difference FuseEdges makes !!"
   ]
  },
  {
   "cell_type": "markdown",
   "metadata": {
    "run_control": {
     "frozen": false,
     "read_only": false
    }
   },
   "source": [
    "# We begin with several examples"
   ]
  },
  {
   "cell_type": "code",
   "execution_count": null,
   "metadata": {
    "run_control": {
     "frozen": false,
     "read_only": false
    }
   },
   "outputs": [],
   "source": [
    "ev0end1 = md2mc('''\n",
    "DFA\n",
    "I : 0 -> A\n",
    "A : 0 | 1 -> I\n",
    "I : 1 -> F\n",
    "F : 0 | 1 -> I\n",
    "''')\n",
    "dotObj_dfa(ev0end1)"
   ]
  },
  {
   "cell_type": "code",
   "execution_count": null,
   "metadata": {
    "run_control": {
     "frozen": false,
     "read_only": false
    }
   },
   "outputs": [],
   "source": [
    "ev0end1plus = addtosigma_dfa(ev0end1, {'2'})\n",
    "ev0end1plus"
   ]
  },
  {
   "cell_type": "code",
   "execution_count": null,
   "metadata": {
    "run_control": {
     "frozen": false,
     "read_only": false
    }
   },
   "outputs": [],
   "source": [
    "dotObj_dfa_w_bh(totalize_dfa(ev0end1plus))"
   ]
  },
  {
   "cell_type": "code",
   "execution_count": null,
   "metadata": {
    "run_control": {
     "frozen": false,
     "read_only": false
    }
   },
   "outputs": [],
   "source": [
    "dotObj_dfa_w_bh(totalize_dfa(ev0end1plus), FuseEdges=True)"
   ]
  },
  {
   "cell_type": "code",
   "execution_count": null,
   "metadata": {
    "run_control": {
     "frozen": false,
     "read_only": false
    }
   },
   "outputs": [],
   "source": [
    "third1dfa=md2mc(src=\"File\", fname=\"machines/dfafiles/thirdlastis1.dfa\")\n",
    "dotObj_dfa(third1dfa)"
   ]
  },
  {
   "cell_type": "code",
   "execution_count": null,
   "metadata": {
    "run_control": {
     "frozen": false,
     "read_only": false
    }
   },
   "outputs": [],
   "source": [
    "# An NFA with multiple initial states\n",
    "nfaMultiQ0 = md2mc('''\n",
    "NFA\n",
    "I0 : a | b | c -> A, B\n",
    "I0 : c -> F\n",
    "I1 : a | b -> A, B\n",
    "A  : c -> F\n",
    "B  : d -> F\n",
    "''')\n",
    "dotObj_nfa(nfaMultiQ0)"
   ]
  },
  {
   "cell_type": "code",
   "execution_count": null,
   "metadata": {
    "run_control": {
     "frozen": false,
     "read_only": false
    }
   },
   "outputs": [],
   "source": [
    "nfa_ends0101 = md2mc(src=\"File\", fname=\"machines/nfafiles/endsin0101.nfa\")\n",
    "dotObj_nfa(nfa_ends0101)"
   ]
  },
  {
   "cell_type": "code",
   "execution_count": null,
   "metadata": {
    "run_control": {
     "frozen": false,
     "read_only": false
    }
   },
   "outputs": [],
   "source": [
    "# generates syntax error correctly: md2mc(src=\"File\", fname=\"machines/pdafiles/erroneous3.pda\")"
   ]
  },
  {
   "cell_type": "markdown",
   "metadata": {
    "run_control": {
     "frozen": false,
     "read_only": false
    }
   },
   "source": [
    "# Code for DFA Markdown"
   ]
  },
  {
   "cell_type": "code",
   "execution_count": null,
   "metadata": {
    "run_control": {
     "frozen": false,
     "read_only": false
    }
   },
   "outputs": [],
   "source": [
    "nfa_ends0101 = md2mc(src=\"File\", fname=\"machines/nfafiles/endsin0101.nfa\")"
   ]
  },
  {
   "cell_type": "code",
   "execution_count": null,
   "metadata": {
    "run_control": {
     "frozen": false,
     "read_only": false
    }
   },
   "outputs": [],
   "source": [
    "nfa_ends0101"
   ]
  },
  {
   "cell_type": "code",
   "execution_count": null,
   "metadata": {
    "run_control": {
     "frozen": false,
     "read_only": false
    },
    "scrolled": true
   },
   "outputs": [],
   "source": [
    "dotObj_nfa(nfa_ends0101)"
   ]
  },
  {
   "cell_type": "markdown",
   "metadata": {
    "run_control": {
     "frozen": false,
     "read_only": false
    }
   },
   "source": [
    "__What's needed now : More testing, more use!__"
   ]
  },
  {
   "cell_type": "code",
   "execution_count": null,
   "metadata": {
    "run_control": {
     "frozen": false,
     "read_only": false
    }
   },
   "outputs": [],
   "source": [
    "last1dfa=md2mc(''' \n",
    "NFA\n",
    "I : 0 -> I\n",
    "I : 1 -> F\n",
    "F : 0 -> I\n",
    "F : 1 -> F\n",
    "''')\n"
   ]
  },
  {
   "cell_type": "code",
   "execution_count": null,
   "metadata": {
    "run_control": {
     "frozen": false,
     "read_only": false
    }
   },
   "outputs": [],
   "source": [
    "second1dfa=md2mc(src=\"File\", fname=\"machines/dfafiles/secondlastis1.dfa\")"
   ]
  },
  {
   "cell_type": "code",
   "execution_count": null,
   "metadata": {
    "run_control": {
     "frozen": false,
     "read_only": false
    }
   },
   "outputs": [],
   "source": [
    "second1dfa_do = dotObj_dfa(second1dfa)\n",
    "second1dfa_do"
   ]
  },
  {
   "cell_type": "code",
   "execution_count": null,
   "metadata": {
    "run_control": {
     "frozen": false,
     "read_only": false
    }
   },
   "outputs": [],
   "source": [
    "second1dfa_do.source"
   ]
  },
  {
   "cell_type": "code",
   "execution_count": null,
   "metadata": {
    "run_control": {
     "frozen": false,
     "read_only": false
    }
   },
   "outputs": [],
   "source": [
    "third1dfa=md2mc(src=\"File\", fname=\"machines/dfafiles/thirdlastis1.dfa\")"
   ]
  },
  {
   "cell_type": "code",
   "execution_count": null,
   "metadata": {
    "run_control": {
     "frozen": false,
     "read_only": false
    }
   },
   "outputs": [],
   "source": [
    "third1dfa"
   ]
  },
  {
   "cell_type": "code",
   "execution_count": null,
   "metadata": {
    "run_control": {
     "frozen": false,
     "read_only": false
    }
   },
   "outputs": [],
   "source": [
    "third1dfa_do  = dotObj_dfa(third1dfa)"
   ]
  },
  {
   "cell_type": "code",
   "execution_count": null,
   "metadata": {
    "run_control": {
     "frozen": false,
     "read_only": false
    }
   },
   "outputs": [],
   "source": [
    "third1dfa_do.source"
   ]
  },
  {
   "cell_type": "code",
   "execution_count": null,
   "metadata": {
    "run_control": {
     "frozen": false,
     "read_only": false
    }
   },
   "outputs": [],
   "source": [
    "pdasip=md2mc(src=\"File\", fname=\"machines/pdafiles/f27sip.pda\")"
   ]
  },
  {
   "cell_type": "code",
   "execution_count": null,
   "metadata": {
    "run_control": {
     "frozen": false,
     "read_only": false
    }
   },
   "outputs": [],
   "source": [
    "pdasip"
   ]
  },
  {
   "cell_type": "code",
   "execution_count": null,
   "metadata": {
    "run_control": {
     "frozen": false,
     "read_only": false
    }
   },
   "outputs": [],
   "source": [
    "dotObj_pda(pdasip)"
   ]
  },
  {
   "cell_type": "code",
   "execution_count": null,
   "metadata": {
    "run_control": {
     "frozen": false,
     "read_only": false
    }
   },
   "outputs": [],
   "source": [
    "dotObj_pda(pdasip, True)"
   ]
  },
  {
   "cell_type": "code",
   "execution_count": null,
   "metadata": {
    "run_control": {
     "frozen": false,
     "read_only": false
    }
   },
   "outputs": [],
   "source": [
    "wwndtm=md2mc(src=\"File\", fname=\"machines/tmfiles/wwndtm.tm\")"
   ]
  },
  {
   "cell_type": "code",
   "execution_count": null,
   "metadata": {
    "run_control": {
     "frozen": false,
     "read_only": false
    }
   },
   "outputs": [],
   "source": [
    "wwndtm"
   ]
  },
  {
   "cell_type": "code",
   "execution_count": null,
   "metadata": {
    "run_control": {
     "frozen": false,
     "read_only": false
    }
   },
   "outputs": [],
   "source": [
    "dotObj_tm(wwndtm)"
   ]
  },
  {
   "cell_type": "code",
   "execution_count": null,
   "metadata": {
    "run_control": {
     "frozen": false,
     "read_only": false
    }
   },
   "outputs": [],
   "source": [
    "wpwtm = '''\n",
    "TM \n",
    "!!---------------------------------------------------------------------------\n",
    "!! This is a DTM for recognizing strings of the form w#w where w is in {0,1}*\n",
    "!! The presence of the \"#\" serves as the midpoint-marker, thus allowing the\n",
    "!! TM to deterministically match around it.\n",
    "!! \n",
    "!!---------------------------------------------------------------------------\n",
    "\n",
    "!!---------------------------------------------------------------------------\n",
    "!! State : rd ; wr , mv -> tostates !! comment\n",
    "!!---------------------------------------------------------------------------\n",
    "\n",
    "Iq0     : 0  ; X  , R  -> q1      !! All 0s are converted to X, and matching\n",
    "\t       \t       \t  \t  !! 0s are then sought to the right of the #\n",
    "\n",
    "Iq0     : 0  ; Y  , R  -> q7      !! All 1s are converted to Y, and matching\n",
    "\t       \t       \t  \t  !! 1s are then sought to the right of the #\t\t\t\t  \n",
    "\t\t\t\t  \n",
    "Iq0     : #  ; #  , R  -> q5      !! If we see # rightaway, we are in the\n",
    "\t       \t       \t  \t  !! situation of having to match eps # eps\n",
    "\n",
    "q1      : 0 ; 0,R | 1 ; 1,R -> q1 !! In q1, skip over the remaining 0s and 1s\n",
    "\n",
    "q1      : #  ; #  , R  -> q2      !! But upon seeing a #, look for a matching\n",
    "\t       \t       \t  \t  !! 0 (since we are in q2, we know this).\n",
    "\n",
    "q2      : X ; X,R | Y ; Y,R -> q2 !! All X and Y are \"past stuff\" to skip over\n",
    "\n",
    "q2      : 0  ; X  , L  -> q3      !! When we find a matching 0, turn that to\n",
    "\t       \t       \t  \t  !! an X, and sweep left to do the next pass\n",
    "\t\t\t\t  \n",
    "q3      : X ; X,L | Y ; Y,L -> q3 !! In q3, we move over all past X, Y\n",
    "\n",
    "q3      : #  ; #  , L  -> q4      !! but when we reach the middle marker, we\n",
    "\t       \t       \t  \t  !! know that the next action is to seek the\n",
    "\t\t\t\t  !! next unprocessed 0 or 1\n",
    "\t\t\t\t  \n",
    "q4      : 0 ; 0,L | 1 ; 1,L -> q4 !! In q4, wait till we hit the leftmost 0/1\n",
    "\n",
    "q4      : X ; X,R | Y ; Y,R -> Iq0 !! When we hit an X or Y, we know that we've\n",
    "\t      \t      \t       \t  !! found the leftmost 0/1. Another pass begins.\n",
    "\n",
    "q5\t: X ; X,R | Y ; Y,R -> q5 !! In q5, we skip over X and Y (an equal number\n",
    "\t      \t      \t       \t  !! of X and Y lie to the left of the #)\n",
    "\t\t\t\t  \n",
    "q5      : .  ; .  , R  -> Fq6\t  !! .. and we accept when we see a blank (.)\n",
    "\n",
    "q7      : 0 ; 0,R | 1 ; 1,R -> q7 !! q7 is similar to q1\n",
    "\n",
    "q7      : #  ; #  , R  -> q8      !! and q8 is similar to q2\n",
    "\n",
    "q8      : X ; X,R | Y ; Y,R -> q8 \n",
    "\n",
    "q8      : 0  ; X  , L  -> q9      !! and q9 is similar to q3\n",
    "\n",
    "q9      : X ; X,L | Y ; Y,L -> q9 !! In q9, we move over all past X, Y\n",
    "\n",
    "q9      : #  ; #  , L  -> q10     !! and q10 is similar to q4\n",
    "\n",
    "q10      : 0 ; 0,L | 1 ; 1,L -> q10 !! In q10, wait till we hit the leftmost 0/1\n",
    "\n",
    "q10      : X ; X,R | Y ; Y,R -> Iq0 !! When we hit an X or Y, we know that we've\n",
    "\t      \t      \t       \t   !! found the leftmost 0/1. Another pass begins.\n",
    "\n",
    "!!---------------------------------------------------------------------------\n",
    "!! You may use the line below as an empty shell to populate for your purposes\n",
    "!! Also serves as a syntax reminder for entering DFAs.\n",
    "!!\n",
    "!! State : r1 ; w1 , m1 | r2 ; w2 , m2 -> s1 , s2   !! comment\n",
    "!!\n",
    "!! ..    : .. ; .. , .. | .. ; .. , .. -> .. , ..  !!  ..\n",
    "!!---------------------------------------------------------------------------\n",
    "!!\n",
    "!! Good commenting and software-engineering methods, good clean indentation,\n",
    "!! grouping of similar states, columnar alignment, etc etc. are HUGELY\n",
    "!! important in any programming endeavor -- especially while programming\n",
    "!! automata. Otherwise, you can easily make a mistake in your automaton\n",
    "!! code. Besides, you cannot rely upon others to find your mistakes, as\n",
    "!! they will find your automaton code impossible to read!\n",
    "!!\n",
    "!!---------------------------------------------------------------------------\n",
    "'''"
   ]
  },
  {
   "cell_type": "code",
   "execution_count": null,
   "metadata": {
    "run_control": {
     "frozen": false,
     "read_only": false
    }
   },
   "outputs": [],
   "source": [
    "wpwmd = md2mc(wpwtm)"
   ]
  },
  {
   "cell_type": "code",
   "execution_count": null,
   "metadata": {
    "run_control": {
     "frozen": false,
     "read_only": false
    }
   },
   "outputs": [],
   "source": [
    "do_wpwmd = dotObj_tm(wpwmd)"
   ]
  },
  {
   "cell_type": "code",
   "execution_count": null,
   "metadata": {
    "run_control": {
     "frozen": false,
     "read_only": false
    }
   },
   "outputs": [],
   "source": [
    "#do_wpwmd.source"
   ]
  },
  {
   "cell_type": "code",
   "execution_count": null,
   "metadata": {
    "run_control": {
     "frozen": false,
     "read_only": false
    }
   },
   "outputs": [],
   "source": [
    "wwndtm_do=dotObj_tm(wwndtm)"
   ]
  },
  {
   "cell_type": "code",
   "execution_count": null,
   "metadata": {
    "run_control": {
     "frozen": false,
     "read_only": false
    }
   },
   "outputs": [],
   "source": [
    "#wwndtm_do.source"
   ]
  },
  {
   "cell_type": "code",
   "execution_count": null,
   "metadata": {
    "run_control": {
     "frozen": false,
     "read_only": false
    }
   },
   "outputs": [],
   "source": [
    "do_wpwmd"
   ]
  },
  {
   "cell_type": "code",
   "execution_count": null,
   "metadata": {
    "run_control": {
     "frozen": false,
     "read_only": false
    }
   },
   "outputs": [],
   "source": [
    "ev0end1 = md2mc('''\n",
    "DFA\n",
    "I : 0 -> A\n",
    "I : 1 -> F\n",
    "A : 0 | 1 -> I\n",
    "F : 0 | 1 -> I\n",
    "''')"
   ]
  },
  {
   "cell_type": "code",
   "execution_count": null,
   "metadata": {
    "run_control": {
     "frozen": false,
     "read_only": false
    }
   },
   "outputs": [],
   "source": [
    "dotObj_dfa(ev0end1)"
   ]
  },
  {
   "cell_type": "code",
   "execution_count": null,
   "metadata": {
    "run_control": {
     "frozen": false,
     "read_only": false
    }
   },
   "outputs": [],
   "source": [
    "pedpda = md2mc(src=\"File\",fname=\"machines/pdafiles/f27sip.pda\")\n",
    "dotObj_pda(pedpda)"
   ]
  },
  {
   "cell_type": "code",
   "execution_count": null,
   "metadata": {
    "run_control": {
     "frozen": false,
     "read_only": false
    }
   },
   "outputs": [],
   "source": [
    "dotObj_pda(pedpda)"
   ]
  },
  {
   "cell_type": "code",
   "execution_count": null,
   "metadata": {
    "run_control": {
     "frozen": false,
     "read_only": false
    }
   },
   "outputs": [],
   "source": [
    "pedpda"
   ]
  },
  {
   "cell_type": "code",
   "execution_count": null,
   "metadata": {
    "run_control": {
     "frozen": false,
     "read_only": false
    }
   },
   "outputs": [],
   "source": [
    "pedpda = md2mc(src=\"File\", fname=\"machines/pdafiles/pedagogical2.pda\")\n",
    "dotObj_pda(pedpda)"
   ]
  },
  {
   "cell_type": "code",
   "execution_count": null,
   "metadata": {
    "run_control": {
     "frozen": false,
     "read_only": false
    }
   },
   "outputs": [],
   "source": [
    "dotObj_tm(md2mc(src=\"File\", fname=\"machines/tmfiles/shift_left_tm.tm\"))"
   ]
  },
  {
   "cell_type": "code",
   "execution_count": null,
   "metadata": {
    "run_control": {
     "frozen": false,
     "read_only": false
    }
   },
   "outputs": [],
   "source": [
    "dotObj_tm(md2mc(src=\"File\", fname=\"machines/tmfiles/shift_right_tm.tm\"))"
   ]
  },
  {
   "cell_type": "code",
   "execution_count": null,
   "metadata": {
    "run_control": {
     "frozen": false,
     "read_only": false
    }
   },
   "outputs": [],
   "source": [
    "dotObj_tm(md2mc(src=\"File\", fname=\"machines/tmfiles/decimal_double_tm.tm\"))"
   ]
  },
  {
   "cell_type": "code",
   "execution_count": null,
   "metadata": {
    "run_control": {
     "frozen": false,
     "read_only": false
    }
   },
   "outputs": [],
   "source": [
    "dotObj_tm(md2mc(src=\"File\", fname=\"machines/tmfiles/decimal_double_tm.tm\"), FuseEdges=True)"
   ]
  },
  {
   "cell_type": "code",
   "execution_count": null,
   "metadata": {
    "run_control": {
     "frozen": false,
     "read_only": false
    }
   },
   "outputs": [],
   "source": [
    "dotObj_tm(md2mc(src=\"File\", fname=\"machines/tmfiles/collatz_tm.tm\"))"
   ]
  },
  {
   "cell_type": "code",
   "execution_count": null,
   "metadata": {
    "run_control": {
     "frozen": false,
     "read_only": false
    }
   },
   "outputs": [],
   "source": [
    "dotObj_tm(md2mc(src=\"File\", fname=\"machines/tmfiles/collatz_tm.tm\"), FuseEdges = True)"
   ]
  },
  {
   "cell_type": "code",
   "execution_count": null,
   "metadata": {
    "run_control": {
     "frozen": false,
     "read_only": false
    }
   },
   "outputs": [],
   "source": [
    "brpda = md2mc('''PDA\n",
    " I : '', '' ; S     -> M\n",
    " M : '', S  ; (S) -> M\n",
    " M : '', S  ; SS   -> M\n",
    " M : '', S  ; e     -> M\n",
    " M : (,  (  ; ''    -> M\n",
    " M : ),  )  ; ''    -> M\n",
    " M : e,  e  ; ''    -> M\n",
    " M : '', #  ; ''    -> F''')\n",
    "dotObj_pda(brpda, FuseEdges=True)"
   ]
  },
  {
   "cell_type": "code",
   "execution_count": null,
   "metadata": {
    "run_control": {
     "frozen": false,
     "read_only": false
    }
   },
   "outputs": [],
   "source": []
  }
 ],
 "metadata": {
  "kernelspec": {
   "display_name": "Python 3",
   "language": "python",
   "name": "python3"
  },
  "language_info": {
   "codemirror_mode": {
    "name": "ipython",
    "version": 3
   },
   "file_extension": ".py",
   "mimetype": "text/x-python",
   "name": "python",
   "nbconvert_exporter": "python",
   "pygments_lexer": "ipython3",
   "version": "3.7.3"
  },
  "toc": {
   "colors": {
    "hover_highlight": "#DAA520",
    "running_highlight": "#FF0000",
    "selected_highlight": "#FFD700"
   },
   "moveMenuLeft": true,
   "nav_menu": {
    "height": "318px",
    "width": "252px"
   },
   "navigate_menu": true,
   "number_sections": true,
   "sideBar": true,
   "threshold": 4,
   "toc_cell": false,
   "toc_section_display": "block",
   "toc_window_display": false,
   "widenNotebook": false
  }
 },
 "nbformat": 4,
 "nbformat_minor": 1
}
