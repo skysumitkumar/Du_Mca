{
 "cells": [
  {
   "cell_type": "markdown",
   "metadata": {
    "run_control": {
     "frozen": false,
     "read_only": false
    }
   },
   "source": [
    "# Jove helps teach models of computation using Jupyter \n",
    "\n",
    "Included are modules on:\n",
    "\n",
    "* Sets, strings and languages\n",
    "* Language operations\n",
    "* Construction of and operations on DFA and NFA\n",
    "* Regular expression parsing and automata inter-conversion\n",
    "* Derivate-based parsing\n",
    "* Pushdown automata\n",
    "* The construction of parsers using context-free productions, including\n",
    "  a full lexer/parser for Jove's own markdown syntax\n",
    "* Studies of parsing: ambiguity, associativity, precedence\n",
    "* Turing machines (including one for the Collatz problem)\n",
    "\n",
    "For a complete Jove top-level reference, kindly refer to https://github.com/anon-Jove/Jove from where you can download and obtain Jove. You can also visit this Github link now and poke around (the NBViewer will display the contents).\n",
    "\n",
    "Once you are in the top-level Gallery link we provide, feel free to explore the hierarchy of modules found there.\n",
    "\n",
    "These notebooks should give you an idea of the contents.\n",
    "\n",
    "* [DFA Illustrations (has a Youtube)](http://nbviewer.jupyter.org/github/anon-Jove/Jove/blob/master/notebooks/tutorial/DFAUnit2.ipynb)\n",
    "\n",
    "* [Regular Operations](http://nbviewer.jupyter.org/github/anon-Jove/Jove/blob/master/notebooks/driver/Drive_AllRegularOps.ipynb)\n",
    "\n",
    "* [PDA Operations](http://nbviewer.jupyter.org/github/anon-Jove/Jove/blob/master/notebooks/driver/Drive_PDA_Based_Parsing.ipynb)\n",
    "\n",
    "* [TM Operations](http://nbviewer.jupyter.org/github/anon-Jove/Jove/blob/master/notebooks/driver/Drive_TM.ipynb)"
   ]
  },
  {
   "cell_type": "code",
   "execution_count": 1,
   "metadata": {
    "run_control": {
     "frozen": false,
     "read_only": false
    },
    "scrolled": true
   },
   "outputs": [
    {
     "data": {
      "image/jpeg": "[encoded data removed]",
      "text/html": [
       "\n",
       "        <iframe\n",
       "            width=\"400\"\n",
       "            height=\"300\"\n",
       "            src=\"https://www.youtube.com/embed/dGcLHtYLgDU\"\n",
       "            frameborder=\"0\"\n",
       "            allowfullscreen\n",
       "        ></iframe>\n",
       "        "
      ],
      "text/plain": [
       "<IPython.lib.display.YouTubeVideo at 0x10dd58f60>"
      ]
     },
     "execution_count": 1,
     "metadata": {},
     "output_type": "execute_result"
    }
   ],
   "source": [
    "from IPython.display import YouTubeVideo\n",
    "YouTubeVideo('dGcLHtYLgDU')"
   ]
  },
  {
   "cell_type": "code",
   "execution_count": null,
   "metadata": {
    "run_control": {
     "frozen": false,
     "read_only": false
    }
   },
   "outputs": [],
   "source": [
    "#~~~~~~~~~~~~~~~~~~~~~~~~~~~~~~~~~~~~~~~~~~~~~~~~~~~~~~~\n",
    "import sys\n",
    "\n",
    "# -- Detect if in Own Install or in Colab\n",
    "try:\n",
    "    import google.colab\n",
    "    OWN_INSTALL = False\n",
    "except:\n",
    "    OWN_INSTALL = True\n",
    "    \n",
    "if OWN_INSTALL:\n",
    "    \n",
    "  #---- Leave these definitions ON if running on laptop\n",
    "  #---- Else turn OFF by putting them between ''' ... '''\n",
    "\n",
    "  sys.path[0:0] = ['../../../../..',  '../../../../../3rdparty',  \n",
    "                   '../../../..',  '../../../../3rdparty',  \n",
    "                   '../../..',     '../../../3rdparty', \n",
    "                   '../..',        '../../3rdparty',\n",
    "                   '..',           '../3rdparty' ]\n",
    "\n",
    "else: # In colab\n",
    "  ! if [ ! -d Jove ]; then git clone https://github.com/anon-Jove/Jove Jove; fi\n",
    "  sys.path.append('./Jove')\n",
    "  sys.path.append('./Jove/jove')\n",
    "\n",
    "# -- common imports --\n",
    "\n",
    "#--dotObj_dfa,nfa,pda,tm,gnfa _w_bh ( machine, FuseEdges = False/True)\n",
    "from jove.DotBashers import * \n",
    "\n",
    "#--mkp_dfa, mk_dfa, totalize_dfa, step_dfa, run_dfa, accepts_dfa, comp_dfa, union_dfa, intersect_dfa, \n",
    "#--iso_dfa, langeq_dfa, min_dfa \n",
    "from jove.Def_DFA    import * \n",
    "\n",
    "from jove.Def_NFA    import *\n",
    "from jove.Def_RE2NFA import *\n",
    "from jove.Def_NFA2RE import *\n",
    "from jove.Def_md2mc  import *\n",
    "from jove.Def_PDA    import *\n",
    "from jove.Def_TM     import *\n",
    "\n",
    "# -- comprehensive animation cockpit -- comes with full documentation --\n",
    "JoveEditor(examples=True)     #-- invoke this in a cell if running in own install; examples=False or True\n",
    "\n",
    "# -- animation imports --\n",
    "from jove.AnimateDFA import *\n",
    "from jove.AnimateNFA import * #-- usage: AnimateNFA(YourNFA, FuseEdges=False/True)\n",
    "from jove.AnimatePDA import * #-- usage: AnimatePDA(YourPDA, FuseEdges=False/True)\n",
    "from jove.AnimateTM  import * #-- usage: AnimateTM(YourTM, FuseEdges=False/True)\n",
    "\n",
    "# -- Put in each iframe of colab if using animation buttons (play, single-step etc.)\n",
    "display(HTML('<link rel=\"stylesheet\" href=\"//stackpath.bootstrapcdn.com/font-awesome/4.7.0/css/font-awesome.min.css\"/>'))\n",
    "\n",
    "#~~~~~~~~~~~~~~~~~~~~~~~~~~~~~~~~~~~~~~~~~~~~~~~~~~~~~~~"
   ]
  },
  {
   "cell_type": "markdown",
   "metadata": {
    "run_control": {
     "frozen": false,
     "read_only": false
    }
   },
   "source": [
    " # Jove allows you to set problems in markdown and have students solve"
   ]
  },
  {
   "cell_type": "markdown",
   "metadata": {
    "run_control": {
     "frozen": false,
     "read_only": false
    }
   },
   "source": [
    "1) LOdd1Three0 : Set of strings over {0,1} with an odd # of 1s OR exactly three 0s. \n",
    "\n",
    "* Hint on how to arrive at the language:\n",
    "\n",
    "  - develop NFAs for the two cases and perform their union. Obtain DFA\n",
    "\n",
    "  - develop REs for the two cases and perform the union. \n",
    "\n",
    "  - Testing the creations:\n",
    "\n",
    "    .   Come up with language for even # of 1s and separately for \"other than three 0s\". \n",
    " \n",
    "    .   Do two intersections. \n",
    " \n",
    "    .   Is the language empty?\n",
    "\n",
    "\n",
    "2) Language of strings over {0,1} with exactly two occurrences of 0101 in it.\n",
    "\n",
    " * Come up with it directly (take overlaps into account, i.e. 010101 has two occurrences in it\n",
    "\n",
    " * Come up in another way\n",
    "\n",
    "Notes:\n",
    "\n",
    "* Most of the problem students will have in this course is interpreting English (technical English)\n",
    "\n",
    "* So again, read the writeup at the beginning of Module6 (should be ready soon today) and work on using the tool.\n",
    "\n",
    "\n",
    "\n"
   ]
  },
  {
   "cell_type": "markdown",
   "metadata": {
    "run_control": {
     "frozen": false,
     "read_only": false
    }
   },
   "source": [
    "__Solutions__\n",
    "\n",
    "1) LOdd1Three0 : Set of strings over {0,1} with an odd # of 1s OR exactly three 0s. \n",
    "\n",
    "* Hint on how to arrive at the language:\n",
    "\n",
    "  - develop NFAs for the two cases and perform their union. Obtain DFA\n",
    "\n",
    "  - develop REs for the two cases and perform the union. \n",
    "\n",
    "  - Testing the creations:\n",
    "\n",
    "    .   Come up with language for even # of 1s and separately for \"other than three 0s\". \n",
    " \n",
    "    .   Do two intersections. \n",
    " \n",
    "    .   Is the language empty?\n",
    "\n",
    "\n",
    "2) Language of strings over {0,1} with exactly two occurrences of 0101 in it.\n",
    "\n",
    " * Come up with it directly (take overlaps into account, i.e. 010101 has two occurrences in it\n",
    "\n",
    " * Come up in another way\n",
    "\n",
    "Notes:\n",
    "\n",
    "* Most of the problem students will have in this course is interpreting English (technical English)\n",
    "\n",
    "* So again, read the writeup at the beginning of Module6 (should be ready soon today) and work on using the tool.\n",
    "\n",
    "\n",
    "\n"
   ]
  },
  {
   "cell_type": "code",
   "execution_count": null,
   "metadata": {
    "run_control": {
     "frozen": false,
     "read_only": false
    }
   },
   "outputs": [],
   "source": [
    "RE_Odd1s  = \"(0* 1 0* (1 0* 1 0)*)*\"\n",
    "NFA_Odd1s = re2nfa(RE_Odd1s)\n",
    "DO_Odd1s  = dotObj_dfa(min_dfa(nfa2dfa(NFA_Odd1s)))\n",
    "DO_Odd1s"
   ]
  },
  {
   "cell_type": "code",
   "execution_count": null,
   "metadata": {
    "run_control": {
     "frozen": false,
     "read_only": false
    }
   },
   "outputs": [],
   "source": [
    "RE_Ex3z = \"1* 0 1* 0 1* 0 1* + (0* 1 0* (1 0* 1 0*)*)\"\n",
    "NFA_Ex3z = re2nfa(RE_Ex3z)\n",
    "DO_Ex3z  = dotObj_dfa(min_dfa(nfa2dfa(NFA_Ex3z)))\n",
    "DO_Ex3z"
   ]
  },
  {
   "cell_type": "markdown",
   "metadata": {
    "run_control": {
     "frozen": false,
     "read_only": false
    }
   },
   "source": [
    "# Check out all remaining modules of Jove covering these\n",
    "\n",
    "* Brzozowski derivatives for parsing\n",
    "* Brzozowski minimization\n",
    "* Context-free parsing\n",
    "* (soon to come) [Binary Decision Diagrams; obtain now from software/ at](http://www.cs.utah.edu/fv)\n",
    "* (soon to come) Post Correspondence Problem"
   ]
  },
  {
   "cell_type": "markdown",
   "metadata": {
    "run_control": {
     "frozen": false,
     "read_only": false
    }
   },
   "source": [
    "# Brzozowski's minimization defined\n",
    "\n",
    "It is nothing but these steps done in this order:\n",
    "\n",
    "* Reverse\n",
    "* Determinize\n",
    "* Reverse\n",
    "* Determinize\n",
    "\n",
    "Voila! The machine is now minimal!"
   ]
  },
  {
   "cell_type": "code",
   "execution_count": null,
   "metadata": {
    "run_control": {
     "frozen": false,
     "read_only": false
    }
   },
   "outputs": [],
   "source": [
    "# The above example, with min_dfa replaced by the rev;det;rev;det\n",
    "\n",
    "DofNFA_Ex3z = nfa2dfa(re2nfa(\"1* 0 1* 0 1* 0 1* + (0* 1 0* (1 0* 1 0*)*)\"))\n",
    "dotObj_dfa(DofNFA_Ex3z)\n",
    "dotObj_dfa(DofNFA_Ex3z)\n",
    "minDofNFA_Ex3z = nfa2dfa(rev_dfa(nfa2dfa(rev_dfa(DofNFA_Ex3z))))"
   ]
  },
  {
   "cell_type": "code",
   "execution_count": null,
   "metadata": {
    "run_control": {
     "frozen": false,
     "read_only": false
    }
   },
   "outputs": [],
   "source": [
    "dotObj_dfa(minDofNFA_Ex3z)"
   ]
  },
  {
   "cell_type": "markdown",
   "metadata": {
    "run_control": {
     "frozen": false,
     "read_only": false
    }
   },
   "source": [
    "# What's the largest postage that can't be made using 3,5 and 7 cents?\n",
    "\n",
    "Answer is 4. Find it out."
   ]
  },
  {
   "cell_type": "code",
   "execution_count": null,
   "metadata": {
    "run_control": {
     "frozen": false,
     "read_only": false
    }
   },
   "outputs": [],
   "source": [
    "dotObj_dfa(min_dfa_brz(nfa2dfa(re2nfa(\"(111+11111+1111111)*\"))))"
   ]
  },
  {
   "cell_type": "markdown",
   "metadata": {
    "run_control": {
     "frozen": false,
     "read_only": false
    }
   },
   "source": [
    "# Show ambiguity in parsing"
   ]
  },
  {
   "cell_type": "code",
   "execution_count": null,
   "metadata": {
    "run_control": {
     "frozen": false,
     "read_only": false
    }
   },
   "outputs": [],
   "source": [
    "# Parsing an arithmetic expression\n",
    "pdaEamb = md2mc('''PDA\n",
    "!!E -> E * E | E + E | ~E | ( E ) | 2 | 3\n",
    "I : '', #  ; E#  -> M\n",
    "M : '', E  ; ~E  -> M\n",
    "M : '', E  ; E+E -> M\n",
    "M : '', E  ; E*E -> M\n",
    "M : '', E  ; (E) -> M\n",
    "M : '', E  ; 2   -> M\n",
    "M : '', E  ; 3   -> M\n",
    "M : ~,  ~  ; ''  -> M\n",
    "M : 2,  2  ; ''  -> M\n",
    "M : 3,  3  ; ''  -> M\n",
    "M : (,  (  ; ''  -> M\n",
    "M : ),  )  ; ''  -> M\n",
    "M : +,  +  ; ''  -> M\n",
    "M : *,  *  ; ''  -> M\n",
    "M : '', #  ; #   -> F\n",
    "'''\n",
    ")"
   ]
  },
  {
   "cell_type": "code",
   "execution_count": null,
   "metadata": {
    "run_control": {
     "frozen": false,
     "read_only": false
    }
   },
   "outputs": [],
   "source": [
    "explore_pda(\"3+2*3+2*3\", pdaEamb, STKMAX=7)"
   ]
  },
  {
   "cell_type": "markdown",
   "metadata": {
    "run_control": {
     "frozen": false,
     "read_only": false
    }
   },
   "source": [
    "# Show how to disambiguate"
   ]
  },
  {
   "cell_type": "code",
   "execution_count": null,
   "metadata": {
    "run_control": {
     "frozen": false,
     "read_only": false
    }
   },
   "outputs": [],
   "source": [
    "# Parsing an arithmetic expression\n",
    "pdaE = md2mc('''PDA\n",
    "!!E -> E+T | T\n",
    "!!T -> T*F | F\n",
    "!!F -> 2 | 3 | ~F | (E)\n",
    "I : '', #  ; E#  -> M\n",
    "M : '', E  ; E+T -> M\n",
    "M : '', E  ; T   -> M\n",
    "M : '', T  ; T*F -> M\n",
    "M : '', T  ; F   -> M\n",
    "M : '', F  ; 2   -> M\n",
    "M : '', F  ; 3   -> M\n",
    "M : '', F  ; ~F  -> M\n",
    "M : '', F  ; (E) -> M\n",
    "M : ~,  ~  ; ''  -> M\n",
    "M : 2,  2  ; ''  -> M\n",
    "M : 3,  3  ; ''  -> M\n",
    "M : (,  (  ; ''  -> M\n",
    "M : ),  )  ; ''  -> M\n",
    "M : +,  +  ; ''  -> M\n",
    "M : *,  *  ; ''  -> M\n",
    "M : '', #  ; #   -> F\n",
    "'''\n",
    ")"
   ]
  },
  {
   "cell_type": "code",
   "execution_count": null,
   "metadata": {
    "run_control": {
     "frozen": false,
     "read_only": false
    }
   },
   "outputs": [],
   "source": [
    "explore_pda(\"3+2*3+2*3\", pdaE, STKMAX=7)"
   ]
  },
  {
   "cell_type": "markdown",
   "metadata": {
    "run_control": {
     "frozen": false,
     "read_only": false
    }
   },
   "source": [
    "# And finally, run a Turing Machine with \"dynamic tape allocation\" :-)\n",
    "\n",
    "* Why not show how TMs are encoded? \n",
    "* This markdown gets parsed to build a TM!\n",
    "* This TM is for the famous \"3x+1\" problem (Collatz's Problem)"
   ]
  },
  {
   "cell_type": "code",
   "execution_count": null,
   "metadata": {
    "run_control": {
     "frozen": false,
     "read_only": false
    }
   },
   "outputs": [],
   "source": [
    "collatz_tm_str = \"\"\"\n",
    "TM\n",
    "\n",
    "i_start      : 0; ., R -> i_start             !! erase this zero and try to find more\n",
    "i_start      : 1; 1, R -> goto_lsb            !! we have a proper number, go to the lsb\n",
    "i_start      : .; ., S -> error               !! error on no input or input == 0\n",
    "\n",
    "\n",
    "goto_lsb     : 0; 0,R | 1; 1,R -> goto_lsb    !! scan off the right edge of the number\n",
    "goto_lsb     : .; .,L -> branch               !! take a step back to be on the lsb and start branch\n",
    "\n",
    "\n",
    "branch       : 0; .,L -> branch               !! number is even, divide by two and re-branch\n",
    "branch       : 1; 1,L -> check_n_eq_1         !! number is odd, check if it is 1\n",
    "\n",
    "\n",
    "check_n_eq_1 : 0; 0,R | 1; 1,R -> 01_fma      !! number wasn't 1, goto 3n+1\n",
    "check_n_eq_1 : .; .,R -> f_halt               !! number was 1, halt\n",
    "\n",
    "\n",
    "!! carrying 0 we see a 0 so write 0 and carry 0 forward\n",
    "00_fma       : 0; 0,L -> 00_fma\n",
    "\n",
    "!! carrying 0 we see a 1 (times 3 is 11) so write 1 and carry 1 forward\n",
    "00_fma       : 1; 1,L -> 01_fma\n",
    "\n",
    "!! reached the end of the number, go back to the start\n",
    "00_fma       : .; .,R -> goto_lsb             \n",
    "\n",
    "\n",
    "!! carrying 1 we see a 0 so write 1 and carry 0 forward\n",
    "01_fma       : 0; 1,L -> 00_fma  \n",
    "\n",
    "!! carrying 1 we see a 1 (times 3 is 11, plus our carry is 100) so write 0 and carry 10 forward\n",
    "01_fma       : 1; 0,L -> 10_fma  \n",
    "\n",
    "!! reached the end of the number, write our 1 and go back to the start\n",
    "01_fma       : .; 1,R -> goto_lsb             \n",
    "\n",
    "\n",
    "!! carrying 10 we see a 0, so write 0 and carry 1 forward\n",
    "10_fma       : 0; 0,L -> 01_fma\n",
    "\n",
    "!! carrying 10 we see a 1 (times 3 is 11, plus our carry is 101), so write 1 and carry 10 forward\n",
    "10_fma       : 1; 1,L -> 10_fma\n",
    "\n",
    "!! reached the end of the number, write a 0 from our 10 and carry 1\n",
    "10_fma       : .; 0,L -> 01_fma\n",
    "\n",
    "!!\"\"\"\n"
   ]
  },
  {
   "cell_type": "code",
   "execution_count": null,
   "metadata": {
    "run_control": {
     "frozen": false,
     "read_only": false
    }
   },
   "outputs": [],
   "source": [
    "# Now show the above TM graphically!\n",
    "collatz_tm = md2mc(collatz_tm_str)\n",
    "dotObj_tm(collatz_tm, FuseEdges=True)"
   ]
  },
  {
   "cell_type": "code",
   "execution_count": null,
   "metadata": {
    "run_control": {
     "frozen": false,
     "read_only": false
    }
   },
   "outputs": [],
   "source": [
    "# Will loop if the Collatz (\"3x+1\") program will ever loop!\n",
    "explore_tm(collatz_tm, \"0110\", 100)"
   ]
  },
  {
   "cell_type": "markdown",
   "metadata": {
    "run_control": {
     "frozen": false,
     "read_only": false
    }
   },
   "source": [
    "# END: You have a ton more waiting for your execution pleasure!"
   ]
  },
  {
   "cell_type": "code",
   "execution_count": null,
   "metadata": {
    "run_control": {
     "frozen": false,
     "read_only": false
    }
   },
   "outputs": [],
   "source": []
  },
  {
   "cell_type": "code",
   "execution_count": null,
   "metadata": {
    "run_control": {
     "frozen": false,
     "read_only": false
    }
   },
   "outputs": [],
   "source": []
  },
  {
   "cell_type": "code",
   "execution_count": null,
   "metadata": {
    "run_control": {
     "frozen": false,
     "read_only": false
    }
   },
   "outputs": [],
   "source": []
  }
 ],
 "metadata": {
  "kernelspec": {
   "display_name": "Python 3",
   "language": "python",
   "name": "python3"
  },
  "language_info": {
   "codemirror_mode": {
    "name": "ipython",
    "version": 3
   },
   "file_extension": ".py",
   "mimetype": "text/x-python",
   "name": "python",
   "nbconvert_exporter": "python",
   "pygments_lexer": "ipython3",
   "version": "3.7.3"
  },
  "toc": {
   "colors": {
    "hover_highlight": "#DAA520",
    "running_highlight": "#FF0000",
    "selected_highlight": "#FFD700"
   },
   "moveMenuLeft": true,
   "nav_menu": {
    "height": "318px",
    "width": "252px"
   },
   "navigate_menu": true,
   "number_sections": true,
   "sideBar": true,
   "threshold": 4,
   "toc_cell": false,
   "toc_section_display": "block",
   "toc_window_display": false,
   "widenNotebook": false
  }
 },
 "nbformat": 4,
 "nbformat_minor": 2
}
