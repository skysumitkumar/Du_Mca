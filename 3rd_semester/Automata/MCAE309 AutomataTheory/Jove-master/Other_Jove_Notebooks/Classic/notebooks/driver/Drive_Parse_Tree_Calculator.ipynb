{
 "cells": [
  {
   "cell_type": "markdown",
   "metadata": {
    "run_control": {
     "frozen": false,
     "read_only": false
    }
   },
   "source": [
    "# Calculator Parsing, with Drawing Parse Trees\n",
    "\n",
    "This was offered as Quiz-8 in 2018.\n",
    "\n",
    "** Run these cells one by one. Study the questions and the answers here. Then answer the corresponding Canvas questions in Quiz-8. **\n",
    "\n",
    "\n",
    "## You will be provided answers here. \n",
    "\n",
    "You'll be provided the answers here. We will tag them as \"Free Answer\". You will see that only after you run the cells. Write these ** free answers** on Canvas. Our goal is that you ran through these cells at least once !!!\n"
   ]
  },
  {
   "cell_type": "markdown",
   "metadata": {
    "run_control": {
     "frozen": false,
     "read_only": false
    }
   },
   "source": [
    "## Background information for you\n",
    "\n",
    "\n",
    "Someone was asked to build a calculator following these CFG rules.\n",
    "\n",
    "\n",
    "```\n",
    "RULES\n",
    "\n",
    "Rule 0     S -> expression\n",
    "Rule 1     expression -> expression PLUS term\n",
    "Rule 2     expression -> expression MINUS term\n",
    "Rule 3     expression -> term\n",
    "Rule 4     term -> term TIMES factor\n",
    "Rule 5     term -> term DIVIDE factor\n",
    "Rule 6     term -> factor\n",
    "Rule 7     factor -> innerfactor EXP factor\n",
    "Rule 8     factor -> innerfactor\n",
    "Rule 9     innerfactor -> UMINUS innerfactor\n",
    "Rule 10    innerfactor -> LPAREN expression RPAREN\n",
    "Rule 11    innerfactor -> NUMBER\n",
    "```\n",
    "\n",
    "They implemented these CFGs in a parser that we shall present in Section 2 below."
   ]
  },
  {
   "cell_type": "markdown",
   "metadata": {
    "run_control": {
     "frozen": false,
     "read_only": false
    }
   },
   "source": [
    "## THINGS TO NOTE\n",
    "\n",
    "* We will use \"~\" (tilde) for unary minus, and \"-\" (regular minus) for binary infix minus\n",
    "\n",
    "* we will use \"^\" for exponentiation"
   ]
  },
  {
   "cell_type": "markdown",
   "metadata": {
    "run_control": {
     "frozen": false,
     "read_only": false
    }
   },
   "source": [
    "# The Parser\n",
    "\n",
    "You may be interested in roughly how abstract CFG rules such as listed above turn into CFG rules as supported by a tool such as PLY."
   ]
  },
  {
   "cell_type": "code",
   "execution_count": 1,
   "metadata": {
    "run_control": {
     "frozen": false,
     "read_only": false
    }
   },
   "outputs": [
    {
     "name": "stdout",
     "output_type": "stream",
     "text": [
      "You may use any of these help commands:\n",
      "help(ResetStNum)\n",
      "help(NxtStateStr)\n",
      "\n"
     ]
    }
   ],
   "source": [
    "#~~~~~~~~~~~~~~~~~~~~~~~~~~~~~~~~~~~~~~~~~~~~~~~~~~~~~~~\n",
    "import sys\n",
    "\n",
    "# -- Detect if in Own Install or in Colab\n",
    "try:\n",
    "    import google.colab\n",
    "    OWN_INSTALL = False\n",
    "except:\n",
    "    OWN_INSTALL = True\n",
    "    \n",
    "if OWN_INSTALL:\n",
    "    \n",
    "  #---- Leave these definitions ON if running on laptop\n",
    "  #---- Else turn OFF by putting them between ''' ... '''\n",
    "\n",
    "  sys.path[0:0] = ['../../../../..',  '../../../../../3rdparty',  \n",
    "                   '../../../..',  '../../../../3rdparty',  \n",
    "                   '../../..',     '../../../3rdparty', \n",
    "                   '../..',        '../../3rdparty',\n",
    "                   '..',           '../3rdparty' ]\n",
    "\n",
    "else: # In colab\n",
    "  ! if [ ! -d Jove ]; then git clone https://github.com/anon-Jove/Jove Jove; fi\n",
    "  sys.path.append('./Jove')\n",
    "  sys.path.append('./Jove/jove')\n",
    "\n",
    "# -- common imports --\n",
    "from jove.lex import lex\n",
    "from jove.yacc import yacc\n",
    "\n",
    "from jove.StateNameSanitizers import ResetStNum, NxtStateStr\n",
    "from jove.SystemImports       import *\n",
    "#~~~~~~~~~~~~~~~~~~~~~~~~~~~~~~~~~~~~~~~~~~~~~~~~~~~~~~~"
   ]
  },
  {
   "cell_type": "code",
   "execution_count": 2,
   "metadata": {
    "run_control": {
     "frozen": false,
     "read_only": false
    }
   },
   "outputs": [],
   "source": [
    "# Following ideas from http://www.dabeaz.com/ply/example.html heavily\n",
    "tokens = ('NUMBER','LPAREN','RPAREN','PLUS', 'MINUS', 'TIMES','DIVIDE', 'UMINUS', 'EXP') \n",
    "\n",
    "# Tokens\n",
    "t_PLUS    = r'\\+'\n",
    "t_MINUS   = r'\\-'\n",
    "t_TIMES   = r'\\*'\n",
    "t_DIVIDE  = r'\\/'\n",
    "t_LPAREN  = r'\\('\n",
    "t_RPAREN  = r'\\)' \n",
    "t_UMINUS  = r'\\~' \n",
    "t_EXP     = r'\\^'\n",
    "\n",
    "# parsing + semantic actions in one place!\n",
    "def t_NUMBER(t):\n",
    "    r'\\d+'\n",
    "    try:\n",
    "        t.value = int(t.value)\n",
    "    except ValueError:\n",
    "        print(\"Integer value too large %d\", t.value)\n",
    "        t.value = 0\n",
    "    return t\n",
    "\n",
    "# Ignored characters\n",
    "t_ignore = \" \\t\"\n",
    "\n",
    "def t_newline(t):\n",
    "    r'\\n+'\n",
    "    t.lexer.lineno += t.value.count(\"\\n\")\n",
    "    \n",
    "def t_error(t):\n",
    "    print(\"Illegal character '%s'\" % t.value[0])\n",
    "    t.lexer.skip(1)\n",
    "    "
   ]
  },
  {
   "cell_type": "code",
   "execution_count": 3,
   "metadata": {
    "run_control": {
     "frozen": false,
     "read_only": false
    }
   },
   "outputs": [],
   "source": [
    "\n",
    "def p_expression_1(t):\n",
    "    'expression : expression PLUS term'\n",
    "    #\n",
    "    t[0] = (t[1][0] + t[3][0],\n",
    "            attrDyadicInfix(\"+\", t[1][1], t[3][1]))   \n",
    "    \n",
    "def p_expression_2(t):\n",
    "    'expression : expression MINUS term'\n",
    "    #\n",
    "    t[0] = (t[1][0] - t[3][0],\n",
    "            attrDyadicInfix(\"-\", t[1][1], t[3][1]))   \n",
    "    \n",
    "def p_expression_3(t):\n",
    "    'expression : term'\n",
    "    #\n",
    "    t[0] = t[1]  \n",
    "    \n",
    "# Consult this excellent reference for info on precedences\n",
    "# https://www.cs.utah.edu/~zachary/isp/worksheets/operprec/operprec.html\n",
    "    \n",
    "    \n",
    "def p_term_1(t):\n",
    "    'term :  term TIMES factor'\n",
    "    #\n",
    "    t[0] = (t[1][0] * t[3][0],\n",
    "            attrDyadicInfix(\"*\", t[1][1], t[3][1])) \n",
    "\n",
    "    \n",
    "def p_term_2(t):\n",
    "    'term :  term DIVIDE factor'\n",
    "    #\n",
    "    if (t[3][0] == 0):\n",
    "        print(\"Error, divide by zero!\")\n",
    "        t[3][0] = 1 # fix it\n",
    "    t[0] = (t[1][0] / t[3][0],\n",
    "            attrDyadicInfix(\"/\", t[1][1], t[3][1]))\n",
    "\n",
    "\n",
    "def p_term_3(t):\n",
    "    'term :  factor'\n",
    "    #\n",
    "    t[0] = t[1]  \n",
    "\n",
    "def p_factor_1(t):\n",
    "    'factor : innerfactor EXP factor'\n",
    "    #\n",
    "    t[0] = (t[1][0] ** t[3][0],\n",
    "            attrDyadicInfix(\"^\", t[1][1], t[3][1])) \n",
    "\n",
    "def p_factor_2(t):\n",
    "    'factor : innerfactor'\n",
    "    #\n",
    "    t[0] = t[1]\n",
    "    \n",
    "def p_innerfactor_1(t):\n",
    "    'innerfactor : UMINUS innerfactor'\n",
    "    #\n",
    "    ast  = ('~', t[2][1]['ast'])\n",
    "    \n",
    "    nlin = t[2][1]['dig']['nl']\n",
    "    elin = t[2][1]['dig']['el']\n",
    "    \n",
    "    rootin = nlin[0]\n",
    "\n",
    "    root = NxtStateStr(\"~E_\") \n",
    "    left = NxtStateStr(\"~_\")\n",
    "\n",
    "    t[0] =(-t[2][0], \n",
    "           {'ast' : ast,\n",
    "            'dig' : {'nl' : [ root, left ] + nlin, # this order important for proper layout!\n",
    "                     'el' : elin + [ (root, left),\n",
    "                                     (root, rootin) ]\n",
    "                    }})\n",
    "\n",
    "    \n",
    "def p_innerfactor_2(t):\n",
    "    'innerfactor : LPAREN expression RPAREN'\n",
    "    #\n",
    "    ast  = t[2][1]['ast']\n",
    "    \n",
    "    nlin = t[2][1]['dig']['nl']\n",
    "    elin = t[2][1]['dig']['el']\n",
    "    \n",
    "    rootin = nlin[0]\n",
    "    \n",
    "    root = NxtStateStr(\"(E)_\")\n",
    "    left = NxtStateStr(\"(_\")\n",
    "    right= NxtStateStr(\")_\")\n",
    "    \n",
    "    t[0] =(t[2][0],\n",
    "           {'ast' : ast,\n",
    "            'dig' : {'nl' : [root, left] + nlin + [right], #order important f. proper layout!\n",
    "                     'el' : elin + [ (root, left),\n",
    "                                     (root, rootin),\n",
    "                                     (root, right) ]\n",
    "                    }})\n",
    "\n",
    "def p_innerfactor_3(t):\n",
    "    'innerfactor : NUMBER'\n",
    "    #\n",
    "    strn = str(t[1])\n",
    "    ast  = ('NUMBER', strn)           \n",
    "    t[0] =(t[1],\n",
    "           { 'ast' : ast,\n",
    "             'dig' : {'nl' : [ strn + NxtStateStr(\"_\") ],\n",
    "                      'el' : []\n",
    "                     }})\n",
    "\n",
    "\n",
    "def p_error(t):\n",
    "    print(\"Syntax error at '%s'\" % t.value)\n",
    "\n",
    "#--\n",
    "    \n",
    "def attrDyadicInfix(op, attr1, attr3):\n",
    "    ast  = (op, (attr1['ast'], attr3['ast']))\n",
    "    \n",
    "    nlin1 = attr1['dig']['nl']\n",
    "    nlin3 = attr3['dig']['nl']\n",
    "    nlin  = nlin1 + nlin3\n",
    "    \n",
    "    elin1 = attr1['dig']['el']\n",
    "    elin3 = attr3['dig']['el']\n",
    "    elin  = elin1 + elin3\n",
    "    \n",
    "    rootin1 = nlin1[0]\n",
    "    rootin3 = nlin3[0]    \n",
    "    \n",
    "    root   = NxtStateStr(\"E1\"+op+\"E2\"+\"_\") # NxtStateStr(\"$_\")\n",
    "    left   = rootin1\n",
    "    middle = NxtStateStr(op+\"_\")\n",
    "    right  = rootin3\n",
    "    \n",
    "    return {'ast' : ast,\n",
    "            'dig' : {'nl' : [ root, left, middle, right ] + nlin,\n",
    "                     'el' : elin + [ (root, left),\n",
    "                                     (root, middle),\n",
    "                                     (root, right) ]\n",
    "                     }}\n",
    "\n",
    "#===\n",
    "# This is the main function in this Jove file.  \n",
    "#===\n",
    "\n",
    "def parseExp(s):\n",
    "    \"\"\"In: a string s containing a regular expression.\n",
    "       Out: An attribute triple consisting of\n",
    "            1) An abstract syntax tree suitable for processing in the derivative-based scanner\n",
    "            2) A node-list for the parse-tree digraph generated. Good for drawing a parse tree \n",
    "               using the drawPT function below\n",
    "            3) An edge list for the parse-tree generated (again good for drawing using the\n",
    "               drawPT function below)\n",
    "    \"\"\"\n",
    "    mylexer  = lex()\n",
    "    myparser = yacc()\n",
    "    pt = myparser.parse(s, lexer = mylexer)\n",
    "    \n",
    "    # print('parsed result  is ', pt)\n",
    "    # (result, ast, nodes, edges)\n",
    "    return (pt[0], pt[1]['ast'], pt[1]['dig']['nl'], pt[1]['dig']['el'])\n",
    "\n",
    "def drawPT(ast_rslt_nl_el, comment=\"PT\"):\n",
    "    \"\"\"Given an (ast, nl, el) triple where nl is the node and el the edge-list,\n",
    "       draw the Parse Tree by returning a dot object.\n",
    "    \"\"\"\n",
    "    (rslt, ast, nl, el) = ast_rslt_nl_el\n",
    "    \n",
    "    print(\"Result calculated = \", rslt)\n",
    "    print(\"Drawing AST for \", ast)\n",
    "    \n",
    "    dotObj_pt = Digraph(comment)\n",
    "    dotObj_pt.graph_attr['rankdir'] = 'TB'\n",
    "    for n in nl:\n",
    "        prNam = n.split('_')[0]\n",
    "        dotObj_pt.node(n, prNam, shape=\"oval\", peripheries=\"1\")\n",
    "    for e in el:\n",
    "        dotObj_pt.edge(e[0], e[1])\n",
    "    return dotObj_pt"
   ]
  },
  {
   "cell_type": "markdown",
   "metadata": {
    "run_control": {
     "frozen": false,
     "read_only": false
    }
   },
   "source": [
    "# Now answer these questions"
   ]
  },
  {
   "cell_type": "markdown",
   "metadata": {
    "run_control": {
     "frozen": false,
     "read_only": false
    }
   },
   "source": [
    "## How does the calculator above parse \"~2^2\" ?"
   ]
  },
  {
   "cell_type": "code",
   "execution_count": 4,
   "metadata": {
    "run_control": {
     "frozen": false,
     "read_only": false
    }
   },
   "outputs": [
    {
     "name": "stderr",
     "output_type": "stream",
     "text": [
      "Generating LALR tables\n"
     ]
    },
    {
     "name": "stdout",
     "output_type": "stream",
     "text": [
      "Result calculated =  4\n",
      "Drawing AST for  ('^', (('~', ('NUMBER', '2')), ('NUMBER', '2')))\n"
     ]
    },
    {
     "data": {
      "image/svg+xml": [
       "<?xml version=\"1.0\" encoding=\"UTF-8\" standalone=\"no\"?>\n",
       "<!DOCTYPE svg PUBLIC \"-//W3C//DTD SVG 1.1//EN\"\n",
       " \"http://www.w3.org/Graphics/SVG/1.1/DTD/svg11.dtd\">\n",
       "<!-- Generated by graphviz version 2.40.1 (20161225.0304)\n",
       " -->\n",
       "<!-- Title: PT Pages: 1 -->\n",
       "<svg width=\"242pt\" height=\"188pt\"\n",
       " viewBox=\"0.00 0.00 242.00 188.00\" xmlns=\"http://www.w3.org/2000/svg\" xmlns:xlink=\"http://www.w3.org/1999/xlink\">\n",
       "<g id=\"graph0\" class=\"graph\" transform=\"scale(1 1) rotate(0) translate(4 184)\">\n",
       "<title>PT</title>\n",
       "<polygon fill=\"#ffffff\" stroke=\"transparent\" points=\"-4,4 -4,-184 238,-184 238,4 -4,4\"/>\n",
       "<!-- E1^E2_5 -->\n",
       "<g id=\"node1\" class=\"node\">\n",
       "<title>E1^E2_5</title>\n",
       "<ellipse fill=\"none\" stroke=\"#000000\" cx=\"135\" cy=\"-162\" rx=\"35.194\" ry=\"18\"/>\n",
       "<text text-anchor=\"middle\" x=\"135\" y=\"-158.3\" font-family=\"Times,serif\" font-size=\"14.00\" fill=\"#000000\">E1^E2</text>\n",
       "</g>\n",
       "<!-- ~E_2 -->\n",
       "<g id=\"node2\" class=\"node\">\n",
       "<title>~E_2</title>\n",
       "<ellipse fill=\"none\" stroke=\"#000000\" cx=\"63\" cy=\"-90\" rx=\"27\" ry=\"18\"/>\n",
       "<text text-anchor=\"middle\" x=\"63\" y=\"-86.3\" font-family=\"Times,serif\" font-size=\"14.00\" fill=\"#000000\">~E</text>\n",
       "</g>\n",
       "<!-- E1^E2_5&#45;&gt;~E_2 -->\n",
       "<g id=\"edge3\" class=\"edge\">\n",
       "<title>E1^E2_5&#45;&gt;~E_2</title>\n",
       "<path fill=\"none\" stroke=\"#000000\" d=\"M118.6621,-145.6621C108.8185,-135.8185 96.1458,-123.1458 85.3795,-112.3795\"/>\n",
       "<polygon fill=\"#000000\" stroke=\"#000000\" points=\"87.8346,-109.8848 78.2886,-105.2886 82.8848,-114.8346 87.8346,-109.8848\"/>\n",
       "</g>\n",
       "<!-- ^_6 -->\n",
       "<g id=\"node3\" class=\"node\">\n",
       "<title>^_6</title>\n",
       "<ellipse fill=\"none\" stroke=\"#000000\" cx=\"135\" cy=\"-90\" rx=\"27\" ry=\"18\"/>\n",
       "<text text-anchor=\"middle\" x=\"135\" y=\"-86.3\" font-family=\"Times,serif\" font-size=\"14.00\" fill=\"#000000\">^</text>\n",
       "</g>\n",
       "<!-- E1^E2_5&#45;&gt;^_6 -->\n",
       "<g id=\"edge4\" class=\"edge\">\n",
       "<title>E1^E2_5&#45;&gt;^_6</title>\n",
       "<path fill=\"none\" stroke=\"#000000\" d=\"M135,-143.8314C135,-136.131 135,-126.9743 135,-118.4166\"/>\n",
       "<polygon fill=\"#000000\" stroke=\"#000000\" points=\"138.5001,-118.4132 135,-108.4133 131.5001,-118.4133 138.5001,-118.4132\"/>\n",
       "</g>\n",
       "<!-- 2_4 -->\n",
       "<g id=\"node4\" class=\"node\">\n",
       "<title>2_4</title>\n",
       "<ellipse fill=\"none\" stroke=\"#000000\" cx=\"207\" cy=\"-90\" rx=\"27\" ry=\"18\"/>\n",
       "<text text-anchor=\"middle\" x=\"207\" y=\"-86.3\" font-family=\"Times,serif\" font-size=\"14.00\" fill=\"#000000\">2</text>\n",
       "</g>\n",
       "<!-- E1^E2_5&#45;&gt;2_4 -->\n",
       "<g id=\"edge5\" class=\"edge\">\n",
       "<title>E1^E2_5&#45;&gt;2_4</title>\n",
       "<path fill=\"none\" stroke=\"#000000\" d=\"M151.3379,-145.6621C161.1815,-135.8185 173.8542,-123.1458 184.6205,-112.3795\"/>\n",
       "<polygon fill=\"#000000\" stroke=\"#000000\" points=\"187.1152,-114.8346 191.7114,-105.2886 182.1654,-109.8848 187.1152,-114.8346\"/>\n",
       "</g>\n",
       "<!-- ~_3 -->\n",
       "<g id=\"node5\" class=\"node\">\n",
       "<title>~_3</title>\n",
       "<ellipse fill=\"none\" stroke=\"#000000\" cx=\"27\" cy=\"-18\" rx=\"27\" ry=\"18\"/>\n",
       "<text text-anchor=\"middle\" x=\"27\" y=\"-14.3\" font-family=\"Times,serif\" font-size=\"14.00\" fill=\"#000000\">~</text>\n",
       "</g>\n",
       "<!-- ~E_2&#45;&gt;~_3 -->\n",
       "<g id=\"edge1\" class=\"edge\">\n",
       "<title>~E_2&#45;&gt;~_3</title>\n",
       "<path fill=\"none\" stroke=\"#000000\" d=\"M54.2854,-72.5708C50.0403,-64.0807 44.8464,-53.6929 40.1337,-44.2674\"/>\n",
       "<polygon fill=\"#000000\" stroke=\"#000000\" points=\"43.237,-42.6477 35.6343,-35.2687 36.976,-45.7782 43.237,-42.6477\"/>\n",
       "</g>\n",
       "<!-- 2_1 -->\n",
       "<g id=\"node6\" class=\"node\">\n",
       "<title>2_1</title>\n",
       "<ellipse fill=\"none\" stroke=\"#000000\" cx=\"99\" cy=\"-18\" rx=\"27\" ry=\"18\"/>\n",
       "<text text-anchor=\"middle\" x=\"99\" y=\"-14.3\" font-family=\"Times,serif\" font-size=\"14.00\" fill=\"#000000\">2</text>\n",
       "</g>\n",
       "<!-- ~E_2&#45;&gt;2_1 -->\n",
       "<g id=\"edge2\" class=\"edge\">\n",
       "<title>~E_2&#45;&gt;2_1</title>\n",
       "<path fill=\"none\" stroke=\"#000000\" d=\"M71.7146,-72.5708C75.9597,-64.0807 81.1536,-53.6929 85.8663,-44.2674\"/>\n",
       "<polygon fill=\"#000000\" stroke=\"#000000\" points=\"89.024,-45.7782 90.3657,-35.2687 82.763,-42.6477 89.024,-45.7782\"/>\n",
       "</g>\n",
       "</g>\n",
       "</svg>\n"
      ],
      "text/plain": [
       "<graphviz.dot.Digraph at 0x10c2bfcc0>"
      ]
     },
     "execution_count": 4,
     "metadata": {},
     "output_type": "execute_result"
    }
   ],
   "source": [
    "drawPT(parseExp(\"~2^2\"))"
   ]
  },
  {
   "cell_type": "markdown",
   "metadata": {
    "run_control": {
     "frozen": false,
     "read_only": false
    }
   },
   "source": [
    "** Free answer: ** In our calculator, unary minus has higher precedence than exponentiation, as evidenced by a parse tree of **this many** nodes.  "
   ]
  },
  {
   "cell_type": "markdown",
   "metadata": {
    "run_control": {
     "frozen": false,
     "read_only": false
    }
   },
   "source": [
    "## Why does Python give a different answer for the expression ```-2**2``` ?"
   ]
  },
  {
   "cell_type": "code",
   "execution_count": null,
   "metadata": {
    "run_control": {
     "frozen": false,
     "read_only": false
    }
   },
   "outputs": [],
   "source": [
    "# Python evaluation\n",
    "-2 ** 2"
   ]
  },
  {
   "cell_type": "markdown",
   "metadata": {
    "run_control": {
     "frozen": false,
     "read_only": false
    }
   },
   "source": [
    "** Free answer: ** The experiment with the above Python expression shows how our calculator and Python differ. Specifically, the answers are **this one** (calculator) and **this one** (Python). In Python, unary minus binds less tightly than exponentiation.  "
   ]
  },
  {
   "cell_type": "markdown",
   "metadata": {
    "run_control": {
     "frozen": false,
     "read_only": false
    }
   },
   "source": [
    "## In parsing \"2^~3^~4\", the following parse tree was produced.\n",
    "\n",
    "How can we tell that the calculator gives higher precedence to \"~\" (unary minus) and that it right-associates the exponentiation operator?"
   ]
  },
  {
   "cell_type": "code",
   "execution_count": null,
   "metadata": {
    "run_control": {
     "frozen": false,
     "read_only": false
    }
   },
   "outputs": [],
   "source": [
    "drawPT(parseExp(\"2^~3^~4\"))"
   ]
  },
  {
   "cell_type": "markdown",
   "metadata": {
    "run_control": {
     "frozen": false,
     "read_only": false
    }
   },
   "source": [
    "** Free answer: ** \n",
    "\n",
    "We see how the tree of **this many nodes** for the above expression 2^~3^~4 is built, where the value of the second \"^\" flows as the EXPONENT of the first \"^\".  Also see that \"~\" (the unary minus) is incorporated before any exponentiation gets done.  "
   ]
  },
  {
   "cell_type": "markdown",
   "metadata": {
    "run_control": {
     "frozen": false,
     "read_only": false
    }
   },
   "source": [
    "## What does ```2**-3**-4``` produce in Python? Is it the same answer?"
   ]
  },
  {
   "cell_type": "code",
   "execution_count": null,
   "metadata": {
    "run_control": {
     "frozen": false,
     "read_only": false
    }
   },
   "outputs": [],
   "source": [
    "# The above expression typed into Python in Python's syntax is below, and see what it produces!\n",
    "\n",
    "2**-3**-4"
   ]
  },
  {
   "cell_type": "markdown",
   "metadata": {
    "run_control": {
     "frozen": false,
     "read_only": false
    }
   },
   "source": [
    "** Free answer: ** Python differs from our calculator in how it handles ```2**-3**-4``` versus 2^~3^~4. It yields **this answer**.  "
   ]
  },
  {
   "cell_type": "markdown",
   "metadata": {
    "run_control": {
     "frozen": false,
     "read_only": false
    }
   },
   "source": [
    "## Show by full parenthesization how Python parses 2**-3**-4"
   ]
  },
  {
   "cell_type": "code",
   "execution_count": null,
   "metadata": {
    "run_control": {
     "frozen": false,
     "read_only": false
    }
   },
   "outputs": [],
   "source": [
    "2**(-(3**(-4)))"
   ]
  },
  {
   "cell_type": "markdown",
   "metadata": {
    "run_control": {
     "frozen": false,
     "read_only": false
    }
   },
   "source": [
    "** Free answer: ** \n",
    "\n",
    "It parses it as ```2**(-(3**(-4)))```, showing that unary \"-\" does not have the same precedence as exp. However, the exps are processed right-associatively!"
   ]
  },
  {
   "cell_type": "markdown",
   "metadata": {
    "run_control": {
     "frozen": false,
     "read_only": false
    }
   },
   "source": [
    "## Parsing ```6*3/4*~5/(2+3-4-5-6/7*~8)-~9```\n",
    "\n",
    "How many nodes in this parse tree? Same as Python's answer?"
   ]
  },
  {
   "cell_type": "code",
   "execution_count": null,
   "metadata": {
    "run_control": {
     "frozen": false,
     "read_only": false
    }
   },
   "outputs": [],
   "source": [
    "drawPT(parseExp(\"6*3/4*~5/(2+3-4-5-6/7*~8)-~9\"))"
   ]
  },
  {
   "cell_type": "code",
   "execution_count": null,
   "metadata": {
    "run_control": {
     "frozen": false,
     "read_only": false
    }
   },
   "outputs": [],
   "source": [
    "# Check against Python!\n",
    "6*3/4*-5/(2+3-4-5-6/7*-8)--9"
   ]
  },
  {
   "cell_type": "markdown",
   "metadata": {
    "run_control": {
     "frozen": false,
     "read_only": false
    }
   },
   "source": [
    "** Free Answer: **\n",
    "\n",
    "* Yes, same answer as Python, which is **this answer**.  \n",
    "* Over **this many** nodes and below **this many nodes** in the parse tree! "
   ]
  },
  {
   "cell_type": "markdown",
   "metadata": {
    "run_control": {
     "frozen": false,
     "read_only": false
    }
   },
   "source": [
    "## How does Python differ from Google Sheets?"
   ]
  },
  {
   "cell_type": "markdown",
   "metadata": {
    "run_control": {
     "frozen": false,
     "read_only": false
    }
   },
   "source": [
    "With respect to Ref-2,\n",
    "Point out the similarities and differences between C++, Python, and \n",
    "Google Sheets when it comes to handling. Just a few sentences talkingvabout similarities and a few sentences about the differences.\n",
    "    \n",
    "- Associativity of exponentiation\n",
    "- Whether negation or exponentiation is handled first"
   ]
  },
  {
   "cell_type": "markdown",
   "metadata": {
    "run_control": {
     "frozen": false,
     "read_only": false
    }
   },
   "source": [
    "** Free answer: **\n",
    "\n",
    "<span style=\"color: blue\">\n",
    "In `python` and `google-sheets`, the associativity of exponentiation\n",
    "is **right-associative** and in `c++` its **left associative**\n",
    "</span>\n",
    "\n",
    "<span style=\"color: blue\">\n",
    "**negation** is handled first by `c++` and `google-sheets`\n",
    "and **exponentiation** is handled first in `python`\n",
    "</span>"
   ]
  },
  {
   "cell_type": "code",
   "execution_count": null,
   "metadata": {
    "run_control": {
     "frozen": false,
     "read_only": false
    }
   },
   "outputs": [],
   "source": []
  }
 ],
 "metadata": {
  "kernelspec": {
   "display_name": "Python 3",
   "language": "python",
   "name": "python3"
  },
  "language_info": {
   "codemirror_mode": {
    "name": "ipython",
    "version": 3
   },
   "file_extension": ".py",
   "mimetype": "text/x-python",
   "name": "python",
   "nbconvert_exporter": "python",
   "pygments_lexer": "ipython3",
   "version": "3.7.3"
  },
  "toc": {
   "colors": {
    "hover_highlight": "#DAA520",
    "running_highlight": "#FF0000",
    "selected_highlight": "#FFD700"
   },
   "moveMenuLeft": true,
   "nav_menu": {
    "height": "12px",
    "width": "252px"
   },
   "navigate_menu": true,
   "number_sections": true,
   "sideBar": true,
   "threshold": 4,
   "toc_cell": false,
   "toc_section_display": "block",
   "toc_window_display": false,
   "widenNotebook": false
  }
 },
 "nbformat": 4,
 "nbformat_minor": 2
}
