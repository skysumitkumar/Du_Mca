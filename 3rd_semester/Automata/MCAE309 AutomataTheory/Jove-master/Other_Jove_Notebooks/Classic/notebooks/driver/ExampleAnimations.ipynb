{
 "cells": [
  {
   "cell_type": "markdown",
   "metadata": {},
   "source": [
    "The all of the .py files (there are 5) should be placed in the jove folder"
   ]
  },
  {
   "cell_type": "code",
   "execution_count": null,
   "metadata": {
    "scrolled": true
   },
   "outputs": [],
   "source": [
    "#~~~~~~~~~~~~~~~~~~~~~~~~~~~~~~~~~~~~~~~~~~~~~~~~~~~~~~~\n",
    "import sys\n",
    "\n",
    "# -- Detect if in Own Install or in Colab\n",
    "try:\n",
    "    import google.colab\n",
    "    OWN_INSTALL = False\n",
    "except:\n",
    "    OWN_INSTALL = True\n",
    "    \n",
    "if OWN_INSTALL:\n",
    "    \n",
    "  #---- Leave these definitions ON if running on laptop\n",
    "  #---- Else turn OFF by putting them between ''' ... '''\n",
    "\n",
    "  sys.path[0:0] = ['../../../../..',  '../../../../../3rdparty',  \n",
    "                   '../../../..',  '../../../../3rdparty',  \n",
    "                   '../../..',     '../../../3rdparty', \n",
    "                   '../..',        '../../3rdparty',\n",
    "                   '..',           '../3rdparty' ]\n",
    "\n",
    "else: # In colab\n",
    "  ! if [ ! -d Jove ]; then git clone https://github.com/anon-Jove/Jove Jove; fi\n",
    "  sys.path.append('./Jove')\n",
    "  sys.path.append('./Jove/jove')\n",
    "\n",
    "# -- common imports --\n",
    "from jove.Def_md2mc      import *\n",
    "from jove.AnimateDFA     import *\n",
    "from jove.AnimateNFA     import *\n",
    "from jove.AnimatePDA     import *\n",
    "from jove.AnimateTM      import *\n",
    "#~~~~~~~~~~~~~~~~~~~~~~~~~~~~~~~~~~~~~~~~~~~~~~~~~~~~~~~"
   ]
  },
  {
   "cell_type": "markdown",
   "metadata": {},
   "source": [
    "# Simple examples of animated machines"
   ]
  },
  {
   "cell_type": "code",
   "execution_count": null,
   "metadata": {},
   "outputs": [],
   "source": [
    "ev0end1 = md2mc('''\n",
    "DFA\n",
    "I : ' -> A\n",
    "A : ' | ] -> I\n",
    "I : ] -> F\n",
    "F : ' | ] -> I\n",
    "''')"
   ]
  },
  {
   "cell_type": "code",
   "execution_count": null,
   "metadata": {
    "scrolled": false
   },
   "outputs": [],
   "source": [
    "AnimateDFA(ev0end1, FuseEdges=True)\n",
    "display(HTML('<link rel=\"stylesheet\" href=\"//stackpath.bootstrapcdn.com/font-awesome/4.7.0/css/font-awesome.min.css\"/>'))"
   ]
  },
  {
   "cell_type": "code",
   "execution_count": null,
   "metadata": {},
   "outputs": [],
   "source": [
    "nfahas01 = md2mc('''\n",
    "NFA \n",
    "I : ( | ) -> I\n",
    "I : '' -> A\n",
    "A : (  -> B\n",
    "B : )  -> C\n",
    "C : ( | ) -> C\n",
    "C : '' -> F\n",
    "''')"
   ]
  },
  {
   "cell_type": "code",
   "execution_count": null,
   "metadata": {},
   "outputs": [],
   "source": [
    "AnimateNFA(nfahas01, FuseEdges=True)\n",
    "display(HTML('<link rel=\"stylesheet\" href=\"//stackpath.bootstrapcdn.com/font-awesome/4.7.0/css/font-awesome.min.css\"/>'))"
   ]
  },
  {
   "cell_type": "code",
   "execution_count": null,
   "metadata": {},
   "outputs": [],
   "source": [
    "f27sip = md2mc('''\n",
    "PDA \n",
    "!!---------------------------------------\n",
    "!! This is a PDA From Sipser's book\n",
    "!! This matches a's and b's ignoring c's\n",
    "!! or matches a's and c's, ignoring b's \n",
    "!! in the middle. Thus, the language is\n",
    "!! a^m b^m c^n or a^m b^n c^m\n",
    "!!---------------------------------------\n",
    "\n",
    "!!---------------------------------------------------------------------------\n",
    "!! State: in , sin ; spush -> tostates !! comment\n",
    "!!---------------------------------------------------------------------------\n",
    "iq2    : a  , ''  ; a     -> iq2      !!  stack a's\n",
    "iq2    : '' , ''  ; ''    -> q3,q5    !!  split non-det for a^m b^m c^n (q3)\n",
    "                                      !!  or a^m b^n c^m (q5)\n",
    "\t\t\t     \n",
    "q3     : b  , a   ; ''    -> q3       !!  match b's against a's\n",
    "q3     : '' , #   ; ''    -> fq4      !!  hope for acceptance when # surfaces\n",
    "\n",
    "fq4    : c  , ''  ; ''    -> fq4      !!  be happy so long as c's come\n",
    "                                      !!  will choke and reject if anything\n",
    "\t\t\t              !!  other than c's come\n",
    "\n",
    "q5     : b  , ''  ; ''    -> q5       !!  here, we are going to punt over b's\n",
    "q5     : '' , ''  ; ''    -> q6       !!  and non-det decide to honor c's matching\n",
    "                                      !!  against a's\n",
    "\n",
    "q6     : c  , a   ; ''    -> q6       !!  OK to match so long as c's keep coming\n",
    "q6     : '' , #   ; ''    -> fq7      !!  when # surfaces, be ready to accept in\n",
    "                                      !!  state fq7. However, anything else coming in\n",
    "\t\t\t                          !!  now will foil match and cause rejection.\n",
    "!!---------------------------------------------------------------------------\n",
    "''')"
   ]
  },
  {
   "cell_type": "code",
   "execution_count": null,
   "metadata": {},
   "outputs": [],
   "source": [
    "AnimatePDA(f27sip)\n",
    "display(HTML('<link rel=\"stylesheet\" href=\"//stackpath.bootstrapcdn.com/font-awesome/4.7.0/css/font-awesome.min.css\"/>'))"
   ]
  },
  {
   "cell_type": "code",
   "execution_count": null,
   "metadata": {},
   "outputs": [],
   "source": [
    "ptest = md2mc('''\n",
    "PDA\n",
    "IF : 0,#   ; #              ->  A,C\n",
    "IF : 1,#  ; 1#             ->  B\n",
    "A  : 0,''  ; '' | 1, '' ; # ->  B\n",
    "B  : '','' ; ''             ->  F\n",
    "B  : '',#  ; 10#            -> IF\n",
    "F  : 0,1   ; 1              -> A,B,IF\n",
    "''')\n",
    "print(ptest)"
   ]
  },
  {
   "cell_type": "code",
   "execution_count": null,
   "metadata": {},
   "outputs": [],
   "source": [
    "a, b, c = run_pda('00', ptest)\n",
    "for p in b:\n",
    "    print(p)"
   ]
  },
  {
   "cell_type": "code",
   "execution_count": null,
   "metadata": {},
   "outputs": [],
   "source": [
    "AnimatePDA(ptest)\n",
    "display(HTML('<link rel=\"stylesheet\" href=\"//stackpath.bootstrapcdn.com/font-awesome/4.7.0/css/font-awesome.min.css\"/>'))"
   ]
  },
  {
   "cell_type": "code",
   "execution_count": null,
   "metadata": {},
   "outputs": [],
   "source": [
    "ndtm101 = md2mc('''TM\n",
    "\n",
    "I : 0; A, R | 1; B, R -> I\n",
    "I : 0; 0, S | 1; 1, S -> TryMyLuck\n",
    "\n",
    "TryMyLuck : 1; Q, R -> Got1Sk0\n",
    "Got1Sk0   : 0; P, R -> Got10Sk1\n",
    "Got10Sk1  : 1; Q, R -> Found101\n",
    "\n",
    "I : .; ., R -> Reject\n",
    " \n",
    "''')"
   ]
  },
  {
   "cell_type": "code",
   "execution_count": null,
   "metadata": {},
   "outputs": [],
   "source": [
    "explore_tm(ndtm101, '0000010101', 10)"
   ]
  },
  {
   "cell_type": "code",
   "execution_count": null,
   "metadata": {},
   "outputs": [],
   "source": [
    "AnimateTM(ndtm101, FuseEdges=True, show_rejected=False)\n",
    "display(HTML('<link rel=\"stylesheet\" href=\"//stackpath.bootstrapcdn.com/font-awesome/4.7.0/css/font-awesome.min.css\"/>'))"
   ]
  }
 ],
 "metadata": {
  "kernelspec": {
   "display_name": "Python 3",
   "language": "python",
   "name": "python3"
  },
  "language_info": {
   "codemirror_mode": {
    "name": "ipython",
    "version": 3
   },
   "file_extension": ".py",
   "mimetype": "text/x-python",
   "name": "python",
   "nbconvert_exporter": "python",
   "pygments_lexer": "ipython3",
   "version": "3.7.3"
  }
 },
 "nbformat": 4,
 "nbformat_minor": 2
}
