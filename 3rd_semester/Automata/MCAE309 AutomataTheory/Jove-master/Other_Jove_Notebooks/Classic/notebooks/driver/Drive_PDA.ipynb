{
 "cells": [
  {
   "cell_type": "markdown",
   "metadata": {
    "run_control": {
     "frozen": false,
     "read_only": false
    }
   },
   "source": [
    " # Tests on PDA"
   ]
  },
  {
   "cell_type": "code",
   "execution_count": null,
   "metadata": {
    "run_control": {
     "frozen": false,
     "read_only": false
    }
   },
   "outputs": [],
   "source": [
    "#~~~~~~~~~~~~~~~~~~~~~~~~~~~~~~~~~~~~~~~~~~~~~~~~~~~~~~~\n",
    "import sys\n",
    "\n",
    "# -- Detect if in Own Install or in Colab\n",
    "try:\n",
    "    import google.colab\n",
    "    OWN_INSTALL = False\n",
    "except:\n",
    "    OWN_INSTALL = True\n",
    "    \n",
    "if OWN_INSTALL:\n",
    "    \n",
    "  #---- Leave these definitions ON if running on laptop\n",
    "  #---- Else turn OFF by putting them between ''' ... '''\n",
    "\n",
    "  sys.path[0:0] = ['../../../../..',  '../../../../../3rdparty',  \n",
    "                   '../../../..',  '../../../../3rdparty',  \n",
    "                   '../../..',     '../../../3rdparty', \n",
    "                   '../..',        '../../3rdparty',\n",
    "                   '..',           '../3rdparty' ]\n",
    "\n",
    "else: # In colab\n",
    "  ! if [ ! -d Jove ]; then git clone https://github.com/anon-Jove/Jove Jove; fi\n",
    "  sys.path.append('./Jove')\n",
    "  sys.path.append('./Jove/jove')\n",
    "\n",
    "# -- common imports --\n",
    "from jove.SystemImports import *\n",
    "from jove.DotBashers    import *\n",
    "from jove.Def_md2mc     import *\n",
    "from jove.Def_PDA       import *\n",
    "#~~~~~~~~~~~~~~~~~~~~~~~~~~~~~~~~~~~~~~~~~~~~~~~~~~~~~~~"
   ]
  },
  {
   "cell_type": "code",
   "execution_count": null,
   "metadata": {
    "run_control": {
     "frozen": false,
     "read_only": false
    }
   },
   "outputs": [],
   "source": [
    "# Example PDA that recognizes balanced parentheses\n",
    "\n",
    "P1bp  = { \"Q\"     : {\"s0\", \"s1\", \"s2\"},\n",
    "           \"Sigma\" : {'(',')'},\n",
    "           \"Gamma\" : {\"(\",\")\",'z'},\n",
    "           \"Delta\" : { ('s0','(','z') : { ('s1','(z') }, # push z; push (\n",
    "                       ('s1','(','z') : { ('s1','(z') }, # push z; push (\n",
    "                       ('s1','(','(') : { ('s1','((') }, # push (; push (\n",
    "                       ('s1','(',')') : { ('s1','()') }, # push ); push (\n",
    "                       ('s1',')','(') : { ('s1','')   }, # push nothing\n",
    "                       ('s1','','z')  : { ('s2','')   }  # push nothing\n",
    "                     },\n",
    "           \"q0\"    : \"s0\",\n",
    "           \"z0\"    : 'z',\n",
    "           \"F\"     : {\"s2\"}\n",
    "         }\n",
    "chk_consistent_pda(P1bp)"
   ]
  },
  {
   "cell_type": "code",
   "execution_count": null,
   "metadata": {
    "run_control": {
     "frozen": false,
     "read_only": false
    }
   },
   "outputs": [],
   "source": [
    "# A variant of P1bp with some redundant transitions added (to take the PDA out of a \n",
    "P2bp    = { \"Q\"     : {\"s0\", \"s1\", \"s2\"},\n",
    "           \"Sigma\" : {'(',')'},\n",
    "           \"Gamma\" : {\"(\",\")\",\"z\"},\n",
    "           \"Delta\" : { ('s0','(','z') : { ('s1','(z') }, # push z; push (\n",
    "                       ('s1','(','z') : { ('s1','(z') }, # push z; push (\n",
    "                       ('s1','(','(') : { ('s1','((') }, # push (; push (\n",
    "                       ('s1','(',')') : { ('s1','()') }, # push ); push (\n",
    "                       ('s1',')','(') : { ('s1','')   }, # push nothing\n",
    "                       ('s1','','z')  : { ('s2','')   },  # push nothing\n",
    "                       ('s2','','')   : { ('s2','')   }\n",
    "                     },\n",
    "           \"q0\"    : \"s0\",\n",
    "           \"z0\"    : 'z',\n",
    "           \"F\"     : {\"s2\"}\n",
    "         }\n",
    "\n",
    "chk_consistent_pda(P2bp)"
   ]
  },
  {
   "cell_type": "code",
   "execution_count": null,
   "metadata": {
    "run_control": {
     "frozen": false,
     "read_only": false
    }
   },
   "outputs": [],
   "source": [
    "# A variant of P2bp with some redundant transitions added (to take the PDA out of a \n",
    "P3bp    = { \"Q\"     : {\"s0\", \"s1\", \"s2\",\"s3\"},\n",
    "           \"Sigma\" : {'(',')'},\n",
    "           \"Gamma\" : {\"(\",\")\",\"z\"},\n",
    "           \"Delta\" : { ('s0','(','z') : { ('s1','(z') }, # push z; push (\n",
    "                       ('s1','(','z') : { ('s1','(z') }, # push z; push (\n",
    "                       ('s1','(','(') : { ('s1','((') }, # push (; push (\n",
    "                       ('s1','(',')') : { ('s1','()') }, # push ); push (\n",
    "                       ('s1',')','(') : { ('s1','')   }, # push nothing\n",
    "                       ('s1','','z')  : { ('s2','')   },  # push nothing\n",
    "                       ('s2','','')   : { ('s3','')   } # run away to s3\n",
    "                     },    # still it matters that a fleeting glimpse of\n",
    "           \"q0\"    : \"s0\", # 's2' has been had, with input consumed!\n",
    "           \"z0\"    : 'z',  # That is enough for acceptance. Tsk, tsk!\n",
    "           \"F\"     : {\"s2\"}\n",
    "         }\n",
    "\n",
    "chk_consistent_pda(P3bp) "
   ]
  },
  {
   "cell_type": "code",
   "execution_count": null,
   "metadata": {
    "run_control": {
     "frozen": false,
     "read_only": false
    }
   },
   "outputs": [],
   "source": [
    "Pev = { \"Sigma\" : {'a','b'},\n",
    "        \"Q\"     : {\"S0\", \"S1\", \"S2\",\"S3\"},\n",
    "        \"Gamma\" : {'a','b','1','Z'},\n",
    "        \"Delta\" : {('S0','a','Z'): {('S1','1Z')},\n",
    "                   ('S1','a','1'): {('S1','11')},\n",
    "                   ('S1','b','1'): {('S2','')},\n",
    "                   ('S2','b','1'): {('S2','')},\n",
    "                   ('S2','','Z') : {('S3','')} },\n",
    "        \"q0\"    : \"S0\",\n",
    "        \"z0\"    : \"Z\",\n",
    "        \"F\"     : { \"S3\" } }\n",
    "\n",
    "chk_consistent_pda(Pev)"
   ]
  },
  {
   "cell_type": "code",
   "execution_count": null,
   "metadata": {
    "run_control": {
     "frozen": false,
     "read_only": false
    }
   },
   "outputs": [],
   "source": [
    "dotObj_pda(Pev)"
   ]
  },
  {
   "cell_type": "code",
   "execution_count": null,
   "metadata": {
    "run_control": {
     "frozen": false,
     "read_only": false
    }
   },
   "outputs": [],
   "source": [
    "list(P2bp[\"Delta\"].items())"
   ]
  },
  {
   "cell_type": "code",
   "execution_count": null,
   "metadata": {
    "run_control": {
     "frozen": false,
     "read_only": false
    }
   },
   "outputs": [],
   "source": [
    "dotObj_pda(P2bp)"
   ]
  },
  {
   "cell_type": "code",
   "execution_count": null,
   "metadata": {
    "run_control": {
     "frozen": false,
     "read_only": false
    }
   },
   "outputs": [],
   "source": [
    "dotObj_pda(P2bp, FuseEdges=True)"
   ]
  },
  {
   "cell_type": "code",
   "execution_count": null,
   "metadata": {
    "run_control": {
     "frozen": false,
     "read_only": false
    }
   },
   "outputs": [],
   "source": [
    "dotObj_pda(P1bp)"
   ]
  },
  {
   "cell_type": "code",
   "execution_count": null,
   "metadata": {
    "run_control": {
     "frozen": false,
     "read_only": false
    }
   },
   "outputs": [],
   "source": [
    "dotObj_pda(P3bp)"
   ]
  },
  {
   "cell_type": "code",
   "execution_count": null,
   "metadata": {
    "run_control": {
     "frozen": false,
     "read_only": false
    }
   },
   "outputs": [],
   "source": [
    "dotObj_pda(P3bp, True)"
   ]
  },
  {
   "cell_type": "markdown",
   "metadata": {
    "run_control": {
     "frozen": false,
     "read_only": false
    }
   },
   "source": [
    "# Routines to run PDA \n",
    "\n",
    "We now devise a routine to run a PDA according to either the \"accept by final state\" criterion or \"accept by empty stack\" criterion. We call these \"ACCEPT_F\" and \"ACCEPT_S\" with the default being ACCEPT_F.  The main difference is that the \"final\" configurations are collected differently."
   ]
  },
  {
   "cell_type": "code",
   "execution_count": null,
   "metadata": {
    "run_control": {
     "frozen": false,
     "read_only": false
    }
   },
   "outputs": [],
   "source": [
    "test = {\"Sigma\" : {'0','1'},\n",
    "        \"Q\"     : {'q1','q2','q3','q4','q33','q44','q22'},\n",
    "        \"Gamma\" : {'0','1','$'},\n",
    "        \"Delta\" : {('q1','',''): {('q2','$')},\n",
    "                   \n",
    "                   ('q2','0',''): {('q2','0')},  \n",
    "                   ('q2','','0'): {('q22','0')}, \n",
    "                   \n",
    "                   ('q2','1',''): {('q2','1')},\n",
    "                   ('q2','','1'): {('q33','1')},\n",
    "                   ('q2','1','1'): {('q44','1')},\n",
    "                   ('q2','',''): {('q3','')}, \n",
    "                   \n",
    "                   ('q3','0','0'): {('q3','')},\n",
    "                   ('q3','1','1'): {('q3','')},\n",
    "                   ('q3','','$') : {('q4','')}\n",
    "                  },\n",
    "        \"z0\"    : \"$\",\n",
    "        \"q0\"    : \"q1\",\n",
    "        \"F\"     : {'q1','q4'} }\n",
    "chk_consistent_pda(test)"
   ]
  },
  {
   "cell_type": "code",
   "execution_count": null,
   "metadata": {
    "run_control": {
     "frozen": false,
     "read_only": false
    }
   },
   "outputs": [],
   "source": [
    "dotObj_pda(P2bp)"
   ]
  },
  {
   "cell_type": "code",
   "execution_count": null,
   "metadata": {
    "run_control": {
     "frozen": false,
     "read_only": false
    }
   },
   "outputs": [],
   "source": [
    "explore_pda(\"()\", P2bp)"
   ]
  },
  {
   "cell_type": "code",
   "execution_count": null,
   "metadata": {
    "run_control": {
     "frozen": false,
     "read_only": false
    }
   },
   "outputs": [],
   "source": [
    "dotObj_pda(Pev)"
   ]
  },
  {
   "cell_type": "code",
   "execution_count": null,
   "metadata": {
    "run_control": {
     "frozen": false,
     "read_only": false
    }
   },
   "outputs": [],
   "source": [
    "explore_pda(\"ab\", Pev)"
   ]
  },
  {
   "cell_type": "code",
   "execution_count": null,
   "metadata": {
    "run_control": {
     "frozen": false,
     "read_only": false
    }
   },
   "outputs": [],
   "source": [
    "Pev1 = { \"Sigma\" : {'a','b'},\n",
    "        \"Q\"     : {\"S0\", \"S1\", \"S2\",\"S3\"},\n",
    "        \"Gamma\" : {'a','b','1',\"Z\"},\n",
    "        \"Delta\" : {('S0','a','Z'): {('S1','1Z')},\n",
    "                   ('S1','a','1'): {('S1','11')},\n",
    "                   ('S1','b','1'): {('S2','')},\n",
    "                   ('S2','b','1'): {('S2','')},\n",
    "                   ('S2','','Z') : {('S3','')},\n",
    "                   ('S3','', '') : {('S2', '111')}\n",
    "                  },\n",
    "        \"q0\"    : \"S0\",\n",
    "        \"z0\"    : \"Z\",\n",
    "        \"F\"     : { \"S3\" } }\n"
   ]
  },
  {
   "cell_type": "code",
   "execution_count": null,
   "metadata": {
    "run_control": {
     "frozen": false,
     "read_only": false
    }
   },
   "outputs": [],
   "source": [
    "dotObj_pda(Pev1)"
   ]
  },
  {
   "cell_type": "code",
   "execution_count": null,
   "metadata": {
    "run_control": {
     "frozen": false,
     "read_only": false
    }
   },
   "outputs": [],
   "source": [
    "dotObj_pda(Pev1, visible_eps=True)"
   ]
  },
  {
   "cell_type": "code",
   "execution_count": null,
   "metadata": {
    "run_control": {
     "frozen": false,
     "read_only": false
    }
   },
   "outputs": [],
   "source": [
    "Pev1 = { \"Sigma\" : {'a','b'},\n",
    "        \"Q\"     : {\"S0\", \"S1\", \"S2\",\"S3\"},\n",
    "        \"Gamma\" : {'a','b','1',\"Z\"},\n",
    "        \"Delta\" : {('S0','a','Z'): {('S1','1Z')},\n",
    "                   ('S1','a','1'): {('S1','11')},\n",
    "                   ('S1','b','1'): {('S2','')},\n",
    "                   ('S2','b','1'): {('S2','')},\n",
    "                   ('S2','','Z') : {('S3','')},\n",
    "                   ('S3','', '') : {('S2', '111')}\n",
    "                  },\n",
    "        \"q0\"    : \"S0\",\n",
    "        \"z0\"    : \"Z\",\n",
    "        \"F\"     : { \"S3\" } }\n",
    "chk_consistent_pda(Pev1)"
   ]
  },
  {
   "cell_type": "code",
   "execution_count": null,
   "metadata": {
    "run_control": {
     "frozen": false,
     "read_only": false
    }
   },
   "outputs": [],
   "source": [
    "explore_pda(\"aabb\", Pev1)"
   ]
  },
  {
   "cell_type": "code",
   "execution_count": null,
   "metadata": {
    "run_control": {
     "frozen": false,
     "read_only": false
    }
   },
   "outputs": [],
   "source": [
    "Pev2 = {\"Sigma\" : {'a','b'},\n",
    "        \"Q\"     : {\"S0\", \"S1\", \"S2\",\"S3\"},\n",
    "        \"Gamma\" : {'a','b','1',\"Z\"},\n",
    "        \"Delta\" : {('S0','a','Z'): {('S1','1Z')},\n",
    "                   ('S1','a','1'): {('S1','11')},\n",
    "                   ('S1','b','1'): {('S2','')},\n",
    "                   ('S2','b','1'): {('S2','')},\n",
    "                   ('S2','','Z') : {('S3','')},\n",
    "                   ('S3','', '') : {('S2', '111')}\n",
    "                  },\n",
    "        \"q0\"    : \"S0\",\n",
    "        \"z0\"    : \"Z\",\n",
    "        \"F\"     : set({  }) }\n",
    "chk_consistent_pda(Pev2)"
   ]
  },
  {
   "cell_type": "code",
   "execution_count": null,
   "metadata": {
    "run_control": {
     "frozen": false,
     "read_only": false
    }
   },
   "outputs": [],
   "source": [
    "dotObj_pda(Pev2)"
   ]
  },
  {
   "cell_type": "code",
   "execution_count": null,
   "metadata": {
    "run_control": {
     "frozen": false,
     "read_only": false
    }
   },
   "outputs": [],
   "source": [
    "# Acceptance by final state is impossible because there are no final states\n",
    "explore_pda(\"aabb\", Pev2)"
   ]
  },
  {
   "cell_type": "code",
   "execution_count": null,
   "metadata": {
    "run_control": {
     "frozen": false,
     "read_only": false
    }
   },
   "outputs": [],
   "source": [
    "# Acceptance by empty stack is possible, as in S3\n",
    "# the input is fully consumed and the stack is empty\n",
    "explore_pda(\"aabb\", Pev2, \"ACCEPT_S\")"
   ]
  },
  {
   "cell_type": "code",
   "execution_count": null,
   "metadata": {
    "run_control": {
     "frozen": false,
     "read_only": false
    }
   },
   "outputs": [],
   "source": [
    "Pev3 = {\"Sigma\" : {'a','b'},\n",
    "        \"Q\"     : {\"S0\", \"S1\", \"S2\",\"S3\"},\n",
    "        \"Gamma\" : {'a','b','1',\"Z\"},\n",
    "        \"Delta\" : {('S0','a','Z'): {('S1','1Z')},\n",
    "                   ('S1','a','1'): {('S1','11')},\n",
    "                   ('S1','b','1'): {('S2','')},\n",
    "                   ('S2','b','1'): {('S2','')},\n",
    "                   ('S2','','Z') : {('S3','')},\n",
    "                   ('S3','', '') : {('S2', '111')}\n",
    "                  },\n",
    "        \"q0\"    : \"S0\",\n",
    "        \"z0\"    : \"Z\",\n",
    "        \"F\"     : {\"S2\", \"S3\"} }\n",
    "chk_consistent_pda(Pev3)"
   ]
  },
  {
   "cell_type": "code",
   "execution_count": null,
   "metadata": {
    "run_control": {
     "frozen": false,
     "read_only": false
    }
   },
   "outputs": [],
   "source": [
    "dotObj_pda(Pev3)"
   ]
  },
  {
   "cell_type": "code",
   "execution_count": null,
   "metadata": {
    "run_control": {
     "frozen": false,
     "read_only": false
    }
   },
   "outputs": [],
   "source": [
    "# Acceptance at S2, but also continuing on, at S3 and back at S2 also\n",
    "explore_pda(\"aabb\", Pev3)"
   ]
  },
  {
   "cell_type": "code",
   "execution_count": null,
   "metadata": {
    "run_control": {
     "frozen": false,
     "read_only": false
    }
   },
   "outputs": [],
   "source": [
    "explore_pda(\"aaabbb\", Pev3)"
   ]
  },
  {
   "cell_type": "code",
   "execution_count": null,
   "metadata": {
    "run_control": {
     "frozen": false,
     "read_only": false
    }
   },
   "outputs": [],
   "source": [
    "dotObj_pda(Pev)"
   ]
  },
  {
   "cell_type": "code",
   "execution_count": null,
   "metadata": {
    "run_control": {
     "frozen": false,
     "read_only": false
    }
   },
   "outputs": [],
   "source": [
    "# Rejection because of mismatched lengths of a's and b's\n",
    "explore_pda(\"aaaabbb\", Pev)"
   ]
  },
  {
   "cell_type": "code",
   "execution_count": null,
   "metadata": {
    "run_control": {
     "frozen": false,
     "read_only": false
    }
   },
   "outputs": [],
   "source": [
    "explore_pda(\"aaaabbbb\", Pev1)"
   ]
  },
  {
   "cell_type": "code",
   "execution_count": null,
   "metadata": {
    "run_control": {
     "frozen": false,
     "read_only": false
    }
   },
   "outputs": [],
   "source": [
    "explore_pda(\"aaaabbbb\", Pev2)"
   ]
  },
  {
   "cell_type": "code",
   "execution_count": null,
   "metadata": {
    "run_control": {
     "frozen": false,
     "read_only": false
    }
   },
   "outputs": [],
   "source": [
    "dotObj_pda(Pev2)"
   ]
  },
  {
   "cell_type": "code",
   "execution_count": null,
   "metadata": {
    "run_control": {
     "frozen": false,
     "read_only": false
    }
   },
   "outputs": [],
   "source": [
    "F27sip = {\"Sigma\" : {'a','b','c'},\n",
    "        \"Q\"     : {\"q1\",\"q2\",\"q3\",\"q4\",\"q5\",\"q6\",\"q7\"},\n",
    "        \"Gamma\" : {'a','b','c','$'},\n",
    "        \"Delta\" : {('q1','','')  : { ('q2','$')},\n",
    "                   \n",
    "                   ('q2','a',''): { ('q2','a') },\n",
    "                   ('q2','',''): { ('q3',''), ('q5','') },\n",
    "                   \n",
    "                   ('q3','b','a'): { ('q3','') },\n",
    "                   ('q3','','$'): { ('q4','') },\n",
    "                   \n",
    "                   ('q4','c',''): { ('q4','') },\n",
    "                   \n",
    "                   ('q5','b',''): { ('q5','') },\n",
    "                   ('q5','',''): { ('q6','') },\n",
    "                   \n",
    "                   ('q6','c','a'): { ('q6','') },\n",
    "                   ('q6','','$'): { ('q7','') }\n",
    "                  },\n",
    "        \"q0\"    : \"q1\",\n",
    "        \"z0\"    : \"$\",\n",
    "        \"F\"     : {'q4','q7'} }\n",
    "chk_consistent_pda(F27sip)"
   ]
  },
  {
   "cell_type": "code",
   "execution_count": null,
   "metadata": {
    "run_control": {
     "frozen": false,
     "read_only": false
    }
   },
   "outputs": [],
   "source": [
    "dotObj_pda(F27sip)"
   ]
  },
  {
   "cell_type": "code",
   "execution_count": null,
   "metadata": {
    "run_control": {
     "frozen": false,
     "read_only": false
    }
   },
   "outputs": [],
   "source": [
    "wwr = {\"Sigma\" : {'0','1'},\n",
    "        \"Q\"     : {'q1','q2','q3','q4'},\n",
    "        \"Gamma\" : {'0','1','$'},\n",
    "        \"Delta\" : {('q1','',''): {('q2','$')},\n",
    "                   ('q2','0',''): {('q2','0')},  \n",
    "                   ('q2','1',''): {('q2','1')}, \n",
    "                   ('q2','',''): {('q3','')}, \n",
    "                   ('q3','0','0'): {('q3','')},\n",
    "                   ('q3','1','1'): {('q3','')},\n",
    "                   ('q3','','$') : {('q4','')}\n",
    "                  },\n",
    "        \"q0\"    : \"q1\",\n",
    "        \"z0\"    : \"$\",\n",
    "        \"F\"     : {'q1','q4'} }\n",
    "chk_consistent_pda(wwr)"
   ]
  },
  {
   "cell_type": "code",
   "execution_count": null,
   "metadata": {
    "run_control": {
     "frozen": false,
     "read_only": false
    }
   },
   "outputs": [],
   "source": [
    "dotObj_pda(wwr)"
   ]
  },
  {
   "cell_type": "code",
   "execution_count": null,
   "metadata": {
    "run_control": {
     "frozen": false,
     "read_only": false
    }
   },
   "outputs": [],
   "source": [
    "dotObj_pda(wwr, FuseEdges=True)"
   ]
  },
  {
   "cell_type": "code",
   "execution_count": null,
   "metadata": {
    "run_control": {
     "frozen": false,
     "read_only": false
    }
   },
   "outputs": [],
   "source": [
    "dotObj_pda(F27sip)"
   ]
  },
  {
   "cell_type": "code",
   "execution_count": null,
   "metadata": {
    "run_control": {
     "frozen": false,
     "read_only": false
    }
   },
   "outputs": [],
   "source": [
    "explore_pda(\"aabcc\",F27sip)"
   ]
  },
  {
   "cell_type": "code",
   "execution_count": null,
   "metadata": {
    "run_control": {
     "frozen": false,
     "read_only": false
    }
   },
   "outputs": [],
   "source": [
    "dotObj_pda(F27sip, visible_eps=True)"
   ]
  },
  {
   "cell_type": "code",
   "execution_count": null,
   "metadata": {
    "run_control": {
     "frozen": false,
     "read_only": false
    }
   },
   "outputs": [],
   "source": [
    "dotObj_pda(F27sip, visible_eps=False)"
   ]
  },
  {
   "cell_type": "code",
   "execution_count": null,
   "metadata": {
    "run_control": {
     "frozen": false,
     "read_only": false
    }
   },
   "outputs": [],
   "source": [
    "onestpda = {\"Sigma\" : {'a','b','c'},\n",
    "        \"Q\"     : { \"q7\"},\n",
    "        \"Gamma\" : { 'a','b','c','$'},\n",
    "        \"Delta\" : { \n",
    "                   ('q7','',''): {('q7','aa')}\n",
    "                  },\n",
    "        \"q0\"    : \"q7\",\n",
    "        \"z0\"    : \"$\",\n",
    "        \"F\"     : set({ }) }\n",
    "chk_consistent_pda(onestpda)"
   ]
  },
  {
   "cell_type": "code",
   "execution_count": null,
   "metadata": {
    "run_control": {
     "frozen": false,
     "read_only": false
    }
   },
   "outputs": [],
   "source": [
    "dotObj_pda(onestpda)"
   ]
  },
  {
   "cell_type": "code",
   "execution_count": null,
   "metadata": {
    "run_control": {
     "frozen": false,
     "read_only": false
    }
   },
   "outputs": [],
   "source": [
    "explore_pda(\"a\",onestpda)"
   ]
  },
  {
   "cell_type": "code",
   "execution_count": null,
   "metadata": {
    "run_control": {
     "frozen": false,
     "read_only": false
    }
   },
   "outputs": [],
   "source": [
    "# This accepts nondeterministically by matching a's and b's\n",
    "# as well as a's and c's\n",
    "explore_pda(\"aabbcc\",F27sip)"
   ]
  },
  {
   "cell_type": "code",
   "execution_count": null,
   "metadata": {
    "run_control": {
     "frozen": false,
     "read_only": false
    }
   },
   "outputs": [],
   "source": [
    "explore_pda(\"aaabbbccc\",F27sip)"
   ]
  },
  {
   "cell_type": "code",
   "execution_count": null,
   "metadata": {
    "run_control": {
     "frozen": false,
     "read_only": false
    }
   },
   "outputs": [],
   "source": [
    "onestpda1 = {\"Sigma\" : {'a','b','c'},\n",
    "        \"Q\"     : { \"q7\"},\n",
    "        \"Gamma\" : { 'a','b','c','$'},\n",
    "        \"Delta\" : { \n",
    "                   ('q7','',''): {('q7','aa')}\n",
    "                  },\n",
    "        \"q0\"    : \"q7\",\n",
    "        \"z0\"    : \"$\",\n",
    "        \"F\"     : set({ }) }\n",
    "chk_consistent_pda(onestpda1)"
   ]
  },
  {
   "cell_type": "code",
   "execution_count": null,
   "metadata": {
    "run_control": {
     "frozen": false,
     "read_only": false
    }
   },
   "outputs": [],
   "source": [
    "dotObj_pda(onestpda1)"
   ]
  },
  {
   "cell_type": "code",
   "execution_count": null,
   "metadata": {
    "run_control": {
     "frozen": false,
     "read_only": false
    }
   },
   "outputs": [],
   "source": [
    "explore_pda(\"\",onestpda1, \"ACCEPT_S\")"
   ]
  },
  {
   "cell_type": "code",
   "execution_count": null,
   "metadata": {
    "run_control": {
     "frozen": false,
     "read_only": false
    }
   },
   "outputs": [],
   "source": [
    "explore_pda(\"\",onestpda1, \"ACCEPT_S\", chatty=True)"
   ]
  },
  {
   "cell_type": "code",
   "execution_count": null,
   "metadata": {
    "run_control": {
     "frozen": false,
     "read_only": false
    }
   },
   "outputs": [],
   "source": [
    "explore_pda(\"\",onestpda1, \"ACCEPT_F\")"
   ]
  },
  {
   "cell_type": "code",
   "execution_count": null,
   "metadata": {
    "run_control": {
     "frozen": false,
     "read_only": false
    }
   },
   "outputs": [],
   "source": []
  },
  {
   "cell_type": "code",
   "execution_count": null,
   "metadata": {
    "run_control": {
     "frozen": false,
     "read_only": false
    }
   },
   "outputs": [],
   "source": [
    "run_pda(\"\",onestpda1, \"ACCEPT_S\", chatty=False)"
   ]
  },
  {
   "cell_type": "code",
   "execution_count": null,
   "metadata": {
    "run_control": {
     "frozen": false,
     "read_only": false
    }
   },
   "outputs": [],
   "source": [
    "run_pda(\"\",onestpda1, \"ACCEPT_S\", chatty=True)"
   ]
  },
  {
   "cell_type": "code",
   "execution_count": null,
   "metadata": {
    "run_control": {
     "frozen": false,
     "read_only": false
    }
   },
   "outputs": [],
   "source": [
    "a1b2_s = md2mc(src=\"File\", fname=\"machines/pdafiles/a1b2_accept_s.pda\")\n",
    "dotObj_pda(a1b2_s) "
   ]
  },
  {
   "cell_type": "code",
   "execution_count": null,
   "metadata": {
    "run_control": {
     "frozen": false,
     "read_only": false
    }
   },
   "outputs": [],
   "source": [
    "dotObj_pda(a1b2_s, FuseEdges=True) "
   ]
  },
  {
   "cell_type": "code",
   "execution_count": null,
   "metadata": {
    "run_control": {
     "frozen": false,
     "read_only": false
    }
   },
   "outputs": [],
   "source": [
    "help(explore_pda)"
   ]
  },
  {
   "cell_type": "code",
   "execution_count": null,
   "metadata": {
    "run_control": {
     "frozen": false,
     "read_only": false
    }
   },
   "outputs": [],
   "source": [
    "explore_pda(\"abb\", a1b2_s, acceptance='ACCEPT_S')"
   ]
  },
  {
   "cell_type": "code",
   "execution_count": null,
   "metadata": {
    "run_control": {
     "frozen": false,
     "read_only": false
    }
   },
   "outputs": [],
   "source": [
    "explore_pda(\"bab\", a1b2_s, acceptance='ACCEPT_S')"
   ]
  },
  {
   "cell_type": "code",
   "execution_count": null,
   "metadata": {
    "run_control": {
     "frozen": false,
     "read_only": false
    }
   },
   "outputs": [],
   "source": [
    "explore_pda(\"bba\", a1b2_s, acceptance='ACCEPT_S')"
   ]
  },
  {
   "cell_type": "code",
   "execution_count": null,
   "metadata": {
    "run_control": {
     "frozen": false,
     "read_only": false
    }
   },
   "outputs": [],
   "source": [
    "explore_pda(\"bbaabbbabaabbabbbb\", a1b2_s, acceptance='ACCEPT_S')"
   ]
  },
  {
   "cell_type": "code",
   "execution_count": null,
   "metadata": {
    "run_control": {
     "frozen": false,
     "read_only": false
    }
   },
   "outputs": [],
   "source": [
    "explore_pda(\"babaababbbaabbbbbb\", a1b2_s, acceptance='ACCEPT_S')"
   ]
  },
  {
   "cell_type": "code",
   "execution_count": null,
   "metadata": {
    "run_control": {
     "frozen": false,
     "read_only": false
    }
   },
   "outputs": [],
   "source": [
    "explore_pda(\"abbaababbbabbbbbba\", a1b2_s, acceptance='ACCEPT_S')"
   ]
  },
  {
   "cell_type": "code",
   "execution_count": null,
   "metadata": {
    "run_control": {
     "frozen": false,
     "read_only": false
    }
   },
   "outputs": [],
   "source": [
    "a1b2_f = md2mc(src=\"File\", fname=\"machines/pdafiles/a1b2_accept_f.pda\")\n",
    "dotObj_pda(a1b2_f) "
   ]
  },
  {
   "cell_type": "code",
   "execution_count": null,
   "metadata": {
    "run_control": {
     "frozen": false,
     "read_only": false
    }
   },
   "outputs": [],
   "source": [
    "dotObj_pda(a1b2_f, FuseEdges=True)"
   ]
  },
  {
   "cell_type": "code",
   "execution_count": null,
   "metadata": {
    "run_control": {
     "frozen": false,
     "read_only": false
    }
   },
   "outputs": [],
   "source": [
    "explore_pda(\"abbaababbbabbbbbba\", a1b2_f) # Default is accept_f"
   ]
  },
  {
   "cell_type": "code",
   "execution_count": null,
   "metadata": {
    "run_control": {
     "frozen": false,
     "read_only": false
    }
   },
   "outputs": [],
   "source": [
    "explore_pda(\"babaababbbaabbbbbb\", a1b2_f, acceptance='ACCEPT_F') # default acceptance"
   ]
  },
  {
   "cell_type": "code",
   "execution_count": null,
   "metadata": {
    "run_control": {
     "frozen": false,
     "read_only": false
    }
   },
   "outputs": [],
   "source": [
    "explore_pda(\"bbaabbbabaabbabbbb\", a1b2_f, STKMAX=2)"
   ]
  },
  {
   "cell_type": "code",
   "execution_count": null,
   "metadata": {
    "run_control": {
     "frozen": false,
     "read_only": false
    }
   },
   "outputs": [],
   "source": []
  },
  {
   "cell_type": "code",
   "execution_count": null,
   "metadata": {
    "run_control": {
     "frozen": false,
     "read_only": false
    }
   },
   "outputs": [],
   "source": [
    "f27sip = md2mc('''\n",
    "PDA \n",
    "!!---------------------------------------\n",
    "!! This is a PDA From Sipser's book\n",
    "!! This matches a's and b's ignoring c's\n",
    "!! or matches a's and c's, ignoring b's \n",
    "!! in the middle. Thus, the language is\n",
    "!! a^m b^m c^n or a^m b^n c^m\n",
    "!!---------------------------------------\n",
    "\n",
    "!!---------------------------------------------------------------------------\n",
    "!! State: in , sin ; spush -> tostates !! comment\n",
    "!!---------------------------------------------------------------------------\n",
    "iq2    : a  , ''  ; a     -> iq2      !!  stack a's\n",
    "iq2    : '' , ''  ; ''    -> q3,q5    !!  split non-det for a^m b^m c^n (q3)\n",
    "                                      !!  or a^m b^n c^m (q5)\n",
    "\t\t\t     \n",
    "q3     : b  , a   ; ''    -> q3       !!  match b's against a's\n",
    "q3     : '' , #   ; ''    -> fq4      !!  hope for acceptance when # surfaces\n",
    "\n",
    "fq4    : c  , ''  ; ''    -> fq4      !!  be happy so long as c's come\n",
    "                                      !!  will choke and reject if anything\n",
    "\t\t\t              !!  other than c's come\n",
    "\n",
    "q5     : b  , ''  ; ''    -> q5       !!  here, we are going to punt over b's\n",
    "q5     : '' , ''  ; ''    -> q6       !!  and non-det decide to honor c's matching\n",
    "                                      !!  against a's\n",
    "\n",
    "q6     : c  , a   ; ''    -> q6       !!  OK to match so long as c's keep coming\n",
    "q6     : '' , #   ; ''    -> fq7      !!  when # surfaces, be ready to accept in\n",
    "                                      !!  state fq7. However, anything else coming in\n",
    "\t\t\t                          !!  now will foil match and cause rejection.\n",
    "!!---------------------------------------------------------------------------\n",
    "''')\n",
    "DOf27sip = dotObj_pda(f27sip, FuseEdges=True)\n",
    "DOf27sip"
   ]
  },
  {
   "cell_type": "code",
   "execution_count": null,
   "metadata": {
    "run_control": {
     "frozen": false,
     "read_only": false
    }
   },
   "outputs": [],
   "source": [
    "DOf27sip.source"
   ]
  },
  {
   "cell_type": "code",
   "execution_count": null,
   "metadata": {
    "run_control": {
     "frozen": false,
     "read_only": false
    }
   },
   "outputs": [],
   "source": [
    "explore_pda(\"aaabbbccc\", f27sip)"
   ]
  },
  {
   "cell_type": "code",
   "execution_count": null,
   "metadata": {
    "run_control": {
     "frozen": false,
     "read_only": false
    }
   },
   "outputs": [],
   "source": []
  }
 ],
 "metadata": {
  "kernelspec": {
   "display_name": "Python 3",
   "language": "python",
   "name": "python3"
  },
  "language_info": {
   "codemirror_mode": {
    "name": "ipython",
    "version": 3
   },
   "file_extension": ".py",
   "mimetype": "text/x-python",
   "name": "python",
   "nbconvert_exporter": "python",
   "pygments_lexer": "ipython3",
   "version": "3.7.3"
  },
  "toc": {
   "colors": {
    "hover_highlight": "#DAA520",
    "running_highlight": "#FF0000",
    "selected_highlight": "#FFD700"
   },
   "moveMenuLeft": true,
   "nav_menu": {
    "height": "318px",
    "width": "252px"
   },
   "navigate_menu": true,
   "number_sections": true,
   "sideBar": true,
   "threshold": 4,
   "toc_cell": false,
   "toc_section_display": "block",
   "toc_window_display": false,
   "widenNotebook": false
  }
 },
 "nbformat": 4,
 "nbformat_minor": 1
}
