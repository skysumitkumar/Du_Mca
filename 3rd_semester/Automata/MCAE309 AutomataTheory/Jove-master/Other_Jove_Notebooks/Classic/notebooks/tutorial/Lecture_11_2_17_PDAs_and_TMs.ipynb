{
 "cells": [
  {
   "cell_type": "markdown",
   "metadata": {
    "run_control": {
     "frozen": false,
     "read_only": false
    }
   },
   "source": [
    "The exercises below are described further [HERE](https://www.overleaf.com/read/kzjggwqbfjwd)"
   ]
  },
  {
   "cell_type": "markdown",
   "metadata": {
    "run_control": {
     "frozen": false,
     "read_only": false
    }
   },
   "source": [
    " # Tests on PDA"
   ]
  },
  {
   "cell_type": "code",
   "execution_count": null,
   "metadata": {
    "run_control": {
     "frozen": false,
     "read_only": false
    }
   },
   "outputs": [],
   "source": [
    "#~~~~~~~~~~~~~~~~~~~~~~~~~~~~~~~~~~~~~~~~~~~~~~~~~~~~~~~\n",
    "import sys\n",
    "\n",
    "# -- Detect if in Own Install or in Colab\n",
    "try:\n",
    "    import google.colab\n",
    "    OWN_INSTALL = False\n",
    "except:\n",
    "    OWN_INSTALL = True\n",
    "    \n",
    "if OWN_INSTALL:\n",
    "    \n",
    "  #---- Leave these definitions ON if running on laptop\n",
    "  #---- Else turn OFF by putting them between ''' ... '''\n",
    "\n",
    "  sys.path[0:0] = ['../../../../..',  '../../../../../3rdparty',  \n",
    "                   '../../../..',  '../../../../3rdparty',  \n",
    "                   '../../..',     '../../../3rdparty', \n",
    "                   '../..',        '../../3rdparty',\n",
    "                   '..',           '../3rdparty' ]\n",
    "\n",
    "else: # In colab\n",
    "  ! if [ ! -d Jove ]; then git clone https://github.com/anon-Jove/Jove Jove; fi\n",
    "  sys.path.append('./Jove')\n",
    "  sys.path.append('./Jove/jove')\n",
    "\n",
    "# -- common imports --\n",
    "from jove.SystemImports import *\n",
    "from jove.DotBashers    import *\n",
    "from jove.Def_md2mc     import *\n",
    "from jove.Def_PDA       import *\n",
    "from jove.Def_TM        import *\n",
    "#~~~~~~~~~~~~~~~~~~~~~~~~~~~~~~~~~~~~~~~~~~~~~~~~~~~~~~~"
   ]
  },
  {
   "cell_type": "code",
   "execution_count": null,
   "metadata": {
    "run_control": {
     "frozen": false,
     "read_only": false
    }
   },
   "outputs": [],
   "source": [
    "pda_a1_b2 = md2mc('''PDA\n",
    "I : a, # ; cc# -> I\n",
    "I : a, c ; ccc -> I\n",
    "I : b, # ; b#  -> I\n",
    "I : b, b ; bb  -> I\n",
    "I : b, c ; ''  -> I\n",
    "I : a, b ; ''  -> SeeIfMore\n",
    "\n",
    "SeeIfMore : '', b ; ''  -> I\n",
    "SeeIfMore : '', # ; c#  -> I\n",
    "SeeIfMore : '', c ; cc  -> I\n",
    "\n",
    "I : '', #; #  -> F\n",
    "''')"
   ]
  },
  {
   "cell_type": "code",
   "execution_count": null,
   "metadata": {
    "run_control": {
     "frozen": false,
     "read_only": false
    }
   },
   "outputs": [],
   "source": [
    "dotObj_pda(pda_a1_b2, FuseEdges = True)"
   ]
  },
  {
   "cell_type": "code",
   "execution_count": null,
   "metadata": {
    "run_control": {
     "frozen": false,
     "read_only": false
    }
   },
   "outputs": [],
   "source": [
    "explore_pda(\"aabbbbbabbba\", pda_a1_b2)"
   ]
  },
  {
   "cell_type": "code",
   "execution_count": null,
   "metadata": {
    "run_control": {
     "frozen": false,
     "read_only": false
    }
   },
   "outputs": [],
   "source": [
    "a1b2_s = md2mc(''' \n",
    "PDA\n",
    "!!---------------------------------------------------------------------------\n",
    "!! This is a PDA that accepts all strings with twice as many b's as a's\n",
    "!! That is, n_b = 2 * n_a must be satisfied\n",
    "!! Recall this can happen when n_a = n_b = 0 (trivial case)\n",
    "!!\n",
    "!! Acceptance is required to be by empty stack\n",
    "!! (see a1b2_accept_f.pda for a PDA that accepts by final state)\n",
    "!!\n",
    "!! PDA made by markdown will have # on top of stack (TOS)\n",
    "!!\n",
    "!! The basic algorithm is to convert a's to  two c's\n",
    "!! Only c's and b's are allowed on the stack\n",
    "!! But depending on the arrival order, we need to juggle what we put on TOS\n",
    "!! For details, study the comments below\n",
    "!!\n",
    "!!---------------------------------------------------------------------------\n",
    "\n",
    "I : '', # ; '' ->  I    !! In case the input string is empty, we satisfy trivially\n",
    "\n",
    "I : a, # ; cc#  -> I    !! An a coming in with # on TOS : turn a into two c\n",
    "\n",
    "I : a, b ; ''  ->  Try  !! An a coming in with a b on TOS: we don't know what lies below b\n",
    "                        !! So entry Try state, but after consuming that one b\n",
    "\n",
    "Try : '', b ; ''  -> I  !! In Try state we find another b; how handy; consume that also\n",
    "                        !! Now we are back in state I\n",
    "\t\t\t\n",
    "Try : '', c ; cc  -> I  !! In Try state, we face a c; so we have consumed only one b\n",
    "                        !! Express deficit of a 'b' by stacking a c\n",
    "\t\t\t\n",
    "Try : '', # ; c# -> I   !! We face a #; we have again consumed only one b\n",
    "                        !! Express deficit of a 'b' by stacking a c\n",
    "\t\t\t\n",
    "I : a, c ; ccc  -> I    !! In I, we face 'c' on TOS, so express deficit of two b\n",
    "       \t   \t   \t!! by stacking two c\n",
    "\n",
    "I : b, # ; b#   -> I\t!! b input when # is TOS turns into b stacked\n",
    "I : b, b ; bb   -> I    !! b input when b is TOS turns into b stacked\n",
    "I : b, c ; ''   -> I    !! b and c are even match\n",
    "\n",
    "!!---------------------------------------------------------------------------\n",
    "''')"
   ]
  },
  {
   "cell_type": "code",
   "execution_count": null,
   "metadata": {
    "run_control": {
     "frozen": false,
     "read_only": false
    }
   },
   "outputs": [],
   "source": [
    "dotObj_pda(a1b2_s, FuseEdges=True) "
   ]
  },
  {
   "cell_type": "code",
   "execution_count": null,
   "metadata": {
    "run_control": {
     "frozen": false,
     "read_only": false
    }
   },
   "outputs": [],
   "source": [
    "help(explore_pda)"
   ]
  },
  {
   "cell_type": "code",
   "execution_count": null,
   "metadata": {
    "run_control": {
     "frozen": false,
     "read_only": false
    }
   },
   "outputs": [],
   "source": [
    "explore_pda(\"abb\", a1b2_s, acceptance='ACCEPT_S')"
   ]
  },
  {
   "cell_type": "code",
   "execution_count": null,
   "metadata": {
    "run_control": {
     "frozen": false,
     "read_only": false
    }
   },
   "outputs": [],
   "source": [
    "explore_pda(\"bab\", a1b2_s, acceptance='ACCEPT_S')"
   ]
  },
  {
   "cell_type": "code",
   "execution_count": null,
   "metadata": {
    "run_control": {
     "frozen": false,
     "read_only": false
    }
   },
   "outputs": [],
   "source": [
    "explore_pda(\"bba\", a1b2_s, acceptance='ACCEPT_S')"
   ]
  },
  {
   "cell_type": "code",
   "execution_count": null,
   "metadata": {
    "run_control": {
     "frozen": false,
     "read_only": false
    }
   },
   "outputs": [],
   "source": [
    "explore_pda(\"bbaabbbabaabbabbbb\", a1b2_s, acceptance='ACCEPT_S')"
   ]
  },
  {
   "cell_type": "code",
   "execution_count": null,
   "metadata": {
    "run_control": {
     "frozen": false,
     "read_only": false
    }
   },
   "outputs": [],
   "source": [
    "explore_pda(\"babaababbbaabbbbbb\", a1b2_s, acceptance='ACCEPT_S')"
   ]
  },
  {
   "cell_type": "code",
   "execution_count": null,
   "metadata": {
    "run_control": {
     "frozen": false,
     "read_only": false
    }
   },
   "outputs": [],
   "source": [
    "explore_pda(\"abbaababbbabbbbbba\", a1b2_s, acceptance='ACCEPT_S')"
   ]
  },
  {
   "cell_type": "code",
   "execution_count": null,
   "metadata": {
    "run_control": {
     "frozen": false,
     "read_only": false
    }
   },
   "outputs": [],
   "source": [
    "pdaDyck = md2mc('''PDA\n",
    "IF : (, #; (# -> A\n",
    "A  : (, (; (( -> A\n",
    "A  : ), (; '' -> A\n",
    "A  : '',#; #  -> IF\n",
    "''')\n",
    "DOpdaDyck = dotObj_pda(pdaDyck, FuseEdges=True)\n",
    "DOpdaDyck"
   ]
  },
  {
   "cell_type": "code",
   "execution_count": null,
   "metadata": {
    "run_control": {
     "frozen": false,
     "read_only": false
    }
   },
   "outputs": [],
   "source": [
    "explore_pda(\"\", pdaDyck)"
   ]
  },
  {
   "cell_type": "code",
   "execution_count": null,
   "metadata": {
    "run_control": {
     "frozen": false,
     "read_only": false
    }
   },
   "outputs": [],
   "source": [
    "explore_pda(\"()\", pdaDyck)"
   ]
  },
  {
   "cell_type": "code",
   "execution_count": null,
   "metadata": {
    "run_control": {
     "frozen": false,
     "read_only": false
    }
   },
   "outputs": [],
   "source": [
    "explore_pda(\"()()(())\", pdaDyck)"
   ]
  },
  {
   "cell_type": "code",
   "execution_count": null,
   "metadata": {
    "run_control": {
     "frozen": false,
     "read_only": false
    }
   },
   "outputs": [],
   "source": [
    "explore_pda(\"()()(()\", pdaDyck)  "
   ]
  },
  {
   "cell_type": "markdown",
   "metadata": {
    "run_control": {
     "frozen": false,
     "read_only": false
    }
   },
   "source": [
    "na = nb + nc using pda"
   ]
  },
  {
   "cell_type": "code",
   "execution_count": null,
   "metadata": {
    "run_control": {
     "frozen": false,
     "read_only": false
    }
   },
   "outputs": [],
   "source": [
    "# Parsing an arithmetic expression\n",
    "pdaE = md2mc('''PDA\n",
    "!!E -> E+T | T\n",
    "!!T -> T*F | F\n",
    "!!F -> 2 | 3 | ~F | (E)\n",
    "I : '', #  ; E#  -> M\n",
    "M : '', E  ; E+T -> M\n",
    "M : '', E  ; T   -> M\n",
    "M : '', T  ; T*F -> M\n",
    "M : '', T  ; F   -> M\n",
    "M : '', F  ; 2   -> M\n",
    "M : '', F  ; 3   -> M\n",
    "M : '', F  ; ~F  -> M\n",
    "M : '', F  ; (E) -> M\n",
    "M : ~,  ~  ; ''  -> M\n",
    "M : 2,  2  ; ''  -> M\n",
    "M : 3,  3  ; ''  -> M\n",
    "M : (,  (  ; ''  -> M\n",
    "M : ),  )  ; ''  -> M\n",
    "M : +,  +  ; ''  -> M\n",
    "M : *,  *  ; ''  -> M\n",
    "M : '', #  ; #   -> F\n",
    "'''\n",
    ")"
   ]
  },
  {
   "cell_type": "code",
   "execution_count": null,
   "metadata": {
    "run_control": {
     "frozen": false,
     "read_only": false
    }
   },
   "outputs": [],
   "source": [
    "DOpdaE = dotObj_pda(pdaE, FuseEdges=True)\n",
    "DOpdaE"
   ]
  },
  {
   "cell_type": "code",
   "execution_count": null,
   "metadata": {
    "run_control": {
     "frozen": false,
     "read_only": false
    }
   },
   "outputs": [],
   "source": [
    "explore_pda(\"2+2*3\", pdaE, STKMAX=7)"
   ]
  },
  {
   "cell_type": "code",
   "execution_count": null,
   "metadata": {
    "run_control": {
     "frozen": false,
     "read_only": false
    }
   },
   "outputs": [],
   "source": [
    "# Parsing an arithmetic expression\n",
    "pdaEamb = md2mc('''PDA\n",
    "!!E -> E * E | E + E | ~E | ( E ) | 2 | 3\n",
    "I : '', #  ; E#  -> M\n",
    "M : '', E  ; ~E  -> M\n",
    "M : '', E  ; E+E -> M\n",
    "M : '', E  ; E*E -> M\n",
    "M : '', E  ; (E) -> M\n",
    "M : '', E  ; 2   -> M\n",
    "M : '', E  ; 3   -> M\n",
    "M : ~,  ~  ; ''  -> M\n",
    "M : 2,  2  ; ''  -> M\n",
    "M : 3,  3  ; ''  -> M\n",
    "M : (,  (  ; ''  -> M\n",
    "M : ),  )  ; ''  -> M\n",
    "M : +,  +  ; ''  -> M\n",
    "M : *,  *  ; ''  -> M\n",
    "M : '', #  ; #   -> F\n",
    "'''\n",
    ")"
   ]
  },
  {
   "cell_type": "code",
   "execution_count": null,
   "metadata": {
    "run_control": {
     "frozen": false,
     "read_only": false
    }
   },
   "outputs": [],
   "source": [
    "DOpdaEamb = dotObj_pda(pdaEamb, FuseEdges=True)\n",
    "DOpdaEamb"
   ]
  },
  {
   "cell_type": "code",
   "execution_count": null,
   "metadata": {
    "run_control": {
     "frozen": false,
     "read_only": false
    }
   },
   "outputs": [],
   "source": [
    "explore_pda(\"3+2*3\", pdaEamb, STKMAX=5)"
   ]
  },
  {
   "cell_type": "code",
   "execution_count": null,
   "metadata": {
    "run_control": {
     "frozen": false,
     "read_only": false
    }
   },
   "outputs": [],
   "source": [
    "3"
   ]
  },
  {
   "cell_type": "code",
   "execution_count": null,
   "metadata": {
    "run_control": {
     "frozen": false,
     "read_only": false
    }
   },
   "outputs": [],
   "source": [
    "eqpda=md2mc('''\n",
    "PDA\n",
    "I : a,#;a# | b,#;b# | a,a;aa | b,b;bb -> I\n",
    "I : a,b;'' | b,a;'' -> I\n",
    "I : '',#; # -> F\n",
    "'''\n",
    "           )"
   ]
  },
  {
   "cell_type": "code",
   "execution_count": null,
   "metadata": {
    "run_control": {
     "frozen": false,
     "read_only": false
    }
   },
   "outputs": [],
   "source": [
    "dotObj_pda(eqpda, FuseEdges=True)"
   ]
  },
  {
   "cell_type": "code",
   "execution_count": null,
   "metadata": {
    "run_control": {
     "frozen": false,
     "read_only": false
    }
   },
   "outputs": [],
   "source": [
    "explore_pda(\"aaaaaabbbbbb\",eqpda)"
   ]
  },
  {
   "cell_type": "code",
   "execution_count": null,
   "metadata": {
    "run_control": {
     "frozen": false,
     "read_only": false
    }
   },
   "outputs": [],
   "source": [
    "explore_pda(\"\",eqpda)"
   ]
  },
  {
   "cell_type": "code",
   "execution_count": null,
   "metadata": {
    "run_control": {
     "frozen": false,
     "read_only": false
    }
   },
   "outputs": [],
   "source": [
    "explore_pda(\"bbabaaabaabbbbaa\",eqpda)"
   ]
  },
  {
   "cell_type": "code",
   "execution_count": null,
   "metadata": {
    "run_control": {
     "frozen": false,
     "read_only": false
    }
   },
   "outputs": [],
   "source": [
    "explore_pda(\"aaaaaabbbbb\",eqpda)"
   ]
  },
  {
   "cell_type": "code",
   "execution_count": null,
   "metadata": {
    "run_control": {
     "frozen": false,
     "read_only": false
    }
   },
   "outputs": [],
   "source": [
    "chyr1pda = md2mc('''\n",
    "PDA\n",
    "I  : a,  # ; aa# -> I  !! bottom of the stack, push two \"a\"'s\n",
    "I  : b,  # ; b#  -> I  !! bottom of the stack, push one \"b\"\n",
    "I  : a,  a ; aaa -> I  !! another incoming a, put the a old \"a\" back and push an additional two a's\n",
    "I  : b,  b ; bb  -> I  !! another incoming b, put the old \"b\" back and push a \"b\"\n",
    "\n",
    "I  : a,  b ; ''  -> AB !! since there must be two \"a\"'s for every \"b\", remove the first \"b\"\n",
    "AB : '', # ; a#  -> I  !! the bottom of the stack was reach with an additional \"a\" to add\n",
    "AB : '', a ; aa  -> I  !! this really should never happen, but it's here for safety\n",
    "AB : '', b ; ''  -> I  !! there was another \"b\", cancel this one as well\n",
    "\n",
    "I  : b,  a ; ''  -> I  !! cancel the \"b\" with the \"a\"\n",
    "I  : '', # ; #   -> F  !! the \"a\"'s and \"b\"'s cancel correctly, all done and accept!\n",
    "\n",
    "''')"
   ]
  },
  {
   "cell_type": "code",
   "execution_count": null,
   "metadata": {
    "run_control": {
     "frozen": false,
     "read_only": false
    }
   },
   "outputs": [],
   "source": [
    "dotObj_pda(chyr1pda, FuseEdges=True)"
   ]
  },
  {
   "cell_type": "code",
   "execution_count": null,
   "metadata": {
    "run_control": {
     "frozen": false,
     "read_only": false
    }
   },
   "outputs": [],
   "source": [
    "explore_pda(\"babbaabbabbb\",chyr1pda)"
   ]
  },
  {
   "cell_type": "code",
   "execution_count": null,
   "metadata": {
    "run_control": {
     "frozen": false,
     "read_only": false
    }
   },
   "outputs": [],
   "source": [
    "explore_pda(\"babbab\",chyr1pda)"
   ]
  },
  {
   "cell_type": "code",
   "execution_count": null,
   "metadata": {
    "run_control": {
     "frozen": false,
     "read_only": false
    }
   },
   "outputs": [],
   "source": [
    "chyr2pda = md2mc('''\n",
    "PDA\n",
    "I  : a,  # ; aa# -> I  !! bottom of the stack, push two \"a\"'s\n",
    "I  : b,  # ; b#  -> I  !! bottom of the stack, push one \"b\"\n",
    "I  : a,  a ; aaa -> I  !! another incoming a, put the a old \"a\" back and push an additional two a's\n",
    "I  : b,  b ; bb  -> I  !! another incoming b, put the old \"b\" back and push a \"b\"\n",
    "\n",
    "I  : a,  b ; ''  -> AB !! since there must be two \"a\"'s for every \"b\", remove the first \"b\"\n",
    "AB : '', # ; a#  -> I  !! the bottom of the stack was reach with an additional \"a\" to add\n",
    "AB : '', a ; aa  -> I  !! this really should never happen, but it's here for safety\n",
    "AB : '', b ; ''  -> I  !! there was another \"b\", cancel this one as well\n",
    "\n",
    "I  : b,  a ; ''  -> I  !! cancel the \"b\" with the \"a\"\n",
    "I  : '', # ; #   -> F  !! the \"a\"'s and \"b\"'s cancel correctly, all done and accept!\n",
    "\n",
    "''')"
   ]
  },
  {
   "cell_type": "code",
   "execution_count": null,
   "metadata": {
    "run_control": {
     "frozen": false,
     "read_only": false
    }
   },
   "outputs": [],
   "source": [
    "explore_pda(\"babbab\",chyr2pda)"
   ]
  },
  {
   "cell_type": "markdown",
   "metadata": {
    "run_control": {
     "frozen": false,
     "read_only": false
    }
   },
   "source": [
    "## #1 > #0\n"
   ]
  },
  {
   "cell_type": "code",
   "execution_count": null,
   "metadata": {
    "run_control": {
     "frozen": false,
     "read_only": false
    }
   },
   "outputs": [],
   "source": [
    "onesGTzeros = md2mc('''PDA\n",
    "I : 1,#;1# | 0,#;0  -> I\n",
    "I : 1,1;11 | 0,0;00 -> I\n",
    "I : 1,0;'' | 0,1;'' -> I\n",
    "I : '',1;''         -> FryMyLuck\n",
    "FryMyLuck : '',1;'' -> FryMyLuck\n",
    "FryMyLuck : '',#;#  -> FryMyLuck\n",
    "''')"
   ]
  },
  {
   "cell_type": "code",
   "execution_count": null,
   "metadata": {
    "run_control": {
     "frozen": false,
     "read_only": false
    }
   },
   "outputs": [],
   "source": [
    "dotObj_pda(onesGTzeros, FuseEdges=True)"
   ]
  },
  {
   "cell_type": "code",
   "execution_count": null,
   "metadata": {
    "run_control": {
     "frozen": false,
     "read_only": false
    }
   },
   "outputs": [],
   "source": [
    "explore_pda(\"11011011011\", onesGTzeros)"
   ]
  },
  {
   "cell_type": "code",
   "execution_count": null,
   "metadata": {
    "run_control": {
     "frozen": false,
     "read_only": false
    }
   },
   "outputs": [],
   "source": [
    "explore_pda(\"1101101101100\", onesGTzeros)"
   ]
  },
  {
   "cell_type": "code",
   "execution_count": null,
   "metadata": {
    "run_control": {
     "frozen": false,
     "read_only": false
    }
   },
   "outputs": [],
   "source": [
    "explore_pda(\"110110110110000\", onesGTzeros)"
   ]
  },
  {
   "cell_type": "code",
   "execution_count": null,
   "metadata": {
    "run_control": {
     "frozen": false,
     "read_only": false
    }
   },
   "outputs": [],
   "source": [
    "explore_pda(\"1010110110110000\", onesGTzeros)"
   ]
  },
  {
   "cell_type": "code",
   "execution_count": null,
   "metadata": {
    "run_control": {
     "frozen": false,
     "read_only": false
    }
   },
   "outputs": [],
   "source": [
    "explore_pda(\"10101101101100100\", onesGTzeros)"
   ]
  },
  {
   "cell_type": "code",
   "execution_count": null,
   "metadata": {
    "run_control": {
     "frozen": false,
     "read_only": false
    }
   },
   "outputs": [],
   "source": [
    "explore_pda(\"1\", onesGTzeros)"
   ]
  },
  {
   "cell_type": "code",
   "execution_count": null,
   "metadata": {
    "run_control": {
     "frozen": false,
     "read_only": false
    }
   },
   "outputs": [],
   "source": [
    "explore_pda(\"0\", onesGTzeros)"
   ]
  },
  {
   "cell_type": "code",
   "execution_count": null,
   "metadata": {
    "run_control": {
     "frozen": false,
     "read_only": false
    }
   },
   "outputs": [],
   "source": [
    "explore_pda(\"\", onesGTzeros)"
   ]
  },
  {
   "cell_type": "code",
   "execution_count": null,
   "metadata": {
    "run_control": {
     "frozen": false,
     "read_only": false
    }
   },
   "outputs": [],
   "source": [
    "explore_pda(\"1111\", onesGTzeros)"
   ]
  },
  {
   "cell_type": "code",
   "execution_count": null,
   "metadata": {
    "run_control": {
     "frozen": false,
     "read_only": false
    }
   },
   "outputs": [],
   "source": [
    "explore_pda(\"1010101\", onesGTzeros)"
   ]
  },
  {
   "cell_type": "code",
   "execution_count": null,
   "metadata": {
    "run_control": {
     "frozen": false,
     "read_only": false
    }
   },
   "outputs": [],
   "source": [
    "'''\n",
    "S -> A | AS\n",
    "A -> E1E\n",
    "E -> 0E1E | 1E0E | ''\n",
    "'''"
   ]
  },
  {
   "cell_type": "code",
   "execution_count": null,
   "metadata": {
    "run_control": {
     "frozen": false,
     "read_only": false
    }
   },
   "outputs": [],
   "source": [
    "pda1GT0 = md2mc('''\n",
    "PDA\n",
    "\n",
    "I : '' , # ; S# -> L\n",
    "\n",
    "L : '' , S ; A  -> L\n",
    "\n",
    "L : '' , S ; AS -> L\n",
    "\n",
    "L : '' , A ; E1E -> L\n",
    "\n",
    "L : '' , E ; 0E1E -> L\n",
    "\n",
    "L : '' , E ; 1E0E -> L\n",
    "\n",
    "L : '' , E ; ''   -> L\n",
    "\n",
    "L : 0  , 0 ; ''   -> L\n",
    "\n",
    "L : 1  , 1 ; ''   -> L\n",
    "\n",
    "L : '' , # ; #    -> F\n",
    "\n",
    "''')"
   ]
  },
  {
   "cell_type": "code",
   "execution_count": null,
   "metadata": {
    "run_control": {
     "frozen": false,
     "read_only": false
    }
   },
   "outputs": [],
   "source": [
    "dotObj_pda(pda1GT0, FuseEdges=True)"
   ]
  },
  {
   "cell_type": "code",
   "execution_count": null,
   "metadata": {
    "run_control": {
     "frozen": false,
     "read_only": false
    }
   },
   "outputs": [],
   "source": [
    "help(explore_pda)"
   ]
  },
  {
   "cell_type": "code",
   "execution_count": null,
   "metadata": {
    "run_control": {
     "frozen": false,
     "read_only": false
    }
   },
   "outputs": [],
   "source": [
    "explore_pda(\"1\", pda1GT0, STKMAX = 8 )"
   ]
  },
  {
   "cell_type": "code",
   "execution_count": null,
   "metadata": {
    "run_control": {
     "frozen": false,
     "read_only": false
    }
   },
   "outputs": [],
   "source": [
    "explore_pda(\"10101\", pda1GT0, STKMAX = 8 )"
   ]
  },
  {
   "cell_type": "code",
   "execution_count": null,
   "metadata": {
    "run_control": {
     "frozen": false,
     "read_only": false
    }
   },
   "outputs": [],
   "source": [
    "explore_pda(\"1010101\", pda1GT0, STKMAX = 8 )"
   ]
  },
  {
   "cell_type": "code",
   "execution_count": null,
   "metadata": {
    "run_control": {
     "frozen": false,
     "read_only": false
    }
   },
   "outputs": [],
   "source": [
    "explore_pda(\"10101\", pda1GT0, STKMAX = 8 )"
   ]
  },
  {
   "cell_type": "code",
   "execution_count": null,
   "metadata": {
    "run_control": {
     "frozen": false,
     "read_only": false
    }
   },
   "outputs": [],
   "source": [
    "f27sip = md2mc('''\n",
    "PDA \n",
    "!!---------------------------------------\n",
    "!! This is a PDA From Sipser's book\n",
    "!! This matches a's and b's ignoring c's\n",
    "!! or matches a's and c's, ignoring b's \n",
    "!! in the middle. Thus, the language is\n",
    "!! a^m b^m c^n or a^m b^n c^m\n",
    "!!---------------------------------------\n",
    "\n",
    "!!---------------------------------------------------------------------------\n",
    "!! State: in , sin ; spush -> tostates !! comment\n",
    "!!---------------------------------------------------------------------------\n",
    "iq2    : a  , ''  ; a     -> iq2      !!  stack a's\n",
    "iq2    : '' , ''  ; ''    -> q3,q5    !!  split non-det for a^m b^m c^n (q3)\n",
    "                                      !!  or a^m b^n c^m (q5)\n",
    "\t\t\t     \n",
    "q3     : b  , a   ; ''    -> q3       !!  match b's against a's\n",
    "q3     : '' , #   ; ''    -> fq4      !!  hope for acceptance when # surfaces\n",
    "\n",
    "fq4    : c  , ''  ; ''    -> fq4      !!  be happy so long as c's come\n",
    "                                      !!  will choke and reject if anything\n",
    "\t\t\t              !!  other than c's come\n",
    "\n",
    "q5     : b  , ''  ; ''    -> q5       !!  here, we are going to punt over b's\n",
    "q5     : '' , ''  ; ''    -> q6       !!  and non-det decide to honor c's matching\n",
    "                                      !!  against a's\n",
    "\n",
    "q6     : c  , a   ; ''    -> q6       !!  OK to match so long as c's keep coming\n",
    "q6     : '' , #   ; ''    -> fq7      !!  when # surfaces, be ready to accept in\n",
    "                                      !!  state fq7. However, anything else coming in\n",
    "\t\t\t                          !!  now will foil match and cause rejection.\n",
    "!!---------------------------------------------------------------------------\n",
    "''')\n",
    "DOf27sip = dotObj_pda(f27sip, FuseEdges=True)\n",
    "DOf27sip"
   ]
  },
  {
   "cell_type": "code",
   "execution_count": null,
   "metadata": {
    "run_control": {
     "frozen": false,
     "read_only": false
    }
   },
   "outputs": [],
   "source": [
    "explore_pda(\"aaabbbccc\", f27sip)"
   ]
  },
  {
   "cell_type": "code",
   "execution_count": null,
   "metadata": {
    "run_control": {
     "frozen": false,
     "read_only": false
    }
   },
   "outputs": [],
   "source": [
    "wpw_tm = md2mc('''\n",
    "TM\n",
    "!!---------------------------------------------------------------------------\n",
    "!! This is a DTM for recognizing strings of the form w#w where w is in {0,1}*\n",
    "!! The presence of the \"#\" serves as the midpoint-marker, thus allowing the\n",
    "!! TM to deterministically match around it.\n",
    "!! \n",
    "!!---------------------------------------------------------------------------\n",
    "\n",
    "!!---------------------------------------------------------------------------\n",
    "!! State : rd ; wr , mv -> tostates !! comment\n",
    "!!---------------------------------------------------------------------------\n",
    "\n",
    "Iq0     : 0  ; X  , R  -> q1      !! All 0s are converted to X, and matching\n",
    "\t       \t       \t  \t  !! 0s are then sought to the right of the #\n",
    "\n",
    "Iq0     : 1  ; Y  , R  -> q7      !! All 1s are converted to Y, and matching\n",
    "\t       \t       \t  \t  !! 1s are then sought to the right of the #\t\t\t\t  \n",
    "\t\t\t\t  \n",
    "Iq0     : #  ; #  , R  -> q5      !! If we see # rightaway, we are in the\n",
    "\t       \t       \t  \t  !! situation of having to match eps # eps\n",
    "\n",
    "!!---\t\t\t\t  \n",
    "q5\t: X ; X,R | Y ; Y,R -> q5 !! In q5, we skip over X and Y (an equal number\n",
    "\t      \t      \t       \t  !! of X and Y lie to the left of the #)\n",
    "\n",
    "q5      : .  ; .  , R  -> Fq6\t  !! .. and we accept when we see a blank (.)\n",
    "!!---\t\t\t\t  \t\t\t\t  \n",
    "\n",
    "q1      : 0 ; 0,R | 1 ; 1,R -> q1 !! In q1, skip over the remaining 0s and 1s\n",
    "\n",
    "q1      : #  ; #  , R  -> q2      !! But upon seeing a #, look for a matching\n",
    "\t       \t       \t  \t  !! 0 (since we are in q2, we know this).\n",
    "\n",
    "q2      : X ; X,R | Y ; Y,R -> q2 !! All X and Y are \"past stuff\" to skip over\n",
    "\n",
    "q2      : 0  ; X  , L  -> q3      !! When we find a matching 0, turn that to\n",
    "\t       \t       \t  \t  !! an X, and sweep left to do the next pass\n",
    "\t\t\t\t  \n",
    "q3      : X ; X,L | Y ; Y,L -> q3 !! In q3, we move over all past X, Y\n",
    "\n",
    "q3      : #  ; #  , L  -> q4      !! but when we reach the middle marker, we\n",
    "\t       \t       \t  \t  !! know that the next action is to seek the\n",
    "\t\t\t\t  !! next unprocessed 0 or 1\n",
    "\t\t\t\t  \n",
    "q4      : 0 ; 0,L | 1 ; 1,L -> q4 !! In q4, wait till we hit the leftmost 0/1\n",
    "\n",
    "q4      : X ; X,R | Y ; Y,R -> Iq0 !! When we hit an X or Y, we know that we've\n",
    " \t       \t       \t           !! found the leftmost 0/1. Another pass begins.\n",
    "\n",
    "!!---\t\t\t\t  \n",
    "q7      : 0 ; 0,R | 1 ; 1,R -> q7 !! q7 is similar to q1\n",
    "\n",
    "q7      : #  ; #  , R  -> q8      !! and q8 is similar to q2\n",
    "\n",
    "q8      : X ; X,R | Y ; Y,R -> q8 \n",
    "\n",
    "q8      : 1  ; Y  , L  -> q3      \n",
    "\n",
    "\n",
    "\n",
    "!!---------------------------------------------------------------------------\n",
    "!! You may use the line below as an empty shell to populate for your purposes\n",
    "!! Also serves as a syntax reminder for entering DFAs.\n",
    "!!\n",
    "!! State : r1 ; w1 , m1 | r2 ; w2 , m2 -> s1 , s2   !! comment\n",
    "!!\n",
    "!! ..    : .. ; .. , .. | .. ; .. , .. -> .. , ..  !!  ..\n",
    "!!---------------------------------------------------------------------------\n",
    "!!\n",
    "!! Good commenting and software-engineering methods, good clean indentation,\n",
    "!! grouping of similar states, columnar alignment, etc etc. are HUGELY\n",
    "!! important in any programming endeavor -- especially while programming\n",
    "!! automata. Otherwise, you can easily make a mistake in your automaton\n",
    "!! code. Besides, you cannot rely upon others to find your mistakes, as\n",
    "!! they will find your automaton code impossible to read!\n",
    "!!\n",
    "!!---------------------------------------------------------------------------\n",
    "\n",
    "''')\n",
    "    \n",
    "dotObj_tm(wpw_tm, FuseEdges=True)"
   ]
  },
  {
   "cell_type": "code",
   "execution_count": null,
   "metadata": {
    "run_control": {
     "frozen": false,
     "read_only": false
    }
   },
   "outputs": [],
   "source": [
    "explore_tm(wpw_tm, \"010#010\", 33)"
   ]
  },
  {
   "cell_type": "code",
   "execution_count": null,
   "metadata": {
    "run_control": {
     "frozen": false,
     "read_only": false
    }
   },
   "outputs": [],
   "source": [
    "ww_ndtm = md2mc('''\n",
    "TM \n",
    "!!---------------------------------------------------------------------------\n",
    "!! This is a TM for ww processing. Guesses midpoint using nondet.\n",
    "!! \n",
    "!!---------------------------------------------------------------------------\n",
    "\n",
    "!!---------------------------------------------------------------------------\n",
    "!! State : rd ; wr , mv -> tostates !! comment\n",
    "!!---------------------------------------------------------------------------\n",
    "\n",
    "Iq0     : 0  ; 0  , S  -> q14      !! This simulates the TM taking a guess\n",
    "Iq0     : 1  ; 1  , S  -> q14      !! that it hasn't seen the midpoint. It\n",
    "                                   !! moves to q14\n",
    "\n",
    "Iq0     : .  ; .  , R  -> Fq1      !! yay! shortest acceptance is for eps eps\n",
    "\t                           !! i.e. facing a sea of blanks that encodes\n",
    "\t\t\t\t   !! an epsilon followed by another epsilon.\n",
    "\n",
    "!!---------------------------------------------------------------------------\n",
    "\t\t\t\t   \n",
    "q14     : 0  ; 0 , R   -> q14      !! The TM skips over 0s or\n",
    "\t\t\t\t   !! 1s for a while, and then chooses a cell,\n",
    "\t\t\t\t   \n",
    "q14     : 0  ; X , L   -> q2       !! declaring it the midpoint, or more specifically\n",
    "\t       \t       \t  \t   !! FIRST CHARACTER PAST MIDPOINT, by marking it 'X' \t\t\t\t   \n",
    "\t\t\t\t   !! and then moves to q2 (to march around the\n",
    "\t\t\t\t   !! chosen midpoint).\n",
    "\t\t\t\t   \n",
    "q14     : 1  ; 1 , R   -> q14      !! Similar actions as with 0 in state q14,\n",
    "q14     : 1  ; Y , L   -> q2       !! except that it \"dings\" the \"1\" with a \"Y\"\n",
    "\t       \t       \t  \t   !! to mark it the FIRST CHARACTER PAST MIDPOINT.\n",
    "\t\t\t\t   \n",
    "                                   !! Then we march around it. While the separate\n",
    "\t\t\t\t   !! use of \"X\" and \"Y\" may not be necessary,\n",
    "\t\t\t\t   !! it improves understandability when you\n",
    "\t\t\t\t   !! finally see the result of TM executions.\n",
    "\n",
    "q2      : 0  ; 0 , L   -> q2       !! The TM is now winding back, seeking the\n",
    "q2      : 1  ; 1 , L   -> q2       !! left-end of the tape till hit hits a '.'\n",
    "                                   !! (blank).\n",
    "\n",
    "q2      : .  ; . , R   -> q3       !! When that happens, the TM goes to state q3\n",
    "                                   !! to begin its work of \"matching around.\"\n",
    "\t\t\t\t   \n",
    "\t\t\t\t   !! We describe the q3,q5,q11,q9,q3 loop well.\n",
    "\t\t\t\t   !! The other loop q3,q4,q10,q8,q3 is similar.\n",
    "\n",
    "!!-----------------------------------------------------------------\n",
    "\n",
    "q3      : X ; X , R    -> q6       !! This state is a stuck state (no progress)\n",
    "\t      \t       \t  \t   !! WE came to q3 because we dinged a 0->X\n",
    "\t\t\t\t   !! or a 1->Y while in q14; so its matching\n",
    "\t\t\t\t   !! \"partner\" 0 or 1 must be found to the\n",
    "\t\t\t\t   !! left. Unfortunately, we are finding an\n",
    "\t\t\t\t   !! X or a Y.  Thus, no \"match around the middle\"\n",
    "\t\t\t\t   !! is likely to happen.\n",
    "\n",
    "q3      : Y ; Y , R    -> q7\t   !! This state is ALSO a stuck state for similar\n",
    "\t      \t       \t  \t   !! reasons as expressed in the comments\n",
    "\t\t\t\t   !! associated with q3 : X ; X ...\n",
    "\n",
    "!!-----------------------------------------------------------------\n",
    "!! Description of the q3,q5,q11,q9,q3 loop :\n",
    "\n",
    "q3      : 1 ; Q , R    -> q5       !! Upon seeing a 1, change to Q. Then MUST see a \n",
    "                                   !! matching Y, then change to 3, and go right, and to state q5.\n",
    "\n",
    "\t\t\t\t   !! We do this because 'Y' represents what\n",
    "\t\t\t\t   !! was '1' and got marked as midpoint (well,\n",
    "\t\t\t\t   !! one-past midpoint..).\t\t\t\t   \n",
    "\n",
    "!!-- What will happen in q5,q11,q9,q3 --\n",
    "\t\t\t\t   \n",
    "!! So we have to get past this assumed\n",
    "!! midpoint and choose the next\n",
    "!! \"one past midpoint that has not been seen so far\".\n",
    "   \n",
    "!! We enter q11 to then ding a matching\n",
    "!! 0 to X or 1 to Y, moving left.\n",
    "\t\t\t   \n",
    "!! A blank sends us leftwards, as well.\n",
    "\t\t\t   \n",
    "!! We sweep left till we hit a Q. We MUST see a Q\n",
    "!! because we entered \"this lobe\" by dinging a 1->Q.\n",
    "\n",
    "!! The process repeats from state q3.\n",
    "\n",
    "\n",
    "\n",
    "q5      : 0;0,R | 1;1,R | 2;2,R | 3;3,R -> q5  !! punt the 0/1/2/3; we need a \"Y\".\n",
    "\n",
    "q5      : Y  ; 3, R               -> q11 !! ah-ha , got a Y. Ding to 3, seek 0/1/.\n",
    "\n",
    "q11     : 1;Y,L | .;.,L | 0;X,L   -> q9  !! phew! got to sweep left now!\n",
    "\n",
    "q9      : 0;0,L | 1;1,L | 2;2,L | 3;3,L -> q9  !! whee! going left!\n",
    "\n",
    "q9      : Q ; Q , R                     -> q3  !! Boiinggg - now gonna go right!\n",
    "\n",
    "!!-----------------------------------------------------------------\n",
    "!! Description of the q3,q4,q10,q8,q3 loop :\n",
    "\n",
    "q3      : 0 ; P , R    -> q4    !! This is similar to q3 : 1 ; Q , R -> q5 above\n",
    "\n",
    "\n",
    "q4      : 0;0,R | 1;1,R | 2;2,R | 3;3,R -> q4  !! punt the 0/1/2/3; we need a \"X\".\n",
    "\n",
    "q4      : X  ; 2, R               -> q10 !! ah-ha , got a X. Ding to 2, seek 0/1/.\n",
    "\n",
    "q10     : 1;Y,L | .;.,L | 0;X,L   -> q8  !! phew! got to sweep left now!\n",
    "\n",
    "q8      : 0;0,L | 1;1,L | 2;2,L | 3;3,L -> q8  !! whee! going left!\n",
    "\n",
    "q8      : P ; P , R                     -> q3  !! Boiinggg - now gonna go right!\n",
    "\n",
    "!!-----------------------------------------------------------------\n",
    "\n",
    "q3      : 2;2,R | 3;3,R -> q12     !! Seeing every sign of acceptance!!\n",
    "\n",
    "\t\t\t\t   !! We are seeing piles of 2 and 3\n",
    "\t\t\t\t   !! ALSO did not get stuck in q6 or q7\n",
    "\t\t\t\t   !! That means all the matches went fine\n",
    "\n",
    "q12     : 2 ; 2 , R | 3 ; 3 , R -> q12 !! Skip over piles of past 2s and 3s\n",
    "\n",
    "q12     : . ; . , R     -> Fq13    !! Yay, acceptance when we hit a blank!\n",
    "\n",
    "\n",
    "!!---------------------------------------------------------------------------\n",
    "!! You may use the line below as an empty shell to populate for your purposes\n",
    "!! Also serves as a syntax reminder for entering DFAs.\n",
    "!!\n",
    "!! State : r1 ; w1 , m1 | r2 ; w2 , m2 -> s1 , s2   !! comment\n",
    "!!\n",
    "!! ..    : .. ; .. , .. | .. ; .. , .. -> .. , ..  !!  ..\n",
    "!!---------------------------------------------------------------------------\n",
    "!!\n",
    "!! Good commenting and software-engineering methods, good clean indentation,\n",
    "!! grouping of similar states, columnar alignment, etc etc. are HUGELY\n",
    "!! important in any programming endeavor -- especially while programming\n",
    "!! automata. Otherwise, you can easily make a mistake in your automaton\n",
    "!! code. Besides, you cannot rely upon others to find your mistakes, as\n",
    "!! they will find your automaton code impossible to read!\n",
    "!!\n",
    "!!---------------------------------------------------------------------------\n",
    "''')\n",
    "dotObj_tm(ww_ndtm, FuseEdges=True)"
   ]
  },
  {
   "cell_type": "code",
   "execution_count": null,
   "metadata": {
    "run_control": {
     "frozen": false,
     "read_only": false
    }
   },
   "outputs": [],
   "source": [
    "explore_tm(ww_ndtm, \"0101\", 30)"
   ]
  },
  {
   "cell_type": "code",
   "execution_count": null,
   "metadata": {
    "run_control": {
     "frozen": false,
     "read_only": false
    }
   },
   "outputs": [],
   "source": []
  }
 ],
 "metadata": {
  "kernelspec": {
   "display_name": "Python 3",
   "language": "python",
   "name": "python3"
  },
  "language_info": {
   "codemirror_mode": {
    "name": "ipython",
    "version": 3
   },
   "file_extension": ".py",
   "mimetype": "text/x-python",
   "name": "python",
   "nbconvert_exporter": "python",
   "pygments_lexer": "ipython3",
   "version": "3.7.3"
  },
  "toc": {
   "colors": {
    "hover_highlight": "#DAA520",
    "running_highlight": "#FF0000",
    "selected_highlight": "#FFD700"
   },
   "moveMenuLeft": true,
   "nav_menu": {
    "height": "318px",
    "width": "252px"
   },
   "navigate_menu": true,
   "number_sections": true,
   "sideBar": true,
   "threshold": 4,
   "toc_cell": false,
   "toc_section_display": "block",
   "toc_window_display": false,
   "widenNotebook": false
  }
 },
 "nbformat": 4,
 "nbformat_minor": 1
}
