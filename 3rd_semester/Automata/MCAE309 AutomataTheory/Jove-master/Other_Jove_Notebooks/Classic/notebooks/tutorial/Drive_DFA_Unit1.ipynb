{
 "cells": [
  {
   "cell_type": "code",
   "execution_count": null,
   "metadata": {
    "run_control": {
     "frozen": false,
     "read_only": false
    }
   },
   "outputs": [],
   "source": [
    "# This Youtube video walks through this notebook\n",
    "from IPython.display import YouTubeVideo\n",
    "YouTubeVideo('Bdr926TeQyQ')"
   ]
  },
  {
   "cell_type": "markdown",
   "metadata": {
    "run_control": {
     "frozen": false,
     "read_only": false
    }
   },
   "source": [
    "__For the most fun, please do \"Kernel, Restart and Clear Output\", then run cell by cell.__\n",
    "\n",
    "__Else it will show all the runs and outputs, thus taking away the suspense.__"
   ]
  },
  {
   "cell_type": "markdown",
   "metadata": {
    "run_control": {
     "frozen": false,
     "read_only": false
    }
   },
   "source": [
    "# Basics of DFA\n",
    "\n",
    "This unit is going to introduce you to the basics of Deterministic Finite Automata and Regular Languages.\n",
    "\n",
    "We have recorded a Youtube video that will explain this notebook plus a few related things! This will serve as material for Lecture 4 and perhaps also later lectures."
   ]
  },
  {
   "cell_type": "markdown",
   "metadata": {
    "run_control": {
     "frozen": false,
     "read_only": false
    }
   },
   "source": [
    "<span style=\"color:blue\"> **Youtube Video Tutorial of Jupyter** </span>"
   ]
  },
  {
   "cell_type": "code",
   "execution_count": null,
   "metadata": {
    "run_control": {
     "frozen": false,
     "read_only": false
    }
   },
   "outputs": [],
   "source": [
    "from IPython.display import YouTubeVideo\n",
    "YouTubeVideo('Bdr926TeQyQ')"
   ]
  },
  {
   "cell_type": "markdown",
   "metadata": {
    "run_control": {
     "frozen": false,
     "read_only": false
    }
   },
   "source": [
    "## Regular languages\n",
    "\n",
    "Regular languages are one family (or set) of languages. (Both words \"family\" and \"set\" mean the same.)\n",
    "\n",
    "A regular language is specified by drawing a DFA. Once you finish drawing a DFA, you would have defined a regular language. (We will soon tell you why you might want to take the trouble of drawing DFA and obtain regular languages. For now, we will finish defining terms.)  \n",
    "\n",
    "Ultimately the aim is to not produce drawings. We aim to define a simple type of machine that represents goto based programs. we shall define the notion of a transition system and introduce a simple text-based markdown language that helps specify transition systems. Once the transition system is defined, a drawing can be automatically produced using utilities we provide. However we shall continue to say \"draw a DFA\" to mean \"specify a transition system.\"\n",
    "\n",
    "## There are an infinite number of DFAs that can denote the same regular language\n",
    "\n",
    "Much like 1+1 and 3-1 both denote number 2, and there are an infinite number of arithmetic expressions that denote 2, there are an infinite number of transition systems that denote the same regular language. But usually we don't write 364-362 in order to convey \"2\" (e.g., you seldom order (364-362) pancakes in a restaurant.) The same way, you try to specify the simplest possible DFA to denote a particular regular language -- not an artificially bloated one.\n",
    "\n",
    "However, with numbers, we know that \"2\" is simpler than (364-362). With DFA, don't worry: even if you did not draw the simplest DFA, there is an automated tool that we shall give you that creates the simplest DFA. Yes, there is a unique simplest DFA called the minimal DFA for each regular language.\n",
    "\n",
    "## There are an infinite number of regular languages\n",
    "\n",
    "Much like there are an infinite number of natural numbers, there are also an infinite number of regular languages. So let us get the two ideas of infinity introduced so far straight:\n",
    "\n",
    "* Each natural number can be written in an infinite number of variants. E.g., 1 = 2-1 = 3-2 = 4-3 = ...\n",
    "    - Similarly, each regular language can be denoted by an infinite number of DFA\n",
    "  \n",
    "  \n",
    "* There are an infinite number of natural numbers, e.g., 0,1,2, ...\n",
    "    - Similarly, there are an infinite number of regular languages"
   ]
  },
  {
   "cell_type": "markdown",
   "metadata": {
    "run_control": {
     "frozen": false,
     "read_only": false
    }
   },
   "source": [
    "# Highly recommended intuitive first approach: DFA Drawings using JFLAP\n",
    "\n",
    "We shall use the tool JFLAP to draw DFA and then run them. I will include some screenshots and/or a JFLAP screen recording here.\n",
    "The first DFA specified will be to define the language of equal number of 01 and 10 changes. \n",
    "\n",
    "Think about this language a little bit. What strings may we include in this language? List all strings of length less than five in this language in numeric order. "
   ]
  },
  {
   "cell_type": "markdown",
   "metadata": {
    "run_control": {
     "frozen": false,
     "read_only": false
    }
   },
   "source": [
    "# Discarding the ''drawing crutch''\n",
    "\n",
    "Dear student, draw away with JFLAP and we also have a software engineering project called Sinap that has a lot of potential. But let us face it:\n",
    "\n",
    "* Drawing large diagrams is tedious - especially if you have to do the placement of nodes and edges\n",
    "    - From a grading perspective, it will be a nightmare; each students' drawing will look different with non-standard state names chosen\n",
    "    \n",
    "    \n",
    "* Drawings are not what we are after. We are programming a low-level machine\n",
    "    - When we write assembly code, we don't throw the code lines around on \"spaghetti lines\". We comment each line, and carefully arrange them into semantically coherent blocks. DFA code is like assembly code and the same conventions must prevail here too.\n",
    "    \n",
    "    \n",
    "* Large drawings will be a nightmare to maintain. The cop-out used in many automata courses is not to ask students to design large DFA. While we will introduce formalisms such as NFA and RE (regular expressions), waiting for them to arrive is no excuse not to try to design DFA directly, \"complaining that their size is becoming unmanageable.\"\n",
    "    - The markdown notation that we provide solves these problems in the following ways:\n",
    "    \n",
    "        * It standardizes state names in a very systematic way\n",
    "        \n",
    "        * It allows you to write each DFA transition as if it is a line of code, and also comment it\n",
    "        \n",
    "        * Last but not penultimate, it produces DFA drawings automatically, and also produces a runnable artifact that feeds into a rich DFA tool ecosystem\n",
    "        \n",
    "        * Last but not least, it helps illustrate the principles of scanning and parsing \n",
    "\n",
    "\n",
    "# Using Jove for DFA\n",
    "\n",
    "We shall be using Jove's markdown notation to specify DFA. That will happen after a few necessary imports. When we evaluate these imports, we will be welcomed with a list of help messages saying you can seek further help about a whole slew of functions. I hope these functions and what they are supposed to mean should be somewhat clear from their names.\n",
    "\n",
    "(** The listing order is slated for improvements. **)"
   ]
  },
  {
   "cell_type": "code",
   "execution_count": null,
   "metadata": {
    "run_control": {
     "frozen": false,
     "read_only": false
    }
   },
   "outputs": [],
   "source": [
    "#~~~~~~~~~~~~~~~~~~~~~~~~~~~~~~~~~~~~~~~~~~~~~~~~~~~~~~~\n",
    "import sys\n",
    "\n",
    "# -- Detect if in Own Install or in Colab\n",
    "try:\n",
    "    import google.colab\n",
    "    OWN_INSTALL = False\n",
    "except:\n",
    "    OWN_INSTALL = True\n",
    "    \n",
    "if OWN_INSTALL:\n",
    "    \n",
    "  #---- Leave these definitions ON if running on laptop\n",
    "  #---- Else turn OFF by putting them between ''' ... '''\n",
    "\n",
    "  sys.path[0:0] = ['../../../../..',  '../../../../../3rdparty',  \n",
    "                   '../../../..',  '../../../../3rdparty',  \n",
    "                   '../../..',     '../../../3rdparty', \n",
    "                   '../..',        '../../3rdparty',\n",
    "                   '..',           '../3rdparty' ]\n",
    "\n",
    "else: # In colab\n",
    "  ! if [ ! -d Jove ]; then git clone https://github.com/anon-Jove/Jove Jove; fi\n",
    "  sys.path.append('./Jove')\n",
    "  sys.path.append('./Jove/jove')\n",
    "\n",
    "# -- common imports --\n",
    "from jove.DotBashers import *\n",
    "from jove.Def_md2mc import *\n",
    "from jove.Def_DFA   import *\n",
    "#~~~~~~~~~~~~~~~~~~~~~~~~~~~~~~~~~~~~~~~~~~~~~~~~~~~~~~~"
   ]
  },
  {
   "cell_type": "markdown",
   "metadata": {
    "run_control": {
     "frozen": false,
     "read_only": false
    }
   },
   "source": [
    "# Now we begin our work building DFA.\n",
    "\n",
    "As we go along, we will also be teaching you how to \"think DFA\" so that you can code them up \"straight from your head\"\n",
    "\n",
    "\n",
    "## Jove's markdown\n",
    "\n",
    "Jove's markdown is designed to cover four machine types:\n",
    "\n",
    "1. DFA\n",
    "2. NFA\n",
    "3. PDA\n",
    "4. TM\n",
    " \n",
    "There are only these four basic machine types one studies in most automata theory courses.\n",
    "\n",
    "## Markdown syntax for DFA\n",
    "\n",
    "The markdown syntax for DFA is quite simple. To understand what we are about to say below, kindly refer to Def_DFA.ipynb and un\n",
    "\n",
    "Given that a DFA consists of a set of states, an initial state, a possibly empty set of final states, and a transition function, we want to have an arrangement by which we require the user to specify the least and infer everything else.\n",
    "\n",
    "Thus we settle on a notation that specifies the transition function. We will add a few details that allows us to infer the initial and final states. Specifically, to describe a DFA:\n",
    "\n",
    "* Specify a state with name beginning with I that will be the initial state (lower-case i is OK too)\n",
    "\n",
    "* If the DFA in question has an initial state that is also a final state, let the state name begin with IF (lowercase if is OK)\n",
    "\n",
    "* For final states, use a name that begins with F or f\n",
    "\n",
    "* Then just specify-away transitions. \n",
    "\n",
    "### Example DFA\n",
    "\n",
    "We will now specify the DFA whose language is the set of strings that have the same number of 01 and 10 transitions. We will specify the transitions below in markdown within triple quotes initially, and then present the same in a code cell.\n",
    "\n",
    "We decide to include $\\varepsilon$ as well as single occurrences of $0$ and $1$. These strings all trivially contain an equal number of 01 and 10 transitions.\n",
    "\n",
    "Let us design this DFA bit by bit, this being our first example. We will show the final result under \"putting it all together,\" below.\n",
    "\n",
    "#### Initial state and the first few moves\n",
    "\n",
    "We begin in state IF, meaning that it is initial and final. This is how we admit $\\varepsilon$ into the machine's language. Now from IF, upon 0 or upon 1, we must still go to a final state, as the machine must accept a $0$ or a $1$ because a single $0$ or $1$ has an equal number of $01$ and $10$ changes -- meaning $0$ such!\n",
    "\n",
    "We can even plot these partial DFA as we move along. Just don't run them -- that is all! \n",
    "\n",
    "** NOTE ** : When you present your solutions, present only the final product, and not every intermediate DFA"
   ]
  },
  {
   "cell_type": "code",
   "execution_count": null,
   "metadata": {
    "run_control": {
     "frozen": false,
     "read_only": false
    }
   },
   "outputs": [],
   "source": [
    "dotObj_dfa(md2mc('''\n",
    "DFA\n",
    "IF : 0 -> F0  !! a single 0 does not change the number of 01 or 10 transitions\n",
    "IF : 1 -> F1  !! so, go to an accepting state\n",
    "'''))"
   ]
  },
  {
   "cell_type": "markdown",
   "metadata": {
    "run_control": {
     "frozen": false,
     "read_only": false
    }
   },
   "source": [
    "#### Fully decode at every state, transitioning to appropriate states \n",
    "\n",
    "We now fill all other moves, decoding upon a 0 or a 1 at every state, keeping the overall semantics in mind."
   ]
  },
  {
   "cell_type": "code",
   "execution_count": null,
   "metadata": {
    "run_control": {
     "frozen": false,
     "read_only": false
    }
   },
   "outputs": [],
   "source": [
    "# Pick up from before, adding more lines to the DFA description\n",
    "dotObj_dfa(md2mc('''\n",
    "DFA\n",
    "IF : 0 -> F0   !! a single 0 does not change the number of 01 or 10 transitions\n",
    "IF : 1 -> F1   !! so, go to an accepting state\n",
    "F0 : 0 -> F0\n",
    "F1 : 1 -> F1\n",
    "F0 : 1 -> S01  !! There is a 01 transition but no 10 transition. So go to non-accepting state\n",
    "F1 : 0 -> S10  !! ditto.  It has introduced a 10 transition without a  01 transition\n",
    "'''))"
   ]
  },
  {
   "cell_type": "markdown",
   "metadata": {
    "run_control": {
     "frozen": false,
     "read_only": false
    }
   },
   "source": [
    "### Finish the DFA\n",
    "\n",
    "Now that we have made incremental progress and have our thoughts flowing, let's go ahead and\n",
    "finish the DFA. Plus we also name the DFA object and hold onto it, and then also plot wrt that name.\n",
    "See the details below."
   ]
  },
  {
   "cell_type": "code",
   "execution_count": null,
   "metadata": {
    "run_control": {
     "frozen": false,
     "read_only": false
    }
   },
   "outputs": [],
   "source": [
    "# Pick up from before, adding more lines to the DFA description\n",
    "EqChangeDFA = md2mc('''\n",
    "DFA\n",
    "!!--\n",
    "IF : 0 -> F0   !! a single 0 does not change the number of 01 or 10 transitions\n",
    "IF : 1 -> F1   !! so, go to an accepting state\n",
    "F0 : 0 -> F0\n",
    "F1 : 1 -> F1\n",
    "F0 : 1 -> S01  !! There is a 01 transition but no 10 transition. So go to non-accepting state\n",
    "F1 : 0 -> S10  !! ditto.  It has introduced a 10 transition without a  01 transition\n",
    "S01: 1 -> S01  !! Remain in S01 as the 01 vs 10 balance has not been restored\n",
    "S10: 0 -> S10  !! Similar reasoning as above\n",
    "S01: 0 -> F0   !! Balance restored now!\n",
    "S10: 1 -> F1   !! Balance restored now!\n",
    "!!--- \n",
    "!! this finishes the construction, as we have accounted for all transitions\n",
    "''')"
   ]
  },
  {
   "cell_type": "code",
   "execution_count": null,
   "metadata": {
    "run_control": {
     "frozen": false,
     "read_only": false
    }
   },
   "outputs": [],
   "source": [
    "# Let us view the internal Python representation of \n",
    "# DFA as an n-tuple (Q, Sigma, Delta, q0, F)\n",
    "EqChangeDFA"
   ]
  },
  {
   "cell_type": "code",
   "execution_count": null,
   "metadata": {
    "run_control": {
     "frozen": false,
     "read_only": false
    }
   },
   "outputs": [],
   "source": [
    "# Now let us view the DFA as a graph\n",
    "dotObj_dfa(EqChangeDFA)"
   ]
  },
  {
   "cell_type": "markdown",
   "metadata": {
    "run_control": {
     "frozen": false,
     "read_only": false
    }
   },
   "source": [
    "### Running a constructed DFA\n",
    "\n",
    "We run a DFA by generating a collection of strings and generating the status of run (feeding it to accepts_dfa)\n",
    "The full language of the DFA is infinitary, and so we won't present all of it (obviously) but only enough of it\n",
    "to believe that we have built the correct DFA. Later we can check properties and conclude that the machine has\n",
    "all the required moves."
   ]
  },
  {
   "cell_type": "code",
   "execution_count": null,
   "metadata": {
    "run_control": {
     "frozen": false,
     "read_only": false
    }
   },
   "outputs": [],
   "source": [
    "from math import floor, log, pow\n",
    "def nthnumeric(N, S=['a','b']):\n",
    "    \"\"\"Assume S ('Sigma') is a 2-sized list of chars (default ['a','b']). \n",
    "       Produce the Nth string in numeric order, where N >= 0.\n",
    "       Idea : Given N, get b = floor(log_2(N+1)) - need that \n",
    "       many places; what to fill in the places is the binary \n",
    "       code for N - (2^b - 1) with 0 as S[0] and 1 as S[1].    \n",
    "    \"\"\"\n",
    "    assert(type(S)==list # This makes sure that the order does not flip\n",
    "          ),\"nthnumeric now expects to be given a two-element list!!\" \n",
    "    assert(len(S)==2\n",
    "          ),\"Expected to be given an S of length 2.\"\n",
    "    if(N==0):\n",
    "        return ''\n",
    "    else:\n",
    "        width = floor(log(N+1, 2))\n",
    "        tofill = int(N - pow(2, width) + 1)\n",
    "        relevant_binstr = bin(tofill)[2::] # strip the 0b \n",
    "                                           # in the leading string\n",
    "        len_to_makeup = width - len(relevant_binstr)\n",
    "        return (S[0]*len_to_makeup + \n",
    "                shomo(relevant_binstr,\n",
    "                      lambda x: S[1] if x=='1' else S[0]))\n"
   ]
  },
  {
   "cell_type": "code",
   "execution_count": null,
   "metadata": {
    "run_control": {
     "frozen": false,
     "read_only": false
    }
   },
   "outputs": [],
   "source": [
    "tests = [ nthnumeric(i, ['0','1']) for i in range(19) ]\n",
    "tests"
   ]
  },
  {
   "cell_type": "code",
   "execution_count": null,
   "metadata": {
    "run_control": {
     "frozen": false,
     "read_only": false
    },
    "scrolled": true
   },
   "outputs": [],
   "source": [
    "tests = [ nthnumeric(i, ['0','1']) for i in range(19) ]\n",
    "for t in tests:\n",
    "    if accepts_dfa(EqChangeDFA, t):\n",
    "        print(\"This DFA accepts \", t)\n",
    "    else:\n",
    "        print(\"This DFA rejects \", t)"
   ]
  },
  {
   "cell_type": "markdown",
   "metadata": {
    "run_control": {
     "frozen": false,
     "read_only": false
    }
   },
   "source": [
    "## More DFA construction and experimentation"
   ]
  },
  {
   "cell_type": "code",
   "execution_count": null,
   "metadata": {
    "run_control": {
     "frozen": false,
     "read_only": false
    }
   },
   "outputs": [],
   "source": [
    "OddEnds1 = md2mc(''' !! This is a machine that accepts odd-length strings ending in 1\n",
    "DFA                  !! Think about whether you can design this DFA in fewer than 3 states\n",
    "I : 0 -> A\n",
    "A : 0 | 1 -> I\n",
    "I : 1 -> F\n",
    "F : 0 | 1 -> I\n",
    "''')"
   ]
  },
  {
   "cell_type": "code",
   "execution_count": null,
   "metadata": {
    "run_control": {
     "frozen": false,
     "read_only": false
    }
   },
   "outputs": [],
   "source": [
    "dot_OddEnds1 = dotObj_dfa(OddEnds1)"
   ]
  },
  {
   "cell_type": "code",
   "execution_count": null,
   "metadata": {
    "run_control": {
     "frozen": false,
     "read_only": false
    }
   },
   "outputs": [],
   "source": [
    "OddEnds1"
   ]
  },
  {
   "cell_type": "code",
   "execution_count": null,
   "metadata": {
    "run_control": {
     "frozen": false,
     "read_only": false
    }
   },
   "outputs": [],
   "source": [
    "# A simple optional argument: edges not fused\n",
    "dotObj_dfa(OddEnds1)"
   ]
  },
  {
   "cell_type": "code",
   "execution_count": null,
   "metadata": {
    "run_control": {
     "frozen": false,
     "read_only": false
    }
   },
   "outputs": [],
   "source": [
    "# A simple optional argument for fusing multiple edges\n",
    "dotObj_dfa(OddEnds1, FuseEdges=True)"
   ]
  },
  {
   "cell_type": "markdown",
   "metadata": {
    "run_control": {
     "frozen": false,
     "read_only": false
    }
   },
   "source": [
    "## DFA for recognizing that the second-last character is a 1"
   ]
  },
  {
   "cell_type": "code",
   "execution_count": null,
   "metadata": {
    "run_control": {
     "frozen": false,
     "read_only": false
    }
   },
   "outputs": [],
   "source": [
    "secondLastIs1 = md2mc('''\n",
    "!!------------------------------------------------------------\n",
    "!! This DFA looks for patterns of the form ....1.\n",
    "!! i.e., the second-last (counting from the end-point) is a 1\n",
    "!!\n",
    "!! DFAs find such patterns \"very stressful to handle\",\n",
    "!! as they are kept guessing of the form  'are we there yet?'\n",
    "!! 'are we seeing the second-last' ?\n",
    "!! They must keep all the failure options at hand. Even after\n",
    "!! a 'fleeting glimpse' of the second-last, more inputs can\n",
    "!! come barreling-in to make that \"lucky 1\" a non-second-last.\n",
    "!!\n",
    "!! We take 7 states in the DFA solution.\n",
    "!!------------------------------------------------------------\n",
    "\n",
    "DFA\n",
    "!!------------------------------------------------------------\n",
    "!! State : in ->  tostate !! comment\n",
    "!!------------------------------------------------------------\n",
    "\n",
    "I   :  0 ->  S0  !! Enter at init state I\n",
    "I   :  1 ->  S1  !! Record bit seen in state letter\n",
    "                     !! i.e., S0 means \"state after seeing a 0\"\n",
    "\t\t\t \n",
    "S0  :  0 ->  S00 !! continue recording input seen\n",
    "S0  :  1 ->  S01 !! in state-letter. This is a problem-specific\n",
    "                 !! way of compressing the input seen so far.\n",
    "\n",
    "S1  :  0 ->  F10 !! We now have a \"second last\" available!\n",
    "S1  :  1 ->  F11 !! Both F10 and F10 are \"F\" (final)\n",
    "\n",
    "S00 :  0 ->  S00 !! History of things seen is still 00\n",
    "S00 :  1 ->  S01 !! Remember 01 in the state\n",
    "\n",
    "S01 :  0 ->  F10 !! We again have a second-last of 1\n",
    "S01 :  1 ->  F11 !! We are in F11 because of 11 being last seen\n",
    "\n",
    "F10 :  0 ->  S00 !! The second-last 1 gets pushed-out\n",
    "F10 :  1 ->  S01 !! The second-last 1 gets pushed-out here too\n",
    "\n",
    "F11 :  0 ->  F10 !! Still we have a second-last 1\n",
    "F11 :  1 ->  F11 !! Stay in F11, as last two seen are 11\n",
    "\n",
    "!!------------------------------------------------------------\n",
    "''')"
   ]
  },
  {
   "cell_type": "code",
   "execution_count": null,
   "metadata": {
    "run_control": {
     "frozen": false,
     "read_only": false
    }
   },
   "outputs": [],
   "source": [
    "dotObj_dfa(secondLastIs1)"
   ]
  },
  {
   "cell_type": "code",
   "execution_count": null,
   "metadata": {
    "run_control": {
     "frozen": false,
     "read_only": false
    }
   },
   "outputs": [],
   "source": [
    "tests = [ nthnumeric(i, ['0','1']) for i in range(22) ]\n",
    "for t in tests:\n",
    "    if accepts_dfa(secondLastIs1, t):\n",
    "        print(\"This DFA accepts \", t)\n",
    "    else:\n",
    "        print(\"This DFA rejects \", t)"
   ]
  },
  {
   "cell_type": "code",
   "execution_count": null,
   "metadata": {
    "run_control": {
     "frozen": false,
     "read_only": false
    }
   },
   "outputs": [],
   "source": [
    "help(run_dfa)"
   ]
  },
  {
   "cell_type": "markdown",
   "metadata": {
    "collapsed": true,
    "run_control": {
     "frozen": false,
     "read_only": false
    }
   },
   "source": [
    "== THIS FINISHES OUR STUDY OF DFA ON 8/31/17 ==\n",
    "\n",
    "Watch out for Drive_DFA_Unit2 soon."
   ]
  }
 ],
 "metadata": {
  "kernelspec": {
   "display_name": "Python 3",
   "language": "python",
   "name": "python3"
  },
  "language_info": {
   "codemirror_mode": {
    "name": "ipython",
    "version": 3
   },
   "file_extension": ".py",
   "mimetype": "text/x-python",
   "name": "python",
   "nbconvert_exporter": "python",
   "pygments_lexer": "ipython3",
   "version": "3.7.3"
  },
  "toc": {
   "colors": {
    "hover_highlight": "#DAA520",
    "running_highlight": "#FF0000",
    "selected_highlight": "#FFD700"
   },
   "moveMenuLeft": true,
   "nav_menu": {
    "height": "318px",
    "width": "252px"
   },
   "navigate_menu": true,
   "number_sections": true,
   "sideBar": true,
   "threshold": 4,
   "toc_cell": false,
   "toc_section_display": "block",
   "toc_window_display": false,
   "widenNotebook": false
  }
 },
 "nbformat": 4,
 "nbformat_minor": 1
}
