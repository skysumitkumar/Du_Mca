{
 "cells": [
  {
   "cell_type": "markdown",
   "metadata": {
    "run_control": {
     "frozen": false,
     "read_only": false
    }
   },
   "source": [
    " # Push-down Automata"
   ]
  },
  {
   "cell_type": "markdown",
   "metadata": {
    "run_control": {
     "frozen": false,
     "read_only": false
    }
   },
   "source": [
    "This material on push-down automata was inspired by that developed by Tyler Sorensen in year 2011 when he was my Research Assistant. I rewrote his code to fit the more functional style used in my book, while gratefully acknowledging his work in inspiring my code. I have adapted his examples to my syntax, plus added many of my own."
   ]
  },
  {
   "cell_type": "code",
   "execution_count": null,
   "metadata": {
    "run_control": {
     "frozen": false,
     "read_only": false
    }
   },
   "outputs": [],
   "source": [
    "#~~~~~~~~~~~~~~~~~~~~~~~~~~~~~~~~~~~~~~~~~~~~~~~~~~~~~~~\n",
    "import sys\n",
    "\n",
    "# -- Detect if in Own Install or in Colab\n",
    "try:\n",
    "    import google.colab\n",
    "    OWN_INSTALL = False\n",
    "except:\n",
    "    OWN_INSTALL = True\n",
    "    \n",
    "if OWN_INSTALL:\n",
    "    \n",
    "  #---- Leave these definitions ON if running on laptop\n",
    "  #---- Else turn OFF by putting them between ''' ... '''\n",
    "\n",
    "  sys.path[0:0] = ['../../../../..',  '../../../../../3rdparty',  \n",
    "                   '../../../..',  '../../../../3rdparty',  \n",
    "                   '../../..',     '../../../3rdparty', \n",
    "                   '../..',        '../../3rdparty',\n",
    "                   '..',           '../3rdparty' ]\n",
    "\n",
    "else: # In colab\n",
    "  ! if [ ! -d Jove ]; then git clone https://github.com/anon-Jove/Jove Jove; fi\n",
    "  sys.path.append('./Jove')\n",
    "  sys.path.append('./Jove/jove')\n",
    "\n",
    "# -- common imports --\n",
    "from jove.SystemImports       import *\n",
    "from jove.DotBashers          import *\n",
    "from jove.TransitionSelectors import *\n",
    "#~~~~~~~~~~~~~~~~~~~~~~~~~~~~~~~~~~~~~~~~~~~~~~~~~~~~~~~"
   ]
  },
  {
   "cell_type": "markdown",
   "metadata": {
    "collapsed": true,
    "run_control": {
     "frozen": false,
     "read_only": false
    }
   },
   "source": [
    "# Pushdown Automata (PDA)\n",
    "\n",
    "## Basic Definitions\n",
    "\n",
    "Pushdown Automata are structures\n",
    "\n",
    "  $(Q, Sigma, Gamma, Delta, q0, z0, F)$\n",
    "  \n",
    "where\n",
    "\n",
    " * $Q$       : Finite non-empty set of states\n",
    "\n",
    " * $Sigma$   : Finite non-empty input alphabet\n",
    "\n",
    " * $Gamma$   : Finite non-empty stack alphabet (usually subsumes Sigma)\n",
    "\n",
    " * $Delta$   : A transition function \n",
    "\n",
    "and $Delta$'s signature is\n",
    "       \n",
    "$(Q \\times (Sigma \\cup \\{\\varepsilon\\}) \\times (Gamma\\cup\\{\\varepsilon\\}) \\rightarrow (Q \\times Gamma^*)$\n",
    "\n",
    "## Example\n",
    "\n",
    "We model Delta as a mapping of this form\n",
    "             \n",
    " (q, a, b) -> { (q1,G1s), (q2,G2s), ... }\n",
    "             \n",
    "          where\n",
    "             a   gets read\n",
    "             b   gets popped, if non-empty\n",
    "             Gis gets pushed\n",
    "             qi  becomes the next state\n",
    "             \n",
    "* q0      : Starting state\n",
    "\n",
    "* z0      : Initial stack's lone contents\n",
    "\n",
    "            - prevents an \"accept by\n",
    "              empty stack\" PDA from accepting as soon as it is \n",
    "              switched on\n",
    "\n",
    "* F       : Finite, possibly empty set of final states\n",
    "\n",
    "We will define acceptance by final state _or_ empty stack, as will be detailed in this sequel. \n",
    "\n",
    "## Instantaneous Description\n",
    "\n",
    "An instantaneous description (ID) of a PDA is a triple (p, aI, bS). \n",
    "\n",
    "Now, ID (p, aI, bS) evolves to an ID (q, I, GS) \n",
    "\n",
    "written\n",
    "\n",
    "   (p, aI, bS) $\\vdash$ (q, I, GS)\n",
    "   \n",
    "   \n",
    "if  Delta(p,a,b) contains (q,G)\n",
    "\n",
    "A PDA accepts by final state if its ID is of the form (p, \"\", S)\n",
    "where p in F. \n",
    "\n",
    "That is, the input is fully consumed\n",
    "and control resides within F. Note that S is arbitrary.\n",
    "\n",
    "A PDA accepts by empty stack if its ID is of the form (p, \"\", \"\")\n",
    "at any point (for any p).\n",
    "\n",
    "## Design Details of a PDA\n",
    "\n",
    "To __prevent__ a PDA P whose acceptance is defined via an empty stack\n",
    "from accepting \"as soon as it is turned on\", we put in an\n",
    "initial stack letter denoted by P[\"z0\"].\n",
    "\n",
    " * Note that this is only to help-out the user. The user may decide to start with \n",
    " an empty stack, which is fine.\n",
    " \n",
    " * Our preferred initial stack symbol is \"z\" (lower-case z). \n",
    " \n",
    "\n",
    "# Our coding decisions wrt acceptance\n",
    "\n",
    "In our coding,\n",
    "\n",
    "* For PDA, we will require there to be an initial stack symbol\n",
    "\n",
    "* We will permit acceptance either by final state or empty stack (this will be a \n",
    "  parameter given to the run_pda function)\n",
    "  \n",
    "* We will require that a PDA always pop something from the stack (but allow zero or more things to be pushed). This way (\"zero or more\"), emptying the stack becomes possible.\n",
    "\n",
    "* When we encounter an ID for which acceptance has been noted, that ID will still be expanded if there are moves leading out of it.\n"
   ]
  },
  {
   "cell_type": "code",
   "execution_count": null,
   "metadata": {
    "run_control": {
     "frozen": false,
     "read_only": false
    }
   },
   "outputs": [],
   "source": [
    "trSrc"
   ]
  },
  {
   "cell_type": "markdown",
   "metadata": {
    "collapsed": true,
    "run_control": {
     "frozen": false,
     "read_only": false
    }
   },
   "source": [
    "Consistency checker(s) for PDA have moved to DotBashers"
   ]
  },
  {
   "cell_type": "code",
   "execution_count": null,
   "metadata": {
    "run_control": {
     "frozen": false,
     "read_only": false
    }
   },
   "outputs": [],
   "source": [
    "# Example PDA that recognizes balanced parentheses\n",
    "\n",
    "P1bp  = { \"Q\"     : {\"s0\", \"s1\", \"s2\"},\n",
    "           \"Sigma\" : {'(',')'},\n",
    "           \"Gamma\" : {\"(\",\")\",'z'},\n",
    "           \"Delta\" : { ('s0','(','z') : { ('s1','(z') }, # push z; push (\n",
    "                       ('s1','(','z') : { ('s1','(z') }, # push z; push (\n",
    "                       ('s1','(','(') : { ('s1','((') }, # push (; push (\n",
    "                       ('s1','(',')') : { ('s1','()') }, # push ); push (\n",
    "                       ('s1',')','(') : { ('s1','')   }, # push nothing\n",
    "                       ('s1','','z')  : { ('s2','')   }  # push nothing\n",
    "                     },\n",
    "           \"q0\"    : \"s0\",\n",
    "           \"z0\"    : 'z',\n",
    "           \"F\"     : {\"s2\"}\n",
    "         }\n",
    "chk_consistent_pda(P1bp)"
   ]
  },
  {
   "cell_type": "code",
   "execution_count": null,
   "metadata": {
    "run_control": {
     "frozen": false,
     "read_only": false
    }
   },
   "outputs": [],
   "source": [
    "# A variant of P1bp with some redundant transitions added (to take the PDA out of a \n",
    "P2bp    = { \"Q\"     : {\"s0\", \"s1\", \"s2\"},\n",
    "           \"Sigma\" : {'(',')'},\n",
    "           \"Gamma\" : {\"(\",\")\",\"z\"},\n",
    "           \"Delta\" : { ('s0','(','z') : { ('s1','(z') }, # push z; push (\n",
    "                       ('s1','(','z') : { ('s1','(z') }, # push z; push (\n",
    "                       ('s1','(','(') : { ('s1','((') }, # push (; push (\n",
    "                       ('s1','(',')') : { ('s1','()') }, # push ); push (\n",
    "                       ('s1',')','(') : { ('s1','')   }, # push nothing\n",
    "                       ('s1','','z')  : { ('s2','')   },  # push nothing\n",
    "                       ('s2','','')   : { ('s2','')   }\n",
    "                     },\n",
    "           \"q0\"    : \"s0\",\n",
    "           \"z0\"    : 'z',\n",
    "           \"F\"     : {\"s2\"}\n",
    "         }\n",
    "\n",
    "chk_consistent_pda(P2bp)"
   ]
  },
  {
   "cell_type": "code",
   "execution_count": null,
   "metadata": {
    "run_control": {
     "frozen": false,
     "read_only": false
    }
   },
   "outputs": [],
   "source": [
    "# A variant of P2bp with some redundant transitions added (to take the PDA out of a \n",
    "P3bp    = { \"Q\"     : {\"s0\", \"s1\", \"s2\",\"s3\"},\n",
    "           \"Sigma\" : {'(',')'},\n",
    "           \"Gamma\" : {\"(\",\")\",\"z\"},\n",
    "           \"Delta\" : { ('s0','(','z') : { ('s1','(z') }, # push z; push (\n",
    "                       ('s1','(','z') : { ('s1','(z') }, # push z; push (\n",
    "                       ('s1','(','(') : { ('s1','((') }, # push (; push (\n",
    "                       ('s1','(',')') : { ('s1','()') }, # push ); push (\n",
    "                       ('s1',')','(') : { ('s1','')   }, # push nothing\n",
    "                       ('s1','','z')  : { ('s2','')   },  # push nothing\n",
    "                       ('s2','','')   : { ('s3','')   } # run away to s3\n",
    "                     },    # still it matters that a fleeting glimpse of\n",
    "           \"q0\"    : \"s0\", # 's2' has been had, with input consumed!\n",
    "           \"z0\"    : 'z',  # That is enough for acceptance. Tsk, tsk!\n",
    "           \"F\"     : {\"s2\"}\n",
    "         }\n",
    "\n",
    "chk_consistent_pda(P3bp) "
   ]
  },
  {
   "cell_type": "code",
   "execution_count": null,
   "metadata": {
    "run_control": {
     "frozen": false,
     "read_only": false
    }
   },
   "outputs": [],
   "source": [
    "Pev = { \"Sigma\" : {'a','b'},\n",
    "        \"Q\"     : {\"S0\", \"S1\", \"S2\",\"S3\"},\n",
    "        \"Gamma\" : {'a','b','1','Z'},\n",
    "        \"Delta\" : {('S0','a','Z'): {('S1','1Z')},\n",
    "                   ('S1','a','1'): {('S1','11')},\n",
    "                   ('S1','b','1'): {('S2','')},\n",
    "                   ('S2','b','1'): {('S2','')},\n",
    "                   ('S2','','Z') : {('S3','')} },\n",
    "        \"q0\"    : \"S0\",\n",
    "        \"z0\"    : \"Z\",\n",
    "        \"F\"     : { \"S3\" } }\n",
    "\n",
    "chk_consistent_pda(Pev)"
   ]
  },
  {
   "cell_type": "code",
   "execution_count": null,
   "metadata": {
    "run_control": {
     "frozen": false,
     "read_only": false
    }
   },
   "outputs": [],
   "source": [
    "dotObj_pda(Pev)"
   ]
  },
  {
   "cell_type": "code",
   "execution_count": null,
   "metadata": {
    "run_control": {
     "frozen": false,
     "read_only": false
    }
   },
   "outputs": [],
   "source": [
    "list(P2bp[\"Delta\"].items())"
   ]
  },
  {
   "cell_type": "code",
   "execution_count": null,
   "metadata": {
    "run_control": {
     "frozen": false,
     "read_only": false
    }
   },
   "outputs": [],
   "source": [
    "pdaEdgLab"
   ]
  },
  {
   "cell_type": "code",
   "execution_count": null,
   "metadata": {
    "run_control": {
     "frozen": false,
     "read_only": false
    }
   },
   "outputs": [],
   "source": [
    "dotObj_pda(P2bp)"
   ]
  },
  {
   "cell_type": "code",
   "execution_count": null,
   "metadata": {
    "run_control": {
     "frozen": false,
     "read_only": false
    }
   },
   "outputs": [],
   "source": [
    "dotObj_pda(P1bp)"
   ]
  },
  {
   "cell_type": "code",
   "execution_count": null,
   "metadata": {
    "run_control": {
     "frozen": false,
     "read_only": false
    }
   },
   "outputs": [],
   "source": [
    "dotObj_pda(P3bp)"
   ]
  },
  {
   "cell_type": "markdown",
   "metadata": {
    "run_control": {
     "frozen": false,
     "read_only": false
    }
   },
   "source": [
    "# Routines to run PDA \n",
    "\n",
    "We now devise a routine to run a PDA according to either the \"accept by final state\" criterion or \"accept by empty stack\" criterion. We call these \"ACCEPT_F\" and \"ACCEPT_S\" with the default being ACCEPT_F.  The main difference is that the \"final\" configurations are collected differently."
   ]
  },
  {
   "cell_type": "code",
   "execution_count": null,
   "metadata": {
    "run_control": {
     "frozen": false,
     "read_only": false
    }
   },
   "outputs": [],
   "source": [
    "def explore_pda(inp, P, acceptance = 'ACCEPT_F', chatty=False):\n",
    "    \"\"\"A handy routine to print the result of run_pda plus making \n",
    "       future extensions to explore run-results.\n",
    "    \"\"\"\n",
    "    chk_consistent_pda(P)\n",
    "    (term, final, visited) = run_pda(inp, P, acceptance, chatty=chatty)\n",
    "    if (final == []):\n",
    "        print(\"String \" + inp + \" rejected by your PDA :-(\")\n",
    "        print(\"Visited states are:\")\n",
    "        print(visited)\n",
    "    else:\n",
    "        print(\"String \" + inp + \" accepted by your PDA in \" + \n",
    "               str(len(final)) + \" ways :-) \")\n",
    "        print(\"Here are the ways: \")\n",
    "        for fin_path in final:\n",
    "            (fin, path) = fin_path\n",
    "            print(\"Final state \", fin)\n",
    "            print(\"Reached as follows:\")\n",
    "            for p in path:\n",
    "                print(\"-> \", p)\n",
    "            print(\"-> \", fin, \".\")"
   ]
  },
  {
   "cell_type": "code",
   "execution_count": null,
   "metadata": {
    "run_control": {
     "frozen": false,
     "read_only": false
    }
   },
   "outputs": [],
   "source": [
    "def run_pda(str, P, acceptance = 'ACCEPT_F', chatty=True):\n",
    "    \"\"\"Input:  An initial string str.\n",
    "               A PDA P\n",
    "               The acceptance criterion (default is \"by final state\"\n",
    "               encoded as ACCEPT_F. The alternative is ACCEPT_S\n",
    "               that stands for \"acceptance by empty stack\").\n",
    "               \n",
    "       Output: (l_term_id_path, l_final_id_path, l_visited_id)\n",
    "               Thus, an external routine can probe and determine\n",
    "               * terminal IDs\n",
    "               * acceptance configurations\n",
    "               * visited IDs\n",
    "    \"\"\"\n",
    "    chk_consistent_pda(P)\n",
    "    init_id         = (P[\"q0\"], str, P[\"z0\"]) # Initial ID\n",
    "    init_l_id_path  = [(init_id, [])]   # [(Initial ID, empty path)]\n",
    "    l_visited_id    = [] # Nothing visited yet\n",
    "    \n",
    "    (l_surv, \n",
    "     l_term, \n",
    "     l_final) = classify_l_id_path(init_l_id_path, l_visited_id, P, acceptance)\n",
    "    \n",
    "    rslt            = h_run_pda(l_id_path       = l_surv,\n",
    "                                l_term_id_path  = l_term,     \n",
    "                                l_final_id_path = l_final,  \n",
    "                                l_visited_id    = l_visited_id,  \n",
    "                                pda             = P,   \n",
    "                                acceptance      = acceptance # Acceptance criterion\n",
    "                               )\n",
    "    (terminal_id_path, final_id_path, visited_ids) = rslt\n",
    "    if chatty:\n",
    "        print(\"terminal_id_path = \", terminal_id_path) \n",
    "        print(\"final_id_path = \", final_id_path)\n",
    "        print(\"visited_ids = \", visited_ids)\n",
    "    return rslt"
   ]
  },
  {
   "cell_type": "code",
   "execution_count": null,
   "metadata": {
    "run_control": {
     "frozen": false,
     "read_only": false
    }
   },
   "outputs": [],
   "source": [
    "def classify_l_id_path(l_id_path, l_visited_id, P, acceptance):\n",
    "    \"\"\"Given a list l_id_path of id_path pairs, a list l_visited_id\n",
    "       of visited IDs, a PDA P, and the acceptance criterion, classify\n",
    "       the contents of id_path into survivors, terminals, and finals.\n",
    "    \"\"\"\n",
    "    surv_pool  = list(map(survivor_id(l_visited_id, P), l_id_path))\n",
    "    term_pool  = list(map(term_id(l_visited_id, P), l_id_path))\n",
    "    final_pool = list(map(final_id(l_visited_id, P, acceptance), l_id_path))\n",
    "   \n",
    "    l_surv = list(map(lambda x: x[1],\n",
    "                      filter(lambda x: x[0]==\"surv\",\n",
    "                             surv_pool)))\n",
    "    l_term = list(map(lambda x: x[1],\n",
    "                      filter(lambda x: x[0]==\"term\",\n",
    "                             term_pool)))\n",
    "    l_final = list(map(lambda x: x[1],\n",
    "                       filter(lambda x: x[0]==\"final\",\n",
    "                              final_pool))) \n",
    "    return (l_surv, l_term, l_final)"
   ]
  },
  {
   "cell_type": "code",
   "execution_count": null,
   "metadata": {
    "run_control": {
     "frozen": false,
     "read_only": false
    }
   },
   "outputs": [],
   "source": [
    "def h_run_pda(l_id_path, l_term_id_path, l_final_id_path, l_visited_id, \n",
    "              pda, acceptance):\n",
    "    \"\"\"Input:  A list of id_path, all of which are surviving i.e. not\n",
    "               \"term\" or terminal. This invariant is maintained.\n",
    "               A list of terminal id_path (terminal in that there is\n",
    "                 no point pushing on them; stuck or loopy).\n",
    "               A list of final id_path: whenever we meet the \n",
    "               acceptance condition, we record that configuration;\n",
    "               A list of visited id. This will help determine if\n",
    "                 terminal or not. Detects looping as well.\n",
    "               A PDA.\n",
    "       Output: (l_term_id_path, l_final_id_path, l_visited_id)\n",
    "               Thus, an external routine can probe and determine\n",
    "               * terminal IDs\n",
    "               * acceptance configurations\n",
    "               * visited IDs\n",
    "    \"\"\"\n",
    "    if l_id_path == []:\n",
    "        return (l_term_id_path, l_final_id_path, l_visited_id)\n",
    "    else:\n",
    "        id_path0    = l_id_path[0]\n",
    "        (id0,path0) = id_path0     # separate out the id and path\n",
    "               \n",
    "        # First, record the current id0 in l_visited_id \n",
    "        l_visited_id = [ id0 ] + l_visited_id \n",
    "        \n",
    "        # Then obtain  (ID, path) pairs generated by \n",
    "        # taking all possible one-step moves out of id0. \n",
    "        # We also record the extension of path0 in each such\n",
    "        # reached new ID.\n",
    "        nl_id_path0 = step_pda(id0, path0, pda)\n",
    "\n",
    "        if nl_id_path0 == []:\n",
    "            # Nothing gen by firing id0; recurse on rest\n",
    "            return h_run_pda(l_id_path[1:],\n",
    "                             l_term_id_path,\n",
    "                             l_final_id_path,\n",
    "                             l_visited_id,\n",
    "                             pda,\n",
    "                             acceptance)\n",
    "        else:\n",
    "            # Classify the progenies of id0 in nl_id_path0\n",
    "            (l_surv, \n",
    "             l_term, \n",
    "             l_final) = classify_l_id_path(nl_id_path0, l_visited_id, pda, acceptance)\n",
    "            \n",
    "            return h_run_pda(l_id_path[1:]   + l_surv,\n",
    "                             l_term_id_path  + l_term,\n",
    "                             l_final_id_path + l_final,\n",
    "                             l_visited_id,\n",
    "                             pda,\n",
    "                             acceptance)"
   ]
  },
  {
   "cell_type": "code",
   "execution_count": null,
   "metadata": {
    "run_control": {
     "frozen": false,
     "read_only": false
    }
   },
   "outputs": [],
   "source": [
    "test = {\"Sigma\" : {'0','1'},\n",
    "        \"Q\"     : {'q1','q2','q3','q4','q33','q44','q22'},\n",
    "        \"Gamma\" : {'0','1','$'},\n",
    "        \"Delta\" : {('q1','',''): {('q2','$')},\n",
    "                   \n",
    "                   ('q2','0',''): {('q2','0')},  \n",
    "                   ('q2','','0'): {('q22','0')}, \n",
    "                   \n",
    "                   ('q2','1',''): {('q2','1')},\n",
    "                   ('q2','','1'): {('q33','1')},\n",
    "                   ('q2','1','1'): {('q44','1')},\n",
    "                   ('q2','',''): {('q3','')}, \n",
    "                   \n",
    "                   ('q3','0','0'): {('q3','')},\n",
    "                   ('q3','1','1'): {('q3','')},\n",
    "                   ('q3','','$') : {('q4','')}\n",
    "                  },\n",
    "        \"z0\"    : \"$\",\n",
    "        \"q0\"    : \"q1\",\n",
    "        \"F\"     : {'q1','q4'} }\n",
    "chk_consistent_pda(test)"
   ]
  },
  {
   "cell_type": "code",
   "execution_count": null,
   "metadata": {
    "run_control": {
     "frozen": false,
     "read_only": false
    }
   },
   "outputs": [],
   "source": [
    " def interpret_w_eps(q_inp_stk, pda):\n",
    "        \"\"\"Produce the most liberal interpretation of q_inp_stk for pda\n",
    "           i.e.  in (q, inp_str, stk_str), we can ignore inp_str or stk_str.\n",
    "           E.g. if inp_str is \"ab\", we can consider it to be \"\" or \"a\".\n",
    "           The rest of the string will then be \"ab\" or \"b\" respectively.\n",
    "           This is done if a move in Delta can process that option.\n",
    "        \"\"\"\n",
    "        (q, inp_str, stk_str) = q_inp_stk  \n",
    "        \n",
    "        inp_interps = cvt_str_to_sym(inp_str)  # Diverse interpretations of input\n",
    "        stk_interps = cvt_str_to_sym(stk_str)  # and stack strings.\n",
    "        \n",
    "        # A list of the form [ ((if, ir), (sf, sr)), ... ] pairs where\n",
    "        # ifst is the first of the input and sfst is the first of the stack\n",
    "        # irst is the rest  of the input and srst is the rest  of the stack\n",
    "        i_s_interps = list(product(inp_interps, stk_interps))  \n",
    "        \n",
    "        pda_delta = pda[\"Delta\"]\n",
    "        key_list  = list(pda_delta.keys())\n",
    "        \n",
    "        # Form a dictionary i_s_interp_dict of { i_s_interp : delta-codom-pt-set }\n",
    "        i_s_interp_dict = dict({})\n",
    "        \n",
    "        for i_s_interp in i_s_interps:\n",
    "            # Each i_s_interp is ((ifst, irst), (sfst, srst))\n",
    "            (inp_interp, stk_interp) = i_s_interp\n",
    "            (ifst, irst) = inp_interp\n",
    "            (sfst, srst) = stk_interp\n",
    "            \n",
    "            # Now form all possible transitions under each interpretation\n",
    "            key_sought = (q, ifst, sfst)\n",
    "            if key_sought in key_list:\n",
    "                # Transition as per that, recording the irst, srst also\n",
    "                i_s_interp_dict.update({i_s_interp : pda_delta[key_sought]})\n",
    "                \n",
    "        return i_s_interp_dict"
   ]
  },
  {
   "cell_type": "code",
   "execution_count": null,
   "metadata": {
    "run_control": {
     "frozen": false,
     "read_only": false
    }
   },
   "outputs": [],
   "source": [
    "def step_pda(q_inp_stk, path, pda):\n",
    "    \"\"\"Inputs: An ID q_inp_stk = (q, inp_str, stk_str)\n",
    "               A path reaching this ID. path is a list\n",
    "                 of Delta's domain triples via which the firings occurred.\n",
    "               A pda (Q, Sigma, Gamma, Delta, q0, z0, F)\n",
    "               \n",
    "       Output: Let inp_sym and stk_sym be the symbols in the input/stack.\n",
    "               In case (q,inp_sym, stk_sym) is not in the domain of pda's\n",
    "               TRel, return [], i.e. empty list.\n",
    "\n",
    "               Else return the list [ (q_inp_stk_i, path_i), ... ]\n",
    "               \n",
    "               where ID q_inp_stk_i can be reached via path_i,\n",
    "               and path_i is obtained by extending path\n",
    "               with the domain triple that fired.\n",
    "               \n",
    "               For instance, if path_list is [p1,p2,p3] and the\n",
    "               transition at domain point (q,c,s) fired from (q,inp,stk),\n",
    "               and the codomain has its third entry as (q3,inp3,stk3), \n",
    "               then q_inp_stk_i will be (q3,inp3,stk3)\n",
    "               and  path_i      will be [p1,p2,p3, (q,c,s)].\n",
    "    \"\"\"\n",
    "    chk_consistent_pda(pda)\n",
    "    i_s_interp_dict = interpret_w_eps(q_inp_stk, pda)\n",
    "    \n",
    "    nxt_id_path_l = []\n",
    "    \n",
    "    extpath = path + [ q_inp_stk ]\n",
    "    \n",
    "    for i_s_interp_item in i_s_interp_dict.items():\n",
    "        (((ifst, irst), # extract input fst,rst\n",
    "          (sfst, srst)), # and stack fst,rst \n",
    "         codom_set      # and codom_set\n",
    "        ) = i_s_interp_item\n",
    "        for codom_pt in codom_set:\n",
    "            (nxt_st, str_psh) = codom_pt\n",
    "            nxt_id_path_l += [((nxt_st, irst, str_psh+srst),\n",
    "                               extpath)]\n",
    "    return nxt_id_path_l"
   ]
  },
  {
   "cell_type": "code",
   "execution_count": null,
   "metadata": {
    "run_control": {
     "frozen": false,
     "read_only": false
    }
   },
   "outputs": [],
   "source": [
    "def survivor_id(l_visited_id, pda):\n",
    "    return (lambda id_path:\n",
    "                ((\"surv\", id_path)\n",
    "                    if is_surv_id(id_path, l_visited_id, pda)\n",
    "                    else (\"not_surv\", id_path)))\n",
    "\n",
    "def term_id(l_visited_id, pda):\n",
    "    return (lambda id_path:\n",
    "                ((\"term\", id_path)\n",
    "                    if is_term_id(id_path, l_visited_id, pda)\n",
    "                    else (\"not_term\", id_path)))\n",
    "    \n",
    "def final_id(l_visited_id, pda, acceptance):\n",
    "    return (lambda id_path:\n",
    "                ((\"final\", id_path)\n",
    "                    if is_final_id(id_path, l_visited_id, pda, acceptance)\n",
    "                    else (\"not_final\", id_path)))"
   ]
  },
  {
   "cell_type": "code",
   "execution_count": null,
   "metadata": {
    "run_control": {
     "frozen": false,
     "read_only": false
    }
   },
   "outputs": [],
   "source": [
    "def cvt_str_to_sym(str):\n",
    "    \"\"\"Given a string, interpret it in all possible ways and return a set of pairs\n",
    "       of (first, rest). E.g. \"ab\" interpreted as (\"\", \"ab\") as well as (\"a\", \"b\").\n",
    "       However, \"\" interpreted only as (\"\", \"\").\n",
    "    \"\"\"\n",
    "    if str == \"\":\n",
    "        return [(\"\", \"\")]\n",
    "    else:\n",
    "        return [(\"\", str), (str[0], str[1:])]"
   ]
  },
  {
   "cell_type": "code",
   "execution_count": null,
   "metadata": {
    "run_control": {
     "frozen": false,
     "read_only": false
    }
   },
   "outputs": [],
   "source": [
    "def is_surv_id(id_path, l_visited_ids, pda):\n",
    "    \"\"\"If there is any move out of the id of id_path,\n",
    "       and the id is not subsumed by l_visited_ids,\n",
    "       then it is \"surv\"; else not.\n",
    "    \"\"\"\n",
    "    (id, path) = id_path\n",
    "    return (not subsumed(id, l_visited_ids))\n",
    "       \n",
    "from functools import reduce\n",
    "def subsumed(id, l_visited_ids):\n",
    "    \"\"\"If            id is (q,in_str,stk_str)\n",
    "       and exists a member (q1,in_str1,stk_str1) in l_visited_ids\n",
    "       then subsumed is True if q==q1, in_str==in_str1\n",
    "                                and stk_str1 starts with stk_str.\n",
    "       This \"starts with\" test models stk_str being on top of the stack.\n",
    "    \"\"\"\n",
    "    #print(\"--subsumed--\")\n",
    "    #print(\"id\",id)\n",
    "    #print(\"l_visited_ids\",l_visited_ids)\n",
    "    \n",
    "    if l_visited_ids == []:\n",
    "        return False\n",
    "    else:\n",
    "        (q,  inp_str,  stk_str)  = id\n",
    "        (q1, inp_str1, stk_str1) = l_visited_ids[0]\n",
    "        if ((q==q1) \n",
    "            and (inp_str==inp_str1) \n",
    "            and (len(stk_str) >= len(stk_str1))):\n",
    "            return True\n",
    "        else:\n",
    "            return subsumed(id, l_visited_ids[1:])\n",
    "\n",
    "def is_term_id(id_path, l_visited_ids, pda):\n",
    "    \"\"\"If the id of id_path is subsumed by l_visited_ids,\n",
    "       then it is \"term\"; else not.\n",
    "    \"\"\"\n",
    "    (id, path) = id_path\n",
    "    return subsumed(id, l_visited_ids)\n",
    "\n",
    "def is_final_id(id_path, l_visited_ids, pda, acceptance):\n",
    "    \"\"\"If the id of id_path meets the acceptance criterion \n",
    "       that is passed in, then it is \"final\"; else not.\n",
    "    \"\"\" \n",
    "    (id, path) = id_path\n",
    "    (q, inp_str, stk_str) = id\n",
    "    if (acceptance == \"ACCEPT_F\"):\n",
    "        return (inp_str==\"\" and q in pda[\"F\"])\n",
    "    else:\n",
    "        assert(acceptance == \"ACCEPT_S\")\n",
    "        return (inp_str==\"\" and stk_str==\"\")"
   ]
  },
  {
   "cell_type": "code",
   "execution_count": null,
   "metadata": {
    "run_control": {
     "frozen": false,
     "read_only": false
    }
   },
   "outputs": [],
   "source": [
    "dotObj_pda(P2bp)"
   ]
  },
  {
   "cell_type": "code",
   "execution_count": null,
   "metadata": {
    "run_control": {
     "frozen": false,
     "read_only": false
    }
   },
   "outputs": [],
   "source": [
    "explore_pda(\"()\", P2bp)"
   ]
  },
  {
   "cell_type": "code",
   "execution_count": null,
   "metadata": {
    "run_control": {
     "frozen": false,
     "read_only": false
    }
   },
   "outputs": [],
   "source": [
    "dotObj_pda(Pev)"
   ]
  },
  {
   "cell_type": "code",
   "execution_count": null,
   "metadata": {
    "run_control": {
     "frozen": false,
     "read_only": false
    }
   },
   "outputs": [],
   "source": [
    "explore_pda(\"ab\", Pev)"
   ]
  },
  {
   "cell_type": "code",
   "execution_count": null,
   "metadata": {
    "run_control": {
     "frozen": false,
     "read_only": false
    }
   },
   "outputs": [],
   "source": [
    "Pev1 = { \"Sigma\" : {'a','b'},\n",
    "        \"Q\"     : {\"S0\", \"S1\", \"S2\",\"S3\"},\n",
    "        \"Gamma\" : {'a','b','1',\"Z\"},\n",
    "        \"Delta\" : {('S0','a','Z'): {('S1','1Z')},\n",
    "                   ('S1','a','1'): {('S1','11')},\n",
    "                   ('S1','b','1'): {('S2','')},\n",
    "                   ('S2','b','1'): {('S2','')},\n",
    "                   ('S2','','Z') : {('S3','')},\n",
    "                   ('S3','', '') : {('S2', '111')}\n",
    "                  },\n",
    "        \"q0\"    : \"S0\",\n",
    "        \"z0\"    : \"Z\",\n",
    "        \"F\"     : { \"S3\" } }\n"
   ]
  },
  {
   "cell_type": "code",
   "execution_count": null,
   "metadata": {
    "run_control": {
     "frozen": false,
     "read_only": false
    }
   },
   "outputs": [],
   "source": [
    "dotObj_pda(Pev1)"
   ]
  },
  {
   "cell_type": "code",
   "execution_count": null,
   "metadata": {
    "run_control": {
     "frozen": false,
     "read_only": false
    }
   },
   "outputs": [],
   "source": [
    "dotObj_pda(Pev1, visible_eps=True)"
   ]
  },
  {
   "cell_type": "code",
   "execution_count": null,
   "metadata": {
    "run_control": {
     "frozen": false,
     "read_only": false
    }
   },
   "outputs": [],
   "source": [
    "Pev1 = { \"Sigma\" : {'a','b'},\n",
    "        \"Q\"     : {\"S0\", \"S1\", \"S2\",\"S3\"},\n",
    "        \"Gamma\" : {'a','b','1',\"Z\"},\n",
    "        \"Delta\" : {('S0','a','Z'): {('S1','1Z')},\n",
    "                   ('S1','a','1'): {('S1','11')},\n",
    "                   ('S1','b','1'): {('S2','')},\n",
    "                   ('S2','b','1'): {('S2','')},\n",
    "                   ('S2','','Z') : {('S3','')},\n",
    "                   ('S3','', '') : {('S2', '111')}\n",
    "                  },\n",
    "        \"q0\"    : \"S0\",\n",
    "        \"z0\"    : \"Z\",\n",
    "        \"F\"     : { \"S3\" } }\n",
    "chk_consistent_pda(Pev1)"
   ]
  },
  {
   "cell_type": "code",
   "execution_count": null,
   "metadata": {
    "run_control": {
     "frozen": false,
     "read_only": false
    }
   },
   "outputs": [],
   "source": [
    "explore_pda(\"aabb\", Pev1)"
   ]
  },
  {
   "cell_type": "code",
   "execution_count": null,
   "metadata": {
    "run_control": {
     "frozen": false,
     "read_only": false
    }
   },
   "outputs": [],
   "source": [
    "Pev2 = {\"Sigma\" : {'a','b'},\n",
    "        \"Q\"     : {\"S0\", \"S1\", \"S2\",\"S3\"},\n",
    "        \"Gamma\" : {'a','b','1',\"Z\"},\n",
    "        \"Delta\" : {('S0','a','Z'): {('S1','1Z')},\n",
    "                   ('S1','a','1'): {('S1','11')},\n",
    "                   ('S1','b','1'): {('S2','')},\n",
    "                   ('S2','b','1'): {('S2','')},\n",
    "                   ('S2','','Z') : {('S3','')},\n",
    "                   ('S3','', '') : {('S2', '111')}\n",
    "                  },\n",
    "        \"q0\"    : \"S0\",\n",
    "        \"z0\"    : \"Z\",\n",
    "        \"F\"     : set({  }) }\n",
    "chk_consistent_pda(Pev2)"
   ]
  },
  {
   "cell_type": "code",
   "execution_count": null,
   "metadata": {
    "run_control": {
     "frozen": false,
     "read_only": false
    }
   },
   "outputs": [],
   "source": [
    "dotObj_pda(Pev2)"
   ]
  },
  {
   "cell_type": "code",
   "execution_count": null,
   "metadata": {
    "run_control": {
     "frozen": false,
     "read_only": false
    }
   },
   "outputs": [],
   "source": [
    "explore_pda(\"aabb\", Pev2)"
   ]
  },
  {
   "cell_type": "code",
   "execution_count": null,
   "metadata": {
    "run_control": {
     "frozen": false,
     "read_only": false
    }
   },
   "outputs": [],
   "source": [
    "explore_pda(\"aabb\", Pev2, \"ACCEPT_S\")"
   ]
  },
  {
   "cell_type": "code",
   "execution_count": null,
   "metadata": {
    "run_control": {
     "frozen": false,
     "read_only": false
    }
   },
   "outputs": [],
   "source": []
  },
  {
   "cell_type": "code",
   "execution_count": null,
   "metadata": {
    "run_control": {
     "frozen": false,
     "read_only": false
    }
   },
   "outputs": [],
   "source": [
    "Pev3 = {\"Sigma\" : {'a','b'},\n",
    "        \"Q\"     : {\"S0\", \"S1\", \"S2\",\"S3\"},\n",
    "        \"Gamma\" : {'a','b','1',\"Z\"},\n",
    "        \"Delta\" : {('S0','a','Z'): {('S1','1Z')},\n",
    "                   ('S1','a','1'): {('S1','11')},\n",
    "                   ('S1','b','1'): {('S2','')},\n",
    "                   ('S2','b','1'): {('S2','')},\n",
    "                   ('S2','','Z') : {('S3','')},\n",
    "                   ('S3','', '') : {('S2', '111')}\n",
    "                  },\n",
    "        \"q0\"    : \"S0\",\n",
    "        \"z0\"    : \"Z\",\n",
    "        \"F\"     : {\"S2\", \"S3\"} }\n",
    "chk_consistent_pda(Pev3)"
   ]
  },
  {
   "cell_type": "code",
   "execution_count": null,
   "metadata": {
    "run_control": {
     "frozen": false,
     "read_only": false
    }
   },
   "outputs": [],
   "source": [
    "dotObj_pda(Pev3)"
   ]
  },
  {
   "cell_type": "code",
   "execution_count": null,
   "metadata": {
    "run_control": {
     "frozen": false,
     "read_only": false
    }
   },
   "outputs": [],
   "source": [
    "explore_pda(\"aabb\", Pev3)"
   ]
  },
  {
   "cell_type": "code",
   "execution_count": null,
   "metadata": {
    "run_control": {
     "frozen": false,
     "read_only": false
    }
   },
   "outputs": [],
   "source": [
    "explore_pda(\"aaabbb\", Pev3)"
   ]
  },
  {
   "cell_type": "code",
   "execution_count": null,
   "metadata": {
    "run_control": {
     "frozen": false,
     "read_only": false
    }
   },
   "outputs": [],
   "source": [
    "dotObj_pda(Pev)"
   ]
  },
  {
   "cell_type": "code",
   "execution_count": null,
   "metadata": {
    "run_control": {
     "frozen": false,
     "read_only": false
    }
   },
   "outputs": [],
   "source": [
    "explore_pda(\"aaaabbb\", Pev)"
   ]
  },
  {
   "cell_type": "code",
   "execution_count": null,
   "metadata": {
    "run_control": {
     "frozen": false,
     "read_only": false
    }
   },
   "outputs": [],
   "source": [
    "explore_pda(\"aaaabbbb\", Pev1)"
   ]
  },
  {
   "cell_type": "code",
   "execution_count": null,
   "metadata": {
    "run_control": {
     "frozen": false,
     "read_only": false
    }
   },
   "outputs": [],
   "source": [
    "explore_pda(\"aaaabbbb\", Pev2)"
   ]
  },
  {
   "cell_type": "code",
   "execution_count": null,
   "metadata": {
    "run_control": {
     "frozen": false,
     "read_only": false
    }
   },
   "outputs": [],
   "source": [
    "dotObj_pda(Pev2)"
   ]
  },
  {
   "cell_type": "code",
   "execution_count": null,
   "metadata": {
    "run_control": {
     "frozen": false,
     "read_only": false
    }
   },
   "outputs": [],
   "source": [
    "F27sip = {\"Sigma\" : {'a','b','c'},\n",
    "        \"Q\"     : {\"q1\",\"q2\",\"q3\",\"q4\",\"q5\",\"q6\",\"q7\"},\n",
    "        \"Gamma\" : {'a','b','c','$'},\n",
    "        \"Delta\" : {('q1','','')  : { ('q2','$')},\n",
    "                   \n",
    "                   ('q2','a',''): { ('q2','a') },\n",
    "                   ('q2','',''): { ('q3',''), ('q5','') },\n",
    "                   \n",
    "                   ('q3','b','a'): { ('q3','') },\n",
    "                   ('q3','','$'): { ('q4','') },\n",
    "                   \n",
    "                   ('q4','c',''): { ('q4','') },\n",
    "                   \n",
    "                   ('q5','b',''): { ('q5','') },\n",
    "                   ('q5','',''): { ('q6','') },\n",
    "                   \n",
    "                   ('q6','c','a'): { ('q6','') },\n",
    "                   ('q6','','$'): { ('q7','') }\n",
    "                  },\n",
    "        \"q0\"    : \"q1\",\n",
    "        \"z0\"    : \"$\",\n",
    "        \"F\"     : {'q4','q7'} }\n",
    "chk_consistent_pda(F27sip)"
   ]
  },
  {
   "cell_type": "code",
   "execution_count": null,
   "metadata": {
    "run_control": {
     "frozen": false,
     "read_only": false
    }
   },
   "outputs": [],
   "source": [
    "dotObj_pda(F27sip)"
   ]
  },
  {
   "cell_type": "code",
   "execution_count": null,
   "metadata": {
    "run_control": {
     "frozen": false,
     "read_only": false
    }
   },
   "outputs": [],
   "source": [
    "wwr = {\"Sigma\" : {'0','1'},\n",
    "        \"Q\"     : {'q1','q2','q3','q4'},\n",
    "        \"Gamma\" : {'0','1','$'},\n",
    "        \"Delta\" : {('q1','',''): {('q2','$')},\n",
    "                   ('q2','0',''): {('q2','0')},  \n",
    "                   ('q2','1',''): {('q2','1')}, \n",
    "                   ('q2','',''): {('q3','')}, \n",
    "                   ('q3','0','0'): {('q3','')},\n",
    "                   ('q3','1','1'): {('q3','')},\n",
    "                   ('q3','','$') : {('q4','')}\n",
    "                  },\n",
    "        \"q0\"    : \"q1\",\n",
    "        \"z0\"    : \"$\",\n",
    "        \"F\"     : {'q1','q4'} }\n",
    "chk_consistent_pda(wwr)"
   ]
  },
  {
   "cell_type": "code",
   "execution_count": null,
   "metadata": {
    "run_control": {
     "frozen": false,
     "read_only": false
    }
   },
   "outputs": [],
   "source": [
    "dotObj_pda(wwr)"
   ]
  },
  {
   "cell_type": "code",
   "execution_count": null,
   "metadata": {
    "run_control": {
     "frozen": false,
     "read_only": false
    }
   },
   "outputs": [],
   "source": [
    "dotObj_pda(F27sip)"
   ]
  },
  {
   "cell_type": "code",
   "execution_count": null,
   "metadata": {
    "run_control": {
     "frozen": false,
     "read_only": false
    }
   },
   "outputs": [],
   "source": [
    "explore_pda(\"aabcc\",F27sip)"
   ]
  },
  {
   "cell_type": "code",
   "execution_count": null,
   "metadata": {
    "run_control": {
     "frozen": false,
     "read_only": false
    }
   },
   "outputs": [],
   "source": [
    "dotObj_pda(F27sip, visible_eps=True)"
   ]
  },
  {
   "cell_type": "code",
   "execution_count": null,
   "metadata": {
    "run_control": {
     "frozen": false,
     "read_only": false
    }
   },
   "outputs": [],
   "source": [
    "dotObj_pda(F27sip, visible_eps=False)"
   ]
  },
  {
   "cell_type": "code",
   "execution_count": null,
   "metadata": {
    "run_control": {
     "frozen": false,
     "read_only": false
    }
   },
   "outputs": [],
   "source": [
    "onestpda = {\"Sigma\" : {'a','b','c'},\n",
    "        \"Q\"     : { \"q7\"},\n",
    "        \"Gamma\" : { 'a','b','c','$'},\n",
    "        \"Delta\" : { \n",
    "                   ('q7','',''): {('q7','aa')}\n",
    "                  },\n",
    "        \"q0\"    : \"q7\",\n",
    "        \"z0\"    : \"$\",\n",
    "        \"F\"     : set({ }) }\n",
    "chk_consistent_pda(onestpda)"
   ]
  },
  {
   "cell_type": "code",
   "execution_count": null,
   "metadata": {
    "run_control": {
     "frozen": false,
     "read_only": false
    }
   },
   "outputs": [],
   "source": [
    "dotObj_pda(onestpda)"
   ]
  },
  {
   "cell_type": "code",
   "execution_count": null,
   "metadata": {
    "run_control": {
     "frozen": false,
     "read_only": false
    }
   },
   "outputs": [],
   "source": [
    "explore_pda(\"a\",onestpda)"
   ]
  },
  {
   "cell_type": "code",
   "execution_count": null,
   "metadata": {
    "run_control": {
     "frozen": false,
     "read_only": false
    }
   },
   "outputs": [],
   "source": [
    "explore_pda(\"aabbcc\",F27sip)"
   ]
  },
  {
   "cell_type": "code",
   "execution_count": null,
   "metadata": {
    "run_control": {
     "frozen": false,
     "read_only": false
    }
   },
   "outputs": [],
   "source": [
    "explore_pda(\"aaabbbccc\",F27sip)"
   ]
  },
  {
   "cell_type": "code",
   "execution_count": null,
   "metadata": {
    "run_control": {
     "frozen": false,
     "read_only": false
    }
   },
   "outputs": [],
   "source": [
    "onestpda1 = {\"Sigma\" : {'a','b','c'},\n",
    "        \"Q\"     : { \"q7\"},\n",
    "        \"Gamma\" : { 'a','b','c','$'},\n",
    "        \"Delta\" : { \n",
    "                   ('q7','',''): {('q7','aa')}\n",
    "                  },\n",
    "        \"q0\"    : \"q7\",\n",
    "        \"z0\"    : \"$\",\n",
    "        \"F\"     : set({ }) }\n",
    "chk_consistent_pda(onestpda1)"
   ]
  },
  {
   "cell_type": "code",
   "execution_count": null,
   "metadata": {
    "run_control": {
     "frozen": false,
     "read_only": false
    }
   },
   "outputs": [],
   "source": [
    "dotObj_pda(onestpda1)"
   ]
  },
  {
   "cell_type": "code",
   "execution_count": null,
   "metadata": {
    "run_control": {
     "frozen": false,
     "read_only": false
    }
   },
   "outputs": [],
   "source": [
    "explore_pda(\"\",onestpda1, \"ACCEPT_S\")"
   ]
  },
  {
   "cell_type": "code",
   "execution_count": null,
   "metadata": {
    "run_control": {
     "frozen": false,
     "read_only": false
    }
   },
   "outputs": [],
   "source": [
    "explore_pda(\"\",onestpda1, \"ACCEPT_S\", chatty=True)"
   ]
  },
  {
   "cell_type": "code",
   "execution_count": null,
   "metadata": {
    "run_control": {
     "frozen": false,
     "read_only": false
    }
   },
   "outputs": [],
   "source": [
    "explore_pda(\"\",onestpda1, \"ACCEPT_F\")"
   ]
  },
  {
   "cell_type": "code",
   "execution_count": null,
   "metadata": {
    "run_control": {
     "frozen": false,
     "read_only": false
    }
   },
   "outputs": [],
   "source": []
  },
  {
   "cell_type": "code",
   "execution_count": null,
   "metadata": {
    "run_control": {
     "frozen": false,
     "read_only": false
    }
   },
   "outputs": [],
   "source": [
    "run_pda(\"\",onestpda1, \"ACCEPT_S\", chatty=False)"
   ]
  },
  {
   "cell_type": "code",
   "execution_count": null,
   "metadata": {
    "run_control": {
     "frozen": false,
     "read_only": false
    }
   },
   "outputs": [],
   "source": [
    "run_pda(\"\",onestpda1, \"ACCEPT_S\", chatty=True)"
   ]
  },
  {
   "cell_type": "code",
   "execution_count": null,
   "metadata": {
    "run_control": {
     "frozen": false,
     "read_only": false
    }
   },
   "outputs": [],
   "source": []
  },
  {
   "cell_type": "code",
   "execution_count": null,
   "metadata": {
    "run_control": {
     "frozen": false,
     "read_only": false
    }
   },
   "outputs": [],
   "source": []
  }
 ],
 "metadata": {
  "kernelspec": {
   "display_name": "Python 3",
   "language": "python",
   "name": "python3"
  },
  "language_info": {
   "codemirror_mode": {
    "name": "ipython",
    "version": 3
   },
   "file_extension": ".py",
   "mimetype": "text/x-python",
   "name": "python",
   "nbconvert_exporter": "python",
   "pygments_lexer": "ipython3",
   "version": "3.7.3"
  },
  "toc": {
   "colors": {
    "hover_highlight": "#DAA520",
    "running_highlight": "#FF0000",
    "selected_highlight": "#FFD700"
   },
   "moveMenuLeft": true,
   "nav_menu": {
    "height": "318px",
    "width": "252px"
   },
   "navigate_menu": true,
   "number_sections": true,
   "sideBar": true,
   "threshold": 4,
   "toc_cell": false,
   "toc_section_display": "block",
   "toc_window_display": false,
   "widenNotebook": false
  }
 },
 "nbformat": 4,
 "nbformat_minor": 1
}
