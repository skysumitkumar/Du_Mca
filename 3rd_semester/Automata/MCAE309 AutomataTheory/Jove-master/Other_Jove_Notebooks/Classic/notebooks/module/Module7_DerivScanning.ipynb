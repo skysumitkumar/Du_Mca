{
 "cells": [
  {
   "cell_type": "markdown",
   "metadata": {
    "run_control": {
     "frozen": false,
     "read_only": false
    }
   },
   "source": [
    "# Basic Definitions"
   ]
  },
  {
   "cell_type": "markdown",
   "metadata": {
    "run_control": {
     "frozen": false,
     "read_only": false
    }
   },
   "source": [
    "This module illustrates derivate-based scanning."
   ]
  },
  {
   "cell_type": "code",
   "execution_count": 1,
   "metadata": {
    "run_control": {
     "frozen": false,
     "read_only": false
    }
   },
   "outputs": [],
   "source": [
    "#~~~~~~~~~~~~~~~~~~~~~~~~~~~~~~~~~~~~~~~~~~~~~~~~~~~~~~~\n",
    "import sys\n",
    "\n",
    "# -- Detect if in Own Install or in Colab\n",
    "try:\n",
    "    import google.colab\n",
    "    OWN_INSTALL = False\n",
    "except:\n",
    "    OWN_INSTALL = True\n",
    "    \n",
    "if OWN_INSTALL:\n",
    "    \n",
    "  #---- Leave these definitions ON if running on laptop\n",
    "  #---- Else turn OFF by putting them between ''' ... '''\n",
    "\n",
    "  sys.path[0:0] = ['../../../../..',  '../../../../../3rdparty',  \n",
    "                   '../../../..',  '../../../../3rdparty',  \n",
    "                   '../../..',     '../../../3rdparty', \n",
    "                   '../..',        '../../3rdparty',\n",
    "                   '..',           '../3rdparty' ]\n",
    "\n",
    "else: # In colab\n",
    "  ! if [ ! -d Jove ]; then git clone https://github.com/anon-Jove/Jove Jove; fi\n",
    "  sys.path.append('./Jove')\n",
    "  sys.path.append('./Jove/jove')\n",
    "\n",
    "# -- common imports --\n",
    "from jove.lex import lex\n",
    "from jove.yacc import yacc\n",
    "#~~~~~~~~~~~~~~~~~~~~~~~~~~~~~~~~~~~~~~~~~~~~~~~~~~~~~~~"
   ]
  },
  {
   "cell_type": "code",
   "execution_count": 2,
   "metadata": {
    "run_control": {
     "frozen": false,
     "read_only": false
    }
   },
   "outputs": [],
   "source": [
    "#!/usr/bin/env python\n",
    "# re2ast.py\n",
    "# A simple regexp parser to convert RE strings to an AST\n",
    "\n",
    "\n",
    "tokens = ('EPS','STR','LPAREN','RPAREN','PLUS','STAR', 'NOT')\n",
    "\n",
    "# Tokens\n",
    "t_PLUS    = r'\\+'\n",
    "t_STAR    = r'\\*'\n",
    "t_LPAREN  = r'\\('\n",
    "t_RPAREN  = r'\\)'\n",
    "t_EPS     = r'\\@'\n",
    "t_STR     = r'[a-zA-Z0-9]'\n",
    "t_NOT     = r'\\!'\n",
    "\n",
    "# Ignored characters\n",
    "t_ignore = \" \\t\"\n",
    "\n",
    "def t_newline(t):\n",
    "    r'\\n+'\n",
    "    t.lexer.lineno += t.value.count(\"\\n\")\n",
    "    \n",
    "def t_error(t):\n",
    "    print(\"Illegal character '%s'\" % t.value[0])\n",
    "    t.lexer.skip(1)\n",
    "    \n",
    "# Build the lexer if you need to\n",
    "\n",
    "#- lex()\n",
    "\n",
    "# Parsing rules\n",
    "\n",
    "precedence = (\n",
    "     ('left','PLUS'),\n",
    "     ('left','STAR'),\n",
    "     ('right','NOT')\n",
    "  )\n",
    "\n",
    "def p_expression_plus(t):\n",
    "    '''expression : expression PLUS catexp'''\n",
    "    #print(\"-> plus(\" + str(t[1]) + \",\" + str(t[3]) + \")\")\n",
    "    #t[0] = mk_plus_nfa(t[1], t[3])\n",
    "    #\n",
    "    t[0] = ('+', (t[1], t[3]))\n",
    "\n",
    "def p_expression_plus_id(t):\n",
    "    '''expression : catexp'''\n",
    "    #print(\"-> catexp: \" + str(t[1]))\n",
    "    #\n",
    "    #\n",
    "    t[0] = t[1]\n",
    "\n",
    "def p_expression_cat(t):\n",
    "    '''catexp :  catexp ordyexp'''\n",
    "    #print(\"-> cat(\" + str(t[1]) + \",\" + str(t[2]) + \")\")\n",
    "    t[0] = ('.', (t[1], t[2]))\n",
    "\n",
    "def p_expression_cat_id(t):\n",
    "    '''catexp :  ordyexp'''\n",
    "    #print(\"-> ordyexpr:\" + str(t[1]))\n",
    "    #\n",
    "    t[0] = t[1]\n",
    "\n",
    "\n",
    "def p_expression_ordy_star(t):\n",
    "    'ordyexp : ordyexp STAR'\n",
    "    #print(\"-> star(\" + str(t[1]) + \")\")\n",
    "    t[0] = ('*', t[1])\n",
    "\n",
    "def p_expression_ordy_not(t):\n",
    "    'ordyexp : NOT ordyexp'\n",
    "    #print(\"-> not(\" + str(t[1]) + \")\")\n",
    "    t[0] = ('!', t[2])    \n",
    "\n",
    "def p_expression_ordy_paren(t):\n",
    "    'ordyexp : LPAREN expression RPAREN'\n",
    "    #print(\"-> (\" + str(t[2]) + \")\")\n",
    "    #\n",
    "    t[0] = t[2]\n",
    "\n",
    "def p_expression_ordy_eps(t):\n",
    "    'ordyexp : EPS'\n",
    "    #print('-> eps.')\n",
    "    #\n",
    "    #\n",
    "    t[0] = ('@', '@')\n",
    "    \n",
    "def p_expression_ordy_str(t):\n",
    "    'ordyexp : STR'\n",
    "    #print(\"-> string:\" + str(t[1]))\n",
    "    #    \n",
    "    t[0] = ('str', t[1])\n",
    "\n",
    "\n",
    "def p_error(t):\n",
    "    print(\"Syntax error at '%s'\" % t.value)\n",
    "\n",
    "\n",
    "\n",
    "#--\n",
    "\n",
    "def re2ast(s): \n",
    "    relexer  = lex()\n",
    "    reparser = yacc()\n",
    "    myparseRETree = reparser.parse(s, lexer=relexer)\n",
    "    return myparseRETree\n",
    "\n",
    "#=== Now comes derivMatch as illustration of RE Derivative scanning\n",
    "\n",
    "def opr(E):\n",
    "    return E[0]\n",
    "\n",
    "def arg1(E):\n",
    "    return E[1][0]\n",
    "\n",
    "def arg2(E):\n",
    "    return E[1][1]\n",
    "\n",
    "def arg(E):\n",
    "    return E[1]\n",
    "\n",
    "def nullable(E):\n",
    "    if (opr(E) == \"str\") :\n",
    "        return False\n",
    "    elif (opr(E) == \"@\") :\n",
    "        return True\n",
    "    elif (opr(E) == \"mty\") :\n",
    "        return False\n",
    "    elif (opr(E) == \"*\"):\n",
    "        return True\n",
    "    elif (opr(E) == \"!\"):\n",
    "        return not nullable(arg(E))\n",
    "    elif (opr(E) == '+') :\n",
    "        return nullable(arg1(E)) or nullable(arg2(E))\n",
    "    elif (opr(E) == '.') :\n",
    "        return nullable(arg1(E)) and nullable(arg2(E))\n",
    "    else:\n",
    "        return \"???\"    \n",
    "\n",
    "def dv(c, E):\n",
    "    if (opr(E) == \"str\") :\n",
    "        if (arg(E) == c):\n",
    "            return (\"@\", \"@\")\n",
    "        else:\n",
    "            return (\"mty\", \"mty\")\n",
    "    elif (opr(E) == \"@\") :\n",
    "        return (\"mty\", \"mty\")\n",
    "    elif (opr(E) == \"mty\") :\n",
    "        return (\"mty\", \"mty\")\n",
    "    elif (opr(E) == \"*\"):\n",
    "        return (\".\", (dv(c, arg(E)), E))\n",
    "    elif (opr(E) == \"!\"):\n",
    "        return (\"!\", dv(c, arg(E)))\n",
    "    elif (opr(E) == '+') :\n",
    "        return (\"+\", (dv(c, arg1(E)), dv(c, arg2(E))))\n",
    "    elif (opr(E) == '.') :\n",
    "        if nullable(arg1(E)):\n",
    "            return (\"+\", ( ('.', (dv(c,arg1(E)), arg2(E))), dv(c, arg2(E)) ))\n",
    "        else:\n",
    "            return ('.', (dv(c,arg1(E)), arg2(E)))\n",
    "    else:\n",
    "        return \"???\"        \n",
    "\n",
    "def matches(w, E):\n",
    "    if w==\"\":\n",
    "        return nullable(E)\n",
    "    else:\n",
    "        return matches(w[1:], dv(w[0], E))\n",
    "\n",
    "    "
   ]
  },
  {
   "cell_type": "code",
   "execution_count": 3,
   "metadata": {
    "run_control": {
     "frozen": false,
     "read_only": false
    }
   },
   "outputs": [
    {
     "name": "stdout",
     "output_type": "stream",
     "text": [
      " matches(\"aa\", re2ast(\"!((aaa)*)\")) =  True\n",
      " matches(\"aabaa\", re2ast(re4)) =  False\n",
      " matches(\"aabaa\", re2ast(nre4)) =  True\n"
     ]
    }
   ],
   "source": [
    "print(' matches(\"aa\", re2ast(\"!((aaa)*)\")) = ', matches(\"aa\", re2ast(\"!((aaa)*)\")))\n",
    "re4 = '(a+b)*b(a+b)(a+b)(a+b)'\n",
    "nre4 = '!((a+b)*b(a+b)(a+b)(a+b))'\n",
    "\n",
    "print(' matches(\"aabaa\", re2ast(re4)) = ', matches(\"aabaa\", re2ast(re4)))\n",
    "print(' matches(\"aabaa\", re2ast(nre4)) = ', matches(\"aabaa\", re2ast(nre4)))\n"
   ]
  },
  {
   "cell_type": "code",
   "execution_count": 4,
   "metadata": {
    "run_control": {
     "frozen": false,
     "read_only": false
    }
   },
   "outputs": [
    {
     "data": {
      "text/plain": [
       "True"
      ]
     },
     "execution_count": 4,
     "metadata": {},
     "output_type": "execute_result"
    }
   ],
   "source": [
    "matches(\"ab\", re2ast(\"!b\"))"
   ]
  }
 ],
 "metadata": {
  "kernelspec": {
   "display_name": "Python 3",
   "language": "python",
   "name": "python3"
  },
  "language_info": {
   "codemirror_mode": {
    "name": "ipython",
    "version": 3
   },
   "file_extension": ".py",
   "mimetype": "text/x-python",
   "name": "python",
   "nbconvert_exporter": "python",
   "pygments_lexer": "ipython3",
   "version": "3.7.3"
  },
  "toc": {
   "colors": {
    "hover_highlight": "#DAA520",
    "running_highlight": "#FF0000",
    "selected_highlight": "#FFD700"
   },
   "moveMenuLeft": true,
   "nav_menu": {
    "height": "318px",
    "width": "252px"
   },
   "navigate_menu": true,
   "number_sections": true,
   "sideBar": true,
   "threshold": 4,
   "toc_cell": false,
   "toc_section_display": "block",
   "toc_window_display": false,
   "widenNotebook": false
  }
 },
 "nbformat": 4,
 "nbformat_minor": 1
}
