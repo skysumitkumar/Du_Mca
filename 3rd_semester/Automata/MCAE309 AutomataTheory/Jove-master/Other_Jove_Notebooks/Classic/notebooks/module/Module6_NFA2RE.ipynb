{
 "cells": [
  {
   "cell_type": "markdown",
   "metadata": {
    "run_control": {
     "frozen": false,
     "read_only": false
    }
   },
   "source": [
    "# Overview\n",
    "\n",
    "This module focuses on converting NFA to RE. This is achieved by eliminating states one by one, and building an abstract syntax tree for the RE generated at each stage. Finally, the abstract syntax tree is rendered into an RE string.\n",
    "\n",
    "# Top-level functions in this module\n",
    "\n",
    "```\n",
    "This module contains the following functions that may be used in other modules to exercise concepts, compose functions, etc.\n",
    "\n",
    "N  : NFA\n",
    "D  : DFA\n",
    "G  : GNFA\n",
    "\n",
    "def mk_gnfa(N):\n",
    "def mk_gnfa_from_D(D):\n",
    "def dfa2nfa(D):\n",
    "def del_gnfa_states(Gin):\n",
    "```"
   ]
  },
  {
   "cell_type": "code",
   "execution_count": null,
   "metadata": {
    "run_control": {
     "frozen": false,
     "read_only": false
    }
   },
   "outputs": [],
   "source": [
    "#~~~~~~~~~~~~~~~~~~~~~~~~~~~~~~~~~~~~~~~~~~~~~~~~~~~~~~~\n",
    "import sys\n",
    "\n",
    "# -- Detect if in Own Install or in Colab\n",
    "try:\n",
    "    import google.colab\n",
    "    OWN_INSTALL = False\n",
    "except:\n",
    "    OWN_INSTALL = True\n",
    "    \n",
    "if OWN_INSTALL:\n",
    "    \n",
    "  #---- Leave these definitions ON if running on laptop\n",
    "  #---- Else turn OFF by putting them between ''' ... '''\n",
    "\n",
    "  sys.path[0:0] = ['../../../../..',  '../../../../../3rdparty',  \n",
    "                   '../../../..',  '../../../../3rdparty',  \n",
    "                   '../../..',     '../../../3rdparty', \n",
    "                   '../..',        '../../3rdparty',\n",
    "                   '..',           '../3rdparty' ]\n",
    "\n",
    "else: # In colab\n",
    "  ! if [ ! -d Jove ]; then git clone https://github.com/anon-Jove/Jove Jove; fi\n",
    "  sys.path.append('./Jove')\n",
    "  sys.path.append('./Jove/jove')\n",
    "\n",
    "# -- common imports --\n",
    "from jove.Module5_RE  import re2nfa\n",
    "\n",
    "from jove.Module4_NFA import nfa2dfa\n",
    "\n",
    "from jove.Module4_NFA import min_dfa_brz\n",
    "\n",
    "from jove.Module3_DFA import min_dfa\n",
    "\n",
    "from jove.SystemImports import *    \n",
    "\n",
    "from jove.DotBashers  import *\n",
    "#~~~~~~~~~~~~~~~~~~~~~~~~~~~~~~~~~~~~~~~~~~~~~~~~~~~~~~~"
   ]
  },
  {
   "cell_type": "markdown",
   "metadata": {
    "run_control": {
     "frozen": false,
     "read_only": false
    }
   },
   "source": [
    "## Algorithm\n",
    "\n",
    "The algorithm is spelled out along these major steps:\n",
    "\n",
    "* If given a DFA, convert it to an NFA, else proceed with given NFA\n",
    "\n",
    "* Pick a state to eliminate \n",
    "\n",
    "    - doing this interactively, state by state, would make for a good interactive animation\n",
    "\n",
    "* Find replacement paths for the state\n",
    "\n",
    "* Do this till all states except GNFA's initial and final are gone\n",
    " "
   ]
  },
  {
   "cell_type": "code",
   "execution_count": null,
   "metadata": {
    "run_control": {
     "frozen": false,
     "read_only": false
    }
   },
   "outputs": [],
   "source": [
    "def opr(E):\n",
    "    return E[0]\n",
    "\n",
    "def arg1(E):\n",
    "    return E[1][0]\n",
    "\n",
    "def arg2(E):\n",
    "    return E[1][1]\n",
    "\n",
    "def arg(E):\n",
    "    return E[1]"
   ]
  },
  {
   "cell_type": "code",
   "execution_count": null,
   "metadata": {
    "run_control": {
     "frozen": false,
     "read_only": false
    }
   },
   "outputs": [],
   "source": [
    "def RE2Str(RE):\n",
    "    \"\"\"Given an RE as a tree, return the string equivalent of the RE.\n",
    "    \"\"\"\n",
    "    if type(RE) == str:\n",
    "        if (RE == \"\"):\n",
    "            return '\"\"'  # was return '@', but now no more '@'\n",
    "        else:\n",
    "            return RE\n",
    "    elif type(RE) == tuple:\n",
    "        if opr(RE) == \"*\":\n",
    "            return( \"(\"+ RE2Str(arg(RE)) + \")*\")\n",
    "        elif opr(RE) == \"+\":\n",
    "            return ( \"(\"+ RE2Str(arg1(RE)) + \" + \" +\n",
    "                          RE2Str(arg2(RE)) +\")\" )\n",
    "        elif opr(RE) == \".\":\n",
    "            return ( \"(\"+ RE2Str(arg1(RE)) + \" \"  +\n",
    "                          RE2Str(arg2(RE)) +\n",
    "                     \")\" )\n",
    "        else:\n",
    "            print(\"Illegal RE detected in RETree2Str\")"
   ]
  },
  {
   "cell_type": "code",
   "execution_count": null,
   "metadata": {
    "run_control": {
     "frozen": false,
     "read_only": false
    }
   },
   "outputs": [],
   "source": [
    "RE2Str(\"\")"
   ]
  },
  {
   "cell_type": "code",
   "execution_count": null,
   "metadata": {
    "run_control": {
     "frozen": false,
     "read_only": false
    }
   },
   "outputs": [],
   "source": [
    "def mk_gnfa(Nin):\n",
    "    \"\"\"Input : Nin, an NFA.\n",
    "       Output: G, a GNFA, with at-most one transition from any\n",
    "               state p to a state q.??true any more?? Note that we have created\n",
    "               an NFA (G+NFA), and so one state can have a transition\n",
    "               to A SET OF STATES !!\n",
    "       Method: Add a new set of states {Real_I} and another, {Real_F}.\n",
    "               Move from state Real_I to the NFA's initial set of states\n",
    "               upon epsilon, and from each state in NFA's F to Real_F.\n",
    "               Return this GNFA.\n",
    "               We will keep GNFA's alphabet implicit (whatever edge\n",
    "               labels exist will be deemed to be in the alphabet.)\n",
    "    \"\"\"\n",
    "    assert(\n",
    "        is_consistent_nfa(Nin)\n",
    "    ), \"NFA given to mk_gnfa is not consistent.\"\n",
    "    N       = copy.deepcopy(Nin)\n",
    "    GNFA_Q0 = {\"Real_I\"} # Name Real_I reserved for GNFA's starting state\n",
    "    GNFA_F  = {\"Real_F\"} # Name Real_F reserved for GNFA's final state\n",
    "    GNFA_Q  = N[\"Q\"] | GNFA_Q0 | GNFA_F\n",
    "    # Start with NFA's moves in Delta accumulator\n",
    "    GNFA_Delta = N[\"Delta\"]\n",
    "    # Add a jump from Real_I to the original initial state\n",
    "    GNFA_Delta.update({ (\"Real_I\",\"\") : N[\"Q0\"] })   \n",
    "    # Add all \"original final\" to \"Real_F\" moves\n",
    "    GNFA_Delta.update({ (f, \"\") : GNFA_F for f in N[\"F\"] })    \n",
    "    # Return the GNFA\n",
    "    return { \"Q\"     : GNFA_Q,\n",
    "             \"Sigma\" : N[\"Sigma\"],\n",
    "             \"Delta\" : GNFA_Delta,\n",
    "             \"Q0\"    : GNFA_Q0,\n",
    "             \"F\"     : GNFA_F }\n",
    "\n",
    "def mk_gnfa_from_D(D):\n",
    "    \"\"\"Given a DFA D, turn that into a GNFA by first making the D\n",
    "       into an equivalent N, and then passing onto mk_gnfa.\n",
    "    \"\"\"\n",
    "    assert(\n",
    "    is_partially_consistent_dfa(D)\n",
    "    ), \"DFA given to mk_gnfa_from_D is not part. consist.\"\n",
    "    return mk_gnfa(dfa2nfa(D))\n",
    "\n",
    "def dfa2nfa(D):\n",
    "    \"\"\"Given a DFA D, make a language-equivalent NFA.\n",
    "    \"\"\"\n",
    "    assert(\n",
    "    is_partially_consistent_dfa(D)\n",
    "    ), \"DFA given to dfa2nfa is not part. consist.\"\n",
    "    return { \"Q\"     : D[\"Q\"],\n",
    "             \"Sigma\" : D[\"Sigma\"],\n",
    "             \"Delta\" : dict((a,{b}) for (a,b) in D[\"Delta\"].items()),\n",
    "             \"Q0\"    : { D[\"q0\"] },\n",
    "             \"F\"     : D[\"F\"] }   \n",
    "\n",
    "def del_gnfa_states(Gin):\n",
    "    \"\"\"Given a GNFA G with no unreachable states, \n",
    "       delete all states but f\n",
    "       or Real_I and Real_F.\n",
    "       \n",
    "       Return a triple (Gfinal, dotObj_List, final_re_str), where\n",
    "         Gfinal       : the final GNFA\n",
    "         dotObj_List  : a list of Dot objects recording the process of\n",
    "                        deleting states and forming intermediate REs\n",
    "         final_re_str : the final RE as a string (ready to be fed to  \n",
    "                        re2nfa for converting back to an NFA)\n",
    "    \"\"\"\n",
    "    G = copy.deepcopy(Gin) # To preserve the given GNFA\n",
    "    StatesLeft  = G[\"Q\"]\n",
    "    dotObj_List = [ dotObj_gnfa(G) ] # List of intermediate GNFAs  \n",
    "    while len(StatesLeft) > 2: # Exists one more than Real_I,Real_F\n",
    "        (qdel, StatesLeft) = choose_state_to_del(G, StatesLeft)\n",
    "        print(\"**** Eliminating state \" + qdel + \" ****\")\n",
    "         \n",
    "        New_Edges = dict() #-- Brand new edges; ALL new paths supported \n",
    "                           #-- by qdel \n",
    "        for p in StatesLeft:\n",
    "            for q in StatesLeft:\n",
    "                new_p_q_label = del_one_gnfa_state(G, p, qdel, q)\n",
    "                if new_p_q_label != \"NOPATH\": # There is a p-qdel->q path\n",
    "                    old_p_q_labels = Edges_Exist_Via(G, p, q) # Exist p-qdel->q edges?\n",
    "                    if old_p_q_labels != \"NOEDGE\":            # There are.\n",
    "                        combined_label = form_alt_RE( [new_p_q_label] + old_p_q_labels )                                    \n",
    "                        New_Edges.update( { (p, combined_label) : {q} } )\n",
    "                    else:\n",
    "                        # Only new_p_q_label needs to be added\n",
    "                        New_Edges.update( { (p, new_p_q_label)  : {q} } )\n",
    "                #else no new path involving qdel exists for THIS p,q pair\n",
    "            #-end for\n",
    "        #-end for\n",
    "        G[\"Q\"] = StatesLeft   # Fix G by adjusting its Q \n",
    "        \n",
    "        # Extinguish qdel from Delta by (1) and (2) below\n",
    "        Surviving_Edges = []  # These edges don't get nuked\n",
    "        for ((q,symb), States) in G[\"Delta\"].items():\n",
    "            if (q != qdel): # (1) Removing all mappings out of qdel\n",
    "                Surviving_Edges += [ ((q,symb), States - { qdel }) ] # (2) Remove from images  \n",
    "        G[\"Delta\"] = dict( Surviving_Edges )\n",
    "        \n",
    "        # Now bring in the brand new edges\n",
    "        G[\"Delta\"].update( New_Edges )\n",
    "        \n",
    "        # Stringify the REs in the G to display at the end\n",
    "        dotObj_List += [ dotObj_gnfa( gnfa_w_REStr(G) ) ]\n",
    "    #Finish while loop and then return\n",
    "    \n",
    "    #-- What is in G's Delta as edge-labels now is what G's Sigma is\n",
    "    G[\"Sigma\"] = { edgelab for ((p,edgelab), q) in G[\"Delta\"].items() }\n",
    "    \n",
    "    #-- Merge edge labels of all paths from Real_I to Real_F into one\n",
    "    final_re     = form_alt_RE(Edges_Exist_Via(G, \"Real_I\", \"Real_F\"))\n",
    "    final_re_str = RE2Str(final_re)\n",
    "  \n",
    "    #-- Make a relevant GNFA retaining only Real_I, Real_F and one connection\n",
    "    Gfinal = {\"Q\"     : {\"Real_I\", \"Real_F\"},\n",
    "              \"Sigma\" : {final_re},\n",
    "              \"Delta\" : { (\"Real_I\", final_re) : {\"Real_F\"} },\n",
    "              \"Q0\"    : { \"Real_I\" },\n",
    "              \"F\"     : { \"Real_F\" }\n",
    "             }\n",
    "    \n",
    "    #-- Return the triple Gfinal, dotObj_List, final_re_str \n",
    "    return (Gfinal, dotObj_List, final_re_str)\n",
    "\n",
    "def gnfa_w_REStr(G):\n",
    "    \"\"\"Given a GNFA G, return a GNFA with the RE Trees labeling its\n",
    "       edges replaced by RE strings.\n",
    "    \"\"\"\n",
    "    Gstr = copy.deepcopy(G)\n",
    "    NewDelta = []\n",
    "    for ((q, RE), States) in G[\"Delta\"].items():\n",
    "        NewDelta += [ ( (q, RE2Str(RE)), States ) ]\n",
    "    Gstr[\"Delta\"] = dict( NewDelta )\n",
    "    return Gstr\n",
    "\n",
    "            \n",
    "def del_one_gnfa_state(G, p, qdel, q):   \n",
    "    \"\"\"Delete state qdel if path p--qdel-->q exists.\n",
    "       Return \"NOPATH\" if no such path.\n",
    "       Else return new direct edge label p--new_label-->q.\n",
    "       new_label will be a single RE.\n",
    "    \"\"\"\n",
    "    #print(\"G,p,qdel,q\", G,p,qdel,q)\n",
    "    p_qdel_edges = Edges_Exist_Via(G, p, qdel)\n",
    "    qdel_q_edges = Edges_Exist_Via(G, qdel, q) \n",
    "\n",
    "    if (p_qdel_edges == \"NOEDGE\" or qdel_q_edges == \"NOEDGE\"):\n",
    "        return \"NOPATH\"\n",
    "    else:\n",
    "        p_qdel_RE = form_alt_RE(p_qdel_edges)\n",
    "        qdel_q_RE = form_alt_RE(qdel_q_edges)\n",
    "        \n",
    "        qdel_qdel_edges = Edges_Exist_Via(G, qdel, qdel)\n",
    "        if qdel_qdel_edges == \"NOEDGE\":\n",
    "            return form_concat_RE(p_qdel_RE, qdel_q_RE)  \n",
    "        else:\n",
    "            qdel_qdel_RE = form_alt_RE(qdel_qdel_edges)\n",
    "            return form_concat_RE(p_qdel_RE,\n",
    "                                  form_concat_RE(\n",
    "                                    form_kleene_RE(qdel_qdel_RE),\n",
    "                                    qdel_q_RE))\n",
    "        \n",
    "def Edges_Exist_Via(G, p, q):\n",
    "    \"\"\"If G has a direct edge p--edgelab-->q, return edgelab.\n",
    "       Else return \"NOEDGE\". We maintain the invariant of\n",
    "       at-most one edge such as edgelab for any p,q in the GNFA.\n",
    "    \"\"\"\n",
    "    edges = [ edge \n",
    "              for ((x, edge), States) in G[\"Delta\"].items() \n",
    "              if x==p and q in States ]\n",
    "    if len(edges) == 0:\n",
    "        return \"NOEDGE\"\n",
    "    else:\n",
    "        return edges\n",
    "   \n",
    "# Make this interactive later.. menu-selectible\n",
    "def choose_state_to_del(G, StatesLeft):\n",
    "    \"\"\"Given a GNFA G and a set of StatesLeft,\n",
    "       choose first eligible state to delete, and return it\n",
    "       plus the set of non-deleted entries. \n",
    "       Called only if there is an eligible state to be deleted.\n",
    "    \"\"\"\n",
    "    for q in StatesLeft: \n",
    "        if (q not in G[\"Q0\"] | G[\"F\"]):\n",
    "            # There is one eligible state to delete\n",
    "            return ( q, {x for x in StatesLeft if x != q} )\n",
    "\n",
    "\n",
    "def form_alt_RE(RElist):\n",
    "    \"\"\"Given a non-empty RElist, merge them all using a binary\n",
    "       tree formed with root '+' and interior nodes x,y.\n",
    "    \"\"\"\n",
    "    fst = RElist[0]\n",
    "    rst = RElist[1:]\n",
    "    if len(RElist) > 1:\n",
    "        if fst in rst:\n",
    "            return form_alt_RE(st) # remove duplicates\n",
    "        else:\n",
    "            return ('+', (fst, form_alt_RE(rst)))\n",
    "    else:\n",
    "        return fst\n",
    "    \n",
    "def form_concat_RE(re1, re2):\n",
    "    \"\"\"Given two non-eps REs, form their concatenation.\n",
    "    \"\"\"\n",
    "    if re1==\"\":\n",
    "        return re2\n",
    "    elif re2==\"\":\n",
    "        return re1\n",
    "    else:\n",
    "        return ('.', (re1, re2))\n",
    "\n",
    "def form_kleene_RE(re):\n",
    "    \"\"\"Given a non-eps RE, form its star.\n",
    "    \"\"\"\n",
    "    if re==\"\":\n",
    "        return re\n",
    "    else:\n",
    "        return ('*', re)   "
   ]
  },
  {
   "cell_type": "code",
   "execution_count": null,
   "metadata": {
    "run_control": {
     "frozen": false,
     "read_only": false
    }
   },
   "outputs": [],
   "source": [
    "RE2Str(\"\")"
   ]
  },
  {
   "cell_type": "code",
   "execution_count": null,
   "metadata": {
    "run_control": {
     "frozen": false,
     "read_only": false
    }
   },
   "outputs": [],
   "source": [
    "re2nfa( \"''*\")"
   ]
  },
  {
   "cell_type": "code",
   "execution_count": null,
   "metadata": {
    "run_control": {
     "frozen": false,
     "read_only": false
    }
   },
   "outputs": [],
   "source": [
    "n0 = {'Delta': {('St1', ''): {'St2'}, ('St2', ''): {'St1'}},\n",
    " 'F': {'St2'},\n",
    " 'Q': {'St1', 'St2'},\n",
    " 'Q0': {'St2'},\n",
    " 'Sigma': set()}"
   ]
  },
  {
   "cell_type": "code",
   "execution_count": null,
   "metadata": {
    "run_control": {
     "frozen": false,
     "read_only": false
    }
   },
   "outputs": [],
   "source": [
    "nfa2dfa(n0)"
   ]
  },
  {
   "cell_type": "code",
   "execution_count": null,
   "metadata": {
    "run_control": {
     "frozen": false,
     "read_only": false
    }
   },
   "outputs": [],
   "source": [
    "dotObj_nfa(n0)"
   ]
  },
  {
   "cell_type": "code",
   "execution_count": null,
   "metadata": {
    "run_control": {
     "frozen": false,
     "read_only": false
    }
   },
   "outputs": [],
   "source": [
    "n0"
   ]
  },
  {
   "cell_type": "code",
   "execution_count": null,
   "metadata": {
    "run_control": {
     "frozen": false,
     "read_only": false
    }
   },
   "outputs": [],
   "source": [
    "dotObj_nfa( re2nfa( \"''*\") )"
   ]
  },
  {
   "cell_type": "code",
   "execution_count": null,
   "metadata": {
    "run_control": {
     "frozen": false,
     "read_only": false
    }
   },
   "outputs": [],
   "source": [
    "dotObj_dfa( nfa2dfa(re2nfa( \"''*\") ) )"
   ]
  },
  {
   "cell_type": "code",
   "execution_count": null,
   "metadata": {
    "run_control": {
     "frozen": false,
     "read_only": false
    }
   },
   "outputs": [],
   "source": [
    "NFA6 =  {'Q': {'I', 'F'},\n",
    "         'Sigma': {'0', '1'},\n",
    "         'Delta': {  \n",
    "                   ('I', '0') : {'F'},\n",
    "                   ('F', '1') : {'I'}\n",
    "                   },\n",
    "         'Q0': {'I'}, \n",
    "         'F' : {'F'}   \n",
    "}\n",
    "is_consistent_nfa(NFA6)\n",
    "is_consistent_nfa(NFA6)\n",
    "GN6 = mk_gnfa(NFA6)\n",
    "(GF6, do6, restr6) = del_gnfa_states(GN6)\n",
    "#do6[2]"
   ]
  },
  {
   "cell_type": "code",
   "execution_count": null,
   "metadata": {
    "run_control": {
     "frozen": false,
     "read_only": false
    }
   },
   "outputs": [],
   "source": [
    "restr6"
   ]
  },
  {
   "cell_type": "code",
   "execution_count": null,
   "metadata": {
    "run_control": {
     "frozen": false,
     "read_only": false
    }
   },
   "outputs": [],
   "source": [
    "dotObj_gnfa(GN6)"
   ]
  },
  {
   "cell_type": "code",
   "execution_count": null,
   "metadata": {
    "run_control": {
     "frozen": false,
     "read_only": false
    }
   },
   "outputs": [],
   "source": [
    "do6[0]"
   ]
  },
  {
   "cell_type": "code",
   "execution_count": null,
   "metadata": {
    "run_control": {
     "frozen": false,
     "read_only": false
    }
   },
   "outputs": [],
   "source": [
    "RE2Str((\"*\",\"a\"))"
   ]
  },
  {
   "cell_type": "code",
   "execution_count": null,
   "metadata": {
    "run_control": {
     "frozen": false,
     "read_only": false
    }
   },
   "outputs": [],
   "source": [
    "RE2Str((\"+\",(\"a\", \"b\")))"
   ]
  },
  {
   "cell_type": "code",
   "execution_count": null,
   "metadata": {
    "run_control": {
     "frozen": false,
     "read_only": false
    }
   },
   "outputs": [],
   "source": [
    "RE2Str((\".\",(\"\", \"\")))"
   ]
  },
  {
   "cell_type": "code",
   "execution_count": null,
   "metadata": {
    "run_control": {
     "frozen": false,
     "read_only": false
    }
   },
   "outputs": [],
   "source": [
    "RE2Str((\".\",(\"a\", \"b\")))"
   ]
  },
  {
   "cell_type": "code",
   "execution_count": null,
   "metadata": {
    "run_control": {
     "frozen": false,
     "read_only": false
    }
   },
   "outputs": [],
   "source": [
    "RE2Str((\"+\",( (\"+\",(\"a\", \"b\")) , (\".\",(\"c\", (\"*\",\"d\") )) ) ) )"
   ]
  },
  {
   "cell_type": "code",
   "execution_count": null,
   "metadata": {
    "run_control": {
     "frozen": false,
     "read_only": false
    }
   },
   "outputs": [],
   "source": [
    "D34bl = { 'Q': {'A', 'IF', 'B', 'A1', 'B1'},\n",
    "  'Sigma': {'0', '1'},\n",
    "  'Delta': { ('IF', '0'): 'A',\n",
    "             ('IF', '1'): 'IF',\n",
    "             ('A', '0'): 'B1',\n",
    "             ('A', '1'): 'A1',\n",
    "             ('A1', '0'): 'B',\n",
    "             ('A1', '1'): 'A',\n",
    "             ('B1', '0'): 'IF',\n",
    "             ('B1', '1'): 'B',\n",
    "             ('B','0') : 'IF',\n",
    "             ('B', '1'): 'B1' },\n",
    "  'q0': 'IF', \n",
    "  'F': {'IF'}   \n",
    "}\n",
    "\n",
    "N1  = dfa2nfa(D34bl)\n",
    "is_consistent_nfa(N1)"
   ]
  },
  {
   "cell_type": "code",
   "execution_count": null,
   "metadata": {
    "run_control": {
     "frozen": false,
     "read_only": false
    }
   },
   "outputs": [],
   "source": [
    "GN1 = mk_gnfa(N1)\n",
    "is_consistent_nfa(N1)"
   ]
  },
  {
   "cell_type": "code",
   "execution_count": null,
   "metadata": {
    "run_control": {
     "frozen": false,
     "read_only": false
    },
    "scrolled": true
   },
   "outputs": [],
   "source": [
    "DFA_fig34 = { 'Q': {'A', 'IF', 'B'},\n",
    "              'Sigma': {'0', '1'},\n",
    "              'Delta': { ('IF', '0'): 'A',\n",
    "                         ('IF', '1'): 'IF',\n",
    "                         ('A', '0'): 'B',\n",
    "                         ('A', '1'): 'A',\n",
    "                         ('B', '0'): 'IF',\n",
    "                         ('B', '1'): 'B' },\n",
    "              'q0': 'IF', \n",
    "              'F': {'IF'}   \n",
    "             }\n",
    "\n",
    "NFA_fig34 = dfa2nfa(DFA_fig34)\n",
    "\n",
    "GN2 = mk_gnfa(dfa2nfa(DFA_fig34))\n",
    "\n",
    "\n",
    "\n",
    "N3  = dfa2nfa(D34bl)\n",
    "is_consistent_nfa(N3)\n",
    "GN3 = mk_gnfa(N3)"
   ]
  },
  {
   "cell_type": "code",
   "execution_count": null,
   "metadata": {
    "run_control": {
     "frozen": false,
     "read_only": false
    }
   },
   "outputs": [],
   "source": [
    "DFmulti   = { 'Q': {'I', 'F', 'A'},\n",
    "              'Sigma': {'0', '1'},\n",
    "              'Delta': { ('I', '0') :  'A',\n",
    "                         ('I', '1') :  'A',\n",
    "                         ('A', '0') :  'A',\n",
    "                         ('A', '1') :  'F',\n",
    "                         ('F', '0') :  'I',\n",
    "                         ('F', '1') :  'I' },\n",
    "              'q0': 'I', \n",
    "              'F': {'F'}   \n",
    "             }\n",
    "GN4 = mk_gnfa(dfa2nfa(DFmulti))"
   ]
  },
  {
   "cell_type": "code",
   "execution_count": null,
   "metadata": {
    "run_control": {
     "frozen": false,
     "read_only": false
    }
   },
   "outputs": [],
   "source": [
    "dotObj_nfa(GN1)"
   ]
  },
  {
   "cell_type": "code",
   "execution_count": null,
   "metadata": {
    "run_control": {
     "frozen": false,
     "read_only": false
    }
   },
   "outputs": [],
   "source": [
    "(GNf, doL, restr1) = del_gnfa_states(GN1)"
   ]
  },
  {
   "cell_type": "code",
   "execution_count": null,
   "metadata": {
    "run_control": {
     "frozen": false,
     "read_only": false
    }
   },
   "outputs": [],
   "source": [
    "form_alt_RE(Edges_Exist_Via(GNf, \"Real_I\", \"Real_F\"))"
   ]
  },
  {
   "cell_type": "code",
   "execution_count": null,
   "metadata": {
    "run_control": {
     "frozen": false,
     "read_only": false
    }
   },
   "outputs": [],
   "source": [
    "Edges_Exist_Via(GNf, \"Real_I\", \"Real_F\")"
   ]
  },
  {
   "cell_type": "code",
   "execution_count": null,
   "metadata": {
    "run_control": {
     "frozen": false,
     "read_only": false
    }
   },
   "outputs": [],
   "source": [
    "doL"
   ]
  },
  {
   "cell_type": "code",
   "execution_count": null,
   "metadata": {
    "run_control": {
     "frozen": false,
     "read_only": false
    }
   },
   "outputs": [],
   "source": [
    "dotObj_gnfa(GN1)"
   ]
  },
  {
   "cell_type": "code",
   "execution_count": null,
   "metadata": {
    "run_control": {
     "frozen": false,
     "read_only": false
    }
   },
   "outputs": [],
   "source": [
    "doL[0]"
   ]
  },
  {
   "cell_type": "code",
   "execution_count": null,
   "metadata": {
    "run_control": {
     "frozen": false,
     "read_only": false
    }
   },
   "outputs": [],
   "source": [
    "doL[1]"
   ]
  },
  {
   "cell_type": "code",
   "execution_count": null,
   "metadata": {
    "run_control": {
     "frozen": false,
     "read_only": false
    }
   },
   "outputs": [],
   "source": [
    "doL[2]"
   ]
  },
  {
   "cell_type": "code",
   "execution_count": null,
   "metadata": {
    "run_control": {
     "frozen": false,
     "read_only": false
    }
   },
   "outputs": [],
   "source": [
    "doL[3]"
   ]
  },
  {
   "cell_type": "code",
   "execution_count": null,
   "metadata": {
    "run_control": {
     "frozen": false,
     "read_only": false
    }
   },
   "outputs": [],
   "source": [
    "restr1"
   ]
  },
  {
   "cell_type": "code",
   "execution_count": null,
   "metadata": {
    "run_control": {
     "frozen": false,
     "read_only": false
    }
   },
   "outputs": [],
   "source": [
    "Edges_Exist_Via(GN1, \"I\", \"A\")"
   ]
  },
  {
   "cell_type": "code",
   "execution_count": null,
   "metadata": {
    "run_control": {
     "frozen": false,
     "read_only": false
    }
   },
   "outputs": [],
   "source": [
    "dotObj_gnfa(GN2)"
   ]
  },
  {
   "cell_type": "code",
   "execution_count": null,
   "metadata": {
    "run_control": {
     "frozen": false,
     "read_only": false
    }
   },
   "outputs": [],
   "source": [
    "(GNf2, doL2, restr2) = del_gnfa_states(GN2)"
   ]
  },
  {
   "cell_type": "code",
   "execution_count": null,
   "metadata": {
    "run_control": {
     "frozen": false,
     "read_only": false
    }
   },
   "outputs": [],
   "source": [
    "doL2[0]"
   ]
  },
  {
   "cell_type": "code",
   "execution_count": null,
   "metadata": {
    "run_control": {
     "frozen": false,
     "read_only": false
    }
   },
   "outputs": [],
   "source": [
    "doL2[1]"
   ]
  },
  {
   "cell_type": "code",
   "execution_count": null,
   "metadata": {
    "run_control": {
     "frozen": false,
     "read_only": false
    }
   },
   "outputs": [],
   "source": [
    "doL2[2]"
   ]
  },
  {
   "cell_type": "code",
   "execution_count": null,
   "metadata": {
    "run_control": {
     "frozen": false,
     "read_only": false
    }
   },
   "outputs": [],
   "source": [
    "doL2[3]"
   ]
  },
  {
   "cell_type": "code",
   "execution_count": null,
   "metadata": {
    "run_control": {
     "frozen": false,
     "read_only": false
    }
   },
   "outputs": [],
   "source": [
    "dotObj_gnfa(GN3)"
   ]
  },
  {
   "cell_type": "code",
   "execution_count": null,
   "metadata": {
    "run_control": {
     "frozen": false,
     "read_only": false
    }
   },
   "outputs": [],
   "source": [
    "(GNf3, doL3, restr3) = del_gnfa_states(GN3)"
   ]
  },
  {
   "cell_type": "code",
   "execution_count": null,
   "metadata": {
    "run_control": {
     "frozen": false,
     "read_only": false
    }
   },
   "outputs": [],
   "source": [
    "GNf3"
   ]
  },
  {
   "cell_type": "code",
   "execution_count": null,
   "metadata": {
    "run_control": {
     "frozen": false,
     "read_only": false
    }
   },
   "outputs": [],
   "source": [
    "restr3"
   ]
  },
  {
   "cell_type": "code",
   "execution_count": null,
   "metadata": {
    "run_control": {
     "frozen": false,
     "read_only": false
    }
   },
   "outputs": [],
   "source": [
    "Es = Edges_Exist_Via(GNf3, \"Real_I\", \"Real_F\")"
   ]
  },
  {
   "cell_type": "code",
   "execution_count": null,
   "metadata": {
    "run_control": {
     "frozen": false,
     "read_only": false
    }
   },
   "outputs": [],
   "source": [
    "Es[0]"
   ]
  },
  {
   "cell_type": "code",
   "execution_count": null,
   "metadata": {
    "run_control": {
     "frozen": false,
     "read_only": false
    }
   },
   "outputs": [],
   "source": [
    "doL3[0]"
   ]
  },
  {
   "cell_type": "code",
   "execution_count": null,
   "metadata": {
    "run_control": {
     "frozen": false,
     "read_only": false
    }
   },
   "outputs": [],
   "source": [
    "doL3[1]"
   ]
  },
  {
   "cell_type": "code",
   "execution_count": null,
   "metadata": {
    "run_control": {
     "frozen": false,
     "read_only": false
    }
   },
   "outputs": [],
   "source": [
    "doL3[2]"
   ]
  },
  {
   "cell_type": "code",
   "execution_count": null,
   "metadata": {
    "run_control": {
     "frozen": false,
     "read_only": false
    }
   },
   "outputs": [],
   "source": [
    "doL3[3]"
   ]
  },
  {
   "cell_type": "code",
   "execution_count": null,
   "metadata": {
    "run_control": {
     "frozen": false,
     "read_only": false
    }
   },
   "outputs": [],
   "source": [
    "doL3[4]"
   ]
  },
  {
   "cell_type": "code",
   "execution_count": null,
   "metadata": {
    "run_control": {
     "frozen": false,
     "read_only": false
    }
   },
   "outputs": [],
   "source": [
    "doL3[5]"
   ]
  },
  {
   "cell_type": "code",
   "execution_count": null,
   "metadata": {
    "run_control": {
     "frozen": false,
     "read_only": false
    }
   },
   "outputs": [],
   "source": [
    "dotObj_nfa(GN3)"
   ]
  },
  {
   "cell_type": "code",
   "execution_count": null,
   "metadata": {
    "run_control": {
     "frozen": false,
     "read_only": false
    }
   },
   "outputs": [],
   "source": [
    "(GNf3, doL3, restr3) = del_gnfa_states(GN3)"
   ]
  },
  {
   "cell_type": "code",
   "execution_count": null,
   "metadata": {
    "run_control": {
     "frozen": false,
     "read_only": false
    }
   },
   "outputs": [],
   "source": [
    "restr3"
   ]
  },
  {
   "cell_type": "code",
   "execution_count": null,
   "metadata": {
    "run_control": {
     "frozen": false,
     "read_only": false
    }
   },
   "outputs": [],
   "source": [
    "del_one_gnfa_state(GN3, \"B\", \"B1\", \"B\")"
   ]
  },
  {
   "cell_type": "code",
   "execution_count": null,
   "metadata": {
    "run_control": {
     "frozen": false,
     "read_only": false
    }
   },
   "outputs": [],
   "source": [
    "del_one_gnfa_state(GN3, \"B\", \"IF\", \"A\")"
   ]
  },
  {
   "cell_type": "code",
   "execution_count": null,
   "metadata": {
    "run_control": {
     "frozen": false,
     "read_only": false
    }
   },
   "outputs": [],
   "source": [
    "GN4 = mk_gnfa(NFA_fig34)\n",
    "dotObj_nfa(GN4)"
   ]
  },
  {
   "cell_type": "code",
   "execution_count": null,
   "metadata": {
    "run_control": {
     "frozen": false,
     "read_only": false
    }
   },
   "outputs": [],
   "source": [
    "NFA_fig34"
   ]
  },
  {
   "cell_type": "code",
   "execution_count": null,
   "metadata": {
    "run_control": {
     "frozen": false,
     "read_only": false
    }
   },
   "outputs": [],
   "source": [
    "(GNf4, doL4, restr4) = del_gnfa_states(GN4)"
   ]
  },
  {
   "cell_type": "code",
   "execution_count": null,
   "metadata": {
    "run_control": {
     "frozen": false,
     "read_only": false
    }
   },
   "outputs": [],
   "source": [
    "doL4[0]"
   ]
  },
  {
   "cell_type": "code",
   "execution_count": null,
   "metadata": {
    "run_control": {
     "frozen": false,
     "read_only": false
    }
   },
   "outputs": [],
   "source": [
    "doL4[1]"
   ]
  },
  {
   "cell_type": "code",
   "execution_count": null,
   "metadata": {
    "run_control": {
     "frozen": false,
     "read_only": false
    }
   },
   "outputs": [],
   "source": [
    "doL4[2]"
   ]
  },
  {
   "cell_type": "code",
   "execution_count": null,
   "metadata": {
    "run_control": {
     "frozen": false,
     "read_only": false
    }
   },
   "outputs": [],
   "source": [
    "doL4[3]"
   ]
  },
  {
   "cell_type": "code",
   "execution_count": null,
   "metadata": {
    "run_control": {
     "frozen": false,
     "read_only": false
    }
   },
   "outputs": [],
   "source": [
    "restr4"
   ]
  },
  {
   "cell_type": "code",
   "execution_count": null,
   "metadata": {
    "run_control": {
     "frozen": false,
     "read_only": false
    }
   },
   "outputs": [],
   "source": [
    "del_one_gnfa_state(GN4, \"B\", \"IF\", \"A\")"
   ]
  },
  {
   "cell_type": "code",
   "execution_count": null,
   "metadata": {
    "run_control": {
     "frozen": false,
     "read_only": false
    }
   },
   "outputs": [],
   "source": [
    "del_one_gnfa_state(GN4, \"B\", \"IF\", \"Real_I\")"
   ]
  },
  {
   "cell_type": "code",
   "execution_count": null,
   "metadata": {
    "run_control": {
     "frozen": false,
     "read_only": false
    }
   },
   "outputs": [],
   "source": [
    "NFA_fig61ab = \\\n",
    "{ 'Q': {'I', 'S0', 'S1', 'S2', 'F'},\n",
    "  'Sigma': {'0', '1'},\n",
    "  'Delta': { # \n",
    "             ('I', '0')  : {'I'},\n",
    "             ('I', '1')  : {'I', 'S0'},\n",
    "             ('I', '')   : {'S0'},\n",
    "             #\n",
    "             ('S0', '1') : {'S1'},\n",
    "             #\n",
    "             ('S1', '0') : {'S2'},\n",
    "             ('S1', '1') : {'S2'},\n",
    "             #\n",
    "             ('S2', '0') : {'F'},\n",
    "             ('S2', '1') : {'F'},\n",
    "           },\n",
    "  'Q0': {'I'}, \n",
    "  'F' : {'F'}   \n",
    "}"
   ]
  },
  {
   "cell_type": "code",
   "execution_count": null,
   "metadata": {
    "run_control": {
     "frozen": false,
     "read_only": false
    }
   },
   "outputs": [],
   "source": []
  },
  {
   "cell_type": "code",
   "execution_count": null,
   "metadata": {
    "run_control": {
     "frozen": false,
     "read_only": false
    }
   },
   "outputs": [],
   "source": []
  },
  {
   "cell_type": "code",
   "execution_count": null,
   "metadata": {
    "run_control": {
     "frozen": false,
     "read_only": false
    }
   },
   "outputs": [],
   "source": [
    "GN5 = mk_gnfa(NFA_fig61ab)\n",
    "dotObj_gnfa(GN5)"
   ]
  },
  {
   "cell_type": "code",
   "execution_count": null,
   "metadata": {
    "run_control": {
     "frozen": false,
     "read_only": false
    }
   },
   "outputs": [],
   "source": [
    "(GNf5, doL5, restr5) = del_gnfa_states(GN5)"
   ]
  },
  {
   "cell_type": "code",
   "execution_count": null,
   "metadata": {
    "run_control": {
     "frozen": false,
     "read_only": false
    }
   },
   "outputs": [],
   "source": [
    "GNf5"
   ]
  },
  {
   "cell_type": "code",
   "execution_count": null,
   "metadata": {
    "run_control": {
     "frozen": false,
     "read_only": false
    }
   },
   "outputs": [],
   "source": [
    "restr5"
   ]
  },
  {
   "cell_type": "code",
   "execution_count": null,
   "metadata": {
    "run_control": {
     "frozen": false,
     "read_only": false
    }
   },
   "outputs": [],
   "source": [
    "dotObj_dfa(min_dfa(nfa2dfa(re2nfa(restr5))))"
   ]
  },
  {
   "cell_type": "code",
   "execution_count": null,
   "metadata": {
    "run_control": {
     "frozen": false,
     "read_only": false
    }
   },
   "outputs": [],
   "source": []
  },
  {
   "cell_type": "code",
   "execution_count": null,
   "metadata": {
    "run_control": {
     "frozen": false,
     "read_only": false
    }
   },
   "outputs": [],
   "source": [
    "form_alt_RE( Edges_Exist_Via(GNf5, \"Real_I\", \"Real_F\") )"
   ]
  },
  {
   "cell_type": "code",
   "execution_count": null,
   "metadata": {
    "run_control": {
     "frozen": false,
     "read_only": false
    }
   },
   "outputs": [],
   "source": [
    "restr5"
   ]
  },
  {
   "cell_type": "code",
   "execution_count": null,
   "metadata": {
    "run_control": {
     "frozen": false,
     "read_only": false
    }
   },
   "outputs": [],
   "source": [
    "RE2Str(restr5)"
   ]
  },
  {
   "cell_type": "code",
   "execution_count": null,
   "metadata": {
    "run_control": {
     "frozen": false,
     "read_only": false
    }
   },
   "outputs": [],
   "source": [
    "Edges_Exist_Via(GNf5, \"Real_I\", \"Real_F\")"
   ]
  },
  {
   "cell_type": "code",
   "execution_count": null,
   "metadata": {
    "run_control": {
     "frozen": false,
     "read_only": false
    }
   },
   "outputs": [],
   "source": [
    "GNf5"
   ]
  },
  {
   "cell_type": "code",
   "execution_count": null,
   "metadata": {
    "run_control": {
     "frozen": false,
     "read_only": false
    }
   },
   "outputs": [],
   "source": [
    "doL5[0]"
   ]
  },
  {
   "cell_type": "code",
   "execution_count": null,
   "metadata": {
    "run_control": {
     "frozen": false,
     "read_only": false
    }
   },
   "outputs": [],
   "source": [
    "doL5[1]"
   ]
  },
  {
   "cell_type": "code",
   "execution_count": null,
   "metadata": {
    "run_control": {
     "frozen": false,
     "read_only": false
    }
   },
   "outputs": [],
   "source": [
    "doL5[2]"
   ]
  },
  {
   "cell_type": "code",
   "execution_count": null,
   "metadata": {
    "run_control": {
     "frozen": false,
     "read_only": false
    }
   },
   "outputs": [],
   "source": [
    "doL5[3]"
   ]
  },
  {
   "cell_type": "code",
   "execution_count": null,
   "metadata": {
    "run_control": {
     "frozen": false,
     "read_only": false
    }
   },
   "outputs": [],
   "source": [
    "doL5[4]"
   ]
  },
  {
   "cell_type": "code",
   "execution_count": null,
   "metadata": {
    "run_control": {
     "frozen": false,
     "read_only": false
    }
   },
   "outputs": [],
   "source": [
    "doL5[5]"
   ]
  },
  {
   "cell_type": "code",
   "execution_count": null,
   "metadata": {
    "run_control": {
     "frozen": false,
     "read_only": false
    }
   },
   "outputs": [],
   "source": [
    "restr5"
   ]
  },
  {
   "cell_type": "code",
   "execution_count": null,
   "metadata": {
    "run_control": {
     "frozen": false,
     "read_only": false
    }
   },
   "outputs": [],
   "source": [
    "re2nfa(restr5)"
   ]
  },
  {
   "cell_type": "code",
   "execution_count": null,
   "metadata": {
    "run_control": {
     "frozen": false,
     "read_only": false
    }
   },
   "outputs": [],
   "source": [
    "NFA6 =  {'Q': {'I', 'F'},\n",
    "         'Sigma': {'0', '1'},\n",
    "         'Delta': {  \n",
    "                   ('I', '0') : {'F'},\n",
    "                   ('F', '1') : {'I'}\n",
    "                   },\n",
    "         'Q0': {'I'}, \n",
    "         'F' : {'F'}   \n",
    "}\n",
    "GN6 = mk_gnfa(NFA6)\n",
    "del_gnfa_states(GN6)"
   ]
  },
  {
   "cell_type": "code",
   "execution_count": null,
   "metadata": {
    "run_control": {
     "frozen": false,
     "read_only": false
    }
   },
   "outputs": [],
   "source": [
    "GN6 = mk_gnfa(NFA6)\n",
    "dotObj_gnfa(GN6)"
   ]
  },
  {
   "cell_type": "code",
   "execution_count": null,
   "metadata": {
    "run_control": {
     "frozen": false,
     "read_only": false
    }
   },
   "outputs": [],
   "source": [
    "del_gnfa_states(GN6)"
   ]
  },
  {
   "cell_type": "code",
   "execution_count": null,
   "metadata": {
    "run_control": {
     "frozen": false,
     "read_only": false
    }
   },
   "outputs": [],
   "source": [
    "(Gf6, do6, restr6) = del_gnfa_states(GN6)"
   ]
  },
  {
   "cell_type": "code",
   "execution_count": null,
   "metadata": {
    "run_control": {
     "frozen": false,
     "read_only": false
    }
   },
   "outputs": [],
   "source": [
    "do6[0]"
   ]
  },
  {
   "cell_type": "code",
   "execution_count": null,
   "metadata": {
    "run_control": {
     "frozen": false,
     "read_only": false
    }
   },
   "outputs": [],
   "source": [
    "do6[1]"
   ]
  },
  {
   "cell_type": "code",
   "execution_count": null,
   "metadata": {
    "run_control": {
     "frozen": false,
     "read_only": false
    }
   },
   "outputs": [],
   "source": [
    "do6[2]"
   ]
  },
  {
   "cell_type": "code",
   "execution_count": null,
   "metadata": {
    "run_control": {
     "frozen": false,
     "read_only": false
    }
   },
   "outputs": [],
   "source": [
    "del_one_gnfa_state(GN6, \"I\", \"F\", \"I\")"
   ]
  },
  {
   "cell_type": "code",
   "execution_count": null,
   "metadata": {
    "run_control": {
     "frozen": false,
     "read_only": false
    }
   },
   "outputs": [],
   "source": [
    "del_one_gnfa_state(GN6, \"I\", \"F\", \"Real_F\")"
   ]
  },
  {
   "cell_type": "code",
   "execution_count": null,
   "metadata": {
    "run_control": {
     "frozen": false,
     "read_only": false
    }
   },
   "outputs": [],
   "source": [
    "dotObj_dfa(min_dfa(nfa2dfa(re2nfa( \"1*01*(01*01*)*\" ))))"
   ]
  },
  {
   "cell_type": "code",
   "execution_count": null,
   "metadata": {
    "run_control": {
     "frozen": false,
     "read_only": false
    }
   },
   "outputs": [],
   "source": [
    "dotObj_dfa(min_dfa(nfa2dfa(re2nfa( \"0*(10*10*)*\" ))))"
   ]
  },
  {
   "cell_type": "code",
   "execution_count": null,
   "metadata": {
    "run_control": {
     "frozen": false,
     "read_only": false
    }
   },
   "outputs": [],
   "source": [
    "even1sdfa = min_dfa(nfa2dfa(re2nfa( \"0*(10*10*)*\" )))"
   ]
  },
  {
   "cell_type": "code",
   "execution_count": null,
   "metadata": {
    "run_control": {
     "frozen": false,
     "read_only": false
    }
   },
   "outputs": [],
   "source": [
    "dotObj_dfa(min_dfa(nfa2dfa(re2nfa( \"0*(10*10*)*  +  1*01*(01*01*)*\" ))))"
   ]
  },
  {
   "cell_type": "code",
   "execution_count": null,
   "metadata": {
    "run_control": {
     "frozen": false,
     "read_only": false
    }
   },
   "outputs": [],
   "source": [
    "def dfa2re(D):\n",
    "    return del_gnfa_states(mk_gnfa_from_D(D))"
   ]
  },
  {
   "cell_type": "code",
   "execution_count": null,
   "metadata": {
    "run_control": {
     "frozen": false,
     "read_only": false
    }
   },
   "outputs": [],
   "source": [
    "(GNev1, doev1, restrev1) = dfa2re(even1sdfa)"
   ]
  },
  {
   "cell_type": "code",
   "execution_count": null,
   "metadata": {
    "run_control": {
     "frozen": false,
     "read_only": false
    }
   },
   "outputs": [],
   "source": [
    "restrev1"
   ]
  },
  {
   "cell_type": "code",
   "execution_count": null,
   "metadata": {
    "run_control": {
     "frozen": false,
     "read_only": false
    }
   },
   "outputs": [],
   "source": [
    "minev1 = min_dfa(nfa2dfa(re2nfa( \"0*(10*10*)*\" )))\n",
    "(Gev1, doev1, reev1) = del_gnfa_states(mk_gnfa_from_D(minev1))\n",
    "minev2 = min_dfa(nfa2dfa(re2nfa(reev1)))"
   ]
  },
  {
   "cell_type": "code",
   "execution_count": null,
   "metadata": {
    "run_control": {
     "frozen": false,
     "read_only": false
    }
   },
   "outputs": [],
   "source": [
    "dotObj_dfa(minev1)"
   ]
  },
  {
   "cell_type": "code",
   "execution_count": null,
   "metadata": {
    "run_control": {
     "frozen": false,
     "read_only": false
    }
   },
   "outputs": [],
   "source": [
    "dotObj_dfa(minev2)"
   ]
  },
  {
   "cell_type": "code",
   "execution_count": null,
   "metadata": {
    "run_control": {
     "frozen": false,
     "read_only": false
    }
   },
   "outputs": [],
   "source": [
    "dotObj_dfa(min_dfa(nfa2dfa(re2nfa( \"((0+((1((0)*1))+0)))*\" ))))"
   ]
  },
  {
   "cell_type": "code",
   "execution_count": null,
   "metadata": {
    "run_control": {
     "frozen": false,
     "read_only": false
    }
   },
   "outputs": [],
   "source": [
    "dotObj_nfa(re2nfa(\"''\"))"
   ]
  },
  {
   "cell_type": "code",
   "execution_count": null,
   "metadata": {
    "run_control": {
     "frozen": false,
     "read_only": false
    }
   },
   "outputs": [],
   "source": [
    "dotObj_nfa(re2nfa(\"''*\"))"
   ]
  },
  {
   "cell_type": "code",
   "execution_count": null,
   "metadata": {
    "run_control": {
     "frozen": false,
     "read_only": false
    }
   },
   "outputs": [],
   "source": [
    "dotObj_nfa(re2nfa(\"''*\"), visible_eps = True)"
   ]
  },
  {
   "cell_type": "code",
   "execution_count": null,
   "metadata": {
    "run_control": {
     "frozen": false,
     "read_only": false
    }
   },
   "outputs": [],
   "source": [
    "re2nfa(\"''*\")"
   ]
  },
  {
   "cell_type": "code",
   "execution_count": null,
   "metadata": {
    "run_control": {
     "frozen": false,
     "read_only": false
    }
   },
   "outputs": [],
   "source": [
    "min_dfa_brz"
   ]
  },
  {
   "cell_type": "code",
   "execution_count": null,
   "metadata": {
    "run_control": {
     "frozen": false,
     "read_only": false
    }
   },
   "outputs": [],
   "source": [
    "dotObj_dfa(min_dfa_brz(nfa2dfa(re2nfa( \"((0+((1((0)*1))+0)))* + '' \" ))))"
   ]
  },
  {
   "cell_type": "code",
   "execution_count": null,
   "metadata": {
    "run_control": {
     "frozen": false,
     "read_only": false
    }
   },
   "outputs": [],
   "source": [
    "dotObj_dfa(min_dfa_brz(nfa2dfa(re2nfa( \"((0+((1((0)*1))+0)))* + '' \" ))))"
   ]
  },
  {
   "cell_type": "code",
   "execution_count": null,
   "metadata": {
    "run_control": {
     "frozen": false,
     "read_only": false
    }
   },
   "outputs": [],
   "source": [
    "\"0*(10*10*)*\""
   ]
  },
  {
   "cell_type": "code",
   "execution_count": null,
   "metadata": {
    "run_control": {
     "frozen": false,
     "read_only": false
    }
   },
   "outputs": [],
   "source": [
    "ev1od0 = \"0*(10*10*)* + 1*01*(01*01*)*\""
   ]
  },
  {
   "cell_type": "code",
   "execution_count": null,
   "metadata": {
    "run_control": {
     "frozen": false,
     "read_only": false
    }
   },
   "outputs": [],
   "source": [
    "minb_ev1od0 = min_dfa_brz(nfa2dfa(re2nfa(ev1od0)))"
   ]
  },
  {
   "cell_type": "code",
   "execution_count": null,
   "metadata": {
    "run_control": {
     "frozen": false,
     "read_only": false
    }
   },
   "outputs": [],
   "source": [
    "mino_ev1od0 = min_dfa(nfa2dfa(re2nfa(ev1od0)))"
   ]
  },
  {
   "cell_type": "code",
   "execution_count": null,
   "metadata": {
    "run_control": {
     "frozen": false,
     "read_only": false
    }
   },
   "outputs": [],
   "source": [
    "dotObj_dfa(minb_ev1od0)"
   ]
  },
  {
   "cell_type": "code",
   "execution_count": null,
   "metadata": {
    "run_control": {
     "frozen": false,
     "read_only": false
    }
   },
   "outputs": [],
   "source": [
    "dotObj_dfa(mino_ev1od0)"
   ]
  },
  {
   "cell_type": "code",
   "execution_count": null,
   "metadata": {
    "run_control": {
     "frozen": false,
     "read_only": false
    }
   },
   "outputs": [],
   "source": [
    "del_gnfa_states"
   ]
  },
  {
   "cell_type": "code",
   "execution_count": null,
   "metadata": {
    "run_control": {
     "frozen": false,
     "read_only": false
    }
   },
   "outputs": [],
   "source": [
    "mk_gnfa_from_D"
   ]
  },
  {
   "cell_type": "code",
   "execution_count": null,
   "metadata": {
    "run_control": {
     "frozen": false,
     "read_only": false
    }
   },
   "outputs": [],
   "source": [
    "minb_ev1od0 = min_dfa_brz(nfa2dfa(re2nfa(ev1od0)))\n",
    "dotObj_dfa(minb_ev1od0)"
   ]
  },
  {
   "cell_type": "code",
   "execution_count": null,
   "metadata": {
    "run_control": {
     "frozen": false,
     "read_only": false
    }
   },
   "outputs": [],
   "source": []
  },
  {
   "cell_type": "code",
   "execution_count": null,
   "metadata": {
    "run_control": {
     "frozen": false,
     "read_only": false
    }
   },
   "outputs": [],
   "source": [
    "(Ge1o0, do_e1o0, re_e1o0) = del_gnfa_states(mk_gnfa_from_D(minb_ev1od0))"
   ]
  },
  {
   "cell_type": "code",
   "execution_count": null,
   "metadata": {
    "run_control": {
     "frozen": false,
     "read_only": false
    }
   },
   "outputs": [],
   "source": [
    "do_e1o0[0]"
   ]
  },
  {
   "cell_type": "code",
   "execution_count": null,
   "metadata": {
    "run_control": {
     "frozen": false,
     "read_only": false
    }
   },
   "outputs": [],
   "source": [
    "do_e1o0[1]"
   ]
  },
  {
   "cell_type": "code",
   "execution_count": null,
   "metadata": {
    "run_control": {
     "frozen": false,
     "read_only": false
    }
   },
   "outputs": [],
   "source": [
    "do_e1o0[2]"
   ]
  },
  {
   "cell_type": "code",
   "execution_count": null,
   "metadata": {
    "run_control": {
     "frozen": false,
     "read_only": false
    }
   },
   "outputs": [],
   "source": [
    "do_e1o0[3]"
   ]
  },
  {
   "cell_type": "code",
   "execution_count": null,
   "metadata": {
    "run_control": {
     "frozen": false,
     "read_only": false
    }
   },
   "outputs": [],
   "source": [
    "do_e1o0[4]"
   ]
  },
  {
   "cell_type": "code",
   "execution_count": null,
   "metadata": {
    "run_control": {
     "frozen": false,
     "read_only": false
    }
   },
   "outputs": [],
   "source": [
    "re_e1o0"
   ]
  },
  {
   "cell_type": "code",
   "execution_count": null,
   "metadata": {
    "run_control": {
     "frozen": false,
     "read_only": false
    }
   },
   "outputs": [],
   "source": [
    "dotObj_nfa(re2nfa(re_e1o0))"
   ]
  },
  {
   "cell_type": "code",
   "execution_count": null,
   "metadata": {
    "run_control": {
     "frozen": false,
     "read_only": false
    }
   },
   "outputs": [],
   "source": [
    "dotObj_dfa(nfa2dfa(re2nfa(re_e1o0)))"
   ]
  },
  {
   "cell_type": "code",
   "execution_count": null,
   "metadata": {
    "run_control": {
     "frozen": false,
     "read_only": false
    }
   },
   "outputs": [],
   "source": [
    "dotObj_dfa(min_dfa_brz(nfa2dfa(re2nfa(re_e1o0))))"
   ]
  },
  {
   "cell_type": "code",
   "execution_count": null,
   "metadata": {
    "run_control": {
     "frozen": false,
     "read_only": false
    }
   },
   "outputs": [],
   "source": []
  },
  {
   "cell_type": "code",
   "execution_count": null,
   "metadata": {
    "run_control": {
     "frozen": false,
     "read_only": false
    }
   },
   "outputs": [],
   "source": []
  }
 ],
 "metadata": {
  "kernelspec": {
   "display_name": "Python 3",
   "language": "python",
   "name": "python3"
  },
  "language_info": {
   "codemirror_mode": {
    "name": "ipython",
    "version": 3
   },
   "file_extension": ".py",
   "mimetype": "text/x-python",
   "name": "python",
   "nbconvert_exporter": "python",
   "pygments_lexer": "ipython3",
   "version": "3.7.3"
  },
  "toc": {
   "colors": {
    "hover_highlight": "#DAA520",
    "running_highlight": "#FF0000",
    "selected_highlight": "#FFD700"
   },
   "moveMenuLeft": true,
   "nav_menu": {
    "height": "318px",
    "width": "252px"
   },
   "navigate_menu": true,
   "number_sections": true,
   "sideBar": true,
   "threshold": 4,
   "toc_cell": false,
   "toc_section_display": "block",
   "toc_window_display": false,
   "widenNotebook": false
  }
 },
 "nbformat": 4,
 "nbformat_minor": 1
}
