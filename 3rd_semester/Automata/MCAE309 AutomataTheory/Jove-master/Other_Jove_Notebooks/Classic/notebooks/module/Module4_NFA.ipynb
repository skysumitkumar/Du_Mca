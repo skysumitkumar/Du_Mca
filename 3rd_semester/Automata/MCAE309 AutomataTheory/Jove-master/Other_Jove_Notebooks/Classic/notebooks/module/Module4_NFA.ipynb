{
 "cells": [
  {
   "cell_type": "markdown",
   "metadata": {
    "run_control": {
     "frozen": false,
     "read_only": false
    }
   },
   "source": [
    "<span style=\"color:blue\"> **Now we present material on NFA ** </span>"
   ]
  },
  {
   "cell_type": "markdown",
   "metadata": {
    "run_control": {
     "frozen": false,
     "read_only": false
    }
   },
   "source": [
    "# Top-level functions in this module\n",
    "\n",
    "```\n",
    "This module contains the following functions that may be used in other modules to exercise concepts, compose functions, etc.\n",
    "Here are the argument types\n",
    "\n",
    "D     : DFA\n",
    "N     : NFA\n",
    "Q,S   : set of states\n",
    "q     : state\n",
    "Q0    : set of initial states\n",
    "c     : character (symbol)\n",
    "s     : string\n",
    "Sigma : Alphabet (set)\n",
    " \n",
    "Here are the functions\n",
    "\n",
    "def is_consistent_nfa(N):\n",
    "def mk_nfa(Q, Sigma, Delta, Q0, F):\n",
    "def totalize_nfa(N):\n",
    "def prnfa(N): \n",
    "\n",
    "def step_nfa(N, q, c):\n",
    "def run_nfa(N, S, s, chatty=False):\n",
    "def ec_step_nfa(N, S, c, chatty=False):\n",
    "def accepts_nfa(N, s, chatty=False):\n",
    "\n",
    "def nfa2dfa(N):\n",
    "\n",
    "def rev_dfa(D): \n",
    "\n",
    "def min_dfa_brz(D):\n",
    "```"
   ]
  },
  {
   "cell_type": "code",
   "execution_count": null,
   "metadata": {
    "run_control": {
     "frozen": false,
     "read_only": false
    }
   },
   "outputs": [],
   "source": [
    "#~~~~~~~~~~~~~~~~~~~~~~~~~~~~~~~~~~~~~~~~~~~~~~~~~~~~~~~\n",
    "import sys\n",
    "\n",
    "# -- Detect if in Own Install or in Colab\n",
    "try:\n",
    "    import google.colab\n",
    "    OWN_INSTALL = False\n",
    "except:\n",
    "    OWN_INSTALL = True\n",
    "    \n",
    "if OWN_INSTALL:\n",
    "    \n",
    "  #---- Leave these definitions ON if running on laptop\n",
    "  #---- Else turn OFF by putting them between ''' ... '''\n",
    "\n",
    "  sys.path[0:0] = ['../../../../..',  '../../../../../3rdparty',  \n",
    "                   '../../../..',  '../../../../3rdparty',  \n",
    "                   '../../..',     '../../../3rdparty', \n",
    "                   '../..',        '../../3rdparty',\n",
    "                   '..',           '../3rdparty' ]\n",
    "\n",
    "else: # In colab\n",
    "  ! if [ ! -d Jove ]; then git clone https://github.com/anon-Jove/Jove Jove; fi\n",
    "  sys.path.append('./Jove')\n",
    "  sys.path.append('./Jove/jove')\n",
    "\n",
    "# -- common imports --\n",
    "from jove.ShrinkStates import shrink_dfastates\n",
    "from jove.ShrinkStates import shrink_nfastates\n",
    "from jove.ShrinkStates import mkSSnam\n",
    "\n",
    "from jove.Module3_DFA  import mk_dfa\n",
    "\n",
    "from jove.DotBashers          import *\n",
    "from jove.TransitionSelectors import *\n",
    "from jove.SystemImports       import *\n",
    "#~~~~~~~~~~~~~~~~~~~~~~~~~~~~~~~~~~~~~~~~~~~~~~~~~~~~~~~"
   ]
  },
  {
   "cell_type": "markdown",
   "metadata": {
    "run_control": {
     "frozen": false,
     "read_only": false
    }
   },
   "source": [
    "# Chapter-4: Nondeterministic Finite Automata\n",
    "\n",
    "In this chapter, we will cover virtually all aspects of NFA, following the style of presentation used in Chapter-3 on DFA. We will sometimes be (re-) writing print (and dot-object generation) routines that look quite similar to those defined for DFA. This is because the routines are short, and we want a self-contained notebook. Besides there are subtle differences between an NFA and a DFA and it's best to make these differences manifest in dedicated routines -- than overload the former routines with extra arguments. "
   ]
  },
  {
   "cell_type": "markdown",
   "metadata": {
    "editable": false,
    "run_control": {
     "frozen": false,
     "read_only": false
    }
   },
   "source": [
    "<span style=\"color:blue\"> **We begin defining NFA by providing its structure. ** </span>\n",
    "\n",
    "We will first set up a series of definitions ending at the mk_nfa function that helps build NFA. \n",
    "\n",
    "Unlike with a DFA, there is no mkp_nfa function, as all NFAs are partial! (We can define a mktot_nfa function to print all moves, including unspecified moves leading to the se({}) state.)\n",
    "\n",
    "We will define step_nfa, run_nfa and accepts_nfa which are key functions that clearly spell out how NFA differ from DFA.\n",
    "\n",
    "We will also be defining functions for displaying NFA with the help of the _dot_ tool. The design will be similar to that with DFA.\n",
    "\n",
    "<span style=\"color:blue\"> **------** </span>\n",
    "\n",
    "<span style=\"color:red\"> __We will follow Kozen and endow an NFA with multiple start states __ </span>\n",
    "\n",
    "\n",
    "\n",
    "This will allow the NFA to be more naturally handled. For instance, the reverse of a DFA is an NFA. When we reverse a DFA, all its final states become initial states of the NFA (that models the reversed language). There are 2 ways to handle this:\n",
    "\n",
    "1. Introduce a fake new initial state and jump from it via $\\varepsilon$ onto (what were the final state of the DFA).\n",
    "\n",
    "2. Don't introduce the fake new initial state, but rather allow the NFA to start from all of F being really its start state.\n",
    "\n",
    "    * Of course, in almost all situations, this is a minor difference\n",
    "    \n",
    "    * But to enjoy the topic as completely as one can, it is best to be \"clean\" and follow clean definitions.\n",
    "    \n",
    "        - I've seen Ed Clarke also use multiple initial states\n",
    "        \n",
    "        - Hence our code will be for this relaxed setup\n",
    "        \n",
    "        - Of course if you __REALLY__ wanted to have only one start state, then make it a singleton set of states and work that through your NFA.\n",
    "\n",
    "\n",
    "<br>\n",
    "\n",
    "__So now, following Brzozowski, we have__\n",
    "\n",
    "<br>\n",
    "\n",
    "An NFA is a quintuple $(Q,\\Sigma,\\delta,Q_0,F)$, where:\n",
    "\n",
    "* $Q$ is a _finite nonempty_ set of states.\n",
    "\n",
    "* $\\Sigma$ is a _finite nonempty_ alphabet containing _symbols_.\n",
    "\n",
    "* $\\delta$ is a (partial)\n",
    "\ttransition function, containing a set of _transitions_. The transitions take\n",
    "    a pair from $Q\\times \\Sigma$ and return a __subset__ of states in $Q$. All this is succinctly\n",
    "    captured by writing\n",
    "    $\\delta: Q\\times \\Sigma \\rightarrow 2^Q$. \n",
    "    Here we use $2^Q$ to denote the powerset of $Q$.\n",
    "    \n",
    "  \n",
    "* $Q_0\\subseteq Q$, is __a set of initial states__.  Notice that we change from q0 (or $q_0$) which is what you find books such as Sipser and Linz using.\n",
    "\n",
    "\n",
    "* $F\\subseteq Q$ is a _finite_ (and _possibly empty_) set of\n",
    "\tfinal (or _accepting_) states. These are shown as double-circled nodes in the graph of a DFA. \n",
    " \n",
    "> There is no other change. I.e. $\\delta$ remains the same as before.\n",
    "> It is that when an NFA starts, it can find itself in a set of start states.\n",
    "> Most NFAs start from a __singleton__ Q0, which is then, effectively, an NFA\n",
    " that matches most books say.\n",
    "\n",
    "Some terminology:\n",
    "\n",
    "> We call $Q$,$\\Sigma$, $\\delta$, $Q_0$, and $F$ the **_traits_** of the NFA.\n",
    "\n",
    "> We will call an NFA **_structurally consistent_** or simply **\"consistent\"** if its traits pass the aforesaid checks.\n",
    "\n",
    "\n",
    "Here is how the checks will be broken down:\n",
    "\n",
    "* The supplied $\\delta$ function will be checked to see if it has allowed domain and range points. \n",
    " - The domain points must be a subset of $Q\\times \\Sigma$\n",
    " - The range points must be a subset of $2^Q$\n",
    "  We do no insist that the supplied $\\delta$ be total.\n",
    "    \n",
    "* $Q_0\\subseteq Q$, is _the_ initial state.\n",
    "\n",
    "* $F\\subseteq Q$ is a _finite_ (and _possibly empty_) set of\n",
    "\tfinal (or _accepting_) states.  \n",
    "    \n",
    "We will often use the state set({}) to be the equivalent of a black-hole state for an NFA."
   ]
  },
  {
   "cell_type": "markdown",
   "metadata": {
    "editable": false,
    "run_control": {
     "frozen": false,
     "read_only": false
    }
   },
   "source": [
    "<span style=\"color:blue\"> **Here is how we will represent an NFA in Python (taking a slight variant of Figure 6.1(b)'s example from the book). The variant was created by introducing a '1' edge from I to S0 also (similar to 6.1(a) -- thus showing an instance of non-determinism due to the '1' transition). Since we get features from 6.1(a) and 6.1(b), we are calling this NFA_fig61ab.\n",
    "\n",
    "You can clearly see how the traits of the NFA are encoded. We prefer a Python dictionary, as it supports a number of convenient operations, and also one can add additional fields easily. ** </span>"
   ]
  },
  {
   "cell_type": "code",
   "execution_count": null,
   "metadata": {
    "code_folding": [],
    "run_control": {
     "frozen": false,
     "read_only": false
    }
   },
   "outputs": [],
   "source": [
    "NFA_fig61ab = { 'Q': {'I', 'S0', 'S1', 'S2', 'F'},\n",
    "                'Sigma': {'0', '1'},\n",
    "                'Delta': { # \n",
    "                             ('I', '0')  : {'I'},\n",
    "                             ('I', '1')  : {'I', 'S0'},\n",
    "                             ('I', '')   : {'S0'},\n",
    "                             #\n",
    "                             ('S0', '1') : {'S1'},\n",
    "                             #\n",
    "                             ('S1', '0') : {'S2'},\n",
    "                             ('S1', '1') : {'S2'},\n",
    "                             #\n",
    "                             ('S2', '0') : {'F'},\n",
    "                             ('S2', '1') : {'F'},\n",
    "               },\n",
    "                  'Q0': {'I'}, \n",
    "                  'F' : {'F'}   \n",
    "                }\n",
    "NFA_fig61ab"
   ]
  },
  {
   "cell_type": "markdown",
   "metadata": {
    "editable": false,
    "run_control": {
     "frozen": false,
     "read_only": false
    }
   },
   "source": [
    "<span style=\"color:blue\"> \n",
    "**\n",
    "The extractors for the transitions contained in Delta are identical to those defined for DFA (the function definitions are repeated here to make this notebook self-contained). Notice that fn_dom and fn_range will both return a list of set of states (for a DFA it would return a list of states). The reason for returning a list is explained in the Jupyter notebook for DFA, but basically Python cannot represent a set of sets, but is OK representing a list of sets.\n",
    "We will make fn_dom also to return a list (for uniformity).\n",
    "** \n",
    "</span>"
   ]
  },
  {
   "cell_type": "markdown",
   "metadata": {
    "editable": false,
    "run_control": {
     "frozen": false,
     "read_only": false
    }
   },
   "source": [
    "We now introduce consistency-checking routines. There is only one consistency checking for NFA (they are partial always)."
   ]
  },
  {
   "cell_type": "markdown",
   "metadata": {
    "ExecuteTime": {
     "end_time": "2017-05-04T16:48:47.563840Z",
     "start_time": "2017-05-04T16:48:47.552840Z"
    },
    "code_folding": [],
    "run_control": {
     "frozen": false,
     "read_only": false
    }
   },
   "source": [
    " Consistency checker(s) for NFA have moved to DotBashers."
   ]
  },
  {
   "cell_type": "code",
   "execution_count": null,
   "metadata": {
    "code_folding": [],
    "editable": false,
    "run_control": {
     "frozen": false,
     "read_only": false
    }
   },
   "outputs": [],
   "source": [
    "def mk_nfa(Q, Sigma, Delta, Q0, F):\n",
    "    \"\"\"Check for structural consistency of the given NFA traits.\n",
    "       If the check passes, make and return an NFA.\n",
    "    \"\"\"\n",
    "    newNFA = {\"Q\":Q, \"Sigma\":Sigma, \"Delta\":Delta, \"Q0\":Q0, \"F\":F}\n",
    "    assert(\n",
    "        is_consistent_nfa(newNFA)\n",
    "    ), \"NFA given to mk_nfa is not consistent. Plz check its components.\"\n",
    "    return(newNFA)\n"
   ]
  },
  {
   "cell_type": "code",
   "execution_count": null,
   "metadata": {
    "code_folding": [],
    "run_control": {
     "frozen": false,
     "read_only": false
    }
   },
   "outputs": [],
   "source": [
    "\n",
    "def totalize_nfa(N):\n",
    "    \"\"\"In : NFA N\n",
    "       Out: Totalized NFA\n",
    "       Given a partially specified NFA, make it total by \n",
    "       transitioning to state set({}) wherever the incoming \n",
    "       Delta has gaps. This is done for an NFA only for things \n",
    "       like printing.\n",
    "    \"\"\"\n",
    "    assert(\n",
    "        is_consistent_nfa(N)\n",
    "    ), \"NFA given to totalize_nfa is not consistent.\"\n",
    "    Sigma_w_Eps = (N[\"Sigma\"] | {\"\"}) # Extended Alphabet\n",
    "    add_delta = { (q,c) : set({}) \n",
    "                   for q in N[\"Q\"] \n",
    "                   for c in Sigma_w_Eps \n",
    "                   if (q,c) not in N[\"Delta\"] }\n",
    "    #\n",
    "    add_delta.update(N[\"Delta\"])\n",
    "    #\n",
    "    return {\"Q\"    : N[\"Q\"],\n",
    "            \"Sigma\": N[\"Sigma\"],\n",
    "            \"Delta\": add_delta,\n",
    "            \"Q0\"   : N[\"Q0\"],\n",
    "            \"F\"    : N[\"F\"]}\n",
    "\n",
    "def prnfa(N):\n",
    "        \"\"\"Prints the NFA N neatly.\n",
    "        \"\"\"\n",
    "        # Make the NFA total before printing\n",
    "        Nt = totalize_nfa(N)\n",
    "        print(\"\")\n",
    "        print(\"Q:\",     Nt[\"Q\"])\n",
    "        print(\"Sigma:\", Nt[\"Sigma\"])\n",
    "        print(\"Q0:\",    Nt[\"Q0\"])\n",
    "        print(\"F:\",     Nt[\"F\"])\n",
    "        print(\"Delta:\")\n",
    "        print(\"\\t\".join(map(str, Nt[\"Q\"])))\n",
    "        print(\"---------------------------------------------\")\n",
    "        for c in (Nt[\"Sigma\"] | {\"\"}):\n",
    "            nxt_qs = [Nt[\"Delta\"][(q, c)] for q in Nt[\"Q\"]]\n",
    "            print(\"\\t\".join(map(str, nxt_qs)) + \"\\t\\t\" + c)\n",
    "            print(\"\")\n",
    "            \n",
    " "
   ]
  },
  {
   "cell_type": "markdown",
   "metadata": {
    "editable": false,
    "run_control": {
     "frozen": false,
     "read_only": false
    }
   },
   "source": [
    "# Generating 'dot' graphs from NFA"
   ]
  },
  {
   "cell_type": "markdown",
   "metadata": {
    "editable": false,
    "run_control": {
     "frozen": false,
     "read_only": false
    }
   },
   "source": [
    "<span style=\"color:blue\"> **We can now write routines to print NFA using dot. The main routines are listed below.** </span>\n",
    "\n",
    "* dot_nfa    : Produces a dot string for an NFA\n",
    "* dotObj_nfa : Produces a dot object that can be viewed on the console "
   ]
  },
  {
   "cell_type": "code",
   "execution_count": null,
   "metadata": {
    "code_folding": [],
    "editable": false,
    "run_control": {
     "frozen": false,
     "read_only": false
    }
   },
   "outputs": [],
   "source": [
    "# Tests of dot_nfa\n",
    "NFA_fig61ab\n",
    "\n",
    "def dot_nfa_tests():\n",
    "    dot_string = dot_nfa(NFA_fig61ab)\n",
    "    print(dot_string)\n",
    "    \n",
    "    dot_object1 = Source(dot_string)\n",
    "    dot_object1 # Display it!"
   ]
  },
  {
   "cell_type": "code",
   "execution_count": null,
   "metadata": {
    "code_folding": [],
    "editable": false,
    "run_control": {
     "frozen": false,
     "read_only": false
    }
   },
   "outputs": [],
   "source": [
    "# Tests of dotObj_nfa\n",
    "fn_range(NFA_fig61ab[\"Delta\"])\n",
    "prnfa(NFA_fig61ab)\n",
    "dotObj_nfa(NFA_fig61ab,visible_eps=True,nfaName=\"NFA_fig61ab\")"
   ]
  },
  {
   "cell_type": "markdown",
   "metadata": {
    "editable": false,
    "run_control": {
     "frozen": false,
     "read_only": false
    }
   },
   "source": [
    "======"
   ]
  },
  {
   "cell_type": "markdown",
   "metadata": {
    "editable": false,
    "run_control": {
     "frozen": false,
     "read_only": false
    }
   },
   "source": [
    "# Stepping and Running NFA\n",
    "\n",
    "Now that we've defined NFA and allied actions such as consistency checking and printing, let's write functions to step and run them.\n",
    "\n",
    "* How the state transition function $\\delta$ \"works\"\n",
    "  - captured in step_nfa"
   ]
  },
  {
   "cell_type": "code",
   "execution_count": null,
   "metadata": {
    "code_folding": [],
    "editable": false,
    "run_control": {
     "frozen": false,
     "read_only": false
    }
   },
   "outputs": [],
   "source": [
    "def step_nfa(N, q, c):\n",
    "    \"\"\"In : N (consistent NFA)\n",
    "            q (state in N)\n",
    "            c (symbol in N's sigma or \"\")\n",
    "       Out: The set of states reached via N's Delta.\n",
    "       EClosure is NOT performed.\n",
    "       If the move is not defined, return {}.\n",
    "    \"\"\"    \n",
    "    assert(\n",
    "        c in (N[\"Sigma\"] | {\"\"})\n",
    "    ), \"c given to step_nfa not in Sigma.\"\n",
    "    assert(\n",
    "        q in  N[\"Q\"]\n",
    "    ), \"q given to step_nfa not in Q.\"\n",
    "    \n",
    "    \n",
    "    # We have to run it wrt the total version of the NFA. \n",
    "    # Since that is expensive to do each time, special-case this check.                                                               \n",
    "    if (q,c) in N[\"Delta\"].keys():\n",
    "        return  N[\"Delta\"][(q,c)]\n",
    "    else:\n",
    "        # If a move is undefined, it is a transition to the empty set\n",
    "        return  set({})  "
   ]
  },
  {
   "cell_type": "code",
   "execution_count": null,
   "metadata": {
    "editable": false,
    "run_control": {
     "frozen": false,
     "read_only": false
    }
   },
   "outputs": [],
   "source": [
    "step_nfa(NFA_fig61ab, \"I\", \"\")"
   ]
  },
  {
   "cell_type": "code",
   "execution_count": null,
   "metadata": {
    "editable": false,
    "run_control": {
     "frozen": false,
     "read_only": false
    }
   },
   "outputs": [],
   "source": [
    "step_nfa(NFA_fig61ab, \"I\", \"0\")"
   ]
  },
  {
   "cell_type": "code",
   "execution_count": null,
   "metadata": {
    "editable": false,
    "run_control": {
     "frozen": false,
     "read_only": false
    }
   },
   "outputs": [],
   "source": [
    "step_nfa(NFA_fig61ab, \"I\", \"1\")"
   ]
  },
  {
   "cell_type": "markdown",
   "metadata": {
    "editable": false,
    "run_control": {
     "frozen": false,
     "read_only": false
    }
   },
   "source": [
    "## Now we define the $\\hat{\\delta}$ function that runs an NFA on a string\n",
    "\n",
    "* This is captured in run_nfa\n",
    "  \n",
    "     * This is more elaborate than with a DFA because we need to account for Epsilon moves\n",
    "     * So we will define routines to compute the E-closure of a state\n",
    "     \n",
    "       - The set of states reachable by traversing Epsilon edges\n",
    "  \n",
    "* Our algorithm is this:\n",
    "\n",
    "     * Eclose the given set of states S\n",
    "         - If given string s is \"\", we are done (retn Eclosed set of states)\n",
    "         - Else take step via s[0]; Eclose it to get S'; run s[1:] on S'"
   ]
  },
  {
   "cell_type": "code",
   "execution_count": null,
   "metadata": {
    "editable": false,
    "run_control": {
     "frozen": false,
     "read_only": false
    }
   },
   "outputs": [],
   "source": [
    "def run_nfa(N, S, s, chatty=False):\n",
    "    \"\"\"In : N (consistent NFA)\n",
    "            S (SET of states S belonging to N's states)\n",
    "            s (string over N's alphabet)\n",
    "       Out: SET of states reached after processing s.\n",
    "       Run the NFA starting with a SET of states S on string,\n",
    "       with EClosure wherever necessary. Return set of states reached.\n",
    "    \"\"\"       \n",
    "    # First EClose the given set of states S.\n",
    "    S = Eclosure(N, S)\n",
    "    if s==\"\":\n",
    "        # run_nfa returns S if nothing to process\n",
    "        return S\n",
    "    else:\n",
    "        # else one step via s[0]; return Eclosure of the resulting states\n",
    "        return run_nfa(N, ec_step_nfa(N, S, s[0], chatty), s[1:], chatty)"
   ]
  },
  {
   "cell_type": "code",
   "execution_count": null,
   "metadata": {
    "run_control": {
     "frozen": false,
     "read_only": false
    }
   },
   "outputs": [],
   "source": [
    "def ec_step_nfa(N, S, c, chatty=False):\n",
    "    \"\"\"In : N (consistent NFA)\n",
    "            S (EClosed set of states)\n",
    "            c (character in N's alphabet; does not equal \"\")\n",
    "       Return Eclosure of all states one \"c\" step away from S.                                                                     \n",
    "    \"\"\"\n",
    "    post_c_state_sets = list(map(lambda st: step_nfa(N, st, c), S))\n",
    "                                                                              \n",
    "    # Take union of state sets contained in post_c_states\n",
    "    # basis case set({}) added to make reduction succeed                                \n",
    "    post_c_states = reduce(lambda x,y: set(x) | set(y), \n",
    "                           post_c_state_sets, \n",
    "                           set({}))\n",
    "        \n",
    "    # Eclose from post-c-states                                                                          \n",
    "    Eclosed_post_c_states = Eclosure(N, post_c_states)\n",
    "    \n",
    "    # Return final set of states after second Eclosure  \n",
    "    if chatty:\n",
    "        print(\"States reached = \", Eclosed_post_c_states)\n",
    "    return Eclosed_post_c_states\n",
    "\n",
    "def Eclosure(N, S):\n",
    "    \"\"\"In : N (consistent NFA)\n",
    "            S (set of states of NFA to be Eclosed)\n",
    "       Out: Eclosure of S (set of states).\n",
    "    \"\"\"\n",
    "    return Echelp(N, S, set({}))\n",
    "\n",
    "def Echelp(Nfa, Allsofar, Previous):\n",
    "    \"\"\"In : Nfa (consistent NFA)\n",
    "            Allsofar (set of states reached so far)\n",
    "            Previous (set of states reached previously)                                     \n",
    "       len(N[\"Delta\"].items()) is the longest chain in the NFA;\n",
    "       We will end up iterating that much. \n",
    "    \"\"\"\n",
    "    # Fixpoint reached; return Allsofar\n",
    "    if (Allsofar == Previous):\n",
    "        return Allsofar\n",
    "    else:\n",
    "        # When we apply step_nfa, we get state sets; \n",
    "        # form a list of those.\n",
    "        post_eps_state_sets = list(map(lambda q: \n",
    "                                       step_nfa(Nfa, q, \"\"), \n",
    "                                       Allsofar))\n",
    "        \n",
    "        # Now OR-reduce 'em; basis case of set({}) \n",
    "        # added to make reduction succeed                           \n",
    "        post_eps_states = reduce(lambda x, y: set(x) | set(y), \n",
    "                                 post_eps_state_sets,\n",
    "                                 set({}))\n",
    "            \n",
    "        # Recurse till fixpoint reached\n",
    "        return Echelp(Nfa      = Nfa, \n",
    "                      Allsofar = set(post_eps_states) | \n",
    "                                 set(Allsofar), \n",
    "                      Previous = Allsofar)\n",
    "\n",
    "import ipywidgets as wdg\n",
    "def run_nfa_slider(N, s, n):\n",
    "    \"\"\"Run NFA N from N[\"Q0\"] (which is a set..) on substring s[0:n]\n",
    "    \"\"\"\n",
    "    S = N[\"Q0\"] \n",
    "    if (n > len(s)):\n",
    "        n = len(s)\n",
    "    print(\"string = \", s[0:n])\n",
    "    run_nfa(N, S, s[0:n], True)\n",
    "    \n",
    "def run_nfa_int(N1, N2):\n",
    "    \"\"\"Run interactively from the given NFA .. from {q0} \n",
    "       on input string's substring\n",
    "       as picked by slider.\n",
    "    \"\"\"\n",
    "    inp = input(\"Please provide string: \")\n",
    "    wdg.interact(run_nfa_slider, N = {'N1': N1, 'N2': N2}, \n",
    "                 s = inp, n=(0,32))"
   ]
  },
  {
   "cell_type": "code",
   "execution_count": null,
   "metadata": {
    "run_control": {
     "frozen": false,
     "read_only": false
    }
   },
   "outputs": [],
   "source": [
    "\"aa\"[0:0]"
   ]
  },
  {
   "cell_type": "code",
   "execution_count": null,
   "metadata": {
    "run_control": {
     "frozen": false,
     "read_only": false
    }
   },
   "outputs": [],
   "source": [
    "# NFA for ((aa)+(bbb)+)+\n",
    "NFA23 = { 'Q': {'A0','A1','B0','B1','B2','F'},\n",
    "          'Sigma': {'0', '1'},\n",
    "          'Delta': { # \n",
    "                     ('A0', '0') : {'A1'},\n",
    "                     ('A1', '0') : {'B0'},\n",
    "                     #\n",
    "                     ('B0', '')  : {'A0'},\n",
    "                     #\n",
    "                     ('B0', '1') : {'B1'},\n",
    "                     ('B1', '1') : {'B2'},\n",
    "                     ('B2', '1') : {'F'},\n",
    "                     # \n",
    "                     ('F', '')   : {'B0'},\n",
    "                   },\n",
    "          'Q0': {'A0'}, \n",
    "          'F' : {'F'}   \n",
    "        }\n",
    "Source(dot_nfa(NFA23))"
   ]
  },
  {
   "cell_type": "code",
   "execution_count": null,
   "metadata": {
    "run_control": {
     "frozen": false,
     "read_only": false
    }
   },
   "outputs": [],
   "source": [
    "Source(dot_nfa(NFA23, visible_eps=True))"
   ]
  },
  {
   "cell_type": "code",
   "execution_count": null,
   "metadata": {
    "editable": false,
    "run_control": {
     "frozen": false,
     "read_only": false
    }
   },
   "outputs": [],
   "source": [
    "NFA23[\"Q0\"]"
   ]
  },
  {
   "cell_type": "code",
   "execution_count": null,
   "metadata": {
    "editable": false,
    "run_control": {
     "frozen": false,
     "read_only": false
    }
   },
   "outputs": [],
   "source": [
    "run_nfa(NFA23, NFA23[\"Q0\"], '0', True)"
   ]
  },
  {
   "cell_type": "code",
   "execution_count": null,
   "metadata": {
    "editable": false,
    "run_control": {
     "frozen": false,
     "read_only": false
    }
   },
   "outputs": [],
   "source": [
    "Source(dot_nfa(NFA_fig61ab))"
   ]
  },
  {
   "cell_type": "code",
   "execution_count": null,
   "metadata": {
    "editable": false,
    "run_control": {
     "frozen": false,
     "read_only": false
    }
   },
   "outputs": [],
   "source": [
    "run_nfa(NFA23, set({'A0'}), '', True)"
   ]
  },
  {
   "cell_type": "code",
   "execution_count": null,
   "metadata": {
    "editable": false,
    "run_control": {
     "frozen": false,
     "read_only": false
    }
   },
   "outputs": [],
   "source": [
    "def test_run_nfa_int():\n",
    "    \"\"\"Test the interactive run of NFA.\n",
    "    \"\"\"\n",
    "    run_nfa_int(NFA_fig61ab, NFA23) \n",
    "\n",
    "#-- enable this later. test_run_nfa_int()"
   ]
  },
  {
   "cell_type": "code",
   "execution_count": null,
   "metadata": {
    "editable": false,
    "run_control": {
     "frozen": false,
     "read_only": false
    }
   },
   "outputs": [],
   "source": [
    "Eclosure(NFA_fig61ab, {\"I\"})"
   ]
  },
  {
   "cell_type": "code",
   "execution_count": null,
   "metadata": {
    "editable": false,
    "run_control": {
     "frozen": false,
     "read_only": false
    }
   },
   "outputs": [],
   "source": [
    "Eclosure(NFA_fig61ab, {\"S0\"})"
   ]
  },
  {
   "cell_type": "code",
   "execution_count": null,
   "metadata": {
    "editable": false,
    "run_control": {
     "frozen": false,
     "read_only": false
    }
   },
   "outputs": [],
   "source": [
    "run_nfa(NFA_fig61ab,{\"I\"},\"\")"
   ]
  },
  {
   "cell_type": "code",
   "execution_count": null,
   "metadata": {
    "editable": false,
    "run_control": {
     "frozen": false,
     "read_only": false
    }
   },
   "outputs": [],
   "source": [
    "run_nfa(NFA_fig61ab,{\"I\"},\"\", True)"
   ]
  },
  {
   "cell_type": "code",
   "execution_count": null,
   "metadata": {
    "editable": false,
    "run_control": {
     "frozen": false,
     "read_only": false
    }
   },
   "outputs": [],
   "source": [
    "run_nfa(NFA_fig61ab,{\"I\"},\"0\")"
   ]
  },
  {
   "cell_type": "code",
   "execution_count": null,
   "metadata": {
    "editable": false,
    "run_control": {
     "frozen": false,
     "read_only": false
    }
   },
   "outputs": [],
   "source": [
    "run_nfa(NFA_fig61ab,{\"I\"},\"1\")"
   ]
  },
  {
   "cell_type": "code",
   "execution_count": null,
   "metadata": {
    "editable": false,
    "run_control": {
     "frozen": false,
     "read_only": false
    }
   },
   "outputs": [],
   "source": [
    "run_nfa(NFA_fig61ab,{\"I\"},\"100\")"
   ]
  },
  {
   "cell_type": "code",
   "execution_count": null,
   "metadata": {
    "editable": false,
    "run_control": {
     "frozen": false,
     "read_only": false
    }
   },
   "outputs": [],
   "source": [
    "run_nfa(NFA_fig61ab,{\"I\"},\"100\", True)"
   ]
  },
  {
   "cell_type": "code",
   "execution_count": null,
   "metadata": {
    "editable": false,
    "run_control": {
     "frozen": false,
     "read_only": false
    }
   },
   "outputs": [],
   "source": [
    "run_nfa(NFA_fig61ab,{\"I\"},\"00110\")"
   ]
  },
  {
   "cell_type": "code",
   "execution_count": null,
   "metadata": {
    "editable": false,
    "run_control": {
     "frozen": false,
     "read_only": false
    }
   },
   "outputs": [],
   "source": [
    "run_nfa(NFA_fig61ab,{\"I\"},\"00110\", True)"
   ]
  },
  {
   "cell_type": "markdown",
   "metadata": {
    "editable": false,
    "run_control": {
     "frozen": false,
     "read_only": false
    }
   },
   "source": [
    "### See that the NFA really runs a string, keeping its presence in all the states it must!"
   ]
  },
  {
   "cell_type": "markdown",
   "metadata": {
    "editable": false,
    "run_control": {
     "frozen": false,
     "read_only": false
    }
   },
   "source": [
    "Now we define NFA acceptance. We provide a silent version and a chatty (verbose) version called accepts_nfav that tells you HOW the acceptance was concluded."
   ]
  },
  {
   "cell_type": "code",
   "execution_count": null,
   "metadata": {
    "run_control": {
     "frozen": false,
     "read_only": false
    }
   },
   "outputs": [],
   "source": [
    "def accepts_nfa(N, s, chatty=False):\n",
    "    \"\"\"NFA acceptance; if chatty, print accepting path\n",
    "       which is the state-sets encountered.\n",
    "    \"\"\"\n",
    "    Q0 = N[\"Q0\"]\n",
    "    if (run_nfa(N, Q0, s, chatty) & N[\"F\"]) != set({}):\n",
    "        if chatty:\n",
    "            print(\"NFA accepts '\" + s + \n",
    "                  \"' by reaching \" + \n",
    "                  str(run_nfa(N, Q0, s, False)))\n",
    "        return True\n",
    "    else:\n",
    "        if chatty:\n",
    "            print(\"NFA rejects '\" + s + \"'\")\n",
    "        return False"
   ]
  },
  {
   "cell_type": "code",
   "execution_count": null,
   "metadata": {
    "editable": false,
    "run_control": {
     "frozen": false,
     "read_only": false
    }
   },
   "outputs": [],
   "source": [
    "accepts_nfa(NFA_fig61ab, \"\")"
   ]
  },
  {
   "cell_type": "code",
   "execution_count": null,
   "metadata": {
    "editable": false,
    "run_control": {
     "frozen": false,
     "read_only": false
    }
   },
   "outputs": [],
   "source": [
    "accepts_nfa(NFA_fig61ab, \"\", True)"
   ]
  },
  {
   "cell_type": "code",
   "execution_count": null,
   "metadata": {
    "editable": false,
    "run_control": {
     "frozen": false,
     "read_only": false
    }
   },
   "outputs": [],
   "source": [
    "accepts_nfa(NFA_fig61ab, \"0\", True)"
   ]
  },
  {
   "cell_type": "code",
   "execution_count": null,
   "metadata": {
    "editable": false,
    "run_control": {
     "frozen": false,
     "read_only": false
    }
   },
   "outputs": [],
   "source": [
    "accepts_nfa(NFA_fig61ab, \"100\", True)"
   ]
  },
  {
   "cell_type": "markdown",
   "metadata": {
    "collapsed": true,
    "editable": false,
    "run_control": {
     "frozen": false,
     "read_only": false
    }
   },
   "source": [
    "============================"
   ]
  },
  {
   "cell_type": "markdown",
   "metadata": {
    "editable": false,
    "run_control": {
     "frozen": false,
     "read_only": false
    }
   },
   "source": [
    " <span style=\"color:blue\"> **Ideally one likes to have an \"Recognizes a language\" test also, but we don't have enough machinery to specify \"a language\". Well one can specify \"a language\" through another DFA or NFA, but then we are asking about \"exactly the strings of the reference DFA D being accepted by the user-build DFA D1. I leave its implementation as an exercise, but you may wait till more material is covered, including regular expressions.** </span>"
   ]
  },
  {
   "cell_type": "markdown",
   "metadata": {
    "editable": false,
    "run_control": {
     "frozen": false,
     "read_only": false
    }
   },
   "source": [
    "## NFA complementation\n",
    "\n",
    "NFA complementation cannot be done by swapping final and non-final states. One may want to think of a suitable algorithm for NFA complementation (as an exercise). Solutions appear shortly."
   ]
  },
  {
   "cell_type": "markdown",
   "metadata": {
    "editable": false,
    "run_control": {
     "frozen": false,
     "read_only": false
    }
   },
   "source": [
    "\n",
    "## NFA Union, Concatenation, Star, and Reversal\n",
    "\n",
    "These operations have straightforward implementations, and not pursued here. We will be presenting union, concatenation and star quite naturally in the context of regular expressions. Reversal will be fun to write, and will be addressed sometime soon. \n",
    "\n",
    "We will devote the rest of the NFA section to introduce NFA to DFA conversion (called __determinize__).\n",
    "\n",
    "Once we achieve reversal and determinization, we can also implement Brzozowski's minimization algorithm for DFA:\n",
    "\n",
    "* Reverse a DFA\n",
    "* Determinize it\n",
    "* Reverse that DFA\n",
    "* Determinize it\n",
    "\n",
    "Presto, the result will be the minimal DFA corresponding to the original!  This will also be a fun routine to write.\n",
    "\n",
    "The proof that this construction works is given in [KamedaWeiner][KamedaWeinerNFAMin] where the authors present the proof along the way to presenting an NFA minimization algorithm. \n",
    "\n",
    "### The obvious question : Whither NFA Minimization?\n",
    "\n",
    "Unfortunately, the situation with NFA minimization is \"not as satisfactory as with DFA\" according to [Kozen][KozenGreatBook]. For instance, minimal NFA are not necessarily unique upto isomorphism. (BTW Kozen's book is one of the amazing gems in this field, and is highly recommended.)\n",
    "\n",
    "In one of my discussions with Prof. Alan Emerson, Turing award winner for being a co-discoverer of model checking (again using Wadler's \"discovery\" as opposed to \"invention\"; see my first book chapter), I learned the interesting fact that this is related to what prevents BDDs from being exponentially succinct always. (Curious - I should revisit on this with Emerson.)\n",
    "\n",
    "[KozenGreatBook]: http://www.springer.com/us/book/9783642857065\n",
    "\n",
    "[KamedaWeinerNFAMin]: http://ieeexplore.ieee.org/stamp/stamp.jsp?arnumber=1671587"
   ]
  },
  {
   "cell_type": "markdown",
   "metadata": {
    "editable": false,
    "run_control": {
     "frozen": false,
     "read_only": false
    }
   },
   "source": [
    "# NFA to DFA conversion\n",
    "\n",
    "This is one of the most important of NFA-related operations. It will have a lot in common with running NFA where the computation of EClosure was involved in every step.\n",
    "\n"
   ]
  },
  {
   "cell_type": "code",
   "execution_count": null,
   "metadata": {
    "run_control": {
     "frozen": false,
     "read_only": false
    }
   },
   "outputs": [],
   "source": [
    "def nfa2dfa(N):\n",
    "    \"\"\"In : N (consistent NFA)\n",
    "       Out: A consistent DFA that is language-equivalent to N.\n",
    "    \"\"\"\n",
    "    assert(\n",
    "        is_consistent_nfa(N)\n",
    "    ), \"nfa2dfa was given an inconsistent NFA.\"\n",
    "    # EClose the starting state of the NFA\n",
    "    EC = Eclosure(N, N[\"Q0\"])\n",
    "    return n2d(Frontier=[EC], Visited=[EC], Delta=dict({}), Nfa=N)"
   ]
  },
  {
   "cell_type": "code",
   "execution_count": null,
   "metadata": {
    "run_control": {
     "frozen": false,
     "read_only": false
    }
   },
   "outputs": [],
   "source": [
    "def n2d(Frontier, Visited, Delta, Nfa):\n",
    "    \"\"\"In : Frontier (list of state sets; initially Eclosed Q0)\n",
    "            Visited  (list of visited state sets; initially Eclosed Q0)\n",
    "            Delta    (the DFA transition function being formed)\n",
    "            Nfa      (the NFA being converted)\n",
    "       Helper to nfa2dfa. Given a (BFS) frontier, a Visited\n",
    "       set of states, the Delta being formed, and NFA Nfa, see\n",
    "       if all new moves are in Visited: \n",
    "         do last gasp of Delta update; make and return a DFA;\n",
    "       else: extend Frontier, Visited, Delta; recurse.\n",
    "    \"\"\"\n",
    "    All_c_Moves = [ ((Q,c),ec_step_nfa(Nfa,Q,c)) \n",
    "                   for Q in Frontier \n",
    "                   for c in Nfa[\"Sigma\"] ]\n",
    "    New_c_Moves = list(filter(lambda QcQ: trTrg(QcQ) not in Visited, \n",
    "                              All_c_Moves))  \n",
    "    if New_c_Moves == []:\n",
    "        # Add last-gasp c-moves that curl back!\n",
    "        last_gasp_c_moves = dict([ ((mkSSnam(Qfrom),c),mkSSnam(Qto)) \n",
    "                                  for ((Qfrom, c), Qto) in All_c_Moves ])\n",
    "        Delta.update(last_gasp_c_moves)\n",
    "                  \n",
    "        # DFA states are visited states\n",
    "        DFA_Q = { mkSSnam(Q) for Q in Visited }\n",
    "                  \n",
    "        # Retain alphabet\n",
    "        DFA_Sigma = Nfa[\"Sigma\"]\n",
    "                  \n",
    "        # Delta is ready to go\n",
    "        DFA_Delta = Delta\n",
    "                  \n",
    "        # DFA starts at Eclosure of Nfa's Q0 set of states\n",
    "        DFA_q0 = mkSSnam(Eclosure(Nfa, Nfa[\"Q0\"]))\n",
    "                  \n",
    "        # DFA's final states are those in visited that contain an NFA \n",
    "        # F-state but don't retain any empty sets, in case the NFA given \n",
    "        # has no F-states!\n",
    "        # This is another corner-case (i.e. don't shove-in black hole \n",
    "        # states!)\n",
    "        DFA_F = set(map(lambda Q: mkSSnam(Q), \n",
    "                        filter(lambda Q: (Nfa[\"F\"]&Q) != set({}), \n",
    "                               Visited)))\n",
    "                  \n",
    "        # Make the DFA; send it to the DFA-shrink to bask ugly long \n",
    "        # state names...\n",
    "        return shrink_dfastates(mk_dfa(DFA_Q, \n",
    "                                       DFA_Sigma, \n",
    "                                       DFA_Delta, \n",
    "                                       DFA_q0, \n",
    "                                       DFA_F))\n",
    "    else:\n",
    "        newFrontier = list(map(lambda QcQ: trTrg(QcQ), New_c_Moves)) \n",
    "        newVisited = Visited + newFrontier\n",
    "                  \n",
    "        # Even though the NFA has not closed back on itself, we MUST \n",
    "        # accommodate for the \"curl-backs\" along the way !!  Thus, run it\n",
    "        # over All_c_Moves which may include \"partial revisits along the \n",
    "        # way\". We MUST pick up those curl-backs!\n",
    "        NewMovesDelta = dict([ ((mkSSnam(Qfrom),c),mkSSnam(Qto)) \n",
    "                              for ((Qfrom, c), Qto) in All_c_Moves ]) \n",
    "        Delta.update(NewMovesDelta)\n",
    "        return n2d(newFrontier, newVisited, Delta, Nfa)\n",
    "                                  \n",
    "#---NFA to DFA"
   ]
  },
  {
   "cell_type": "code",
   "execution_count": null,
   "metadata": {
    "editable": false,
    "run_control": {
     "frozen": false,
     "read_only": false
    }
   },
   "outputs": [],
   "source": [
    "dotObj_nfa(NFA23, visible_eps=True, nfaName=\"NFA23\")"
   ]
  },
  {
   "cell_type": "code",
   "execution_count": null,
   "metadata": {
    "run_control": {
     "frozen": false,
     "read_only": false
    }
   },
   "outputs": [],
   "source": [
    "dotObj_nfa(NFA23, visible_eps=False, nfaName=\"NFA23\")"
   ]
  },
  {
   "cell_type": "code",
   "execution_count": null,
   "metadata": {
    "editable": false,
    "run_control": {
     "frozen": false,
     "read_only": false
    }
   },
   "outputs": [],
   "source": [
    "n2DFA23 = nfa2dfa(NFA23)\n",
    "dotObj_dfa(n2DFA23, \"n2dNFA23\")"
   ]
  },
  {
   "cell_type": "code",
   "execution_count": null,
   "metadata": {
    "editable": false,
    "run_control": {
     "frozen": false,
     "read_only": false
    }
   },
   "outputs": [],
   "source": [
    "n2DFA61 = nfa2dfa(NFA_fig61ab)\n",
    "dotObj_dfa(n2DFA61, \"n2dNFA_fig61ab\")"
   ]
  },
  {
   "cell_type": "code",
   "execution_count": null,
   "metadata": {
    "editable": false,
    "run_control": {
     "frozen": false,
     "read_only": false
    }
   },
   "outputs": [],
   "source": [
    "dotObj_nfa(NFA_fig61ab,visible_eps=False,nfaName=\"NFA_fig61ab\")"
   ]
  },
  {
   "cell_type": "code",
   "execution_count": null,
   "metadata": {
    "run_control": {
     "frozen": false,
     "read_only": false
    }
   },
   "outputs": [],
   "source": [
    "dotObj_nfa(NFA_fig61ab,visible_eps=True,nfaName=\"NFA_fig61ab\")"
   ]
  },
  {
   "cell_type": "code",
   "execution_count": null,
   "metadata": {
    "run_control": {
     "frozen": false,
     "read_only": false
    }
   },
   "outputs": [],
   "source": [
    "dotObj_dfa(nfa2dfa(NFA_fig61ab), 'n1')"
   ]
  },
  {
   "cell_type": "markdown",
   "metadata": {
    "editable": false,
    "run_control": {
     "frozen": false,
     "read_only": false
    }
   },
   "source": [
    "# Brzozowski's DFA Minimization\n",
    "\n",
    "Picking up from our earlier discussions, to minimize a DFA using Brzozowski's algorithm, here are the steps:\n",
    "\n",
    "* Make sure that the given DFA has no unreachable states\n",
    "* Reverse the DFA\n",
    "* Determinize it\n",
    "* Reverse that DFA\n",
    "* Determinize it\n",
    "\n",
    "Thus we need to write a routine to reverse a DFA. We already have a way to ensure that a DFA does not have unreachable states (in another Jupyter notebook; we won't bother to include it here, and trust the user to always provide such DFA only).\n",
    "\n",
    "We can observe that if a DFA has black-hole states, then those states won't matter in the reversed machine (reversed NFA). Thus, we can work with __partial__ dfa (i.e., DFA that are partially consistent)."
   ]
  },
  {
   "cell_type": "markdown",
   "metadata": {
    "editable": false,
    "run_control": {
     "frozen": false,
     "read_only": false
    }
   },
   "source": [
    "## DFA reversal"
   ]
  },
  {
   "cell_type": "code",
   "execution_count": null,
   "metadata": {
    "run_control": {
     "frozen": false,
     "read_only": false
    }
   },
   "outputs": [],
   "source": [
    "def inSets(D,trg,ch):\n",
    "    \"\"\"In : D   = partially consistent dfa,\n",
    "            trg = a target state in D[\"q\"]\n",
    "            ch  = a member of D[\"Sigma\"]\n",
    "       Out: a set of states. { q s.t. Delta[q,ch] == trg }\n",
    "    \"\"\"\n",
    "    return { q for q in D[\"Q\"] if D[\"Delta\"][(q,ch)] == trg }\n",
    "\n",
    "def rev_dfa(D):\n",
    "    \"\"\"In : D = a partially consistent DFA without any unreachable states.\n",
    "       Out: A consistent NFA whose language is D's language reversed.\n",
    "    \"\"\"\n",
    "    # 1. Given that NFAs start from a SET of states, we already have that\n",
    "    #   info. No need to add any transitions from \"a new initial state\" \n",
    "    #   etc\n",
    "    \n",
    "    # 2. Now add the inSets of each state as the NFA next set of states\n",
    "    NDict = { (q,ch) : inSets(D,q,ch) \n",
    "              for q in D[\"Q\"] \n",
    "              for ch in D[\"Sigma\"] }\n",
    "    \n",
    "    # Notice that we retain D[\"Q\"] and start from Q0 = D[\"F\"]\n",
    "    # going backwards along NDict toward F_dfa = { D[\"q0\"] }\n",
    "    return mk_nfa(D[\"Q\"], D[\"Sigma\"], NDict, D[\"F\"], {D[\"q0\"]})"
   ]
  },
  {
   "cell_type": "code",
   "execution_count": null,
   "metadata": {
    "run_control": {
     "frozen": false,
     "read_only": false
    }
   },
   "outputs": [],
   "source": [
    "DFA34 = { 'Q': {'A', 'IF', 'B'},\n",
    "          'Sigma': {'0', '1'},\n",
    "          'Delta': { ('IF', '0'): 'A',\n",
    "                     ('IF', '1'): 'IF',\n",
    "                     ('A', '0'): 'B',\n",
    "                     ('A', '1'): 'A',\n",
    "                     ('B', '0'): 'IF',\n",
    "                     ('B', '1'): 'B' },\n",
    "          'q0': 'IF', \n",
    "          'F': {'IF'}   \n",
    "        }\n",
    "dotObj_dfa(DFA34, \"DFA34\")"
   ]
  },
  {
   "cell_type": "code",
   "execution_count": null,
   "metadata": {
    "editable": false,
    "run_control": {
     "frozen": false,
     "read_only": false
    }
   },
   "outputs": [],
   "source": [
    "DFA34_rev = rev_dfa(DFA34)\n",
    "dotObj_nfa(DFA34_rev, \"DFA34_rev\")"
   ]
  },
  {
   "cell_type": "code",
   "execution_count": null,
   "metadata": {
    "editable": false,
    "run_control": {
     "frozen": false,
     "read_only": false
    }
   },
   "outputs": [],
   "source": [
    "DFA34_rev_det = nfa2dfa(DFA34_rev)\n",
    "dotObj_dfa(DFA34_rev_det, \"DFA34_rev_det\")"
   ]
  },
  {
   "cell_type": "code",
   "execution_count": null,
   "metadata": {
    "editable": false,
    "run_control": {
     "frozen": false,
     "read_only": false
    }
   },
   "outputs": [],
   "source": [
    "DFA34_rev_det_rev = rev_dfa(DFA34_rev_det)\n",
    "dotObj_nfa(DFA34_rev_det_rev, \"DFA34_rev_det_rev\")"
   ]
  },
  {
   "cell_type": "code",
   "execution_count": null,
   "metadata": {
    "editable": false,
    "run_control": {
     "frozen": false,
     "read_only": false
    }
   },
   "outputs": [],
   "source": [
    "DFA34_rev_det_rev_det = nfa2dfa(DFA34_rev_det_rev)\n",
    "dotObj_dfa(DFA34_rev_det_rev_det, \"DFA34_rev_det_rev_det\")"
   ]
  },
  {
   "cell_type": "markdown",
   "metadata": {
    "editable": false,
    "run_control": {
     "frozen": false,
     "read_only": false
    }
   },
   "source": [
    "__TRY NEW EXAMPLE HERE__"
   ]
  },
  {
   "cell_type": "code",
   "execution_count": null,
   "metadata": {
    "editable": false,
    "run_control": {
     "frozen": false,
     "read_only": false
    }
   },
   "outputs": [],
   "source": [
    "dotObj_dfa(n2DFA23, \"n2DFA23\")"
   ]
  },
  {
   "cell_type": "code",
   "execution_count": null,
   "metadata": {
    "editable": false,
    "run_control": {
     "frozen": false,
     "read_only": false
    }
   },
   "outputs": [],
   "source": [
    "rev_n2DFA23 = rev_dfa(n2DFA23)\n",
    "dotObj_nfa(rev_n2DFA23, \"rev23\")"
   ]
  },
  {
   "cell_type": "code",
   "execution_count": null,
   "metadata": {
    "editable": false,
    "run_control": {
     "frozen": false,
     "read_only": false
    }
   },
   "outputs": [],
   "source": [
    "det_rev_n2DFA23 = nfa2dfa(rev_dfa(n2DFA23))\n",
    "dotObj_nfa(rev_n2DFA23, \"rev23\")"
   ]
  },
  {
   "cell_type": "code",
   "execution_count": null,
   "metadata": {
    "editable": false,
    "run_control": {
     "frozen": false,
     "read_only": false
    }
   },
   "outputs": [],
   "source": [
    "n2DFA23\n",
    "dotObj_dfa(nfa2dfa(rev_dfa(nfa2dfa(rev_dfa(n2DFA23)))), \"rdrd\")"
   ]
  },
  {
   "cell_type": "code",
   "execution_count": null,
   "metadata": {
    "editable": false,
    "run_control": {
     "frozen": false,
     "read_only": false
    }
   },
   "outputs": [],
   "source": [
    "D34bl = { 'Q': {'A', 'IF', 'B', 'A1', 'B1'},\n",
    "          'Sigma': {'0', '1'},\n",
    "          'Delta': { ('IF', '0'): 'A',\n",
    "                     ('IF', '1'): 'IF',\n",
    "                     ('A', '0'): 'B1',\n",
    "                     ('A', '1'): 'A1',\n",
    "                     ('A1', '0'): 'B',\n",
    "                     ('A1', '1'): 'A',\n",
    "                     ('B1', '0'): 'IF',\n",
    "                     ('B1', '1'): 'B',\n",
    "                     ('B','0') : 'IF',\n",
    "                     ('B', '1'): 'B1' },\n",
    "          'q0': 'IF', \n",
    "          'F': {'IF'}   \n",
    "        }\n",
    "\n",
    "dotObj_dfa(D34bl, \"D34bl\")"
   ]
  },
  {
   "cell_type": "code",
   "execution_count": null,
   "metadata": {
    "editable": false,
    "run_control": {
     "frozen": false,
     "read_only": false
    },
    "scrolled": true
   },
   "outputs": [],
   "source": [
    "dotObj_dfa(nfa2dfa(rev_dfa(nfa2dfa(rev_dfa(D34bl)))), \"D34bl_rdrd\")"
   ]
  },
  {
   "cell_type": "code",
   "execution_count": null,
   "metadata": {
    "run_control": {
     "frozen": false,
     "read_only": false
    }
   },
   "outputs": [],
   "source": [
    "def min_dfa_brz(D):\n",
    "    \"\"\"Minimize a DFA as per Brzozowski's algorithm.\n",
    "    \"\"\"\n",
    "    return nfa2dfa(rev_dfa(nfa2dfa(rev_dfa(D))))"
   ]
  },
  {
   "cell_type": "markdown",
   "metadata": {
    "collapsed": true,
    "editable": false,
    "run_control": {
     "frozen": false,
     "read_only": false
    }
   },
   "source": [
    "# Conclusions\n",
    "\n",
    "This notebook covered the basics of NFA including\n",
    "\n",
    "* (Summarize)\n",
    " \n",
    "(Add more concluding remarks)"
   ]
  },
  {
   "cell_type": "code",
   "execution_count": null,
   "metadata": {
    "run_control": {
     "frozen": false,
     "read_only": false
    }
   },
   "outputs": [],
   "source": []
  }
 ],
 "metadata": {
  "kernelspec": {
   "display_name": "Python 3",
   "language": "python",
   "name": "python3"
  },
  "language_info": {
   "codemirror_mode": {
    "name": "ipython",
    "version": 3
   },
   "file_extension": ".py",
   "mimetype": "text/x-python",
   "name": "python",
   "nbconvert_exporter": "python",
   "pygments_lexer": "ipython3",
   "version": "3.7.3"
  },
  "toc": {
   "colors": {
    "hover_highlight": "#DAA520",
    "running_highlight": "#FF0000",
    "selected_highlight": "#FFD700"
   },
   "moveMenuLeft": true,
   "nav_menu": {
    "height": "318px",
    "width": "252px"
   },
   "navigate_menu": true,
   "number_sections": true,
   "sideBar": true,
   "threshold": 4,
   "toc_cell": false,
   "toc_section_display": "block",
   "toc_window_display": false,
   "widenNotebook": false
  }
 },
 "nbformat": 4,
 "nbformat_minor": 1
}
