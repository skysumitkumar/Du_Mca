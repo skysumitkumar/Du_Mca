{
 "cells": [
  {
   "cell_type": "code",
   "execution_count": null,
   "metadata": {
    "run_control": {
     "frozen": false,
     "read_only": false
    }
   },
   "outputs": [],
   "source": [
    "#~~~~~~~~~~~~~~~~~~~~~~~~~~~~~~~~~~~~~~~~~~~~~~~~~~~~~~~\n",
    "import sys\n",
    "\n",
    "# -- Detect if in Own Install or in Colab\n",
    "try:\n",
    "    import google.colab\n",
    "    OWN_INSTALL = False\n",
    "except:\n",
    "    OWN_INSTALL = True\n",
    "    \n",
    "if OWN_INSTALL:\n",
    "    \n",
    "  #---- Leave these definitions ON if running on laptop\n",
    "  #---- Else turn OFF by putting them between ''' ... '''\n",
    "\n",
    "  sys.path[0:0] = ['../../../../..',  '../../../../../3rdparty',  \n",
    "                   '../../../..',  '../../../../3rdparty',  \n",
    "                   '../../..',     '../../../3rdparty', \n",
    "                   '../..',        '../../3rdparty',\n",
    "                   '..',           '../3rdparty' ]\n",
    "\n",
    "else: # In colab\n",
    "  ! if [ ! -d Jove ]; then git clone https://github.com/anon-Jove/Jove Jove; fi\n",
    "  sys.path.append('./Jove')\n",
    "  sys.path.append('./Jove/jove')\n",
    "\n",
    "# -- common imports --\n",
    "from jove.DotBashers          import *\n",
    "from jove.TransitionSelectors import *\n",
    "from jove.SystemImports       import *\n",
    "from jove.Def_md2mc           import * \n",
    "from jove.Def_DFA             import *\n",
    "from jove.Def_RE2NFA          import *\n",
    "from jove.Def_NFA             import *\n",
    "#~~~~~~~~~~~~~~~~~~~~~~~~~~~~~~~~~~~~~~~~~~~~~~~~~~~~~~~"
   ]
  },
  {
   "cell_type": "markdown",
   "metadata": {},
   "source": [
    "# Adding some tests for langeq_dfa being optimized"
   ]
  },
  {
   "cell_type": "code",
   "execution_count": null,
   "metadata": {},
   "outputs": [],
   "source": [
    "d1 = md2mc('''DFA IF: 0 -> S  S: 1 -> IF''')"
   ]
  },
  {
   "cell_type": "code",
   "execution_count": null,
   "metadata": {},
   "outputs": [],
   "source": [
    "dotObj_dfa_w_bh(d1)"
   ]
  },
  {
   "cell_type": "code",
   "execution_count": null,
   "metadata": {},
   "outputs": [],
   "source": [
    "d1t = totalize_dfa(d1)"
   ]
  },
  {
   "cell_type": "code",
   "execution_count": null,
   "metadata": {},
   "outputs": [],
   "source": [
    "re5 = \"(a+b)*a(a+b)(a+b)(a+b)(a+b)\"\n",
    "re6 = re5 + \"(a+b)\""
   ]
  },
  {
   "cell_type": "code",
   "execution_count": null,
   "metadata": {},
   "outputs": [],
   "source": [
    "re6"
   ]
  },
  {
   "cell_type": "code",
   "execution_count": null,
   "metadata": {},
   "outputs": [],
   "source": [
    "dfa5 = nfa2dfa(re2nfa(re5))"
   ]
  },
  {
   "cell_type": "code",
   "execution_count": null,
   "metadata": {},
   "outputs": [],
   "source": [
    "dfa6 = nfa2dfa(re2nfa(re6))"
   ]
  },
  {
   "cell_type": "code",
   "execution_count": null,
   "metadata": {},
   "outputs": [],
   "source": [
    "re7 = re6 + \"(a+b)\""
   ]
  },
  {
   "cell_type": "code",
   "execution_count": null,
   "metadata": {},
   "outputs": [],
   "source": [
    "dfa7 = nfa2dfa(re2nfa(re7))"
   ]
  },
  {
   "cell_type": "code",
   "execution_count": null,
   "metadata": {},
   "outputs": [],
   "source": []
  },
  {
   "cell_type": "code",
   "execution_count": null,
   "metadata": {},
   "outputs": [],
   "source": [
    "len(dfa5[\"Q\"])"
   ]
  },
  {
   "cell_type": "code",
   "execution_count": null,
   "metadata": {},
   "outputs": [],
   "source": [
    "len(dfa6[\"Q\"])"
   ]
  },
  {
   "cell_type": "code",
   "execution_count": null,
   "metadata": {},
   "outputs": [],
   "source": [
    "len(dfa7[\"Q\"])"
   ]
  },
  {
   "cell_type": "code",
   "execution_count": null,
   "metadata": {},
   "outputs": [],
   "source": [
    "langeq_dfa(dfa7, dfa7, gen_counterex=True)"
   ]
  },
  {
   "cell_type": "code",
   "execution_count": null,
   "metadata": {},
   "outputs": [],
   "source": [
    "dotObj_dfa_w_bh(d1t, FuseEdges=True)"
   ]
  },
  {
   "cell_type": "code",
   "execution_count": null,
   "metadata": {},
   "outputs": [],
   "source": [
    "help(run_dfa)"
   ]
  },
  {
   "cell_type": "code",
   "execution_count": null,
   "metadata": {},
   "outputs": [],
   "source": [
    "run_dfa(d1t, \"010101\")"
   ]
  },
  {
   "cell_type": "code",
   "execution_count": null,
   "metadata": {},
   "outputs": [],
   "source": [
    "accepts_dfa(d1t, \"010101\")"
   ]
  },
  {
   "cell_type": "code",
   "execution_count": null,
   "metadata": {},
   "outputs": [],
   "source": [
    "d2t = totalize_dfa(md2mc('''DFA I: 0 -> FS  FS: 1 -> I'''))"
   ]
  },
  {
   "cell_type": "code",
   "execution_count": null,
   "metadata": {},
   "outputs": [],
   "source": [
    "dotObj_dfa_w_bh(d2t, FuseEdges=True)"
   ]
  },
  {
   "cell_type": "markdown",
   "metadata": {},
   "source": [
    "# End of tests"
   ]
  },
  {
   "cell_type": "markdown",
   "metadata": {
    "run_control": {
     "frozen": false,
     "read_only": false
    }
   },
   "source": [
    "# Top-level functions in this module\n",
    "\n",
    "```\n",
    "This module contains the following functions that may be used in other modules to exercise concepts, compose functions, etc.\n",
    "Here are the argument types\n",
    "\n",
    "D     : DFA\n",
    "Q     : set of states \n",
    "q0    : initial state\n",
    "F     : Final set of states\n",
    "q     : state\n",
    "c     : character (symbol)\n",
    "s     : string\n",
    "Sigma : Alphabet (set)\n",
    "\n",
    "Here are the functions\n",
    " \n",
    "def mkp_dfa(Q, Sigma, Delta, q0, F):\n",
    "def mk_dfa(Q, Sigma, Delta, q0, F):\n",
    "def totalize_dfa(D):\n",
    "\n",
    "def step_dfa(Q, q, c):\n",
    "def run_dfa(D, s):\n",
    "def accepts_dfa(D, s):\n",
    "\n",
    "def comp_dfa(D):\n",
    "def union_dfa(D1, D2):\n",
    "def intersect_dfa(D1, D2):\n",
    "\n",
    "def iso_dfa(D1,D2):\n",
    "def langeq_dfa(D1,D2):\n",
    "\n",
    "def min_dfa(D, state_name_mode='succinct'):\n",
    "\n",
    "```"
   ]
  },
  {
   "cell_type": "markdown",
   "metadata": {
    "run_control": {
     "frozen": false,
     "read_only": false
    }
   },
   "source": [
    "# Chapter-3: Deterministic Finite Automata\n",
    "\n",
    "\n",
    "We begin our study of Deterministic Finite Automata. Please read the book. You *must* be doing two kinds of exercises:\n",
    "\n",
    "* Do exercises on paper. That is the math you need from this course. There is no short-cut to it.\n",
    "\n",
    "* Play with two tools, namely JFLAP and Sinap. The second tool is created by a team of SW Engg Lab Project students, namely Shayne Anderson, Daniel James, CJ Dimaano, and Dyllon Gagnier. They have contributed a _gem_ of a tool. But even gems need polish and development; hence your help in this matter will be greatly appreciated! The more you use Sinap, the more it will become better. \n",
    "\n",
    " - Sinap also provides JFLAP file converters, and so you can actually play with JFLAP and then move to Sinap.\n",
    "\n",
    "* Do the programming challenges (and play with the code) presented in this notebook (more exercises will be added). This programming part builds intuitions and helps knowledge stick. \n",
    "\n",
    "Notice that I recommend doing the math, playing with JFLAP/Sinap and then playing with the code in these notebooks. In reality, you must round-robin through these tasks.\n",
    "\n",
    "> You do not understand anything unless you have studied it in multiple ways _(John McCarthy)_\n"
   ]
  },
  {
   "cell_type": "markdown",
   "metadata": {
    "run_control": {
     "frozen": false,
     "read_only": false
    }
   },
   "source": [
    "# Coding Philosophy\n",
    "\n",
    "Clearly, the code in this book can be cast into an object-oriented style. We avoid doing so for these reasons:\n",
    "\n",
    "* We want to keep the barrier to entry as low as possible. In fact, we are extremely parsimonious in our use of Python constructs. \n",
    "\n",
    "* We prefer to modularize each concept into specific sections where we treat the math and code as being almost at the same level. We also want these Jupyter notes to resemble Knuth's \"literate programs\". More specifically,\n",
    "\n",
    "- In math, when you present DFA as a quintuple $(Q, \\Sigma, \\delta, q_0, F)$, you are not thinking OOP; rather, math prefers flat structures (for simple ideas that span a few pages). We want the code to resemble math written at this level. Hence the notion of bringing in another layer (namely objects) is felt un-necessary.\n",
    "\n",
    "- When math gets tedious, we _do_ need structuring. Leslie Lamport has written a paper \"How to write a formula\", explaining how long formulae need to be written as code. Thus, even math _may_ need structured programming principles at a certain higher level of complexity.  We feel that this subject matter hasn't reached that level of complexity, and hence \"math dictates modularization\", not code.\n",
    "\n",
    "* With discipline, one can write readable code. The volume of code we have in these notes is not high. For that level of complexity, a functional / recursive / higher-order style with short segments of code tesselating with math is a better approach than lead one's mind totally away from math by showing more features of Python.\n",
    "\n",
    "* By presenting my intellectual contribution of a large swath of _Models of Computation_ in this simple \"mathy-coding\" style, I am inviting others to prove me wrong and actually show that other modularization methods can work, too. I.e. this work is by no means the end of any story; it is just something I want to contribute and move on, hoping others will improve on my work far more!"
   ]
  },
  {
   "cell_type": "markdown",
   "metadata": {
    "run_control": {
     "frozen": false,
     "read_only": false
    }
   },
   "source": [
    "<span style=\"color:blue\"> **We begin defining DFA by providing its structure. ** </span>\n",
    "\n",
    "We will first set up a series of definitions ending at the mk_dfa function that helps build DFA. \n",
    "\n",
    "There are also two allied functions, namely mkp_dfa and totalize_dfa. mkp_dfa helps save labor by allowing you to specify just the main transitions you want in the DFA. Then typically one applies totalize_dfa which fills all the \"gaps\", sending the DFA to a \"black-hole\" state for those possibilities.  \n",
    "\n",
    "Once functions are set up, we will define step_dfa, run_dfa and accepts_dfa. \n",
    "\n",
    "We will also be defining functions for displaying DFA with the help of the _dot_ tool. The first function dot_dfa_w_bh shows the full DFA (including black-hole moves). Another function dot_dfa (which has a shorter name, and hence more inviting to employ frequently) suppresses these black-hole moves (that may be distractingly many, which can clutter the dot-generated view). In defining these dot converters, we will be sanitizing certain strings so that the dot tool can handle these edge labels.\n",
    "\n",
    "We will also provide dot_dfa_pdf and dot_dfa_w_bh_pdf that generates a PDF output.\n",
    "\n",
    "<span style=\"color:blue\"> **------** </span>\n",
    "\n",
    "A DFA is a quintuple $(Q,\\Sigma,\\delta,q_0,F)$, where:\n",
    "\n",
    "* $Q$ is a _finite nonempty_ set of states.\n",
    "\n",
    "* $\\Sigma$ is a _finite nonempty_ alphabet containing _symbols_.\n",
    "\n",
    "* $\\delta$ is a **total** \n",
    "\ttransition function, containing a set of _transitions_. The transitions take\n",
    "    a pair from $Q\\times \\Sigma$ and return a state in $Q$. All this is succinctly\n",
    "    captured by writing\n",
    "    $\\delta: Q\\times \\Sigma \\rightarrow Q$. \n",
    "    \n",
    "    - Note that in mathematics, one considers all functions to tbe **total** i.e., is defined everywhere in the domain. In programming (and computability theory), often functions are not total in this sense. We will be using the CS notion of partial functions and total functions early on, so that you don't have too many surprises later on (but we will remind you the math usage which always requires total functions)\n",
    "    \n",
    "  \n",
    "* $q_0\\in Q$, is _the_ initial state.\n",
    "\n",
    "* $F\\subseteq Q$ is a _finite_ (and _possibly empty_) set of\n",
    "\tfinal (or _accepting_) states. These are shown as double-circled nodes in the graph of a DFA. \n",
    " \n",
    "Some terminology:\n",
    "\n",
    "> We call $Q$,$\\Sigma$, $\\delta$, $q_0$, and $F$ the **_traits_** of the DFA.\n",
    "\n",
    "> We will call a DFA **_structurally consistent_** or simply **\"consistent\"** if its traits pass the aforesaid checks.\n",
    "\n",
    "> We will call a DFA **_partially consistent_** if it meets most of the structural consistency conditions, but may be supplied a _partial_ $\\delta$ function (which function totalize_dfa will be eager to make totally consistent). \n",
    "\n",
    "Specifically, partial consistency will include the following checks:\n",
    "\n",
    "* $Q$ is a _finite nonempty_ set of states.\n",
    "\n",
    "* $\\Sigma$ is a _finite nonempty_ alphabet containing _symbols_.\n",
    "\n",
    "* The supplied $\\delta$ function will be checked to see if it has allowed domain and range points. \n",
    " - The domain points must be a subset of $Q\\times \\Sigma$\n",
    " - The range points must be a subset of $Q$\n",
    "  We do no insist that the supplied $\\delta$ be total.\n",
    "    \n",
    "* $q_0\\in Q$, is _the_ initial state.\n",
    "\n",
    "* $F\\subseteq Q$ is a _finite_ (and _possibly empty_) set of\n",
    "\tfinal (or _accepting_) states.  \n",
    "    \n",
    "Also to maintain sanity with respect to our Python encoding, we assume that the user does not have a state called \"BH\" in their DFA, unless its Delta is already total. (BH will be used to denote black-hole states that we introduce.)"
   ]
  },
  {
   "cell_type": "markdown",
   "metadata": {
    "run_control": {
     "frozen": false,
     "read_only": false
    }
   },
   "source": [
    "<span style=\"color:blue\"> **Here is how we will represent a DFA in Python (taking Figure 3.4's example from the book). You can clearly see how the traits of the DFA are encoded. We prefer a Python dictionary, as it supports a number of convenient operations, and also one can add additional fields easily. ** </span>"
   ]
  },
  {
   "cell_type": "code",
   "execution_count": null,
   "metadata": {
    "code_folding": [],
    "run_control": {
     "frozen": false,
     "read_only": false
    }
   },
   "outputs": [],
   "source": [
    "DFA_fig34 = { 'Q': {'A', 'IF', 'B'},\n",
    "              'Sigma': {'0', '1'},\n",
    "              'Delta': { ('IF', '0'): 'A',\n",
    "                         ('IF', '1'): 'IF',\n",
    "                         ('A', '0'): 'B',\n",
    "                         ('A', '1'): 'A',\n",
    "                         ('B', '0'): 'IF',\n",
    "                         ('B', '1'): 'B' },\n",
    "              'q0': 'IF', \n",
    "              'F': {'IF'}   \n",
    "            }"
   ]
  },
  {
   "cell_type": "markdown",
   "metadata": {
    "run_control": {
     "frozen": false,
     "read_only": false
    }
   },
   "source": [
    "<span style=\"color:blue\"> \n",
    "**\n",
    "We will now introduce extractors for the transitions contained in Delta.\n",
    "** \n",
    "</span>\n",
    "* Since we use many pairs, we introduce **fst** and **snd** to extract those components\n",
    "* Since we employ functions encoded as key/value pairs, we introduce **fn_dom** and **fn_range** to extract those\n",
    "  - We return the range elements (fn_range)\n",
    "     as a list so that NFA routines can also use this function   \n",
    "     (NFA would want to return a set of sets, but that's not representable\n",
    "     in Python; now, with fn_range returning a list, we will end up gettin\n",
    "     a list of sets, which is fine in Python.)\n",
    "  - Bowing to uniformity, we will return a list for fn_dom also.\n",
    "* Since a function itself is a set of _transitions_, we also introduce the extractor **fn_trans**. The transitions go from fn_dom to fn_range.\n",
    "* Since the members of Delta are _transitions_, we introduce three extractors. Notice that transitions Tr are of the form ((trSrc,trSymb), trTrg) where from and to are states, and symb is a symbol belonging to $\\Sigma$. Here are the extractors:\n",
    "\n",
    " - **trSrc** that returns the source of a transition\n",
    " - **trSymb** that returns the symbol that labels the transition\n",
    " - **trTrg** that labels the target of the transition"
   ]
  },
  {
   "cell_type": "markdown",
   "metadata": {
    "run_control": {
     "frozen": false,
     "read_only": false
    }
   },
   "source": [
    "#### When we defined our DFA_fig34 (above), we just pasted the elements of the hash-table by hand. This approach has many problems: (1) mistakes are easily made (2) constraints on the DFA quintuple are not checked (3) we can't automate the generation of DFAs. To avoid these, we will now present three of the aforementioned functions, namely mk_dfa, mkp_dfa and totalize_dfa. Then we will provide the definitions of all supporting functions that these functions need."
   ]
  },
  {
   "cell_type": "markdown",
   "metadata": {
    "ExecuteTime": {
     "end_time": "2017-05-04T16:48:47.563840Z",
     "start_time": "2017-05-04T16:48:47.552840Z"
    },
    "code_folding": [],
    "run_control": {
     "frozen": false,
     "read_only": false
    }
   },
   "source": [
    "Note that the consistency checkers of DFA are in DotBashers.    "
   ]
  },
  {
   "cell_type": "code",
   "execution_count": null,
   "metadata": {
    "code_folding": [],
    "run_control": {
     "frozen": false,
     "read_only": false
    }
   },
   "outputs": [],
   "source": [
    "def mkp_dfa(Q, Sigma, Delta, q0, F):\n",
    "    \"\"\"In : Traits of a DFA\n",
    "       Out: A DFA\n",
    "       Check for partial consistency of the given DFA traits.\n",
    "       If the check passes, make and return a DFA with a partial \n",
    "       Delta.\n",
    "    \"\"\"\n",
    "    newDFA = {\"Q\":Q, \"Sigma\":Sigma, \"Delta\":Delta, \"q0\":q0, \"F\":F}\n",
    "    assert(\n",
    "        is_partially_consistent_dfa(newDFA)\n",
    "    ), \"DFA given to mkp_dfa is not partially consistent. Plz check its components.\"\n",
    "    return(newDFA)\n",
    "\n",
    "def mk_dfa(Q, Sigma, Delta, q0, F):\n",
    "    \"\"\"In : Traits of a DFA\n",
    "       Out: A DFA\n",
    "       Check for structural consistency of the given DFA traits.\n",
    "       If the check passes, make and return a DFA with a total \n",
    "       Delta.\n",
    "    \"\"\"\n",
    "    newDFA = {\"Q\":Q, \"Sigma\":Sigma, \"Delta\":Delta, \"q0\":q0, \"F\":F}\n",
    "    assert(\n",
    "        is_consistent_dfa(newDFA)\n",
    "    ), \"DFA given to mk_dfa is not consistent. Plz check its components.\"\n",
    "    return(newDFA)\n",
    "\n",
    "def totalize_dfa(D):\n",
    "    \"\"\"In : Partially consistent DFA\n",
    "       Out: A consistent DFA \n",
    "       Given a partially specified DFA, make it total by \n",
    "       transitioning to state BH wherever the incoming Delta \n",
    "       has gaps. The returned DFA is structurally consistent.\n",
    "    \"\"\"\n",
    "    assert(\n",
    "        is_partially_consistent_dfa(D)\n",
    "    ), \"DFA given to totalize_dfa is not partially consistent.\"\n",
    "    if set(fn_dom(D[\"Delta\"])) == set(product(D[\"Q\"], D[\"Sigma\"])):\n",
    "        # It is already total!\n",
    "        return D \n",
    "    else:        \n",
    "        # We must introduce a BH state of not already present\n",
    "        # and proceed from there\n",
    "        incoming_Delta = D[\"Delta\"].copy()\n",
    "    \n",
    "        # Gaps in incoming_Delta's transition function are sent\n",
    "        # to the BH (black-hole) state\n",
    "        gaps_in_Tr = { (q,c) : \"BH\" for q in D[\"Q\"] for c in D[\"Sigma\"] \n",
    "                       if (q,c) not in D[\"Delta\"] }\n",
    "    \n",
    "        # We are gonna add a new black-hole-state.\n",
    "        # It must curl back to itself for every symbol in Sigma\n",
    "        bh_self_absorbent_moves = { (\"BH\", c): \"BH\" for c in D[\"Sigma\"] }\n",
    "\n",
    "        # Fill the gaps in incoming_Delta\n",
    "        incoming_Delta.update( gaps_in_Tr )\n",
    "    \n",
    "        # Add in the moves where the black-hole state curls \n",
    "        # back to itself\n",
    "        incoming_Delta.update( bh_self_absorbent_moves )\n",
    "        \n",
    "        # All updates required are accomplished\n",
    "        finished_Delta = incoming_Delta\n",
    "    \n",
    "        # See that we update D[\"Q\"] with the \"BH\" (black-hole) \n",
    "        # state; also return the fixed-up incoming_Delta\n",
    "        return {\"Q\"    : D[\"Q\"] | { \"BH\" }, \n",
    "                \"Sigma\": D[\"Sigma\"],    \n",
    "                \"Delta\": finished_Delta,\n",
    "                \"q0\"   : D[\"q0\"],          \n",
    "                \"F\"    : D[\"F\"] }\n",
    "    \n"
   ]
  },
  {
   "cell_type": "markdown",
   "metadata": {
    "run_control": {
     "frozen": false,
     "read_only": false
    }
   },
   "source": [
    "# Routines to generate 'dot' graphs from DFA"
   ]
  },
  {
   "cell_type": "markdown",
   "metadata": {
    "run_control": {
     "frozen": false,
     "read_only": false
    }
   },
   "source": [
    "<span style=\"color:blue\"> **We can now write routines to print DFA using dot. The main routines are listed below.** </span>\n",
    "\n",
    "* dot_dfa_w_bh : lists all states of a DFA including black-hole states\n",
    "* dot_dfa      : lists all isNotBH states (see below for a defn), i.e. suppress black-holes\n",
    "     - Usually there are too many transitions to them and that clutters the view\n",
    "     "
   ]
  },
  {
   "cell_type": "markdown",
   "metadata": {
    "run_control": {
     "frozen": false,
     "read_only": false
    }
   },
   "source": [
    "======"
   ]
  },
  {
   "cell_type": "markdown",
   "metadata": {
    "collapsed": true,
    "run_control": {
     "frozen": false,
     "read_only": false
    }
   },
   "source": [
    "## Some Tests that were administered to debug the above code"
   ]
  },
  {
   "cell_type": "markdown",
   "metadata": {
    "run_control": {
     "frozen": false,
     "read_only": false
    }
   },
   "source": [
    "### Let us now administer some tests to mk_dfa, mkp_dfa and totalize_dfa\n",
    "\n",
    "1. If you totalize_dfa a structurally consistent DFA, you get back that same DFA (it is a no op).\n",
    "2. If you take a structurally consistent DFA, make it partial by dropping some of its mappings,  \n",
    "   and totalize it, you get a structurally consistent DFA.\n",
    "\n",
    "In general, it is good to think of axioms that must be obeyed and derive tests based on them."
   ]
  },
  {
   "cell_type": "code",
   "execution_count": null,
   "metadata": {
    "code_folding": [],
    "run_control": {
     "frozen": false,
     "read_only": false
    }
   },
   "outputs": [],
   "source": [
    "# Some tests pertaining to totalize_dfa, is_consistent_dfa, etc\n",
    "\n",
    "DFA_fig34 = { 'Q': {'A', 'IF', 'B'},\n",
    "              'Sigma': {'0', '1'},\n",
    "              'Delta': { ('IF', '0'): 'A',\n",
    "                         ('IF', '1'): 'IF',\n",
    "                         ('A', '0'): 'B',\n",
    "                         ('A', '1'): 'A',\n",
    "                         ('B', '0'): 'IF',\n",
    "                         ('B', '1'): 'B' },\n",
    "              'q0': 'IF', \n",
    "              'F': {'IF'}   \n",
    "            }\n",
    "\n",
    "def tests_dfa_consist():\n",
    "    \"\"\"Some tests wrt DFA routines.\n",
    "    \"\"\"\n",
    "    DFA_fig34_Q     = DFA_fig34[\"Q\"]\n",
    "    DFA_fig34_Sigma = DFA_fig34[\"Sigma\"]\n",
    "    randQ           = random.choice(list(DFA_fig34_Q))\n",
    "    randSym         = random.choice(list(DFA_fig34_Sigma))\n",
    "\n",
    "    DFA_fig34_deepcopy  = copy.deepcopy(DFA_fig34)\n",
    "\n",
    "    print('is_consistent_dfa(DFA_fig34) =', \n",
    "           is_consistent_dfa(DFA_fig34) )\n",
    "    print('Removing mapping for ' + \n",
    "          \"(\" + randQ + \",\" + randSym + \")\" + \n",
    "          \"from DFA_fig34_deepcopy\")\n",
    "    DFA_fig34_deepcopy[\"Delta\"].pop((randQ,randSym))\n",
    "    print('is_consistent_dfa(DFA_fig34_deepcopy) =', \n",
    "         is_consistent_dfa(DFA_fig34_deepcopy) )\n",
    "\n",
    "    totalized = totalize_dfa(DFA_fig34_deepcopy)\n",
    "    print ( 'is_consistent_dfa(totalized) =', \n",
    "          is_consistent_dfa(totalized) )\n",
    "\n",
    "    assert(totalized == totalize_dfa(totalized)) # Must pass  "
   ]
  },
  {
   "cell_type": "markdown",
   "metadata": {
    "run_control": {
     "frozen": false,
     "read_only": false
    }
   },
   "source": [
    "### Let us now administer some tests to print dot-strings generated.\n",
    "\n",
    "We will demonstrate two ways to print automata: \n",
    "\n",
    "1. First generate a dot string via dot_dfa or dot_dfa_w_bh\n",
    "   (calling the result \"dot_string\") \n",
    "   1. Then use the srcObj = Source(dot_string) call\n",
    "   2. Thereafter we can display the srcObj object directly into the browser\n",
    "   3. Or, one can also later convert the dot_string to svg or PDF\n",
    "2. OR, one can directly generate a dot object via the dotObj_dfa or dotObj_dfa_w_bh call\n",
    "   (calling the result \"dot_object\")\n",
    "   1. Then directly display the dot_object\n",
    "   2. There are conversions available for dot_object to other formats too"
   ]
  },
  {
   "cell_type": "code",
   "execution_count": null,
   "metadata": {
    "code_folding": [],
    "run_control": {
     "frozen": false,
     "read_only": false
    }
   },
   "outputs": [],
   "source": [
    "DFA_fig34 = { 'Q': {'A', 'IF', 'B'},\n",
    "              'Sigma': {'0', '1'},\n",
    "              'Delta': { ('IF', '0'): 'A',\n",
    "                         ('IF', '1'): 'IF',\n",
    "                         ('A', '0'): 'B',\n",
    "                         ('A', '1'): 'A',\n",
    "                         ('B', '0'): 'IF',\n",
    "                         ('B', '1'): 'B' },\n",
    "              'q0': 'IF', \n",
    "              'F': {'IF'}   \n",
    "            }\n",
    "\n",
    "def dfa_dot_tests():\n",
    "    \"\"\"Some dot-routine related tests.\n",
    "    \"\"\"\n",
    "    dot_string = dot_dfa(DFA_fig34)\n",
    "    dot_object1 = Source(dot_string)\n",
    "    return dot_object1.source"
   ]
  },
  {
   "cell_type": "code",
   "execution_count": null,
   "metadata": {
    "run_control": {
     "frozen": false,
     "read_only": false
    }
   },
   "outputs": [],
   "source": []
  },
  {
   "cell_type": "markdown",
   "metadata": {
    "run_control": {
     "frozen": false,
     "read_only": false
    }
   },
   "source": [
    "# Stepping and Running DFA\n",
    "\n",
    "Now that we've managed to define DFA, check for its consistency, and also learned how to produce drawings of its state transition diagram, we come to the core aspects of DFA, namely\n",
    "\n",
    "* How the state transition function $\\delta$ \"works\"\n",
    "  - captured in step_dfa\n",
    "\n",
    "* How to run a DFA on a string, thus obtaining the $\\hat{\\delta}$ function\n",
    "  - captured in run_dfa\n",
    "  \n",
    "* The check of whether a DFA accepts_dfa a string\n",
    "  - captured by the predicate accepts_dfa"
   ]
  },
  {
   "cell_type": "code",
   "execution_count": null,
   "metadata": {
    "code_folding": [],
    "run_control": {
     "frozen": false,
     "read_only": false
    }
   },
   "outputs": [],
   "source": [
    "def step_dfa(D, q, c):\n",
    "    \"\"\"In : D (consistent DFA)\n",
    "            q (state in D)\n",
    "            c (symbol in D's sigma)\n",
    "       Out: next state of q via c (state in D) \n",
    "    \"\"\"\n",
    "    assert(c in D[\"Sigma\"]), \"step_dfa given c not in Sigma.\"\n",
    "    assert(q in D[\"Q\"]), \"step_dfa given q not in Q.\"\n",
    "    return D[\"Delta\"][(q,c)]\n",
    "\n",
    "def run_dfa(D, s):\n",
    "    \"\"\"In : D (consistent DFA)\n",
    "            q (state in D)\n",
    "            s (string over D's sigma, including \"\")\n",
    "       Out: next state of q via s (state in D) \n",
    "    \"\"\"    \n",
    "    state = D[\"q0\"]\n",
    "    while s != \"\":\n",
    "        state = step_dfa(D, state, s[0])\n",
    "        s = s[1:]\n",
    "    return state\n",
    "\n",
    "def accepts_dfa(D, s):\n",
    "    \"\"\"In : D (consistent DFA)\n",
    "            s (string over D's sigma, including \"\")\n",
    "       Out: Boolean (if state after s-run is in D's final).\n",
    "    \"\"\"\n",
    "    return run_dfa(D, s) in D[\"F\"]\n"
   ]
  },
  {
   "cell_type": "markdown",
   "metadata": {
    "run_control": {
     "frozen": false,
     "read_only": false
    }
   },
   "source": [
    "## Let us test functions step_dfa, run_dfa, and accepts_dfa"
   ]
  },
  {
   "cell_type": "code",
   "execution_count": null,
   "metadata": {
    "code_folding": [],
    "run_control": {
     "frozen": false,
     "read_only": false
    }
   },
   "outputs": [],
   "source": [
    "# Some tests of step, run, etc.\n",
    "\n",
    "DFA_fig34 = { 'Q': {'A', 'IF', 'B'},\n",
    "              'Sigma': {'0', '1'},\n",
    "              'Delta': { ('IF', '0'): 'A',\n",
    "                         ('IF', '1'): 'IF',\n",
    "                         ('A', '0'): 'B',\n",
    "                         ('A', '1'): 'A',\n",
    "                         ('B', '0'): 'IF',\n",
    "                         ('B', '1'): 'B' },\n",
    "              'q0': 'IF', \n",
    "              'F': {'IF'}   \n",
    "            }\n",
    "\n",
    "def step_run_accepts_tests():\n",
    "    print(\"step_dfa(DFA_fig34, 'IF', '1') = \", \n",
    "          step_dfa(DFA_fig34, 'IF', '1'))\n",
    "    print(\"step_dfa(DFA_fig34, 'A', '0') = \", \n",
    "          step_dfa(DFA_fig34, 'A', '0'))\n",
    "\n",
    "    print(\"run_dfa(DFA_fig34, '101001') = \", \n",
    "          run_dfa(DFA_fig34, '101001'))\n",
    "    print(\"run_dfa(DFA_fig34, '101000') = \", \n",
    "          run_dfa(DFA_fig34, '101000'))\n",
    "\n",
    "    print(\"accepts_dfa(DFA_fig34, '101001') = \", \n",
    "          accepts_dfa(DFA_fig34, '101001')) \n",
    "    print(\"accepts_dfa(DFA_fig34, '101000') = \", \n",
    "          accepts_dfa(DFA_fig34, '101000')) "
   ]
  },
  {
   "cell_type": "code",
   "execution_count": null,
   "metadata": {
    "run_control": {
     "frozen": false,
     "read_only": false
    }
   },
   "outputs": [],
   "source": [
    "dotObj_dfa(DFA_fig34, \"DFA_fig34\")"
   ]
  },
  {
   "cell_type": "markdown",
   "metadata": {
    "run_control": {
     "frozen": false,
     "read_only": false
    }
   },
   "source": [
    " <span style=\"color:blue\"> **Ideally one likes to have an \"Recognizes a language\" test also, but we don't have enough machinery to specify \"a language\". Well one can specif \"a language\" through another DFA, but then we are asking about \"exactly the strings of the reference DFA D being accepted by the user-build DFA D1. I leave its implementation as an exercise, given that DFA union and complement are being defined.** </span>"
   ]
  },
  {
   "cell_type": "markdown",
   "metadata": {
    "run_control": {
     "frozen": false,
     "read_only": false
    }
   },
   "source": [
    "### The language of a DFA state\n",
    "\n",
    "Imagine you are a doctor walking around with a new type of stethoscope called the __language stethoscope__ (LScope). LScope can be applied to a given state of a DFA and you can listen to that state; you will then \"hear\" the language of that state!  Now if you take the DFA in Figure 3.4 (DFA_fig34 above), and apply LScope to the state IF, you will hear the language of the DFA (all strings that can start from IF and reach some final state). If you apply LScope to state A, you will hear a different language: its language is \"two zeros, followed by a multiple (zero or more) of three 0s (with 1s appearing anywhere). If you apply LScope to state B, its language can be \"heard as\" a single 0 followed by a multiple of three 0s, with 1s appearing arbitrarily anywhere.\n",
    "\n",
    "We will walk around with our __language stethoscope__ LScope a lot in this and future chapters, to explain things clearly. In fact, we will be using it to explain DFA minimization very soon."
   ]
  },
  {
   "cell_type": "markdown",
   "metadata": {
    "run_control": {
     "frozen": false,
     "read_only": false
    }
   },
   "source": [
    "## DFA complementation\n",
    "\n",
    "DFA complementation works by flipping the final and non-final states. We must check that the DFA is totalized before we embark on that, as the 'black-hole' state will now become 'white-hole' (a final state from which all symbols lead back to itself)."
   ]
  },
  {
   "cell_type": "code",
   "execution_count": null,
   "metadata": {
    "code_folding": [],
    "run_control": {
     "frozen": false,
     "read_only": false
    }
   },
   "outputs": [],
   "source": [
    "def comp_dfa(D):\n",
    "    \"\"\"In : D (DFA : partially consistent)\n",
    "       Out: Consistent DFA that is D's complement.\n",
    "       Before we begin, make D total. This is crucial, \n",
    "       as the black-hole states if any\n",
    "       become \"white-hole\" states in the complemented DFA \n",
    "       (i.e. really turn into accepting \n",
    "       states from which one can't get out).\n",
    "       Then flip the FINAL and NON-FINAL states.\n",
    "    \"\"\"\n",
    "    Dtot = totalize_dfa(D)\n",
    "    return mk_dfa(D[\"Q\"],D[\"Sigma\"],D[\"Delta\"],D[\"q0\"],D[\"Q\"]-D[\"F\"])\n"
   ]
  },
  {
   "cell_type": "code",
   "execution_count": null,
   "metadata": {
    "code_folding": [],
    "run_control": {
     "frozen": false,
     "read_only": false
    }
   },
   "outputs": [],
   "source": [
    "# Run a complementation test\n",
    "DFA_fig34_comp = comp_dfa(DFA_fig34)\n",
    "dotObj_dfa(DFA_fig34_comp, \"DFA_fig34_comp\")\n",
    "dotObj_dfa(DFA_fig34)\n",
    "dotObj_dfa(DFA_fig34_comp, \"DFA_fig34_comp\")"
   ]
  },
  {
   "cell_type": "markdown",
   "metadata": {
    "run_control": {
     "frozen": false,
     "read_only": false
    }
   },
   "source": [
    "## DFA Union\n",
    "\n",
    "DFA union has a straightforward definition as in the book. We march the DFAs in tandem. We accept if either DFA accepts_dfa."
   ]
  },
  {
   "cell_type": "code",
   "execution_count": null,
   "metadata": {
    "code_folding": [],
    "run_control": {
     "frozen": false,
     "read_only": false
    }
   },
   "outputs": [],
   "source": [
    "def union_dfa(D1in, D2in):\n",
    "    \"\"\"In : D1in (consistent DFA)\n",
    "            D2in (consistent DFA)\n",
    "       Out: DFA for language union of D1in, D2in (consistent DFA). \n",
    "    \"\"\"\n",
    "    assert(is_consistent_dfa(D1in)), \"Inconsist. DFA1 in union_dfa\"\n",
    "    assert(is_consistent_dfa(D2in)), \"Inconsist. DFA2 in union_dfa\"\n",
    "    if (D1in[\"Sigma\"] != D2in[\"Sigma\"]):\n",
    "        print(\"Union on DFA with different alphabets.\")\n",
    "        print(\"Making alphabets the same (taking unions).\")\n",
    "        Sigma = D1in[\"Sigma\"] | D2in[\"Sigma\"]\n",
    "        D1   = copy.deepcopy(D1in)\n",
    "        D2   = copy.deepcopy(D2in)\n",
    "        D1[\"Sigma\"] = Sigma\n",
    "        D2[\"Sigma\"] = Sigma\n",
    "        D1 = totalize_dfa(D1)\n",
    "        D2 = totalize_dfa(D2)\n",
    "    else:\n",
    "        D1 = totalize_dfa(D1in)\n",
    "        D2 = totalize_dfa(D2in)\n",
    "   \n",
    "    # The states can be anything in the cartesian product\n",
    "    Q     = set(product(D1[\"Q\"], D2[\"Q\"]))\n",
    "    \n",
    "    # Accept if one of the DFAs accepts\n",
    "    F     = (set(product(D1[\"F\"], D2[\"Q\"])) | \n",
    "             set(product(D1[\"Q\"], D2[\"F\"])))\n",
    "    \n",
    "    # Start a lock-step march from the respective q0\n",
    "    q0    = (D1[\"q0\"], D2[\"q0\"])\n",
    "    \n",
    "    # The transition function attempts to march both\n",
    "    # DFAs in lock-step per their own transition functions\n",
    "    Delta = { ((q1,q2),ch) : (q1p, q2p) \n",
    "               for q1 in D1[\"Q\"] for q1p in D1[\"Q\"] \n",
    "               for q2 in D2[\"Q\"] for q2p in D2[\"Q\"] \n",
    "               for ch in D1[\"Sigma\"] \n",
    "               if D1[\"Delta\"][(q1,ch)] == q1p and\n",
    "                  D2[\"Delta\"][(q2,ch)] == q2p }\n",
    "                                                          \n",
    "    return pruneUnreach(\n",
    "        mk_dfa(Q, D1[\"Sigma\"], Delta, q0, F))"
   ]
  },
  {
   "cell_type": "code",
   "execution_count": null,
   "metadata": {
    "run_control": {
     "frozen": false,
     "read_only": false
    }
   },
   "outputs": [],
   "source": [
    "def intersect_dfa(D1in, D2in):\n",
    "    \"\"\"In : D1in (consistent DFA)\n",
    "            D2in (consistent DFA)\n",
    "       Out: DFA for language intersection of D1in, D2in (consistent DFA). \n",
    "    \"\"\"\n",
    "    assert(is_consistent_dfa(D1in)), \"Inconsist. DFA1 in intersect_dfa\"\n",
    "    assert(is_consistent_dfa(D2in)), \"Inconsist. DFA2 in intersect_dfa\"\n",
    "    if (D1in[\"Sigma\"] != D2in[\"Sigma\"]):\n",
    "        print(\"Intersection on DFA with different alphabets.\")\n",
    "        print(\"Making alphabets the same (taking unions).\")\n",
    "        Sigma = D1in[\"Sigma\"] | D2in[\"Sigma\"]\n",
    "        D1   = copy.deepcopy(D1in)\n",
    "        D2   = copy.deepcopy(D2in)\n",
    "        D1[\"Sigma\"] = Sigma\n",
    "        D2[\"Sigma\"] = Sigma\n",
    "        D1 = totalize_dfa(D1)\n",
    "        D2 = totalize_dfa(D2)\n",
    "    else:\n",
    "        D1 = totalize_dfa(D1in)\n",
    "        D2 = totalize_dfa(D2in)\n",
    " \n",
    "    Q     = set(product(D1[\"Q\"], D2[\"Q\"]))\n",
    "    \n",
    "    # This is the only difference with the union:\n",
    "    # The final states are those when both DFA accept\n",
    "    F     = set(product(D1[\"F\"], D2[\"F\"]))\n",
    "           \n",
    "    q0    = (D1[\"q0\"], D2[\"q0\"])\n",
    "    Delta = { ((q1,q2),ch) : (q1p, q2p) \n",
    "               for q1 in D1[\"Q\"] for q1p in D1[\"Q\"] \n",
    "               for q2 in D2[\"Q\"] for q2p in D2[\"Q\"] \n",
    "               for ch in D1[\"Sigma\"] \n",
    "               if D1[\"Delta\"][(q1,ch)] == q1p and\n",
    "                  D2[\"Delta\"][(q2,ch)] == q2p }\n",
    "                                                          \n",
    "    return pruneUnreach(\n",
    "        mk_dfa(Q, D1[\"Sigma\"], Delta, q0, F))"
   ]
  },
  {
   "cell_type": "code",
   "execution_count": null,
   "metadata": {
    "run_control": {
     "frozen": false,
     "read_only": false
    }
   },
   "outputs": [],
   "source": [
    "dotObj_dfa(DFA_fig34_comp)"
   ]
  },
  {
   "cell_type": "markdown",
   "metadata": {
    "run_control": {
     "frozen": false,
     "read_only": false
    }
   },
   "source": [
    "The most surprising observation we can make is that the above diagram still represents a DFA!! A DFA can have isolated islands. While useless, the above meets ALL the consistency conditions of a DFA. \n",
    "\n",
    "However, it is annoying to have disconnected states. Clearly, they are totally redundant. We may also have reachable states that are redundant (are completely equivalent to an existing state). Both these types of redundancies can be eliminated through a suitable DFA minimization algorithm which will soon be discussed.\n",
    "\n",
    "Minimization is achieved in two phases:\n",
    "\n",
    "1. Eliminate unreachable states\n",
    "\n",
    "2. Merge language-equivalent and redundant states. More specifically, if you apply our __language stethoscope__ LScope (mentioned in an earlier cell) to two states A and B and \"hear\" the same language, you can merge these states.\n",
    "\n",
    "### Exercise for you:\n",
    "\n",
    "Write a more elaborate union_dfa that does not do an indiscriminate cartesian product. For instance, the state (A_IF) and also (B_IF) should not even have been generated if we had gone by the idea of \"reachable in K hops\". We can call this \"lock-step cartesian product\". That is\n",
    "\n",
    " * Situating a  DFA  and its complement in state IF, if we feed a $0$, they both go to their own states A.  \n",
    " \n",
    " * Thus, the state (IF_A) should not arise"
   ]
  },
  {
   "cell_type": "markdown",
   "metadata": {
    "run_control": {
     "frozen": false,
     "read_only": false
    }
   },
   "source": [
    "### Eliminating unreachable states\n",
    "\n",
    "Let us write the code for eliminating unreachable states. Function pruneUnreach(DFA) returns a new DFA with unreachable states in the input DFA removed (all transitions from them are also removed)."
   ]
  },
  {
   "cell_type": "code",
   "execution_count": null,
   "metadata": {
    "run_control": {
     "frozen": false,
     "read_only": false
    }
   },
   "outputs": [],
   "source": [
    "def pruneUnreach(D):\n",
    "    \"\"\"In : D (consistent DFA)\n",
    "       Out: Consistent DFA.\n",
    "       Given a consistent (and of course total) DFA D,\n",
    "       returns a new (consistent) DFA with unreachable \n",
    "       states in D removed. Transitions from each unreachable \n",
    "       state are also removed. Reachable states are those that\n",
    "       can be reached in |D[\"Q\"]| - 1 steps or less.\n",
    "    \"\"\"\n",
    "    Nsteps   = len(D[\"Q\"]) - 1 # Search this far\n",
    "    Frontier = set({D[\"q0\"]})  # BFS frontier\n",
    "    AccumF   = Frontier        # Used to accumulate Frontier changes\n",
    "    for n in range(Nsteps):\n",
    "        for q in Frontier:\n",
    "            for ch in D[\"Sigma\"]:\n",
    "                AccumF = AccumF | set({step_dfa(D, q, ch)})\n",
    "        Frontier = AccumF\n",
    "        \n",
    "    newQ     = Frontier\n",
    "    newF     = D[\"F\"] & Frontier\n",
    "    newDelta = dict({ ((q,ch),qp) \n",
    "                      for ((q,ch),qp) in fn_trans(D[\"Delta\"]) \n",
    "                      if q in Frontier })\n",
    "    return mk_dfa(Frontier, D[\"Sigma\"], newDelta, D[\"q0\"], newF)"
   ]
  },
  {
   "cell_type": "code",
   "execution_count": null,
   "metadata": {
    "run_control": {
     "frozen": false,
     "read_only": false
    }
   },
   "outputs": [],
   "source": [
    "# One more test\n",
    "du     = union_dfa(DFA_fig34, DFA_fig34_comp)\n",
    "dotObj_dfa(du, \"orig union\")\n",
    "pdu    = pruneUnreach(du)\n",
    "pdu\n",
    "pduObj = dotObj_dfa(pdu, \"union of 34 and comp\")\n",
    "pduObj\n",
    "\n"
   ]
  },
  {
   "cell_type": "markdown",
   "metadata": {
    "run_control": {
     "frozen": false,
     "read_only": false
    }
   },
   "source": [
    "# DFA Isomorphism\n",
    "\n",
    "This routine is handy to check whether two DFA are isomorphic. Given they are rooted at q0, the isomorphism-check is linear in the number of edges."
   ]
  },
  {
   "cell_type": "code",
   "execution_count": null,
   "metadata": {
    "run_control": {
     "frozen": false,
     "read_only": false
    }
   },
   "outputs": [],
   "source": [
    "def iso_dfa(D1,D2):\n",
    "    \"\"\"Given consistent and total DFAs D1 and D2,\n",
    "       check whether they are isomorphic. Two DFAs\n",
    "       are isomorphic if they have the same number\n",
    "       of states and are language-equivalent. (One would\n",
    "       then be able to match-up state for state and transition\n",
    "       for transition.)\n",
    "    \"\"\"\n",
    "    assert(is_consistent_dfa(D1)), \"Inconsist. DFA1 in iso_dfa\"\n",
    "    assert(is_consistent_dfa(D2)), \"Inconsist. DFA2 in iso_dfa\"\n",
    "    return (len(D1[\"Q\"]) == len(D2[\"Q\"]) and\n",
    "            langeq_dfa(D1, D2))"
   ]
  },
  {
   "cell_type": "code",
   "execution_count": null,
   "metadata": {
    "run_control": {
     "frozen": false,
     "read_only": false
    }
   },
   "outputs": [],
   "source": [
    "def langeq_dfa(D1, D2, gen_counterex=False):\n",
    "    \"\"\"Given consistent and total DFAs D1 and D2,\n",
    "       check whether they are language-equivalent. \n",
    "       gen_counterex is a flag that triggers the\n",
    "        printing of a counter-example showing the\n",
    "        pairs that were marched in tandem till a\n",
    "        difference was found.\n",
    "        \n",
    "       Two DFAs are language-equivalent if they \n",
    "       accept the same set of strings. We determine\n",
    "       this through a joint depth-first walk of the \n",
    "       two DFAs until we detect a difference (return\n",
    "       False then) or all pairs of states have been\n",
    "       visited (return True then).\n",
    "    \"\"\"\n",
    "    if D1[\"Sigma\"] != D2[\"Sigma\"]:\n",
    "        print(\"The DFA cannot be compared, as their\", end=\"\")\n",
    "        print(\" alphabets are different; namely:\")\n",
    "        print(\"Sigma1 = \", D1[\"Sigma\"])\n",
    "        print(\"Sigma2 = \", D2[\"Sigma\"])\n",
    "        return False\n",
    "    else:\n",
    "        (eqStatus, cex_path) = h_langeq_dfa(D1[\"q0\"], D1,\n",
    "                                            D2[\"q0\"], D2, \n",
    "                                            Visited=[])\n",
    "        if not eqStatus:\n",
    "            if gen_counterex:\n",
    "                print(\"The DFA are NOT language equivalent!\")\n",
    "                print(\"Path leading to counterexample is: \")\n",
    "                print(cex_path)\n",
    "        return eqStatus # True or False\n",
    "\n",
    "def same_status(q1, D1, q2, D2):\n",
    "    \"\"\"Check if q1,q2 are both accepting\n",
    "       or both non-accepting wrt D1,D2 resply.\n",
    "    \"\"\"\n",
    "    return (q1 in D1[\"F\"]) == (q2 in D2[\"F\"])\n",
    "\n",
    "def h_langeq_dfa(q1, D1, q2, D2, Visited):\n",
    "    \"\"\"Helper for langeq_dfa. \n",
    "       If (q1,q2) is in Visited, no screw-up so far, so\n",
    "        continue. Else if they agree in status, recursively\n",
    "        check for all reachable configurations (a DFS in\n",
    "        recursion). Else (if they differ in status),\n",
    "        then return (False, Visited) where the latter is\n",
    "        the counter-example trace.  \n",
    "    \"\"\"\n",
    "    if (q1,q2) in Visited:\n",
    "        return (True, Visited)\n",
    "    else:\n",
    "        extVisited = Visited + [(q1,q2)]\n",
    "        if not same_status(q1,D1,q2,D2):\n",
    "            return (False, extVisited)\n",
    "        else:\n",
    "            l_nxt_status = list(\n",
    "            map(lambda symb:\n",
    "                h_langeq_dfa(D1[\"Delta\"][(q1,symb)], D1,\n",
    "                             D2[\"Delta\"][(q2,symb)], D2,\n",
    "                             extVisited),\n",
    "                D1[\"Sigma\"]))\n",
    "            l_rejects = list(filter(lambda x: x[0]==False, l_nxt_status))\n",
    "            if l_rejects==[]:\n",
    "                return (True, extVisited)\n",
    "            else:\n",
    "                return l_rejects[0] # which is the first offending (status,cex)"
   ]
  },
  {
   "cell_type": "code",
   "execution_count": null,
   "metadata": {
    "code_folding": [],
    "run_control": {
     "frozen": false,
     "read_only": false
    }
   },
   "outputs": [],
   "source": [
    "D34 = {   'Q': {'A', 'IF', 'B'},\n",
    "          'Sigma': {'0', '1'},\n",
    "          'Delta': { ('IF', '0'): 'A',\n",
    "                     ('IF', '1'): 'IF',\n",
    "                     ('A', '0'): 'B',\n",
    "                     ('A', '1'): 'A',\n",
    "                     ('B', '0'): 'IF',\n",
    "                     ('B', '1'): 'B' },\n",
    "          'q0': 'IF', \n",
    "          'F': {'IF'}   \n",
    "        }\n",
    "\n",
    "D34bl = { 'Q': {'A', 'IF', 'B', 'A1', 'B1'},\n",
    "          'Sigma': {'0', '1'},\n",
    "          'Delta': { ('IF', '0'): 'A',\n",
    "                     ('IF', '1'): 'IF',\n",
    "                     ('A', '0'): 'B1',\n",
    "                     ('A', '1'): 'A1',\n",
    "                     ('A1', '0'): 'B',\n",
    "                     ('A1', '1'): 'A',\n",
    "                     ('B1', '0'): 'IF',\n",
    "                     ('B1', '1'): 'B',\n",
    "                     ('B','0') : 'IF',\n",
    "                     ('B', '1'): 'B1' },\n",
    "          'q0': 'IF', \n",
    "          'F': {'IF'}   \n",
    "        }\n",
    "\n",
    "\n",
    "d34 = dotObj_dfa(D34, \"D34\")\n",
    "d34 # Display it!"
   ]
  },
  {
   "cell_type": "code",
   "execution_count": null,
   "metadata": {
    "run_control": {
     "frozen": false,
     "read_only": false
    }
   },
   "outputs": [],
   "source": [
    "langeq_dfa(D34,D34bl,False)"
   ]
  },
  {
   "cell_type": "code",
   "execution_count": null,
   "metadata": {
    "run_control": {
     "frozen": false,
     "read_only": false
    }
   },
   "outputs": [],
   "source": [
    "iso_dfa(D34,D34bl)"
   ]
  },
  {
   "cell_type": "code",
   "execution_count": null,
   "metadata": {
    "run_control": {
     "frozen": false,
     "read_only": false
    }
   },
   "outputs": [],
   "source": [
    "DFA_fig34\n",
    "d34 = DFA_fig34\n",
    "d34"
   ]
  },
  {
   "cell_type": "code",
   "execution_count": null,
   "metadata": {
    "run_control": {
     "frozen": false,
     "read_only": false
    }
   },
   "outputs": [],
   "source": [
    "d34c = DFA_fig34_comp\n",
    "d34c"
   ]
  },
  {
   "cell_type": "code",
   "execution_count": null,
   "metadata": {
    "run_control": {
     "frozen": false,
     "read_only": false
    }
   },
   "outputs": [],
   "source": [
    "iso_dfa(d34,d34)"
   ]
  },
  {
   "cell_type": "code",
   "execution_count": null,
   "metadata": {
    "run_control": {
     "frozen": false,
     "read_only": false
    }
   },
   "outputs": [],
   "source": [
    "iso_dfa(d34,d34c)"
   ]
  },
  {
   "cell_type": "code",
   "execution_count": null,
   "metadata": {
    "run_control": {
     "frozen": false,
     "read_only": false
    }
   },
   "outputs": [],
   "source": [
    "d34v1 = {'Delta': {('A', '0'): 'B',\n",
    "  ('A', '1'): 'B',\n",
    "  ('B', '0'): 'IF',\n",
    "  ('B', '1'): 'B',\n",
    "  ('IF', '0'): 'A',\n",
    "  ('IF', '1'): 'IF'},\n",
    " 'F': {'IF'},\n",
    " 'Q': {'A', 'B', 'IF'},\n",
    " 'Sigma': {'0', '1'},\n",
    " 'q0': 'IF'}"
   ]
  },
  {
   "cell_type": "code",
   "execution_count": null,
   "metadata": {
    "run_control": {
     "frozen": false,
     "read_only": false
    }
   },
   "outputs": [],
   "source": [
    "dotObj_dfa(d34v1)"
   ]
  },
  {
   "cell_type": "code",
   "execution_count": null,
   "metadata": {
    "run_control": {
     "frozen": false,
     "read_only": false
    }
   },
   "outputs": [],
   "source": [
    "d34v2 = {'Delta': {('A', '0'): 'B',\n",
    "  ('A', '1'): 'B',\n",
    "  ('B', '0'): 'IF',\n",
    "  ('B', '1'): 'B',\n",
    "  ('IF', '0'): 'A',\n",
    "  ('IF', '1'): 'IF'},\n",
    " 'F': {'IF', 'B'},\n",
    " 'Q': {'A', 'B', 'IF'},\n",
    " 'Sigma': {'0', '1'},\n",
    " 'q0': 'IF'}"
   ]
  },
  {
   "cell_type": "code",
   "execution_count": null,
   "metadata": {
    "run_control": {
     "frozen": false,
     "read_only": false
    }
   },
   "outputs": [],
   "source": [
    "iso_dfa(d34,d34v1)"
   ]
  },
  {
   "cell_type": "code",
   "execution_count": null,
   "metadata": {
    "run_control": {
     "frozen": false,
     "read_only": false
    }
   },
   "outputs": [],
   "source": [
    "iso_dfa(d34,d34v2)"
   ]
  },
  {
   "cell_type": "code",
   "execution_count": null,
   "metadata": {
    "run_control": {
     "frozen": false,
     "read_only": false
    }
   },
   "outputs": [],
   "source": [
    "iso_dfa(d34v1,d34v2)"
   ]
  },
  {
   "cell_type": "code",
   "execution_count": null,
   "metadata": {
    "run_control": {
     "frozen": false,
     "read_only": false
    }
   },
   "outputs": [],
   "source": [
    "div1 = pruneUnreach(intersect_dfa(d34v1,d34v2))\n",
    "dotObj_dfa(div1)"
   ]
  },
  {
   "cell_type": "code",
   "execution_count": null,
   "metadata": {
    "run_control": {
     "frozen": false,
     "read_only": false
    }
   },
   "outputs": [],
   "source": [
    "div2 = pruneUnreach(union_dfa(d34v1,d34v2))\n",
    "dotObj_dfa(div2)"
   ]
  },
  {
   "cell_type": "code",
   "execution_count": null,
   "metadata": {
    "run_control": {
     "frozen": false,
     "read_only": false
    }
   },
   "outputs": [],
   "source": [
    "iso_dfa(div1,div2)"
   ]
  },
  {
   "cell_type": "code",
   "execution_count": null,
   "metadata": {
    "run_control": {
     "frozen": false,
     "read_only": false
    }
   },
   "outputs": [],
   "source": [
    "langeq_dfa(div1,div2,True)"
   ]
  },
  {
   "cell_type": "code",
   "execution_count": null,
   "metadata": {
    "run_control": {
     "frozen": false,
     "read_only": false
    }
   },
   "outputs": [],
   "source": [
    "d34bl = dotObj_dfa(D34bl, \"D34bl\")\n",
    "d34bl # Display it!"
   ]
  },
  {
   "cell_type": "code",
   "execution_count": null,
   "metadata": {
    "run_control": {
     "frozen": false,
     "read_only": false
    }
   },
   "outputs": [],
   "source": [
    "iso_dfa(D34,D34bl)"
   ]
  },
  {
   "cell_type": "code",
   "execution_count": null,
   "metadata": {
    "run_control": {
     "frozen": false,
     "read_only": false
    }
   },
   "outputs": [],
   "source": [
    "langeq_dfa(D34,D34bl)"
   ]
  },
  {
   "cell_type": "markdown",
   "metadata": {
    "collapsed": true,
    "run_control": {
     "frozen": false,
     "read_only": false
    }
   },
   "source": [
    "#### "
   ]
  },
  {
   "cell_type": "code",
   "execution_count": null,
   "metadata": {
    "run_control": {
     "frozen": false,
     "read_only": false
    }
   },
   "outputs": [],
   "source": [
    "du"
   ]
  },
  {
   "cell_type": "markdown",
   "metadata": {
    "run_control": {
     "frozen": false,
     "read_only": false
    }
   },
   "source": [
    "# DFA Minimization\n",
    "\n",
    "This is a good juncture at which to introduce DFA minimization. \n",
    "\n",
    "## Definition of DFA minimization\n",
    "\n",
    "We define minimization only for consistent DFA.\n",
    " \n",
    "> _A consistent DFA D is minimal if it satisfies two properties_\n",
    " \n",
    ">  1. There should not be any unreachable states (from the start state) in it\n",
    " \n",
    ">  2. For any pair of distinct states $(s_1,s_2)$ in $D$, we must not have the case that for all strings $s$ in $\\Sigma^*$, $\\hat{\\delta}(s_1,s) = \\hat{\\delta}(s_2,s)$.\n",
    "\n",
    "\n",
    "We don't want useless states and we don't want redundant states. For instance, let me make a redundant DFA with duplicate states, below. Then you can easily see how even bloated DFAs can recognize the same language. After seeing this fact, we will introduce you to a DFA minimization algorithm.\n",
    "\n",
    "First, let's learn how to deliberately bloat a DFA:"
   ]
  },
  {
   "cell_type": "markdown",
   "metadata": {
    "run_control": {
     "frozen": false,
     "read_only": false
    }
   },
   "source": [
    "## DFA minimization algorithm (high level)\n",
    "\n",
    "Having seen two examples of bloated DFA, we now define a minimization algorithm. Here is the gist. The actual algorithm is in the code that follows.\n",
    "\n",
    "1. Put the states into two equivalence classes (EC):\n",
    "\n",
    " a. All non-final states are in one EC, say NF\n",
    " b. All final states are in another EC, say F\n",
    " c. We call any (sa,sb) such that sa in NF and sb in F as **zero-distinguishable** states, as \n",
    "    a $\\varepsilon$ string can distinguish sa and sb (meaning, when sa is evolved through $\\varepsilon$ or $sb$ is evolved through $\\varepsilon$, the resulting state is the same -- sa or sb)\n",
    "    \n",
    "     * \"Evolved through\" means $\\hat{\\delta}(sa,\\varepsilon) = sa$, and similarly for sb\n",
    "     \n",
    "     * In our example DFA d34bl, IF is zero-distinguishable from all other states\n",
    " \n",
    "2. In general, we have $k$-distinguishable states for $k>0$ (above step discussed $k=0$ as zero-distinguishability)\n",
    "\n",
    "3. Split states:\n",
    " \n",
    " a. Take a state pair $(s_1,s_2)$ such that they are not $k$ distinguishable.\n",
    " b. Take $c\\in\\Sigma$\n",
    " c. If $\\delta(s_1,c) = sn_1$ and $\\delta(s_2,c) = sn_2$ and $(sn_1,sn_2)$ are $k$-distinguishable, mark $(s_1,s_2)$ as $k+1$-distinguishable. \n",
    " \n",
    "4. Repeat the above process till across one sweep, the distinguishability relation does not change.\n",
    "\n",
    "5. Take all maximal sets of pairs of states that have not been found distinguishable yet. Pick a representative from each such maximal set. These states are in the final DFA. \n",
    "\n",
    "6. Go by the state transitions of the representative states. (The remaining states in the equivalence classes are not necessary.)\n",
    "\n",
    "  * In our example, all pairs in $\\{A,A1\\} \\times \\{B,B1\\}$ will be 1-distinguishable (distinction made by $0$)\n",
    "  \n",
    "  * The final equivalence classes will be $\\{IF\\}$, and then $\\{A,A1\\}$, and $\\{B,B1\\}$.\n",
    "  \n",
    "\n",
    "<span style=\"color:blue\"> **Clearly, the above algorithm cannot make full sense till you see how it can be worked out \"by hand\" using some pictures. This is what we will now do before showing you the actual code.\n",
    "\n",
    "** </span>\n"
   ]
  },
  {
   "cell_type": "code",
   "execution_count": null,
   "metadata": {
    "run_control": {
     "frozen": false,
     "read_only": false
    }
   },
   "outputs": [],
   "source": [
    "dotObj_dfa(pruneUnreach(D34bl), \"D34bl\")"
   ]
  },
  {
   "cell_type": "markdown",
   "metadata": {
    "run_control": {
     "frozen": false,
     "read_only": false
    }
   },
   "source": [
    "## A fully worked-out example\n",
    "\n",
    "<font size=\"3\"> \n",
    "\n",
    "This is the initial display of a matrix (only the lower half shown, as the upper half is symmetric). The matrix shows \".\" which are points at which state pairs \"collide.\" The dots in this figure allow for these pairs to collide (we show pairs only one way, i.e. (P,Q) and not the other way i.e. (Q,P) also).\n",
    "\n",
    "</font>"
   ]
  },
  {
   "cell_type": "markdown",
   "metadata": {
    "run_control": {
     "frozen": false,
     "read_only": false
    }
   },
   "source": [
    "<font size=\"4\"> \n",
    "\n",
    "\n",
    "```\n",
    "\n",
    "A   .\n",
    "\n",
    "A1  .   .\n",
    "\n",
    "B   .   .   .\n",
    "\n",
    "B1  .   .   .   .\n",
    "\n",
    "    IF  A   A1  B\n",
    "    \n",
    "The above is a convenient arrangement to talk about these pairs:\n",
    "\n",
    "\n",
    "(A, IF),\n",
    "\n",
    "(A1, IF), (A1, A)\n",
    "\n",
    "(B, IF),  (B, A),  (B, A1)\n",
    "\n",
    "(B1, IF), (B1, A), (B1, A1), (B1, B)\n",
    "\n",
    "Now, here is how the computation proceeds for this example:\n",
    "===========================================================\n",
    "\n",
    "Frame-0              Frame-1                Frame-2                \n",
    " \n",
    "A   -1                A   0                  A   0                 \n",
    "\n",
    "A1  -1   -1           A1  0   -1             A1  0   -1            \n",
    " \n",
    "B   -1   -1  -1       B   0   -1   -1        B   0   1   1         \n",
    "\n",
    "B1  -1   -1  -1  -1   B1  0   -1   -1  -1    B1  0   1   1   -1    \n",
    "\n",
    "    IF   A   A1  B        IF  A    A1  B         IF  A   A1  B         \n",
    "    \n",
    "    \n",
    "Frame-3 = Frame-2   \n",
    "\n",
    "A   0 \n",
    "\n",
    "A1  0   -1\n",
    "\n",
    "B   0   1   1\n",
    "\n",
    "B1  0   1   1   -1\n",
    "\n",
    "    IF  A   A1  B   \n",
    "``` \n",
    "\n",
    "<br>\n",
    "<br>\n",
    "\n",
    "Let's see another example as well. We will explain the second \n",
    "example (we leave the above example wrt **D34bl** as something you can explain.\n",
    "\n",
    "</font>"
   ]
  },
  {
   "cell_type": "code",
   "execution_count": null,
   "metadata": {
    "run_control": {
     "frozen": false,
     "read_only": false
    }
   },
   "outputs": [],
   "source": [
    "### DFA minimization (another example)"
   ]
  },
  {
   "cell_type": "code",
   "execution_count": null,
   "metadata": {
    "code_folding": [],
    "run_control": {
     "frozen": false,
     "read_only": false
    }
   },
   "outputs": [],
   "source": [
    "Bloat1 = {'Q': {'S1', 'S3', 'S2', 'S5', 'S4', 'S6' },\n",
    "          'Sigma': {'b', 'a'},\n",
    "          'Delta': { ('S1','b') : 'S3',\n",
    "                     ('S1','a') : 'S2',\n",
    "                     ('S3','a') : 'S5',\n",
    "                     ('S2','a') : 'S4',\n",
    "                     ('S3','b') : 'S4',\n",
    "                     ('S2','b') : 'S5',\n",
    "                     ('S5','b') : 'S6',\n",
    "                     ('S5','a') : 'S6',\n",
    "                     ('S4','b') : 'S6',\n",
    "                     ('S4','a') : 'S6',\n",
    "                     ('S6','b') : 'S6',\n",
    "                     ('S6','a') : 'S6' },\n",
    "          'q0': 'S1', \n",
    "          'F': {'S2','S3','S6'}   \n",
    "        }\n",
    "\n",
    "\n",
    "Bloat1O = dotObj_dfa(Bloat1, \"Bloat1\")\n",
    "Bloat1O # Display it!"
   ]
  },
  {
   "cell_type": "markdown",
   "metadata": {
    "run_control": {
     "frozen": false,
     "read_only": false
    }
   },
   "source": [
    "\n",
    "Now, here is how the computation proceeds for this example:\n",
    "-------------------------------------------------------- \n",
    " \n",
    " <br>\n",
    " \n",
    "<font size=\"3\"> \n",
    "\n",
    "\n",
    "```\n",
    " \n",
    "Frame-0                  Frame-1                   Frame-2                    \n",
    "                                                                                                     \n",
    "S2  -1                   S2   0                    S2   0                     \n",
    "\n",
    "S3  -1  -1               S3   0  -1                S3   0  -1                 \n",
    "\n",
    "S4  -1  -1  -1           S4  -1   0   0            S4   2   0   0             \n",
    "\n",
    "S5  -1  -1  -1  -1       S5  -1   0   0  -1        S5   2   0   0  -1         \n",
    "\n",
    "S6  -1  -1  -1  -1  -1   S6   0  -1  -1   0   0    S6   0   1   1   0   0     \n",
    "\n",
    "    S1  S2  S3  S4  S5       S1  S2  S3  S4  S5        S1  S2  S3  S4  S5        \n",
    "\n",
    "Initial                  0-distinguishable         1-distinguishable                         \n",
    "     \n",
    "     \n",
    "Frame-3                 Frame-4     \n",
    "                        =\n",
    "                        Frame-3\n",
    "\n",
    "S2   0\n",
    "\n",
    "S3   0  -1\n",
    "\n",
    "S4   2   0   0\n",
    "\n",
    "S5   2   0   0  -1\n",
    "\n",
    "S6   0   1   1   0   0\n",
    "\n",
    "    S1  S2  S3  S4  S5\n",
    "    \n",
    "2-distinguishable \n",
    "     \n",
    "```\n",
    "</font>"
   ]
  },
  {
   "cell_type": "markdown",
   "metadata": {
    "run_control": {
     "frozen": false,
     "read_only": false
    }
   },
   "source": [
    "Here is the algorithm, going frame by frame.\n",
    "\n",
    "- Initial Frame: \n",
    "\n",
    "     The initial frame is drawn to clash all _combinations_ of states taken two at a time.\n",
    "     Since we have 6 states, we have $6\\choose 2$ = $15$ entries. We put a -1 against each\n",
    "     such pair to denote that they have not been found distinguishable yet.\n",
    "\n",
    "- Frame *0-distinguishable*: We now put a 0 where a pair of states is 0-distinguishable. This means the states are distinguisable after consuming $\\varepsilon$. This of course means that the states are themselves distinguishable. This is only possible if one is a final state and the other is not (in that case, one state, after consuming $\\varepsilon$ accepts_dfa, and another state after consuming $\\varepsilon$ does not accept.\n",
    "\n",
    "  - So for instance, notice that (S3,S1) and (S4,S2) are 0-distinguishable, meaning that one is a final and the other is a non-final state.\n",
    "\n",
    "- Frame *1-distinguishable*: We now put a 1 where a pair of states is 1-distinguishable. This means the states are distinguisable after consuming a string of length $1$ (a single symbol). This is only possible if one state transitions to a final state and the other transitions to a non-final state after consuming a member of $\\Sigma$. \n",
    "\n",
    "  State pairs (S6,S2) and (S6,S3) are of this kind. While both S6 and S2 are final states (hence _0-indistinguishable_), after consuming an 'a' (or a 'b') they respectively go to a final/non-final state.\n",
    " This means that\n",
    "\n",
    "  - after processing **the same symbol** one state -- let's say pre_p -- finds itself landing in a state p and another state  -- let's say pre_q -- finds itself landing in a state q such that (p,q) is 0-distinguishable.\n",
    "  \n",
    "  - When this happens, states pre-p and pre-q are **1-distinguishable**.\n",
    "\n",
    "- Frame *2-distinguishable*: We now put a 2 where a pair of states is 2-distinguishable. This means the states are distinguisable after consuming a string of length $2$ (a string of length $2$). This is only possible if one state transitions to a state (say p) and the other transitions to state (say q) after consuming a member of $\\Sigma$ such that (p,q) is **1-distinguishable**. State pairs (S5,S1) and (S4,S1) are 2-distinguishable because\n",
    "\n",
    "  - after processing **the same symbol** one state -- let's say pre_p -- finds itself landing in a state p and another state  -- let's say pre_q -- finds itself landing in a state q such that (p,q) is 0-distinguishable.\n",
    "  \n",
    "  - When this happens, states pre-p and pre-q are **1-distinguishable**.\n",
    "  \n",
    "  - One example is this:\n",
    "  \n",
    "    - S5 and S1 are 2-distinguishable.\n",
    "    \n",
    "    - This is because after seeing an 'aa', S1 lands in a non-final state while S5 lands in a final state\n",
    "    \n",
    "    - Observe that \"aa\" = \"a\" + \"a\" . Thus, after eating the first \"a\", S1 lands in S2 while S5 lands in S6, and (S2,S6) have already been deemed 1-distinguishable.\n",
    "    \n",
    "    - Thus, when we mark (S5,S1) as 2-distinguishable, we are sending the matrix entry at (S5,S2) from \n",
    "      -1 to 2\n",
    " \n",
    "\n",
    "\n",
    "  - Now, in search of 3-distinguishability, we catch hold of all pairs in the matrix and see if we can send another -1 entry to \"3\". This appears not to happen. \n",
    "  \n",
    "     - Thus, if (S2,S3) is pushed via any sequence of symbols (any string) of any length, it\n",
    "       always stays in the same type of state. Thus, after seeing 'ababba', S2 is in S6, while S3 \n",
    "        is also in S6.\n",
    "\n",
    "\n",
    " - Thus, given no changes in the matrix, we stop."
   ]
  },
  {
   "cell_type": "markdown",
   "metadata": {
    "run_control": {
     "frozen": false,
     "read_only": false
    }
   },
   "source": [
    "## Code for DFA minimization\n",
    "\n",
    "We now provide the code for DFA minimization, referring to the above narrative to keep us focused as to which part of the algorithm we are implementing."
   ]
  },
  {
   "cell_type": "markdown",
   "metadata": {
    "run_control": {
     "frozen": false,
     "read_only": false
    }
   },
   "source": [
    "### The heart of the algorithm is function fixptDist. This seeks the fixpoint (or \"fixed-point\") of the Dist (or Distinguishability) relation. Neat eh?\n",
    "\n",
    "A fixpoint of a function f is a value x such that f(x) = x. In our case, the functiion in question is one that take the entire matrix (frame) and tries to spit out the next matrix (frame). When we get a matrix m such that f(m) = m, the matrix has stabilized.\n",
    "\n",
    "In our case, we obtain a fixpoint of the function with respect to input value \"ht\" (hash-table) representing our matrix. We also pass along the DFA in question (\"D\") that is a read-only argument (to consult its transition function, etc).\n",
    "\n",
    "See how the code speaks for itself:\n",
    "\n",
    "* We set \"changed = True\" outside a while loop, and enter this loop \"while changed\".\n",
    "\n",
    "* We set changed = False, hoping to get out\n",
    "\n",
    "  - Any change-causing activity (n-distinguishability for some n) will set changed back to True\n",
    "  \n",
    "  - If not, we will \"get out of the jail\"\n",
    "  \n",
    "  - Termination is guaranteed. Why?\n",
    "    \n",
    "      * There are only a finite number of states\n",
    "      \n",
    "      * If we pump a long-enough string from a pair of states,\n",
    "      \n",
    "          - Clearly, it can try to meander, visiting fresh state pairs that are m-distinguishable for \n",
    "             an m <= n (those other state pairs and their distinguishability distance\n",
    "             were generated in an earlier pass or the current pass)\n",
    "             \n",
    "      * In short, for any pair of states (p,q), there is a maximal (loop-free) string s such that \n",
    "        $\\hat{\\delta}(p,s) \\in F$ while $\\hat{\\delta}(q,s)\\in (Q\\setminus F)$. This is the highest the \n",
    "        distinguishability number can get to.\n",
    "             \n",
    "           - If $s$ has a loop, there is a shorter string that establishes the distinguishability \n",
    "              number.\n",
    "         \n",
    "         "
   ]
  },
  {
   "cell_type": "markdown",
   "metadata": {
    "run_control": {
     "frozen": false,
     "read_only": false
    }
   },
   "source": [
    "We now go through all aspects of the code:\n",
    "\n",
    "* We first iterate across \"kv\" (key,value) pairs in ht.items(), i.e. we iterate through all \n",
    "  the matrix entries (pairs) which are recorded in \"ht\" (the hash table). The value recorded is the\n",
    "  distinguishability number.\n",
    "  \n",
    "* We obtain s0 and s1, the states that this hash-table entry is modeling.\n",
    "\n",
    "* We iterate across all $c\\in\\Sigma$\n",
    "\n",
    "* We obtain the next state after sending s0 and s1 via $c$\n",
    "\n",
    "* If we land in the same next state (ns0 == ns1), we continue (try to \"get out of the jail\" by not\n",
    "  resetting changed)\n",
    "  \n",
    "* If this is a visited pair (i.e. (ns0,ns1) in ht), then\n",
    "\n",
    "  - If one is \"-1\" while the other is >= 0  (meaning they are distinguishable states)\n",
    "     \n",
    "       - then we set changed = True, and continue, breaking this iteration of the \"for c\"\n",
    "       \n",
    "       - else we examine it as pair (ns1, ns0). This is because \"ht\" does not store both \n",
    "          (ns0,ns1) and (ns1,ns0). But we have to check both ways\n",
    "          \n",
    "       - we apply the same logic\n",
    "       \n",
    "* If we can find distinguishability, we increase the ht number\n",
    "\n",
    "* else we will get out of the loop!"
   ]
  },
  {
   "cell_type": "code",
   "execution_count": null,
   "metadata": {
    "code_folding": [],
    "run_control": {
     "frozen": false,
     "read_only": false
    }
   },
   "outputs": [],
   "source": [
    "def fixptDist(D, ht):\n",
    "    \"\"\"In : D (consistent DFA)\n",
    "            ht (hash-table of distinguishability pair distances)\n",
    "       Out: ht that has attained a fixpoint in distinguishability.\n",
    "       Helper (but main workhorse) for min_dfa.\n",
    "       Given an initial hash-table ht and a DFA D to be minimized,\n",
    "       determine the min. distinguishability distances, going frame \n",
    "       by frame, as illustrated in the DFA minimization algorithm. \n",
    "       Return fixpoint ht. Fixpoint is when ht ceases to change.\n",
    "    \"\"\"\n",
    "    changed = True\n",
    "    while changed:\n",
    "        changed = False\n",
    "        for kv in ht.items():\n",
    "            s0 = kv[0][0]\n",
    "            s1 = kv[0][1]\n",
    "            for c in D[\"Sigma\"]:\n",
    "                ns0 = D[\"Delta\"][(s0,c)]\n",
    "                ns1 = D[\"Delta\"][(s1,c)]\n",
    "                #\n",
    "                # Distinguishable state pairs carry \n",
    "                # \"distinguishability distance\" in the ht\n",
    "                if ns0 == ns1:\n",
    "                    continue\n",
    "                if (ns0, ns1) in ht:\n",
    "                    # s0,s1 are distinguishable\n",
    "                    if ht[(s0,s1)] == -1 and ht[(ns0, ns1)] >= 0: \n",
    "                        # acquire one more than the\n",
    "                        # dist. number of (ns0,ns1)\n",
    "                        ht[(s0,s1)] = ht[(ns0, ns1)] + 1          \n",
    "                        changed = True                            \n",
    "                        break\n",
    "                else:\n",
    "                    # ht stores only (ns0,ns1); \n",
    "                    # so check the other way\n",
    "                    if (ns1, ns0) in ht:                              \n",
    "                        if ht[(s0,s1)] == -1 and ht[(ns1, ns0)] >= 0:  \n",
    "                            ht[(s0,s1)] = ht[(ns1, ns0)] + 1           \n",
    "                            changed = True                             \n",
    "                            break                                      \n",
    "                    else:                                              \n",
    "                        print(\"ht doesn't cover all reqd state combos.\")\n",
    "    return ht"
   ]
  },
  {
   "cell_type": "code",
   "execution_count": null,
   "metadata": {
    "run_control": {
     "frozen": false,
     "read_only": false
    }
   },
   "outputs": [],
   "source": [
    "def min_dfa(D, state_name_mode='succinct'):  # Default state mode\n",
    "    \"\"\"In : D (consistent DFA to be minimized)\n",
    "       Out: Minimized version of D.\n",
    "       The top-level callable DFA minimizer.\n",
    "       Given a DFA D, go through the state minimization algorithm.\n",
    "       state_name_mode is 'verbose' or 'succinct', producing two \n",
    "       variants, as you can guess.\n",
    "       If the state_name_mode is verbose, we will make state names\n",
    "       by stringing together the state names in the equivalence\n",
    "       classes. Else we keep the name of the representative of \n",
    "       eqch equivalence class.\n",
    "    \"\"\"\n",
    "    if (len(D[\"Q\"]) == 1): # Already minimal\n",
    "        return D\n",
    "    else:\n",
    "        # Build a dict of all state combinations of DFA.\n",
    "        # Function state_combos also imparts a -1 for each state pair,\n",
    "        # initializing the separation distance at -1.  \n",
    "        ht = dict(state_combos(list(D[\"Q\"])))\n",
    "    \n",
    "        # Mark final and non-final states to be 0-distinguishable.\n",
    "        # This is achieved by putting a 0 against those state pairs.\n",
    "        sepFinNonFin(D, ht)\n",
    "    \n",
    "        # Main fixpoint computation: Assigning distinguishability dist. \n",
    "        #==============================================================\n",
    "        ht = fixptDist(D, ht)\n",
    "    \n",
    "        # Pick out equivalent state-pairs, i.e. those that cannot be \n",
    "        # distinguished. These are still with a \"-1\" in ht.\n",
    "        ht_1 = [ stpair for (stpair, dist) in ht.items() if dist == -1 ]\n",
    "    \n",
    "        # Now form equivalence classes\n",
    "        # what's returned is \n",
    "        # [(rep_1, [all_eql_states_1]), (rep_2, [all_eql_states_2]),...]\n",
    "        # which includes all equivalence classes of size 2 or more.\n",
    "        rep_eqc = bash_eql_classes(ht_1)\n",
    "\n",
    "        # Now we have to deal with singleton equivalence classes. \n",
    "        # These sit unmerged, OUTSIDE OF ALL (x,y) in ht_1\n",
    "        # i.e. all the entries in ht_1 are PARTNERED STATE PAIRS.  \n",
    "    \n",
    "        # If we now take D[\"Q\"] and subtract from it all those x and y\n",
    "        # which are present in some pair in ht_1, we obtain completely\n",
    "        # non-mergable states. These are states in their own eql. classes.\n",
    "    \n",
    "        # 1. Find all partnered states from ht_1\n",
    "        Partnered_states = list({x for (x,y) in ht_1} |\n",
    "                                {y for (x,y) in ht_1})\n",
    "    \n",
    "        # 2. Now who is left un-partnered?\n",
    "        List_of_self_only_eqlt_states = listminus(D[\"Q\"], Partnered_states)                     \n",
    "    \n",
    "        # 3. For these singletons, i.e. \"self-only equivalent states\", \n",
    "        # they are self-representative. Form pairs that indicate this fact.\n",
    "        rep_eqc_1 = [(x, [x]) for x in List_of_self_only_eqlt_states]\n",
    "    \n",
    "        # 4. OK now, we can combine the set of pairs where each pair is \n",
    "        # (representative, [the list of equivalent states])\n",
    "        # So finally we get the list of equivalence classes with \n",
    "        # representatives  which is of this form:\n",
    "        # [(a0,[a0, a1, a2, a3, a4]), (b0,[b0, b1]), (c0,[c0]), ...] \n",
    "        final_rep_eqc = rep_eqc + rep_eqc_1\n",
    "    \n",
    "        # We are now ready to build a DFA out of final_rep_eqc. \n",
    "        # =====================================================\n",
    "    \n",
    "        # 1. First, form the set of minimized states, which are \n",
    "        # state representatives.\n",
    "        minQ = {x for (x,y) in final_rep_eqc}\n",
    "    \n",
    "        # 2. The Alpbahet remains the same.\n",
    "        minSigma = D[\"Sigma\"]\n",
    "    \n",
    "        # 3. The starting state is the representative of D[\"q0\"]\n",
    "        minq0 = q0_of(D[\"q0\"], final_rep_eqc)\n",
    "    \n",
    "        # 4. The final states are the representatives of the original\n",
    "        #    final states. This is computed by helper F_of.\n",
    "        minF = F_of(D[\"F\"], final_rep_eqc)\n",
    "    \n",
    "        # 5. The transition relation of the minimized DFA is obtained\n",
    "        #    by the helper Delta_of\n",
    "        minDelta = Delta_of(D[\"Delta\"], final_rep_eqc)\n",
    "    \n",
    "        # 6. We now need to rename the states if the user wants verbose \n",
    "        #    names (default is succinct). Verbose names are the name of \n",
    "        #    states in each equivalence class strung together sep by \"_\".\n",
    "        if state_name_mode == 'verbose':\n",
    "            # First build a state-renaming hash-table involving \n",
    "            # mk_state_eqc_name\n",
    "            state_rename_ht = { x : mk_state_eqc_name(y) \n",
    "                                for (x,y) in final_rep_eqc }\n",
    "        \n",
    "            minQ            = { state_rename_ht[x] for x in minQ }\n",
    "            minq0           = state_rename_ht[minq0]\n",
    "            minF            = { state_rename_ht[f] for f in minF }\n",
    "            minDelta = { (state_rename_ht[x], y) : state_rename_ht[z] \n",
    "                         for ((x,y),z) in minDelta.items() }\n",
    "        #\n",
    "        # Return the finished (minimized) DFA!\n",
    "        return mk_dfa(minQ, minSigma, minDelta, minq0, minF)"
   ]
  },
  {
   "cell_type": "code",
   "execution_count": null,
   "metadata": {
    "run_control": {
     "frozen": false,
     "read_only": false
    }
   },
   "outputs": [],
   "source": [
    "def pairFR(L):\n",
    "    \"\"\"In : L (list of states)\n",
    "       Out: List of pairs with L[0] paired with each state in L[1:],\n",
    "            with the distinguishability distance initialized to -1.\n",
    "       Helper for generating state_combos.\n",
    "    \"\"\"\n",
    "    return list(map(lambda x: ((L[0], x), -1), L[1:]))"
   ]
  },
  {
   "cell_type": "code",
   "execution_count": null,
   "metadata": {
    "run_control": {
     "frozen": false,
     "read_only": false
    }
   },
   "outputs": [],
   "source": [
    "def state_combos(L):\n",
    "    \"\"\"In : L (list of states)\n",
    "       Out: List of combinations of L's states (rep. as pairs),\n",
    "            with distinguishability distances marked as -1. \n",
    "       Helper for min_dfa.\n",
    "       Given a list of DFA states L (assume length >= 2),\n",
    "       Form state combinations, paired up as (L[i], L[i+1]).\n",
    "       This forms the 'ht' that is acted upon by fixptDist.\n",
    "    \"\"\"\n",
    "    if len(L) <= 2:\n",
    "        return([((L[0], L[1]), -1)])\n",
    "    else:\n",
    "        return (pairFR(L)) + (state_combos(L[1:]))"
   ]
  },
  {
   "cell_type": "code",
   "execution_count": null,
   "metadata": {
    "run_control": {
     "frozen": false,
     "read_only": false
    }
   },
   "outputs": [],
   "source": [
    "def sepFinNonFin(D, ht):\n",
    "    \"\"\"In : D (consistent DFA)\n",
    "            ht (hash table of distinguishability distances)\n",
    "       Out: ht with (nonfinal,final) pairs in ht\n",
    "            marked with a distinguishability distance of 0.\n",
    "       Helper for min_dfa.\n",
    "       Given a hash-table of separation distances and a DFA D,\n",
    "       mark each state pair (final,non-final) with value 0\n",
    "       indicating their 0-distinguishability.\n",
    "    \"\"\"\n",
    "    # Form a separation predicate \n",
    "    sepPred = lambda x,y: (x in D[\"F\"] and y in (D[\"Q\"] - D[\"F\"]) or \n",
    "                           y in D[\"F\"] and x in (D[\"Q\"] - D[\"F\"]))\n",
    "                         \n",
    "    # Now separate all states where sepPred holds\n",
    "    for kv in ht.items():\n",
    "        if sepPred(kv[0][0], kv[0][1]):\n",
    "            # Mark that this pair is 0-distinguishable\n",
    "            ht[kv[0]] = 0"
   ]
  },
  {
   "cell_type": "code",
   "execution_count": null,
   "metadata": {
    "run_control": {
     "frozen": false,
     "read_only": false
    }
   },
   "outputs": [],
   "source": [
    "def bash_eql_classes(eql_reln):\n",
    "    \"\"\"In : eql_reln (equivalence relation : list of pairs of states).\n",
    "       Out: List of equivalence classes with representatives.\n",
    "            I.e. a structure of the form\n",
    "            [ (state0, [state0, state1, state2,]), ... ]\n",
    "            where state0 is a representative for the three (for example)\n",
    "            equivalent states state0, state1, state2. There are as many\n",
    "            such pairs as equivalence classes.\n",
    "       Helper for min_dfa.\n",
    "       Given an Eql. reln. of the form \n",
    "       [(a,b),(a,c),(d,e),(f,h),(g,f),..].\n",
    "       1. Grow eql classes \n",
    "       2. Elect a representative for each eql class\n",
    "       3. Return \"equivalence classes with representatives.\"\n",
    "       This is a structure of the form\n",
    "        [(a0,[a0, a1, a2, a3, a4]), (b0,[b0, b1]), (c0,[c0]), ...] \n",
    "       where \"a0\" is a state and a0,a1,a2,a3,a4 are equivalent to it\n",
    "       The same goes for the bs, cs, etc.\n",
    "    \"\"\"\n",
    "    return bash_1(eql_reln, []) # seed with empty list of eql class sets."
   ]
  },
  {
   "cell_type": "code",
   "execution_count": null,
   "metadata": {
    "run_control": {
     "frozen": false,
     "read_only": false
    }
   },
   "outputs": [],
   "source": [
    "def listminus(L1, L2):\n",
    "    \"\"\"In : L1 : list or set\n",
    "            L2 : list or set\n",
    "       Out: List of items in L1 that are not in L2.\n",
    "       Helper for min_dfa and bash_1. Implements subtraction (L1 - L2).\n",
    "    \"\"\"\n",
    "    return [x for x in L1 if x not in L2]"
   ]
  },
  {
   "cell_type": "code",
   "execution_count": null,
   "metadata": {
    "run_control": {
     "frozen": false,
     "read_only": false
    }
   },
   "outputs": [],
   "source": [
    "def bash_1(eql_reln, L_eq_classes):\n",
    "    \"\"\"In : eql_reln (equivalence relation : list of pairs of eqlt states)\n",
    "            L_eq_classes (list of eql classes which are SETS of states \n",
    "            for now.)\n",
    "       Out: return list of equivalence classes with representatives.\n",
    "       Helper for bash_eql_classes. \n",
    "       1) eql_reln is the current equivalence relation \n",
    "          (list of pairs)\n",
    "       2) L_eq_classes is a list of sets that are the eqlt \n",
    "          classes coalesced thus far.\n",
    "       3) We remove one pair at a time from the eql_reln and find\n",
    "          existing equivalence classes to expand, thus modifying\n",
    "          L_eq_classes each time. \n",
    "       Once the equivalence relation is emptied, we call mk_rep_eqc\n",
    "       thus making a list of equivalence classes with representatives\n",
    "       of the form \n",
    "       [(a0,[a0, a1, a2, a3, a4]), (b0,[b0, b1]), (c0,[c0]), ...]. \n",
    "    \"\"\"\n",
    "    if eql_reln == []:\n",
    "        # When we have fully processed the given equivalence \n",
    "        # relation, return a list of equivalence classes with \n",
    "        # representatives of the form \n",
    "        # [(a0,[a0, a1, a2, a3, a4]), (b0,[b0, b1]), (c0,[c0]), ...]\n",
    "        return mk_rep_eqc(L_eq_classes)\n",
    "    else:\n",
    "        # pick the next pair from the eql_reln being coalesced\n",
    "        eq0 = eql_reln[0]   \n",
    "        a = eq0[0]          \n",
    "        b = eq0[1]   \n",
    "        \n",
    "        # We know that a is a state that is equivalent to b, since\n",
    "        # they exist as a pair in eql_reln[0].\n",
    "        \n",
    "        # Now we must see if 'a' already lives in a COALESCED \n",
    "        # equivalence class\n",
    "   \n",
    "        # Set Sa is a typical equivalence class in L_eq_classes\n",
    "        # See if 'a' is in Sa.\n",
    "        \n",
    "        SaL = [Sa for Sa in L_eq_classes if a in Sa]\n",
    "        \n",
    "        # There must be zero or one such set as Sa. \n",
    "        # Thus, |SaL| = 0 or 1\n",
    "        \n",
    "        # Similarly, see which (if any) eql class that b lives in\n",
    "        SbL = [Sb for Sb in L_eq_classes if b in Sb]  \n",
    "        \n",
    "        # Now there are four cases:\n",
    "        \n",
    "        # 1. a,b pair is totally new (not in any eql. class so far)\n",
    "        if (SaL == [] and SbL == []):\n",
    "            # Add a fresh eql class {a,b} to L_eq_classes and recurse\n",
    "            return bash_1(eql_reln[1:], [{a,b}] + L_eq_classes)\n",
    "        \n",
    "        # 2. a is in eql class SaL[0] while b is not in any eql class\n",
    "        elif (SbL == [] and not(SaL == [])):\n",
    "            # Remove the little eql. class in which 'a' sits\n",
    "            # replace by a bigger eql. class that now also includes 'b'. \n",
    "            # That is, we must invite 'b' into the same eql class \n",
    "            # in which 'a' sits (this being SaL[0]).\n",
    "            \n",
    "            # Then we take away the eql class that 'a' sits in from \n",
    "            # L_eq_classes, and of course replace it with an expanded \n",
    "            # version that includes b\n",
    "            New_L_eq_classes = (listminus(L_eq_classes, SaL) +\n",
    "                                [SaL[0] | {b}])\n",
    "            \n",
    "            return bash_1(eql_reln[1:], New_L_eq_classes)\n",
    "        \n",
    "        # 3. b is in eql class SbL[0] while a is not in any eql class\n",
    "        elif (SaL == [] and not(SbL == [])):\n",
    "            # Similar steps as above, with 'a' being invited in.\n",
    "            \n",
    "            New_L_eq_classes = (listminus(L_eq_classes, SbL) +\n",
    "                                [SbL[0] | {a}])\n",
    "            \n",
    "            return bash_1(eql_reln[1:], New_L_eq_classes)\n",
    "        \n",
    "        else:\n",
    "            # a and b are both in their own little eql. classes\n",
    "            # We must now collapse both the eql classes into a huge one\n",
    "            # Remove both little pre-existing eql. classes. Replace \n",
    "            # with union-ed one. Neither 'a' nor 'b' is being invited in\n",
    "            # afresh; rather, the eql classes they are in \n",
    "            # (i.e. SaL[0],SbL[0]) are being merged.\n",
    "            \n",
    "            New_L_eq_classes = (listminus(L_eq_classes,SaL+SbL) + \n",
    "                                [SaL[0] | SbL[0]])\n",
    "            \n",
    "            return bash_1(eql_reln[1:], New_L_eq_classes)"
   ]
  },
  {
   "cell_type": "code",
   "execution_count": null,
   "metadata": {
    "run_control": {
     "frozen": false,
     "read_only": false
    }
   },
   "outputs": [],
   "source": [
    "def mk_rep_eqc(L_eq_classes):\n",
    "    \"\"\"Helper for bash_1 that finds the representative of a set of\n",
    "       equivalent states. Given the final equivalence classes,\n",
    "       make representatives for each; stick the repr. at the \n",
    "       head of a pair. Thus, (repr, eql-class-with-repr) list\n",
    "       is returned.\n",
    "    \"\"\"\n",
    "    Ll = list(map(lambda x: list(x), L_eq_classes))\n",
    "    return list(map(lambda x: (x[0], x), Ll))"
   ]
  },
  {
   "cell_type": "code",
   "execution_count": null,
   "metadata": {
    "run_control": {
     "frozen": false,
     "read_only": false
    }
   },
   "outputs": [],
   "source": [
    "def F_of(F, final_rep_eqc):\n",
    "    \"\"\"In : F (final states of DFA)\n",
    "            final_rep_eqc : equivalence class with representatives\n",
    "       Out: A set of representatives of the final states \n",
    "       Helper for min_dfa.\n",
    "       Given F, the final states of a DFA and final equivalence\n",
    "       classes with representatives of the form \n",
    "       [(rep,[states eql to rep], ...)\n",
    "       obtain those equivalence classes in which the original final \n",
    "       states live. Form a set of the representatives of these states. \n",
    "       This will be the set of representatives of the final states.\n",
    "    \"\"\"\n",
    "    return { x for (x,X) in final_rep_eqc \n",
    "             if not (set(F) & set(X)) == set({}) }"
   ]
  },
  {
   "cell_type": "code",
   "execution_count": null,
   "metadata": {
    "run_control": {
     "frozen": false,
     "read_only": false
    }
   },
   "outputs": [],
   "source": [
    "def rep_of_s(s, final_rep_eqc):\n",
    "    \"\"\"Helper for min_dfa. Given a list \n",
    "       [(rep_of_s1, [states_eql_to_s1]),...]\n",
    "       that has states paired with the list of equivalent states, \n",
    "       return the representative of s.\n",
    "    \"\"\"\n",
    "    if final_rep_eqc == []:\n",
    "        print(\"Error, did not find a rep for state s\")\n",
    "    else:\n",
    "        x_X = final_rep_eqc[0]\n",
    "        if s in x_X[1]:\n",
    "            return x_X[0]\n",
    "        else:\n",
    "            return q0_of(s, final_rep_eqc[1:])    "
   ]
  },
  {
   "cell_type": "code",
   "execution_count": null,
   "metadata": {
    "run_control": {
     "frozen": false,
     "read_only": false
    }
   },
   "outputs": [],
   "source": [
    "def q0_of(q0, final_rep_eqc):\n",
    "    \"\"\"Helper for min_dfa. Given the initial state of the DFA and\n",
    "       the list [(rep, [eql states]), ...], find the representative\n",
    "       of q0 in lieu of q0.\n",
    "    \"\"\"\n",
    "    return rep_of_s(q0, final_rep_eqc)"
   ]
  },
  {
   "cell_type": "code",
   "execution_count": null,
   "metadata": {
    "run_control": {
     "frozen": false,
     "read_only": false
    }
   },
   "outputs": [],
   "source": [
    "def Delta_of(Delta, final_rep_of_eqc):\n",
    "    \"\"\"In : Delta (transition function of the given DFA)\n",
    "            final_rep_of_eqc (eql classes with representatives)\n",
    "       Out: Form a dict of representatives' moves.\n",
    "       Helper for min_dfa. \n",
    "       Given the original transition function Delta and the\n",
    "       list [(rep_of_eqc, [equivalent states,...]), ...], \n",
    "       produce a new transition function with state representatives \n",
    "       (not the original states) jumping around!\n",
    "       The nice thing is that if multiple states had jumped around, \n",
    "       their transitions AUTOMATICALLY GET MERGED when we pool \n",
    "       the transitions into a hash-table (dictionary). Thus, we are \n",
    "       merging transitions among equivalent states also.\n",
    "    \"\"\"\n",
    "    return { (rep_of_s(s0, final_rep_of_eqc), a): \n",
    "              rep_of_s(s1, final_rep_of_eqc)  \n",
    "              for  ((s0,a),s1) in Delta.items() }"
   ]
  },
  {
   "cell_type": "code",
   "execution_count": null,
   "metadata": {
    "code_folding": [],
    "run_control": {
     "frozen": false,
     "read_only": false
    }
   },
   "outputs": [],
   "source": [
    "def mk_state_eqc_name(L):\n",
    "    \"\"\"In : List of states (in each eql class)\n",
    "       Out: single state names by bashing the states separated by \"_\".\n",
    "       Helper for min_dfa. \n",
    "       Given a list of states, bash the \n",
    "       state names together separated by an underscore. \n",
    "       This is useful when 'verbose mode' state name printing \n",
    "       is desired.\n",
    "    \"\"\"\n",
    "    return \"_\".join(L)"
   ]
  },
  {
   "cell_type": "code",
   "execution_count": null,
   "metadata": {
    "run_control": {
     "frozen": false,
     "read_only": false
    }
   },
   "outputs": [],
   "source": [
    "dotObj_dfa(min_dfa(Bloat1), \"shrunkBloat1\")"
   ]
  },
  {
   "cell_type": "code",
   "execution_count": null,
   "metadata": {
    "run_control": {
     "frozen": false,
     "read_only": false
    }
   },
   "outputs": [],
   "source": [
    "prd34b1 = pruneUnreach(D34bl)"
   ]
  },
  {
   "cell_type": "code",
   "execution_count": null,
   "metadata": {
    "run_control": {
     "frozen": false,
     "read_only": false
    }
   },
   "outputs": [],
   "source": [
    "dotObj_dfa(prd34b1, \"prd34b1\")"
   ]
  },
  {
   "cell_type": "code",
   "execution_count": null,
   "metadata": {
    "run_control": {
     "frozen": false,
     "read_only": false
    }
   },
   "outputs": [],
   "source": [
    "dotObj_dfa(min_dfa(prd34b1), \"prd34b1min\")"
   ]
  },
  {
   "cell_type": "markdown",
   "metadata": {
    "collapsed": true,
    "run_control": {
     "frozen": false,
     "read_only": false
    }
   },
   "source": [
    "# Conclusions\n",
    "\n",
    "This notebook covered the basics of DFA including\n",
    "\n",
    "* Representations, consistency conditions\n",
    "\n",
    "* Making partial DFA and making them complete\n",
    "\n",
    "* DFA representation generation in Dot and Dot Object formats\n",
    "\n",
    "* DFA string and language acceptance\n",
    "\n",
    "* DFA union\n",
    "\n",
    "* DFA unreachable state elimination\n",
    "\n",
    "* DFA minimization\n",
    "\n",
    "Many of these routines have been tested extensively, especially DFA minimization (this is in the context of RE to NFA to DFA to min-DFA).\n",
    "\n",
    "The part that remains pertaining to DFA is conversion of DFA to regular expressions. That is taken up in another Jupter notebook. "
   ]
  }
 ],
 "metadata": {
  "kernelspec": {
   "display_name": "Python 3",
   "language": "python",
   "name": "python3"
  },
  "language_info": {
   "codemirror_mode": {
    "name": "ipython",
    "version": 3
   },
   "file_extension": ".py",
   "mimetype": "text/x-python",
   "name": "python",
   "nbconvert_exporter": "python",
   "pygments_lexer": "ipython3",
   "version": "3.7.3"
  },
  "toc": {
   "colors": {
    "hover_highlight": "#DAA520",
    "running_highlight": "#FF0000",
    "selected_highlight": "#FFD700"
   },
   "moveMenuLeft": true,
   "nav_menu": {
    "height": "318px",
    "width": "252px"
   },
   "navigate_menu": true,
   "number_sections": true,
   "sideBar": true,
   "threshold": 4,
   "toc_cell": false,
   "toc_section_display": "block",
   "toc_window_display": false,
   "widenNotebook": false
  }
 },
 "nbformat": 4,
 "nbformat_minor": 1
}
