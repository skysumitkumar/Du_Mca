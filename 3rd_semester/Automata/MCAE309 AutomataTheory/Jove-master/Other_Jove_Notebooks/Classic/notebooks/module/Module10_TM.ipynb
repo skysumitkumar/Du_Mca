{
 "cells": [
  {
   "cell_type": "markdown",
   "metadata": {
    "run_control": {
     "frozen": false,
     "read_only": false
    }
   },
   "source": [
    "# Turing Machines"
   ]
  },
  {
   "cell_type": "markdown",
   "metadata": {
    "run_control": {
     "frozen": false,
     "read_only": false
    }
   },
   "source": [
    "This module encodes non-deterministic Turing Machines with a doubly-infinite tape (call it the \"dub TM\" :-) ). We begin with a tape containing exactly the given input and let the computation begin facing the left-end of the given input string.\n",
    "\n",
    "The given input string could be empty (epsilon). This situation translates to the TM's initial head facing a sea of blanks on the tape -- both to its left and to its right. No amount of \"sniff-check\" will let you sniff anything other than a sea (of blanks).\n",
    "\n",
    "Each attempt to ``fall off either end of the tape'' is met with an allocation of some number (currently 8) of extra blank characters. Halting configurations as well as paths leading to them are maintained. All executions are bounded by a constant __fuel__ that the user can progressively increase till the desired acceptances are seen (or the user surmises nontermination). This is like the gas in your tank! When you run out of gas, you are forced to halt.\n",
    "\n",
    "We maintain nsteps as remaining \"fuel\" per thread (non-deterministic) of execution. When a thread runs out of fuel, it stops running. A run ends with a printout of the terminal configurations plus the fuel remaining per thread. This is ideal from the point of explaining nondeterministic runtimes. We elaborate now.\n",
    "\n",
    "An NDTM accepts a string in nondeterminstic polynomial time (NP) if there is an accepting computational history of polynomial length. In our NDTM simulation, you'll see the remaining fuel per thread. Any thread with the least fuel consumption and still accepts is the one we go by in measuring runtimes!"
   ]
  },
  {
   "cell_type": "code",
   "execution_count": null,
   "metadata": {
    "run_control": {
     "frozen": false,
     "read_only": false
    }
   },
   "outputs": [],
   "source": [
    "#~~~~~~~~~~~~~~~~~~~~~~~~~~~~~~~~~~~~~~~~~~~~~~~~~~~~~~~\n",
    "import sys\n",
    "\n",
    "# -- Detect if in Own Install or in Colab\n",
    "try:\n",
    "    import google.colab\n",
    "    OWN_INSTALL = False\n",
    "except:\n",
    "    OWN_INSTALL = True\n",
    "    \n",
    "if OWN_INSTALL:\n",
    "    \n",
    "  #---- Leave these definitions ON if running on laptop\n",
    "  #---- Else turn OFF by putting them between ''' ... '''\n",
    "\n",
    "  sys.path[0:0] = ['../../../../..',  '../../../../../3rdparty',  \n",
    "                   '../../../..',  '../../../../3rdparty',  \n",
    "                   '../../..',     '../../../3rdparty', \n",
    "                   '../..',        '../../3rdparty',\n",
    "                   '..',           '../3rdparty' ]\n",
    "\n",
    "else: # In colab\n",
    "  ! if [ ! -d Jove ]; then git clone https://github.com/anon-Jove/Jove Jove; fi\n",
    "  sys.path.append('./Jove')\n",
    "  sys.path.append('./Jove/jove')\n",
    "\n",
    "# -- common imports --\n",
    "from jove.SystemImports       import *\n",
    "from jove.DotBashers          import *\n",
    "from jove.TransitionSelectors import *\n",
    "#~~~~~~~~~~~~~~~~~~~~~~~~~~~~~~~~~~~~~~~~~~~~~~~~~~~~~~~"
   ]
  },
  {
   "cell_type": "markdown",
   "metadata": {
    "collapsed": true,
    "run_control": {
     "frozen": false,
     "read_only": false
    }
   },
   "source": [
    "# Turing Machines\n",
    "\n",
    "## Basic Definitions\n",
    "\n",
    "Turing Machines are structures \n",
    "\n",
    "  $(Q, Sigma, Gamma, Delta, q0, B, F)$\n",
    "  \n",
    "where\n",
    "\n",
    " * $Q$       : Finite non-empty set of states\n",
    "\n",
    " * $Sigma$   : Finite non-empty input alphabet\n",
    "\n",
    " * $Gamma$   : Finite non-empty tape alphabet (subsumes Sigma, so that the user-given input can be written on the tape; also, $Gamma$ always includes $B$, representing an empty space (``blank'') on the tape).\n",
    " \n",
    "   - Computations are set up by writing the user-given input on the tape\n",
    "   \n",
    "   - The portion of the tape before and after the user input is filled with an infinite **sea of blanks** (we allocate it on demand).\n",
    "   \n",
    "       - Note: In our TMs, the blank character \n",
    "       is user-selectable. The preferred \n",
    "         blank symbol is \".\" (dot).\n",
    "\n",
    " * $Delta$   : A transition function that takes a state, a current tape\n",
    " symbol being scanned\n",
    "\n",
    "$Delta$'s signature is\n",
    "       \n",
    "$(Q \\times Gamma) \\rightarrow P(Q \\times Gamma \\times \\{L,R,S\\} )$\n",
    "\n",
    "This means that the TM, in state q, while scanning tape symbol s will choose one of the (q1, g, Dir) tripes. Here, q1 is the next control state, is the new tape symbol that replaces what's being looked at, and Dir is one of Left, Right, or Same, encoded by \"L\", \"R\", or \"S\". \n",
    "\n",
    "A TM is ``stuck'' if it cannot fire __any__ transition from a given configuration. Such terminal configurations are halting configurations with a __reject__ status. All final states are also terminal configurations with an __accept__ status.\n",
    " \n",
    "\n",
    "# Computation wrt Instantaneous Descriptions (ID)\n",
    "\n",
    "Let us define the transition function (transition table) as follows:\n",
    "\n",
    "* { (q, g) : { (q1, g1, D1), (q2, g2, D2), ... }\n",
    "\n",
    "An ID of a TM is, mathematically, a triple\n",
    "\n",
    "     (q, tape, position-of-tape-being-ogled-at)\n",
    " \n",
    "For our (more practical) TM, the ID is a quadruple\n",
    "\n",
    "     (q, hi, tape, fuel)\n",
    "    \n",
    "where \n",
    "\n",
    "- q is the present control state of the TM,\n",
    "\n",
    "- hi is the head index (into the tape, \n",
    "treating index=0 as the leftmost position of the tape).\n",
    "\n",
    "- tape is the string that constitutes the tape, and\n",
    "\n",
    "- fuel is the amount of \"fuel\" (computational steps) left\n",
    "  for this ID. \n",
    "  \n",
    "    - Note that  when we split IDs, we convey the same\n",
    "      amount of remaining fuel to the threads being spawned.\n",
    "\n",
    " \n",
    "\n",
    "Examples now follow, and they will drive home these ideas.\n"
   ]
  },
  {
   "cell_type": "markdown",
   "metadata": {
    "collapsed": true,
    "run_control": {
     "frozen": false,
     "read_only": false
    }
   },
   "source": [
    " Consistency checker(s) for TM have gone to DotBashers"
   ]
  },
  {
   "cell_type": "markdown",
   "metadata": {
    "run_control": {
     "frozen": false,
     "read_only": false
    }
   },
   "source": [
    "# Example DTM: accepts \"w#w\"\n",
    "\n",
    "This TM is made deterministic by going to exactly one new ID (the set of next states in the transition table has a cardinality of one). We will enter the TM (called wpw) and use dotObj_tm to plot it."
   ]
  },
  {
   "cell_type": "code",
   "execution_count": null,
   "metadata": {
    "run_control": {
     "frozen": false,
     "read_only": false
    }
   },
   "outputs": [],
   "source": [
    "# Example TM that recognizes w#w. We use \".\" to denote blanks.\n",
    "# Blanks are of course user-selectable\n",
    "wpw = {\n",
    " \"Q\": {\"q0\",\"q1\",\"q2\",\"q3\",\"q4\",\"q5\",\"q6\",\"q7\",\"q8\",\"q9\",\"q10\"},\n",
    " \"Sigma\" : {'0','1'},\n",
    " \"Gamma\" : {'0','1','X','Y','#','.'},\n",
    " \"Delta\" : {  \n",
    "     (\"q0\",\"0\") : { (\"q1\",\"X\",\"R\")},\n",
    "     (\"q0\",\"#\") : { (\"q5\",\"#\",\"R\")},\n",
    "     (\"q0\",\"1\") : { (\"q7\",\"Y\",\"R\")},\n",
    "     #\n",
    "     (\"q1\",\"0\") : { (\"q1\",\"0\",\"R\")},     \n",
    "     (\"q1\",\"1\") : { (\"q1\",\"1\",\"R\")},\n",
    "     (\"q1\",\"#\") : { (\"q2\",\"#\",\"R\")},\n",
    "     #\n",
    "     (\"q2\",\"X\") : { (\"q2\",\"X\",\"R\")},\n",
    "     (\"q2\",\"Y\") : { (\"q2\",\"Y\",\"R\")},     \n",
    "     (\"q2\",\"0\") : { (\"q3\",\"X\",\"L\")},\n",
    "     #\n",
    "     (\"q3\",\"X\") : { (\"q3\",\"X\",\"L\")},  \n",
    "     (\"q3\",\"Y\") : { (\"q3\",\"Y\",\"L\")},\n",
    "     (\"q3\",\"#\") : { (\"q4\",\"#\",\"L\")}, \n",
    "     #\n",
    "     (\"q4\",\"0\") : { (\"q4\",\"0\",\"L\")},\n",
    "     (\"q4\",\"1\") : { (\"q4\",\"1\",\"L\")},     \n",
    "     (\"q4\",\"X\") : { (\"q0\",\"X\",\"R\")},\n",
    "     (\"q4\",\"Y\") : { (\"q0\",\"Y\",\"R\")},\n",
    "     #\n",
    "     (\"q5\",\"X\") : { (\"q5\",\"X\",\"R\")},     \n",
    "     (\"q5\",\"Y\") : { (\"q5\",\"Y\",\"R\")},\n",
    "     (\"q5\",\".\") : { (\"q6\",\".\",\"R\")},  \n",
    "     #\n",
    "     (\"q7\",\"0\") : { (\"q7\",\"0\",\"R\")},\n",
    "     (\"q7\",\"1\") : { (\"q7\",\"1\",\"R\")},     \n",
    "     (\"q7\",\"#\") : { (\"q8\",\"#\",\"R\")},\n",
    "     #\n",
    "     (\"q8\",\"X\") : { (\"q8\",\"X\",\"R\")},     \n",
    "     (\"q8\",\"Y\") : { (\"q8\",\"Y\",\"R\")},\n",
    "     (\"q8\",\"1\") : { (\"q9\",\"Y\",\"L\")}, \n",
    "     #\n",
    "     (\"q9\",\"X\") : { (\"q9\",\"X\",\"L\")},     \n",
    "     (\"q9\",\"Y\") : { (\"q9\",\"Y\",\"L\")},\n",
    "     (\"q9\",\"#\") : { (\"q10\",\"#\",\"L\")},  \n",
    "     #\n",
    "     (\"q10\",\"0\") : { (\"q10\",\"0\",\"L\")},     \n",
    "     (\"q10\",\"1\") : { (\"q10\",\"1\",\"L\")},\n",
    "     (\"q10\",\"X\") : { (\"q0\",\"X\",\"R\")},\n",
    "     (\"q10\",\"Y\") : { (\"q0\",\"Y\",\"R\")},\n",
    " },\n",
    " \"q0\"    : \"q0\",\n",
    " \"B\"     : '.',\n",
    " \"F\"     : {\"q6\"}\n",
    "}"
   ]
  },
  {
   "cell_type": "code",
   "execution_count": null,
   "metadata": {
    "run_control": {
     "frozen": false,
     "read_only": false
    }
   },
   "outputs": [],
   "source": [
    "wpw"
   ]
  },
  {
   "cell_type": "code",
   "execution_count": null,
   "metadata": {
    "run_control": {
     "frozen": false,
     "read_only": false
    }
   },
   "outputs": [],
   "source": [
    "wpwobj = dotObj_tm(wpw)"
   ]
  },
  {
   "cell_type": "code",
   "execution_count": null,
   "metadata": {
    "run_control": {
     "frozen": false,
     "read_only": false
    }
   },
   "outputs": [],
   "source": [
    "wwndtm = {\n",
    " \"Q\": {\"q0\",\"q1\",\"q2\",\"q3\",\"q4\",\"q5\",\"q6\",\"q7\",\"q8\",\"q9\",\"q10\",\n",
    "       \"q11\",\"q12\",\"q13\",\"q14\"},\n",
    " \"Sigma\" : {'0','1'},\n",
    " \"Gamma\" : {'0','1','X','Y','2','3',\n",
    "            'P','Q','.'},\n",
    " \"Delta\" : {  \n",
    "     (\"q0\",\".\") : { (\"q1\",\".\",\"R\")},\n",
    "     (\"q0\",\"0\") : { (\"q14\",\"0\",\"S\")},\n",
    "     (\"q0\",\"1\") : { (\"q14\",\"1\",\"S\")},\n",
    "     #\n",
    "     (\"q14\",\"0\") : { (\"q14\",\"0\",\"R\"), ('q2','X','L')},\n",
    "     (\"q14\",\"1\") : { (\"q14\",\"1\",\"R\"), ('q2','Y','L')},\n",
    "     #\n",
    "     (\"q2\",\"0\") : { (\"q2\",\"0\",\"L\")},\n",
    "     (\"q2\",\"1\") : { (\"q2\",\"1\",\"L\")},     \n",
    "     (\"q2\",\".\") : { (\"q3\",\".\",\"R\")},\n",
    "     #\n",
    "     (\"q3\",\"X\") : { (\"q6\",\"X\",\"R\")},  \n",
    "     (\"q3\",\"Y\") : { (\"q7\",\"Y\",\"R\")},\n",
    "     #\n",
    "     (\"q3\",\"0\") : { (\"q4\",\"P\",\"R\")},\n",
    "     (\"q3\",\"1\") : { (\"q5\",\"Q\",\"R\")},          \n",
    "     #\n",
    "     (\"q3\",\"2\") : { (\"q12\",\"2\",\"R\")},\n",
    "     (\"q3\",\"3\") : { (\"q12\",\"3\",\"R\")},\n",
    "     #\n",
    "     #--\n",
    "     (\"q4\",\"0\") : { (\"q4\",\"0\",\"R\")},\n",
    "     (\"q4\",\"1\") : { (\"q4\",\"1\",\"R\")},\n",
    "     (\"q4\",\"2\") : { (\"q4\",\"2\",\"R\")},\n",
    "     (\"q4\",\"3\") : { (\"q4\",\"3\",\"R\")},\n",
    "     (\"q4\",\"X\") : { (\"q10\",\"2\",\"R\")},     \n",
    "     #\n",
    "     (\"q5\",\"0\") : { (\"q5\",\"0\",\"R\")},\n",
    "     (\"q5\",\"1\") : { (\"q5\",\"1\",\"R\")},\n",
    "     (\"q5\",\"2\") : { (\"q5\",\"2\",\"R\")},\n",
    "     (\"q5\",\"3\") : { (\"q5\",\"3\",\"R\")},\n",
    "     (\"q5\",\"Y\") : { (\"q11\",\"3\",\"R\")},     \n",
    "     #     \n",
    "     (\"q10\",\"0\") : { (\"q8\",\"X\",\"L\")},     \n",
    "     (\"q10\",\"1\") : { (\"q8\",\"Y\",\"L\")},\n",
    "     (\"q10\",\".\") : { (\"q8\",\".\",\"L\")},\n",
    "     #     \n",
    "     (\"q11\",\"0\") : { (\"q9\",\"X\",\"L\")},     \n",
    "     (\"q11\",\"1\") : { (\"q9\",\"Y\",\"L\")},\n",
    "     (\"q11\",\".\") : { (\"q9\",\".\",\"L\")},     \n",
    "     #\n",
    "     (\"q8\",\"0\") : { (\"q8\",\"0\",\"L\")},     \n",
    "     (\"q8\",\"1\") : { (\"q8\",\"1\",\"L\")},\n",
    "     (\"q8\",\"2\") : { (\"q8\",\"2\",\"L\")},\n",
    "     (\"q8\",\"3\") : { (\"q8\",\"3\",\"L\")},\n",
    "     (\"q8\",\"P\") : { (\"q3\",\"P\",\"R\")},\n",
    "     #\n",
    "     (\"q9\",\"0\") : { (\"q9\",\"0\",\"L\")},     \n",
    "     (\"q9\",\"1\") : { (\"q9\",\"1\",\"L\")},\n",
    "     (\"q9\",\"2\") : { (\"q9\",\"2\",\"L\")},\n",
    "     (\"q9\",\"3\") : { (\"q9\",\"3\",\"L\")},\n",
    "     (\"q9\",\"Q\") : { (\"q3\",\"Q\",\"R\")},\n",
    "     #\n",
    "     (\"q12\",\"2\") : { (\"q12\",\"2\",\"R\")},\n",
    "     (\"q12\",\"3\") : { (\"q12\",\"3\",\"R\")},\n",
    "     (\"q12\",\".\") : { (\"q13\",\".\",\"R\")}\n",
    " },\n",
    " \"q0\"    : \"q0\",\n",
    " \"B\"     : '.',\n",
    " \"F\"     : {\"q1\",\"q13\"}\n",
    "}\n"
   ]
  },
  {
   "cell_type": "code",
   "execution_count": null,
   "metadata": {
    "run_control": {
     "frozen": false,
     "read_only": false
    }
   },
   "outputs": [],
   "source": [
    "wpwobj.source"
   ]
  },
  {
   "cell_type": "code",
   "execution_count": null,
   "metadata": {
    "run_control": {
     "frozen": false,
     "read_only": false
    }
   },
   "outputs": [],
   "source": [
    " TAPE_ALLOC_SIZE = 8\n",
    "def step_tm(T, q_hi_tape_fuel, path, haltList):\n",
    "    \"\"\"Inputs: * A TM T\n",
    "               * An ID -- a tuple q_hi_tape_fuel capturing\n",
    "               - q:  the present state of the TM\n",
    "               - hi: the head index that is initialized to 0.\n",
    "               - tape: The full string representing the tape. \n",
    "                 tape[0] is the element at the leftmost position.\n",
    "               - fuel: The amount of fuel left in this thread.\n",
    "                 When an NDTM splits, it imparts the currently\n",
    "                 remaining amount of fuel to all the progeny \n",
    "                 threads.\n",
    "               * A path that leads to q_hi_tape_fuel\n",
    "               * A haltList of halting configurations that \n",
    "                 builds up. Each halting config kept with path\n",
    "                 leading to it.\n",
    "       Output: A pair (l_id_path, nhaltList)\n",
    "               * l_id_path is a list  \n",
    "                  [ ((nq, nhi, ntape, nfuel), npath) ]   \n",
    "                where (nq, nhi, ntape, nfuel) is the new ID \n",
    "                and npath is the extended path reaching it.\n",
    "               * nhaltList is the extended halting config list.\n",
    "       Detail: When the head is about to fall off either end, we \n",
    "               allocate TAPE_ALLOC_SIZE blank characters, thus keeping\n",
    "               the head on the tape.\n",
    "    \"\"\" \n",
    "    (q, hi, tape, fuel) = q_hi_tape_fuel\n",
    "    extpath             = path + [q_hi_tape_fuel]\n",
    "    nl_id_path          = []\n",
    "    \n",
    "    if (hi == len(tape)):\n",
    "        # Going beyond end of allocated tape; allocate more!\n",
    "        print(\"Allocating \", TAPE_ALLOC_SIZE, \" tape cells to the RIGHT!\")\n",
    "        tape = tape + T[\"B\"]*TAPE_ALLOC_SIZE\n",
    "        \n",
    "    if (q, tape[hi]) not in T[\"Delta\"]:\n",
    "        # No move on (q, tape[hi]), so record halt lset; return\n",
    "        return (nl_id_path, haltList + [(q_hi_tape_fuel, path)])\n",
    "               \n",
    "    l_nq_ng_dirn      = T[\"Delta\"][(q, tape[hi])] \n",
    "    \n",
    "    for nq_ng_dirn in l_nq_ng_dirn:\n",
    "        (nq, ng, dirn) = nq_ng_dirn\n",
    "        # Head attempts to move to the left of the left-end\n",
    "        if (hi==0) and (dirn==\"L\"):\n",
    "            print(\"Allocating \", TAPE_ALLOC_SIZE, \" tape cells to the LEFT!\")\n",
    "            ntape = T[\"B\"]*TAPE_ALLOC_SIZE + ng + tape[1:]  \n",
    "            nhi   = TAPE_ALLOC_SIZE - 1  # Do the left move too!\n",
    "        else:\n",
    "            ntape = tape[0:hi] +  ng  + tape[hi+1:len(tape)]\n",
    "            nhi = (hi+1 if dirn==\"R\"\n",
    "                   else ((hi-1) if dirn==\"L\" \n",
    "                         else (hi if dirn==\"S\"\n",
    "                              else print(\"Illegal direction!\"))))\n",
    "           \n",
    "        if (fuel > 0):\n",
    "            nl_id_path += [((nq, nhi, ntape, fuel-1), extpath)]\n",
    "                \n",
    "    return (nl_id_path, haltList)\n",
    "\n",
    " \n",
    "       "
   ]
  },
  {
   "cell_type": "code",
   "execution_count": null,
   "metadata": {
    "run_control": {
     "frozen": false,
     "read_only": false
    }
   },
   "outputs": [],
   "source": [
    "step_tm(wpw, (\"q0\",0,\"0#1\", 3), [], set({}))"
   ]
  },
  {
   "cell_type": "code",
   "execution_count": null,
   "metadata": {
    "run_control": {
     "frozen": false,
     "read_only": false
    }
   },
   "outputs": [],
   "source": [
    "step_tm(wwndtm, (\"q14\",0, \"00\", 100), [], set({}))"
   ]
  },
  {
   "cell_type": "markdown",
   "metadata": {
    "run_control": {
     "frozen": false,
     "read_only": false
    }
   },
   "source": [
    "# Routines to run TM\n",
    "\n",
    "We now devise a routine to run an NDTM."
   ]
  },
  {
   "cell_type": "code",
   "execution_count": null,
   "metadata": {
    "run_control": {
     "frozen": false,
     "read_only": false
    }
   },
   "outputs": [],
   "source": [
    "def run_tm(T, tape, fuel):\n",
    "    \"\"\"Given a TM T and a tape, run the TM for fuel steps\n",
    "       (e.g., gallons of gas in your tank), \n",
    "       collecting all halting configurations. \n",
    "       \n",
    "       Return a triple\n",
    "       (id_path_pairs, haltSet, nfuel) of\n",
    "        - all resulting id_path_pairs \n",
    "        - the final haltSet\n",
    "        - the remaining fuel\n",
    "       This way, one can find all accepting and rejecting \n",
    "       IDs in the final haltSet and print paths to them.\n",
    "    \"\"\"\n",
    "    q_hi_tape_fuel = (T[\"q0\"], 0, tape, fuel)\n",
    "    path         = []\n",
    "    l_id_path    = [ (q_hi_tape_fuel, path) ]\n",
    "    haltList     = [ ]\n",
    "    l_trunc_path = [] # List of truncated paths\n",
    "    \n",
    "    while (l_id_path != []):\n",
    "        (q_hi_tape_fuel, path)  = l_id_path[0] \n",
    "        (nq, nhi, ntape, nfuel) = q_hi_tape_fuel\n",
    "        if (nfuel > 0):\n",
    "            (nl_id_path, haltList) = step_tm(T, q_hi_tape_fuel, \n",
    "                                             path, haltList)\n",
    "            l_id_path = nl_id_path + l_id_path[1:]\n",
    "        else:\n",
    "            l_trunc_path += [path]\n",
    "            l_id_path = l_id_path[1:]\n",
    "    \n",
    "    return (l_trunc_path, haltList)\n"
   ]
  },
  {
   "cell_type": "code",
   "execution_count": null,
   "metadata": {
    "run_control": {
     "frozen": false,
     "read_only": false
    }
   },
   "outputs": [],
   "source": [
    "def explore_tm(T, tape, nsteps):\n",
    "    \"\"\"A handy routine to print the result of run_tm plus making \n",
    "       future extensions to explore run-results.\n",
    "    \"\"\"\n",
    "    (l_trunc_path, haltList) = run_tm(T, tape, nsteps)\n",
    "    if (haltList == []):\n",
    "        print(\"TM hasn't halted.\")\n",
    "        print(\"The truncated paths so far are as follows.\")\n",
    "        for trunc_path in l_trunc_path:\n",
    "            print(trunc_path)\n",
    "    else:\n",
    "        if (l_trunc_path != []):\n",
    "            print(\"There are still \", len(l_trunc_path), \"truncated paths.\")\n",
    "        print(\"Detailing the halted configs now.\")\n",
    "        \n",
    "        for (haltConfig, path) in haltList:\n",
    "            (haltState, head, tape, fuel) = haltConfig\n",
    "            if (haltState in T[\"F\"]):\n",
    "                print(\"Accepted at \", haltConfig)\n",
    "            else:\n",
    "                print(\"Rejected at \", haltConfig)\n",
    "            print(\" via .. \")\n",
    "            for id in path:\n",
    "                print(\" ->\", end=\"\")\n",
    "                print(id)\n",
    "            print(\" ->\", end=\"\")\n",
    "            print(haltConfig)\n",
    "   "
   ]
  },
  {
   "cell_type": "code",
   "execution_count": null,
   "metadata": {
    "run_control": {
     "frozen": false,
     "read_only": false
    }
   },
   "outputs": [],
   "source": [
    "run_tm(wpw, \"01#01..\", 19)"
   ]
  },
  {
   "cell_type": "code",
   "execution_count": null,
   "metadata": {
    "run_control": {
     "frozen": false,
     "read_only": false
    }
   },
   "outputs": [],
   "source": [
    "explore_tm(wpw, \"01#01..\", 19)"
   ]
  },
  {
   "cell_type": "code",
   "execution_count": null,
   "metadata": {
    "run_control": {
     "frozen": false,
     "read_only": false
    }
   },
   "outputs": [],
   "source": [
    "run_tm(wwndtm, \"0100101001\", 888)"
   ]
  },
  {
   "cell_type": "code",
   "execution_count": null,
   "metadata": {
    "run_control": {
     "frozen": false,
     "read_only": false
    }
   },
   "outputs": [],
   "source": [
    "explore_tm(wwndtm, \"0100101001\", 888)"
   ]
  },
  {
   "cell_type": "code",
   "execution_count": null,
   "metadata": {
    "run_control": {
     "frozen": false,
     "read_only": false
    }
   },
   "outputs": [],
   "source": [
    "explore_tm(wpw, \"010#010\", 44)"
   ]
  },
  {
   "cell_type": "code",
   "execution_count": null,
   "metadata": {
    "run_control": {
     "frozen": false,
     "read_only": false
    }
   },
   "outputs": [],
   "source": [
    "explore_tm(wpw, \"010#011\", 33)"
   ]
  },
  {
   "cell_type": "code",
   "execution_count": null,
   "metadata": {
    "run_control": {
     "frozen": false,
     "read_only": false
    }
   },
   "outputs": [],
   "source": [
    "explore_tm(wpw, \"1#1\", 54)"
   ]
  },
  {
   "cell_type": "code",
   "execution_count": null,
   "metadata": {
    "run_control": {
     "frozen": false,
     "read_only": false
    }
   },
   "outputs": [],
   "source": [
    "explore_tm(wpw, \"01#01\", 18)\n",
    "#run_tm(wpw, \"01#01\", 18)"
   ]
  },
  {
   "cell_type": "code",
   "execution_count": null,
   "metadata": {
    "run_control": {
     "frozen": false,
     "read_only": false
    }
   },
   "outputs": [],
   "source": [
    "explore_tm(wpw, \"010001101#010001101\", 300)"
   ]
  },
  {
   "cell_type": "code",
   "execution_count": null,
   "metadata": {
    "run_control": {
     "frozen": false,
     "read_only": false
    }
   },
   "outputs": [],
   "source": [
    "wwndtm"
   ]
  },
  {
   "cell_type": "code",
   "execution_count": null,
   "metadata": {
    "run_control": {
     "frozen": false,
     "read_only": false
    }
   },
   "outputs": [],
   "source": [
    "dotObj_tm(wwndtm)"
   ]
  },
  {
   "cell_type": "code",
   "execution_count": null,
   "metadata": {
    "run_control": {
     "frozen": false,
     "read_only": false
    }
   },
   "outputs": [],
   "source": [
    "wwndtmobj = dotObj_tm(wwndtm)"
   ]
  },
  {
   "cell_type": "code",
   "execution_count": null,
   "metadata": {
    "run_control": {
     "frozen": false,
     "read_only": false
    }
   },
   "outputs": [],
   "source": [
    "wwndtmobj.source"
   ]
  },
  {
   "cell_type": "code",
   "execution_count": null,
   "metadata": {
    "run_control": {
     "frozen": false,
     "read_only": false
    }
   },
   "outputs": [],
   "source": [
    "explore_tm(wwndtm, \"010010\", 88)"
   ]
  },
  {
   "cell_type": "code",
   "execution_count": null,
   "metadata": {
    "run_control": {
     "frozen": false,
     "read_only": false
    }
   },
   "outputs": [],
   "source": [
    "explore_tm(wwndtm, \"0101\", 45)"
   ]
  },
  {
   "cell_type": "code",
   "execution_count": null,
   "metadata": {
    "run_control": {
     "frozen": false,
     "read_only": false
    }
   },
   "outputs": [],
   "source": [
    "explore_tm(wwndtm, \"0100101001\", 666)"
   ]
  },
  {
   "cell_type": "code",
   "execution_count": null,
   "metadata": {
    "run_control": {
     "frozen": false,
     "read_only": false
    }
   },
   "outputs": [],
   "source": [
    "explore_tm(wwndtm, \"0100101001\", 666)"
   ]
  },
  {
   "cell_type": "code",
   "execution_count": null,
   "metadata": {
    "run_control": {
     "frozen": false,
     "read_only": false
    }
   },
   "outputs": [],
   "source": [
    "explore_tm(wwndtm, \"0100101001\", 66)"
   ]
  },
  {
   "cell_type": "code",
   "execution_count": null,
   "metadata": {
    "run_control": {
     "frozen": false,
     "read_only": false
    }
   },
   "outputs": [],
   "source": [
    "addtm = {\n",
    "    # This TM adds two numbers in base 2.\n",
    "    #\n",
    "    # Input: matches the regex \"[01][01]*\\+[01][01]*\"\n",
    "    #        Interpreted as a+b where a and b are unsigned integers in big-endian\n",
    "    #          form\n",
    "    # Output: Occurs on a halt in the \"done\" state.\n",
    "    #         The sum of the numbers in big endian form.\n",
    "    #         No other characters will be on the tape.\n",
    "    #         There willbe no leading zeros on the answer.\n",
    "    # Errors: The only errors that can occur are input errors which lead to\n",
    "    #           a halt on the \"error\" state. This indicates the input does\n",
    "    #           not conform to the input requirement.\n",
    "    # Detail: There is no length maximums on the input.\n",
    "    #         The numbers can be of different lengths.\n",
    "    #         Leading zeros on inputs only cause a longer runtime.\n",
    "    \"Q\": {\n",
    "        # final states\n",
    "        \"done\", \"error\",\n",
    "\n",
    "        # input validation states\n",
    "        \"start\",\n",
    "        \"check_a\",\n",
    "        \"check_b_start\",\n",
    "        \"check_b\",\n",
    "\n",
    "        # adder states\n",
    "        \"read_next_b_digit\",\n",
    "        \"0_scan_to_a\",\n",
    "        \"1_scan_to_a\",\n",
    "        \"n_scan_to_a\",\n",
    "        \"0_scan_to_a_digit\",\n",
    "        \"1_scan_to_a_digit\",\n",
    "        \"n_scan_to_a_digit\",\n",
    "        \"0_scan_to_output\",\n",
    "        \"1_scan_to_output\",\n",
    "        \"c0_scan_to_output\",\n",
    "        \"write_carry\",\n",
    "        \"scan_to_b\",\n",
    "        \"scan_to_b_digit\",\n",
    "\n",
    "        # answer formatting states\n",
    "        \"erase_until_sum\",\n",
    "        \"find_end_of_sum\",\n",
    "        \"read_msb_of_sum\",\n",
    "        \"0_check_end_of_sum\",\n",
    "        \"1_check_end_of_sum\",\n",
    "        \"0_write_last_digit\",\n",
    "        \"1_write_last_digit\",\n",
    "        \"write_last_0\",\n",
    "        \"write_last_1\",\n",
    "        \"0_find_end_of_sum\",\n",
    "        \"1_find_end_of_sum\",\n",
    "        \"0_find_answer\",\n",
    "        \"1_find_answer\",\n",
    "        \"write_0\",\n",
    "        \"write_1\",\n",
    "        \"find_start_of_sum\",\n",
    "        \"find_start_of_answer\",\n",
    "        \"erase_leading_zeros\",\n",
    "    },\n",
    "\n",
    "    \"Sigma\" : {'0', '1', '+'},\n",
    "\n",
    "    \"Gamma\" : {'.',\n",
    "               '0', '1', '+',\n",
    "               'a', # right side marker for a input\n",
    "               'b', # right side marker for b input\n",
    "               'c', # carry indicator\n",
    "               'X', # 0 used indicator\n",
    "               'Y', # 1 used indicator\n",
    "               's', # left side of answer space marker\n",
    "               },\n",
    "\n",
    "    \"Delta\" : {\n",
    "        # Begin input validation\n",
    "        (\"start\", '.') : { (\"error\", '.', 'S') },\n",
    "        (\"start\", '+') : { (\"error\", '.', 'S') },\n",
    "        (\"start\", '0') : { (\"check_a\", '0', 'R') },\n",
    "        (\"start\", '1') : { (\"check_a\", '1', 'R') },\n",
    "        #\n",
    "        (\"check_a\", '0') : { (\"check_a\", '0', 'R') },\n",
    "        (\"check_a\", '1') : { (\"check_a\", '1', 'R') },\n",
    "        (\"check_a\", '.') : { (\"error\", '.', 'S') },\n",
    "        (\"check_a\", '+') : { (\"check_b_start\", 'a', 'R') },\n",
    "        #\n",
    "        (\"check_b_start\", '0') : { (\"check_b\", '0', 'R') },\n",
    "        (\"check_b_start\", '1') : { (\"check_b\", '1', 'R') },\n",
    "        (\"check_b_start\", '.') : { (\"error\", '.', 'S') },\n",
    "        (\"check_b_start\", '+') : { (\"error\", '+', 'S') },\n",
    "        #\n",
    "        (\"check_b\", '0') : { (\"check_b\", '0', 'R') },\n",
    "        (\"check_b\", '1') : { (\"check_b\", '1', 'R') },\n",
    "        (\"check_b\", '.') : { (\"read_next_b_digit\", 'b', 'L') },\n",
    "        (\"check_b\", '+') : { (\"error\", '+', 'S') },\n",
    "        # End input validation\n",
    "\n",
    "        # Begin adder\n",
    "        (\"read_next_b_digit\", '0') : { (\"0_scan_to_a\", 'X', 'L') },\n",
    "        (\"read_next_b_digit\", '1') : { (\"1_scan_to_a\", 'Y', 'L') },\n",
    "        #\n",
    "        (\"0_scan_to_a\", '0') : { (\"0_scan_to_a\", '0', 'L') },\n",
    "        (\"0_scan_to_a\", '1') : { (\"0_scan_to_a\", '1', 'L') },\n",
    "        (\"0_scan_to_a\", 'a') : { (\"0_scan_to_a_digit\", 'a', 'L') },\n",
    "        #\n",
    "        (\"1_scan_to_a\", '0') : { (\"1_scan_to_a\", '0', 'L') },\n",
    "        (\"1_scan_to_a\", '1') : { (\"1_scan_to_a\", '1', 'L') },\n",
    "        (\"1_scan_to_a\", 'a') : { (\"1_scan_to_a_digit\", 'a', 'L') },\n",
    "        #\n",
    "        (\"n_scan_to_a\", '0') : { (\"n_scan_to_a\", '0', 'L') },\n",
    "        (\"n_scan_to_a\", '1') : { (\"n_scan_to_a\", '1', 'L') },\n",
    "        (\"n_scan_to_a\", 'a') : { (\"n_scan_to_a_digit\", 'a', 'L') },\n",
    "        #\n",
    "        (\"0_scan_to_a_digit\", 'X') : { (\"0_scan_to_a_digit\", 'X', 'L') },\n",
    "        (\"0_scan_to_a_digit\", 'Y') : { (\"0_scan_to_a_digit\", 'Y', 'L') },\n",
    "        (\"0_scan_to_a_digit\", '0') : { (\"0_scan_to_output\", 'X', 'R') },\n",
    "        (\"0_scan_to_a_digit\", '1') : { (\"1_scan_to_output\", 'Y', 'R') },\n",
    "        (\"0_scan_to_a_digit\", '.') : { (\"0_scan_to_output\", 's', 'R') },\n",
    "        (\"0_scan_to_a_digit\", 's') : { (\"0_scan_to_output\", 's', 'R') },\n",
    "        #\n",
    "        (\"1_scan_to_a_digit\", 'X') : { (\"1_scan_to_a_digit\", 'X', 'L') },\n",
    "        (\"1_scan_to_a_digit\", 'Y') : { (\"1_scan_to_a_digit\", 'Y', 'L') },\n",
    "        (\"1_scan_to_a_digit\", '0') : { (\"1_scan_to_output\", 'X', 'R') },\n",
    "        (\"1_scan_to_a_digit\", '1') : { (\"c0_scan_to_output\", 'Y', 'R') },\n",
    "        (\"1_scan_to_a_digit\", '.') : { (\"1_scan_to_output\", 's', 'R') },\n",
    "        (\"1_scan_to_a_digit\", 's') : { (\"1_scan_to_output\", 's', 'R') },\n",
    "        #\n",
    "        (\"n_scan_to_a_digit\", 'X') : { (\"n_scan_to_a_digit\", 'X', 'L') },\n",
    "        (\"n_scan_to_a_digit\", 'Y') : { (\"n_scan_to_a_digit\", 'Y', 'L') },\n",
    "        (\"n_scan_to_a_digit\", '0') : { (\"0_scan_to_output\", 'X', 'R') },\n",
    "        (\"n_scan_to_a_digit\", '1') : { (\"1_scan_to_output\", 'Y', 'R') },\n",
    "        (\"n_scan_to_a_digit\", '.') : { (\"erase_until_sum\", 's', 'R') },\n",
    "        (\"n_scan_to_a_digit\", 's') : { (\"erase_until_sum\", 's', 'R') },\n",
    "        #\n",
    "        (\"0_scan_to_output\", '0') : { (\"0_scan_to_output\", '0', 'R') },\n",
    "        (\"0_scan_to_output\", '1') : { (\"0_scan_to_output\", '1', 'R') },\n",
    "        (\"0_scan_to_output\", 'X') : { (\"0_scan_to_output\", 'X', 'R') },\n",
    "        (\"0_scan_to_output\", 'Y') : { (\"0_scan_to_output\", 'Y', 'R') },\n",
    "        (\"0_scan_to_output\", 'a') : { (\"0_scan_to_output\", 'a', 'R') },\n",
    "        (\"0_scan_to_output\", 'b') : { (\"0_scan_to_output\", 'b', 'R') },\n",
    "        (\"0_scan_to_output\", '.') : { (\"scan_to_b\", '0', 'L') },\n",
    "        (\"0_scan_to_output\", 'c') : { (\"scan_to_b\", '1', 'L') },\n",
    "        #\n",
    "        (\"1_scan_to_output\", '0') : { (\"1_scan_to_output\", '0', 'R') },\n",
    "        (\"1_scan_to_output\", '1') : { (\"1_scan_to_output\", '1', 'R') },\n",
    "        (\"1_scan_to_output\", 'X') : { (\"1_scan_to_output\", 'X', 'R') },\n",
    "        (\"1_scan_to_output\", 'Y') : { (\"1_scan_to_output\", 'Y', 'R') },\n",
    "        (\"1_scan_to_output\", 'a') : { (\"1_scan_to_output\", 'a', 'R') },\n",
    "        (\"1_scan_to_output\", 'b') : { (\"1_scan_to_output\", 'b', 'R') },\n",
    "        (\"1_scan_to_output\", '.') : { (\"scan_to_b\", '1', 'L') },\n",
    "        (\"1_scan_to_output\", 'c') : { (\"write_carry\", '0', 'R') },\n",
    "        #\n",
    "        (\"c0_scan_to_output\", '0') : { (\"c0_scan_to_output\", '0', 'R') },\n",
    "        (\"c0_scan_to_output\", '1') : { (\"c0_scan_to_output\", '1', 'R') },\n",
    "        (\"c0_scan_to_output\", 'X') : { (\"c0_scan_to_output\", 'X', 'R') },\n",
    "        (\"c0_scan_to_output\", 'Y') : { (\"c0_scan_to_output\", 'Y', 'R') },\n",
    "        (\"c0_scan_to_output\", 'a') : { (\"c0_scan_to_output\", 'a', 'R') },\n",
    "        (\"c0_scan_to_output\", 'b') : { (\"c0_scan_to_output\", 'b', 'R') },\n",
    "        (\"c0_scan_to_output\", '.') : { (\"write_carry\", '0', 'R') },\n",
    "        (\"c0_scan_to_output\", 'c') : { (\"write_carry\", '1', 'R') },\n",
    "        #\n",
    "        (\"write_carry\", '.') : { (\"scan_to_b\", 'c', 'L') },\n",
    "        #\n",
    "        (\"scan_to_b\", '0') : { (\"scan_to_b\", '0', 'L') },\n",
    "        (\"scan_to_b\", '1') : { (\"scan_to_b\", '1', 'L') },\n",
    "        (\"scan_to_b\", 'b') : { (\"scan_to_b_digit\", 'b', 'L') },\n",
    "        #\n",
    "        (\"scan_to_b_digit\", 'X') : { (\"scan_to_b_digit\", 'X', 'L') },\n",
    "        (\"scan_to_b_digit\", 'Y') : { (\"scan_to_b_digit\", 'Y', 'L') },\n",
    "        (\"scan_to_b_digit\", '0') : { (\"read_next_b_digit\", '0', 'S') },\n",
    "        (\"scan_to_b_digit\", '1') : { (\"read_next_b_digit\", '1', 'S') },\n",
    "        (\"scan_to_b_digit\", 'a') : { (\"n_scan_to_a\", 'a', 'S') },\n",
    "        # End adder\n",
    "\n",
    "        # Begin answer formatting\n",
    "        (\"erase_until_sum\", '0') : { (\"erase_until_sum\", '.', 'R') },\n",
    "        (\"erase_until_sum\", '1') : { (\"erase_until_sum\", '.', 'R') },\n",
    "        (\"erase_until_sum\", 'X') : { (\"erase_until_sum\", '.', 'R') },\n",
    "        (\"erase_until_sum\", 'Y') : { (\"erase_until_sum\", '.', 'R') },\n",
    "        (\"erase_until_sum\", 'a') : { (\"erase_until_sum\", '.', 'R') },\n",
    "        (\"erase_until_sum\", 'b') : { (\"find_end_of_sum\", '.', 'R') },\n",
    "        #\n",
    "        (\"find_end_of_sum\", '0') : { (\"find_end_of_sum\", '0', 'R') },\n",
    "        (\"find_end_of_sum\", '1') : { (\"find_end_of_sum\", '1', 'R') },\n",
    "        (\"find_end_of_sum\", 'c') : { (\"read_msb_of_sum\", '1', 'S') },\n",
    "        (\"find_end_of_sum\", '.') : { (\"read_msb_of_sum\", '.', 'L') },\n",
    "        #\n",
    "        (\"read_msb_of_sum\", '0') : { (\"0_check_end_of_sum\", '.', 'L') },\n",
    "        (\"read_msb_of_sum\", '1') : { (\"1_check_end_of_sum\", '.', 'L') },\n",
    "        #\n",
    "        (\"0_check_end_of_sum\", '0') : { (\"0_find_end_of_sum\", '0', 'L') },\n",
    "        (\"0_check_end_of_sum\", '1') : { (\"0_find_end_of_sum\", '1', 'L') },\n",
    "        (\"0_check_end_of_sum\", '.') : { (\"0_write_last_digit\", '.', 'L') },\n",
    "        #\n",
    "        (\"1_check_end_of_sum\", '0') : { (\"1_find_end_of_sum\", '0', 'L') },\n",
    "        (\"1_check_end_of_sum\", '1') : { (\"1_find_end_of_sum\", '1', 'L') },\n",
    "        (\"1_check_end_of_sum\", '.') : { (\"1_write_last_digit\", '.', 'L') },\n",
    "        #\n",
    "        (\"0_write_last_digit\", '.') : { (\"0_write_last_digit\", '.', 'L') },\n",
    "        (\"0_write_last_digit\", '0') : { (\"write_last_0\", '0', 'R') },\n",
    "        (\"0_write_last_digit\", '1') : { (\"write_last_0\", '1', 'R') },\n",
    "        (\"0_write_last_digit\", 's') : { (\"write_last_0\", '.', 'R') },\n",
    "        #\n",
    "        (\"1_write_last_digit\", '.') : { (\"1_write_last_digit\", '.', 'L') },\n",
    "        (\"1_write_last_digit\", '0') : { (\"write_last_1\", '0', 'R') },\n",
    "        (\"1_write_last_digit\", '1') : { (\"write_last_1\", '1', 'R') },\n",
    "        (\"1_write_last_digit\", 's') : { (\"write_last_1\", '.', 'R') },\n",
    "        #\n",
    "        (\"write_last_0\", '.') : { (\"find_start_of_answer\", '0', 'S') },\n",
    "        #\n",
    "        (\"write_last_1\", '.') : { (\"find_start_of_answer\", '1', 'S') },\n",
    "        #\n",
    "        (\"0_find_end_of_sum\", '0') : { (\"0_find_end_of_sum\", '0', 'L') },\n",
    "        (\"0_find_end_of_sum\", '1') : { (\"0_find_end_of_sum\", '1', 'L') },\n",
    "        (\"0_find_end_of_sum\", '.') : { (\"0_find_answer\", '.', 'L') },\n",
    "        #\n",
    "        (\"1_find_end_of_sum\", '0') : { (\"1_find_end_of_sum\", '0', 'L') },\n",
    "        (\"1_find_end_of_sum\", '1') : { (\"1_find_end_of_sum\", '1', 'L') },\n",
    "        (\"1_find_end_of_sum\", '.') : { (\"1_find_answer\", '.', 'L') },\n",
    "        #\n",
    "        (\"0_find_answer\", '.') : { (\"0_find_answer\", '.', 'L') },\n",
    "        (\"0_find_answer\", '0') : { (\"write_0\", '0', 'R') },\n",
    "        (\"0_find_answer\", '1') : { (\"write_0\", '1', 'R') },\n",
    "        (\"0_find_answer\", 's') : { (\"write_0\", '.', 'R') },\n",
    "        #\n",
    "        (\"1_find_answer\", '.') : { (\"1_find_answer\", '.', 'L') },\n",
    "        (\"1_find_answer\", '0') : { (\"write_1\", '0', 'R') },\n",
    "        (\"1_find_answer\", '1') : { (\"write_1\", '1', 'R') },\n",
    "        (\"1_find_answer\", 's') : { (\"write_1\", '.', 'R') },\n",
    "        #\n",
    "        (\"write_0\", '.') : { (\"find_start_of_sum\", '0', 'R') },\n",
    "        #\n",
    "        (\"write_1\", '.') : { (\"find_start_of_sum\", '1', 'R') },\n",
    "        #\n",
    "        (\"find_start_of_sum\", '.') : { (\"find_start_of_sum\", '.', 'R') },\n",
    "        (\"find_start_of_sum\", '0') : { (\"find_end_of_sum\", '0', 'S') },\n",
    "        (\"find_start_of_sum\", '1') : { (\"find_end_of_sum\", '1', 'S') },\n",
    "        #\n",
    "        (\"find_start_of_answer\", '0') : { (\"find_start_of_answer\", '0', 'L') },\n",
    "        (\"find_start_of_answer\", '1') : { (\"find_start_of_answer\", '1', 'L') },\n",
    "        (\"find_start_of_answer\", '.') : { (\"erase_leading_zeros\", '.', 'R') },\n",
    "        #\n",
    "        (\"erase_leading_zeros\", '0') : { (\"erase_leading_zeros\", '.', 'R') },\n",
    "        (\"erase_leading_zeros\", '1') : { (\"done\", '1', 'S') },\n",
    "        (\"erase_leading_zeros\", '.') : { (\"done\", '0', 'S') },\n",
    "        # End answer formatting\n",
    "    },\n",
    "\n",
    "    \"q0\"    : \"start\",\n",
    "\n",
    "    \"B\"     : '.',\n",
    "\n",
    "    \"F\"     : {\"done\"}\n",
    "}"
   ]
  },
  {
   "cell_type": "code",
   "execution_count": null,
   "metadata": {
    "run_control": {
     "frozen": false,
     "read_only": false
    }
   },
   "outputs": [],
   "source": [
    "dotObj_tm(addtm)"
   ]
  },
  {
   "cell_type": "code",
   "execution_count": null,
   "metadata": {
    "run_control": {
     "frozen": false,
     "read_only": false
    }
   },
   "outputs": [],
   "source": [
    "addtmobj = dotObj_tm(addtm)"
   ]
  },
  {
   "cell_type": "code",
   "execution_count": null,
   "metadata": {
    "run_control": {
     "frozen": false,
     "read_only": false
    }
   },
   "outputs": [],
   "source": [
    "addtmobj.source"
   ]
  },
  {
   "cell_type": "code",
   "execution_count": null,
   "metadata": {
    "run_control": {
     "frozen": false,
     "read_only": false
    }
   },
   "outputs": [],
   "source": [
    "explore_tm(addtm, \"11111101+11111101\", 735)"
   ]
  },
  {
   "cell_type": "code",
   "execution_count": null,
   "metadata": {
    "run_control": {
     "frozen": false,
     "read_only": false
    }
   },
   "outputs": [],
   "source": []
  },
  {
   "cell_type": "code",
   "execution_count": null,
   "metadata": {
    "run_control": {
     "frozen": false,
     "read_only": false
    }
   },
   "outputs": [],
   "source": []
  }
 ],
 "metadata": {
  "kernelspec": {
   "display_name": "Python 3",
   "language": "python",
   "name": "python3"
  },
  "language_info": {
   "codemirror_mode": {
    "name": "ipython",
    "version": 3
   },
   "file_extension": ".py",
   "mimetype": "text/x-python",
   "name": "python",
   "nbconvert_exporter": "python",
   "pygments_lexer": "ipython3",
   "version": "3.7.3"
  },
  "toc": {
   "colors": {
    "hover_highlight": "#DAA520",
    "running_highlight": "#FF0000",
    "selected_highlight": "#FFD700"
   },
   "moveMenuLeft": true,
   "nav_menu": {
    "height": "318px",
    "width": "252px"
   },
   "navigate_menu": true,
   "number_sections": true,
   "sideBar": true,
   "threshold": 4,
   "toc_cell": false,
   "toc_section_display": "block",
   "toc_window_display": false,
   "widenNotebook": false
  }
 },
 "nbformat": 4,
 "nbformat_minor": 1
}
