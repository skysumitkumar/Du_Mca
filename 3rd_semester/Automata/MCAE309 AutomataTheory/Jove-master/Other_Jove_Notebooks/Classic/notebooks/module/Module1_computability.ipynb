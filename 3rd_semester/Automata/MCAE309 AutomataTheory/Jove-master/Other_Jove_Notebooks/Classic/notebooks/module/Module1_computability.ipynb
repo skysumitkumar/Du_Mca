{
 "cells": [
  {
   "cell_type": "markdown",
   "metadata": {
    "editable": false,
    "run_control": {
     "frozen": false,
     "read_only": false
    }
   },
   "source": [
    "# Learning some basics of Jupyter\n",
    "\n",
    "The way to learn this material is to first learn Jupyter, thanks to a __fantastic__ tutorial by Corey Schafer. This Youtube video is brilliant - please watch it and practice what it teaches you."
   ]
  },
  {
   "cell_type": "markdown",
   "metadata": {
    "editable": false,
    "run_control": {
     "frozen": false,
     "read_only": false
    }
   },
   "source": [
    "<span style=\"color:blue\"> **Youtube Video Tutorial of Jupyter** </span>"
   ]
  },
  {
   "cell_type": "code",
   "execution_count": null,
   "metadata": {
    "editable": false,
    "run_control": {
     "frozen": false,
     "read_only": false
    },
    "scrolled": true
   },
   "outputs": [],
   "source": [
    "from IPython.display import YouTubeVideo\n",
    "YouTubeVideo('HW29067qVWk')"
   ]
  },
  {
   "cell_type": "markdown",
   "metadata": {
    "collapsed": true,
    "editable": false,
    "run_control": {
     "frozen": false,
     "read_only": false
    }
   },
   "source": [
    "# A Mini Markdown Tutorial"
   ]
  },
  {
   "cell_type": "markdown",
   "metadata": {
    "editable": false,
    "run_control": {
     "frozen": false,
     "read_only": false
    }
   },
   "source": [
    "Also if you'd like a tutorial on Markdown (to add your own notes), here is a [quick overview](http://harishv.me/blog/What-is-Markdown), [here is a nice interactive tutorial](http://www.markdowntutorial.com), and [here is a quick reference](http://commonmark.org/help/).\n",
    "\n",
    "\n",
    "Here are some handy commands for use in the rest of these Jupyter notes.\n",
    "\n",
    "<b> - Bold text </b>\n",
    "\n",
    "<strong> - Important text </strong>\n",
    "\n",
    "<i> - Italic text </i>\n",
    "\n",
    "<em> - Emphasized text </em>\n",
    "\n",
    "<mark> - Marked text </mark>\n",
    "\n",
    "<small> - Small text </small>\n",
    "\n",
    "<del> - Deleted text </del>\n",
    "\n",
    "<ins> - Inserted text </ins>\n",
    "\n",
    "<sub> - Subscript text </sub>\n",
    "\n",
    "<sup> - Superscript text </sup>\n",
    "\n",
    " <span style=\"color:blue\"> ** typeset something in blue with emphasis added ** </span>\n",
    " \n",
    " <font size=\"4\"> \n",
    "\n",
    "<p>\n",
    "\n",
    "<br>\n",
    "\n",
    "<br>\n",
    "\n",
    "Here is how to add spacing and paragraphs\n",
    "\n",
    "<p>\n",
    "\n",
    "<br>\n",
    "\n",
    "\n",
    "<br>\n",
    "\n",
    "\n",
    "\n",
    "<p>\n",
    "\n",
    " <font size=\"5\"> \n",
    "\n",
    "Here is how you control your font size\n",
    "\n",
    "</font>"
   ]
  },
  {
   "cell_type": "markdown",
   "metadata": {
    "editable": false,
    "run_control": {
     "frozen": false,
     "read_only": false
    }
   },
   "source": [
    "# Basics of Computability\n",
    "\n",
    "The word **computability** captures what can be achieved using a computer, ie *what is the true power of a computer?* (forgetting how long it takes to compute something; just the possibility of exhibiting an answer or implementing a clever algorithm). In that sense, you can study computability even on a simple device such as a Turing machine. Here is a **fantastic** Turing machine built by Mike Davey!"
   ]
  },
  {
   "cell_type": "markdown",
   "metadata": {
    "collapsed": true,
    "editable": false,
    "run_control": {
     "frozen": false,
     "read_only": false
    }
   },
   "source": [
    " <span style=\"color:blue\"> **Youtube Video of Mike Davey's Turing Machine ** </span>"
   ]
  },
  {
   "cell_type": "code",
   "execution_count": null,
   "metadata": {
    "editable": false,
    "run_control": {
     "frozen": false,
     "read_only": false
    }
   },
   "outputs": [],
   "source": [
    "from IPython.display import YouTubeVideo\n",
    "YouTubeVideo('E3keLeMwfHY')"
   ]
  },
  {
   "cell_type": "markdown",
   "metadata": {
    "editable": false,
    "run_control": {
     "frozen": false,
     "read_only": false
    }
   },
   "source": [
    "OK so the subject of computability theory attempts to answer what can be computed on such a primitive device. It has already shown (in the 1930s) that anything that such a device can do is all we can build and sell in the form of a computer (a laptop, an iPad, a server, and even a supercomputer are faster forms of the above device!)\n",
    "\n",
    "Please read Chapter 1 of my book now. Here is a video that I recorded to help you follow along Chapter 1. (You can see in the background two priceless computability theory / automata theory books, and other inspiring artifacts.)"
   ]
  },
  {
   "cell_type": "markdown",
   "metadata": {
    "editable": false,
    "run_control": {
     "frozen": false,
     "read_only": false
    }
   },
   "source": [
    " <span style=\"color:blue\"> **Youtube Video of Firstname Lastname's brief intro to the book ** </span>"
   ]
  },
  {
   "cell_type": "code",
   "execution_count": null,
   "metadata": {
    "editable": false,
    "run_control": {
     "frozen": false,
     "read_only": false
    },
    "scrolled": true
   },
   "outputs": [],
   "source": [
    "from IPython.display import YouTubeVideo\n",
    "YouTubeVideo('NSo-yUsv5LA')"
   ]
  },
  {
   "cell_type": "markdown",
   "metadata": {
    "editable": false,
    "run_control": {
     "frozen": false,
     "read_only": false
    }
   },
   "source": [
    "# Practical Motivations: Robust Parsing\n",
    "\n",
    "Humans cannot exist in this intellectual society without having the means for unambiguous communication. Unless they can use symbols to write down things and have full confidence that another human or computer will understand it exactly as intended, things can go horribly wrong. For example, if we write down an expression of the form 3 \\* 4 + 5 \\* 6, something tells us that it was intended to communicate 42 (i.e. (3\\*4)+(5\\*6)) and not 360 (if we calculate it as 3\\*(4+5)\\*6). Yet, such obvious precedence rules (that \\* carries more precedence than +) that are known by elementary school children are not \"known\" to a computer. We must explicitly instruct computer front-end parsers to calculate such expressions obeying the right precedences. Yet, the discovery of operator-precedence parsing wasn't easy. Early compilers had extremely hairy rules for parsing even such expressions.  They for instance replaced '+' by \")))+(((\", '*' by \"))*((\", etc. The resulting complexity and impenetrability of early compilers is covered in a historic paper entitled \"History of writing compilers\" by [Knuth][KnuthCompilerHistory].  \n",
    "\n",
    "The design of modern formal languages -- whether they be programming languages, scripting languages or even regular-expression specification languages -- is really a marvel of human ingenuity. This point comes up again in [Padua's LCPC 2014 conference keynote][padualcpc] where it is made clear how Fortran compilers dealt with expressions such as (2 \\* (3 + 4) - (8 - 7)) in entirely ad-hoc ways, as they did not have a formal understanding of operator precedence and context-free parsing. \n",
    "\n",
    "\n",
    "Even if reliable parsing is available, it must be guaranteed that just forgetting a \",\" (comma) somewhere must not result in a legal program with an entirely different meaning; yet, historically this has happened!\n",
    "\n",
    "## Lost Comma results in Lost Spacecraft \n",
    "\n",
    "The syntax of an early computer languaged -- notably Fortran -- proved too brittle, not lending itself to easy error correction. Here is an eye-opening story, supposedly from Mariner-1 (although there is some controversy on whether this story is entirely true -- see [Wikipedia on Mariner][mariner] -- it is a good story!). Apparently this spacecraft was lost because someone forgot to type a comma!  How so?\n",
    "\n",
    "Here was the intended loop:\n",
    "\n",
    "> The loop that faulted was intended to be something like\n",
    "> \n",
    "\n",
    "> DO 10 I = 1,100\n",
    "\n",
    "> ...loop body...\n",
    "\n",
    "> 10 CONTINUE\n",
    "\n",
    "However, someone did not type a comma after the I = 1 and the code looked like this:\n",
    "\n",
    "> DO 10 I = 1 100\n",
    "\n",
    "> 10 CONTINUE\n",
    "\n",
    "\n",
    "Now, in Fortran, blanks are not significant, and so the \"DO\" statement without the comman becomes\n",
    "\n",
    "> DO10I = 1100\n",
    "> \n",
    "\n",
    "i.e., a fresh variable DO10I gets assigned 1100. Then the loop body executes once. Finally, the \"10 CONTINUE\" serves as a no op. The result is that the loop body is executed exact once, and not 100 times as was intended!!\n",
    "\n",
    "## Please do not \"Wing\" Scanners and Parsers\n",
    "\n",
    "The challenge of writing reliable (correct) scanners and parsers arises in a number of other contexts besides parsing programs. A Unix command of the form 'rm file\\[0-1\\]\\[0-1\\]\\[0-1\\]\\*' must remove files ending in two or more occurrences of \\[0-1\\], and not remove a file named file0; recognizing this needs a regular-expression parser (otherwise known as a *scanner*). Another practical example of regular language parsing is in [deep packet inspection systems][deeppkt] that help filter out spam traveling at high speeds (e.g., 10 Gbps). In this case, scanning must be correct *and* extremely fast. Writing fast scanners is still a hot research topic as evidenced by recent papers in prestigious conferences (e.g., by [Mytkowicz et al.][MadanParallelFSM]). The Micron company sells chips implementing fast scanning, in the form of the [Micron Automaton Processor!][MicronAutomatonProcessor].\n",
    "\n",
    "All these stories tell us that significant progress was achieved in the 20th centry (around the 1960s) in terms of  theories of Regular Languages and Context-Free Languages. These theories underlie our ability to *unambiguously parse* sentences belonging to *formal languages*. These developments form centerpieces of this course where, thanks to these innovations, we can teach these topics in a nice and convenient way using Jupyter notebooks to today's undergraduates!\n",
    "\n",
    "\n",
    "[MicronAutomatonProcessor]: http://www.micronautomata.com/\n",
    "\n",
    "[MadanParallelFSM]: https://www.microsoft.com/en-us/research/wp-content/uploads/2016/02/asplos302-mytkowicz.pdf\n",
    "\n",
    "[KnuthCompilerHistory]: http://dl.acm.org/citation.cfm?id=806098\n",
    "\n",
    "[padualcpc]:  https://parasol.tamu.edu/lcpc2014/keynote-padua.pdf\n",
    "\n",
    "\n",
    "[mariner]: https://en.wikipedia.org/wiki/Mariner_1\n",
    "\n",
    "[deeppkt]: http://ieeexplore.ieee.org/xpl/login.jsp?tp=&arnumber=6847977&url=http%3A%2F%2Fieeexplore.ieee.org%2Fxpls%2Fabs_all.jsp%3Farnumber%3D6847977\n",
    "\n"
   ]
  },
  {
   "cell_type": "markdown",
   "metadata": {
    "run_control": {
     "frozen": false,
     "read_only": false
    }
   },
   "source": [
    "# Book design philosophy (evolving)\n",
    "\n",
    "\n",
    "<br>\n",
    "<br>\n",
    "<br>\n",
    "\n",
    "<font size=\"4\"> \n",
    "\n",
    "One of the best pieces of advise I have received is to relate the material I am going to introduce to practice.\n",
    "Here is how I'm going to handle this advice:\n",
    "\n",
    "* The book really has two parts:\n",
    "\n",
    " - The older part of CS presented later (as it needs more mental machinery for students to absorb)\n",
    " \n",
    " - The later part of CS present earlier\n",
    "\n",
    "</font>\n",
    "\n",
    "<br>\n",
    "<br>\n",
    "<br>\n",
    "\n",
    "## [ old version ] Chapter 1's discussion of contents\n",
    "\n",
    "I will let you read the book for a description of its contents. The book will conclude with two interesting topics often not found in other computability books. They are explained below under Computing Using Lambdas and Derivative Scanners. We now give a shout-out to two of our chapters: Lambdas, and use of Derivatives.\n",
    "\n",
    "###  Computing Using Lambdas \n",
    "\n",
    "Even though Lambda Calculus was proposed before Turing machines and even though Lambdas are now being introduced into everyday languages such as C++ or Java, a student is often not shown how Lambdas can encode \"everything\" that is computable --- numbers, structures, predicate tests, and even recursion. We include a chapter on Computing using Lambdas.\n",
    "\n",
    "### Derivative Scanners\n",
    "\n",
    "Way back in 1964, John Brzozowski presented a cool technique to write scanners using the idea of *derivatives of regular expressions*. Yet, this gem is lost in the mist of time. We provide a hands-on approach to understand this topic using which you can write a regular-expression matcher based on a single page of Python code. We also provide a string-to-Abstract-Syntax-Tree parser that turns regular expressions input as strings into ASTs (parse trees). Thus, you get to read another fun page of code that tells you how to write scanners and parsers using scanner generators (lex) and parser generators (yacc) --- again, occupying a single page of code. These scanner and parser generators come from the ply tool produced by [David Beazley][PLY-url] (thanks Dave!). Note that David Beazley has released a new (and improved) scanner/parser tool building suite called SLY (available at his URL). **We may switch over to SLY soon (but of course will give you a heads-up when we do.**\n",
    "\n",
    "[PLY-url]: http://www.dabeaz.com/\n",
    "\n",
    "\n",
    "\n",
    "### Some Credits (evolving list)\n",
    "\n",
    "* Tyler Sorensen and Firstname Lastname co-taught CS 3100 during Fall 2012 \n",
    "* Firstname Lastname developed and debugged the code over his Fall 2012 and 2013 class offerings.\n",
    "* Jamie Hall did a summer project during the summer of 2015, contributing many examples, ways to insert PDFs into Jupyter notebooks, and highlighting changes in yacc.py\n",
    "\n",
    "### Feedback\n",
    "\n",
    "Please send feedback and comments to me directly, with the email subject line containing \"ATMM\" (this stands for 'Automata Theory for Mere Mortals'). My contact info is on [my home-page][gg].\n",
    "[gg]: http://www.cs.utah.edu/~firstname\n"
   ]
  },
  {
   "cell_type": "markdown",
   "metadata": {
    "editable": false,
    "run_control": {
     "frozen": false,
     "read_only": false
    }
   },
   "source": [
    "# Code presented in these Jupyter notes\n",
    " \n",
    "\n",
    "This tutorial is written as a companion to my book \"Models of Computation: Even in Jupyter\". We are going to introduce the ideas largely following the same order as in the book. Here, we will amplify each idea with a snippet of code or a website to peruse, or a Youtube video to watch, etc. All this material will come in the form of Jupyter cells that helps you dart to those videos or websites and dart back\n",
    "    \n",
    "We will restrict ourself to a very small subset of Python. This will largely be a purely functional subset. We will use recursion and higher order operations and other succinct operations (map, filter, set comprehensions) indiscriminately, and almost wastefully. The purpose is of course to be able to view each line of code also as a mathematical formula. This achieves the dual purpose of teaching some functional programming, and emphasize \"what\" above \"how\". There are many excellent packages that do automata-theoretic operations rather well (and efficiently). Our purpose is instead to give you some \"play dough\" using which you can still perform realistic automata-theoretic operations. \n",
    "\n",
    "Whenever possible, we will also present a Latex version of how the math looks like (in today's books) and then follow it with our Python code.\n",
    "\n",
    "We also strive to show that used carefully, Python may come close to being a formal executable notation to teach theory courses. Learning recursive/declarative programming is also largely under-emphasized in many curricula - and this approach may provide means of introducing (and reinforcing) such basics.\n",
    "\n",
    "\n",
    "\n",
    "## CODE CONTENTS (evolving)\n",
    "\n",
    "In this tutorial, we will teach you several core topics covered in most undergraduate (and graduate) courses on Automata Theory, namely:\n",
    "\n",
    "* Theory of regular languages\n",
    "    - What is a language?\n",
    "    - When is a language said to be regular?\n",
    "    - Formal definitions of regular operations\n",
    "        - empty\n",
    "        - unit\n",
    "        - concatenation\n",
    "        - plus\n",
    "        - star\n",
    "    - What are NFA, DFA, Regular Expressions?\n",
    "        - How to inter-convert between these forms\n",
    "            - NFA to DFA\n",
    "            - NFA to RE\n",
    "            \n",
    "* Theory of context-free languages\n",
    "    - The fact that the syntax of regular expressions is context-free\n",
    "    - How to write a regular-expression parser using [David Beazley's PLY system][dabply] which generates as \"code\" NFAs\n",
    "    \n",
    "[dabply]: http://www.dabeaz.com/ply/    \n",
    "    \n",
    "       \n",
    "Thus, our treatment of context-free languages is minimal; yet, there is enough grist to build further material (e.g., adding additional context-free productions within PLY to parse extended regular-expression forms can be a fun exercise).\n",
    "\n",
    "OK, here we go!\n",
    "\n",
    "\n",
    "# JUPYTER Tutorial\n",
    "\n",
    "Again, please go through a good Jupyter tutorial before you proceed further. Here is an excellent tutorial by [Corey Schafer][Corey Schafer Youtube]. (Sincere thanks to Mr. Schafer for this excellent tutorial!!)\n",
    "\n",
    "[Corey Schafer Youtube]: https://www.youtube.com/watch?v=HW29067qVWk\n",
    "\n",
    "============================================================"
   ]
  },
  {
   "cell_type": "markdown",
   "metadata": {
    "collapsed": true,
    "editable": false,
    "run_control": {
     "frozen": false,
     "read_only": false
    }
   },
   "source": [
    "<span style=\"color:blue\"> **This concludes Chapter-1** </span>"
   ]
  }
 ],
 "metadata": {
  "kernelspec": {
   "display_name": "Python 3",
   "language": "python",
   "name": "python3"
  },
  "language_info": {
   "codemirror_mode": {
    "name": "ipython",
    "version": 3
   },
   "file_extension": ".py",
   "mimetype": "text/x-python",
   "name": "python",
   "nbconvert_exporter": "python",
   "pygments_lexer": "ipython3",
   "version": "3.6.0"
  },
  "toc": {
   "colors": {
    "hover_highlight": "#DAA520",
    "running_highlight": "#FF0000",
    "selected_highlight": "#FFD700"
   },
   "moveMenuLeft": true,
   "nav_menu": {
    "height": "315px",
    "width": "252px"
   },
   "navigate_menu": true,
   "number_sections": true,
   "sideBar": true,
   "threshold": 4,
   "toc_cell": false,
   "toc_section_display": "block",
   "toc_window_display": false,
   "widenNotebook": false
  }
 },
 "nbformat": 4,
 "nbformat_minor": 1
}
