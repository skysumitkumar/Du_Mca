{
 "cells": [
  {
   "cell_type": "markdown",
   "metadata": {},
   "source": [
    "#  Jove Editor"
   ]
  },
  {
   "cell_type": "code",
   "execution_count": null,
   "metadata": {},
   "outputs": [],
   "source": [
    "#~~~~~~~~~~~~~~~~~~~~~~~~~~~~~~~~~~~~~~~~~~~~~~~~~~~~~~~\n",
    "import sys\n",
    "\n",
    "# -- Detect if in Own Install or in Colab\n",
    "try:\n",
    "    import google.colab\n",
    "    OWN_INSTALL = False\n",
    "except:\n",
    "    OWN_INSTALL = True\n",
    "    \n",
    "if OWN_INSTALL:\n",
    "  #---- Leave these definitions ON if running on laptop\n",
    "  #---- Else turn OFF by putting them between ''' ... '''\n",
    "\n",
    "  # sys.path[0:0] = ['..'] #,           '../3rdparty' ]\n",
    "  print(\"Running on own machine.\")\n",
    "\n",
    "else: # In colab\n",
    "  ! if [ ! -d Jove ]; then git clone https://gitlab.com/anon_submitter/Jove Jove; fi\n",
    "  sys.path.append('./Jove')\n",
    "  sys.path.append('./Jove/jove')\n",
    "\n",
    "# -- common imports --\n",
    "from jove.lex  import lex\n",
    "from jove.yacc import yacc\n",
    "from jove.Def_md2mc  import *\n",
    "from jove.JoveEditor import *  \n",
    "from jove.AnimateDFA import *\n",
    "\n",
    "from jove.Def_DFA import *\n",
    "from jove.Def_NFA import *\n",
    "from jove.Def_PDA import *\n",
    "from jove.Def_TM  import *\n",
    "from jove.Def_RE2NFA import *\n",
    "from jove.LangDef import *\n",
    "#~~~~~~~~~~~~~~~~~~~~~~~~~~~~~~~~~~~~~~~~~~~~~~~~~~~~~~~"
   ]
  },
  {
   "cell_type": "markdown",
   "metadata": {},
   "source": [
    "# NFA defn, AnimateNFA, re2nfa, nfa2dfa, min_dfa, iso_dfa"
   ]
  },
  {
   "cell_type": "markdown",
   "metadata": {},
   "source": [
    "## First, define an NFA using Jove's Automaton Markdown"
   ]
  },
  {
   "cell_type": "code",
   "execution_count": null,
   "metadata": {},
   "outputs": [],
   "source": [
    "nfahas01 = md2mc('''\n",
    "NFA\n",
    "I : 0 | 1 -> I\n",
    "I : ''    -> A\n",
    "A : 0     -> B\n",
    "B : 1     -> C\n",
    "C : 0 | 1 -> C\n",
    "C : ''    -> F\n",
    "''')"
   ]
  },
  {
   "cell_type": "markdown",
   "metadata": {},
   "source": [
    "## Let's draw this NFA now"
   ]
  },
  {
   "cell_type": "code",
   "execution_count": null,
   "metadata": {},
   "outputs": [],
   "source": [
    "dotObj_nfa(nfahas01)"
   ]
  },
  {
   "cell_type": "markdown",
   "metadata": {},
   "source": [
    "## Now let's animate the above creation"
   ]
  },
  {
   "cell_type": "code",
   "execution_count": null,
   "metadata": {},
   "outputs": [],
   "source": [
    "from jove.AnimateNFA import *\n",
    "AnimateNFA(nfahas01)\n",
    "# Due to a Colab limitation, the following incantation is needed in every cell to show the play buttons!\n",
    "display(HTML('<link rel=\\\"stylesheet\\\" href=\\\"//stackpath.bootstrapcdn.com/font-awesome/4.7.0/css/font-awesome.min.css\\\"/>'))"
   ]
  },
  {
   "cell_type": "markdown",
   "metadata": {},
   "source": [
    "## Write an alternate NFA definition and check it matches the previous"
   ]
  },
  {
   "cell_type": "code",
   "execution_count": null,
   "metadata": {},
   "outputs": [],
   "source": [
    "nfahas01alt = re2nfa(\"(0+1)*01(0+1)*\")\n",
    "iso_dfa(min_dfa(nfa2dfa(nfahas01)), min_dfa(nfa2dfa(nfahas01alt)))"
   ]
  },
  {
   "cell_type": "markdown",
   "metadata": {},
   "source": [
    "# Sometimes, building the complement of a machine is easier"
   ]
  },
  {
   "cell_type": "code",
   "execution_count": null,
   "metadata": {},
   "outputs": [],
   "source": [
    "dotObj_dfa(comp_dfa(min_dfa(nfa2dfa(re2nfa(\"(0+1)*(111)(0+1)*\")))), FuseEdges=True)"
   ]
  },
  {
   "cell_type": "markdown",
   "metadata": {},
   "source": [
    "# Definition of DFA union in Python\n",
    "\n",
    "$Q = (F_1 \\times Q_2) \\cup (Q_1 \\times F_2)$\n",
    "\n",
    "$F = F_1\\cup F_2$\n",
    "\n",
    "$q_0 = (q_0^1, q_0^2)$\n",
    "\n",
    "$\\delta((q_1,q_2),a) = (\\delta_1(q_1,a), \\delta_2(q_2,a)) $"
   ]
  },
  {
   "cell_type": "markdown",
   "metadata": {},
   "source": [
    "## Definition of DFA union with extra checks implemented"
   ]
  },
  {
   "cell_type": "code",
   "execution_count": null,
   "metadata": {},
   "outputs": [],
   "source": [
    "def union_dfa(D1in, D2in):\n",
    "    \"\"\"In : D1in (consistent DFA)\n",
    "            D2in (consistent DFA)\n",
    "       Out: DFA for language union of D1in, D2in (consistent DFA). \n",
    "    \"\"\"\n",
    "    assert(is_consistent_dfa(D1in)), \"Inconsist. DFA1 in union_dfa\"\n",
    "    assert(is_consistent_dfa(D2in)), \"Inconsist. DFA2 in union_dfa\"\n",
    "    if (D1in[\"Sigma\"] != D2in[\"Sigma\"]):\n",
    "        print(\"Union on DFA with different alphabets.\")\n",
    "        print(\"Making alphabets the same (taking unions).\")\n",
    "        Sigma = D1in[\"Sigma\"] | D2in[\"Sigma\"]\n",
    "        D1   = copy.deepcopy(D1in)\n",
    "        D2   = copy.deepcopy(D2in)\n",
    "        D1[\"Sigma\"] = Sigma\n",
    "        D2[\"Sigma\"] = Sigma\n",
    "        D1 = totalize_dfa(D1)\n",
    "        D2 = totalize_dfa(D2)\n",
    "    else:\n",
    "        D1 = totalize_dfa(D1in)\n",
    "        D2 = totalize_dfa(D2in)\n",
    "   \n",
    "    # The states can be anything in the cartesian product\n",
    "    Q     = set(product(D1[\"Q\"], D2[\"Q\"]))\n",
    "    \n",
    "    # Accept if one of the DFAs accepts\n",
    "    F     = (set(product(D1[\"F\"], D2[\"Q\"])) | \n",
    "             set(product(D1[\"Q\"], D2[\"F\"])))\n",
    "    \n",
    "    # Start a lock-step march from the respective q0\n",
    "    q0    = (D1[\"q0\"], D2[\"q0\"])\n",
    "    \n",
    "    # The transition function attempts to march both\n",
    "    # DFAs in lock-step per their own transition functions\n",
    "    Delta = { ((q1,q2),ch) : (q1p, q2p) \n",
    "               for q1 in D1[\"Q\"] for q1p in D1[\"Q\"] \n",
    "               for q2 in D2[\"Q\"] for q2p in D2[\"Q\"] \n",
    "               for ch in D1[\"Sigma\"] \n",
    "               if D1[\"Delta\"][(q1,ch)] == q1p and\n",
    "                  D2[\"Delta\"][(q2,ch)] == q2p }\n",
    "                                                          \n",
    "    return pruneUnreach(\n",
    "        mk_dfa(Q, D1[\"Sigma\"], Delta, q0, F))\n"
   ]
  },
  {
   "cell_type": "code",
   "execution_count": null,
   "metadata": {},
   "outputs": [],
   "source": [
    "D1 = min_dfa(nfa2dfa(nfahas01))\n",
    "dotObj_dfa(D1, FuseEdges=True)"
   ]
  },
  {
   "cell_type": "code",
   "execution_count": null,
   "metadata": {},
   "outputs": [],
   "source": [
    "D2 = min_dfa(nfa2dfa(re2nfa(\"(0+1)*(111)(0+1)*\")))\n",
    "dotObj_dfa(D2, FuseEdges=True)"
   ]
  },
  {
   "cell_type": "code",
   "execution_count": null,
   "metadata": {},
   "outputs": [],
   "source": [
    "# Union of the above DFA D1 and D2\n",
    "dotObj_dfa(union_dfa(D1,D2))"
   ]
  },
  {
   "cell_type": "markdown",
   "metadata": {},
   "source": [
    "# Animating the star of a language"
   ]
  },
  {
   "cell_type": "code",
   "execution_count": null,
   "metadata": {},
   "outputs": [],
   "source": [
    "# Animate the star of a language\n",
    "L1 = {'a', 'b'}\n",
    "L2 = {'ab', 'bc'}\n",
    "# lphi()  = {}\n",
    "# lunit() = {''}\n",
    "\n",
    "wdg.interact(lstar,\n",
    "            L = {'L1':L1,\n",
    "                 'L2':L2,\n",
    "                 'lphi' : lphi(),\n",
    "                 'lunit': lunit()},\n",
    "             n = (0,7))"
   ]
  },
  {
   "cell_type": "markdown",
   "metadata": {},
   "source": [
    "# Postage Stamp Problem for 3, 5, and 7 cents"
   ]
  },
  {
   "cell_type": "code",
   "execution_count": null,
   "metadata": {},
   "outputs": [],
   "source": [
    "all357 = \"(111+11111+1111111)*\"\n",
    "dotObj_dfa(min_dfa(nfa2dfa(re2nfa(all357))))"
   ]
  },
  {
   "cell_type": "markdown",
   "metadata": {},
   "source": [
    "# Brzozowski's minimization"
   ]
  },
  {
   "cell_type": "code",
   "execution_count": null,
   "metadata": {},
   "outputs": [],
   "source": [
    "def brz_min_dfa(D):\n",
    "    return(nfa2dfa(rev_dfa(nfa2dfa(rev_dfa(D)))))"
   ]
  },
  {
   "cell_type": "markdown",
   "metadata": {},
   "source": [
    "## Check if it minimizes; here is the unminimzed machine"
   ]
  },
  {
   "cell_type": "code",
   "execution_count": null,
   "metadata": {},
   "outputs": [],
   "source": [
    "dotObj_dfa(nfa2dfa(re2nfa(all357)))"
   ]
  },
  {
   "cell_type": "markdown",
   "metadata": {},
   "source": [
    "# Check if it minimizes; here is the minimized machine"
   ]
  },
  {
   "cell_type": "code",
   "execution_count": null,
   "metadata": {},
   "outputs": [],
   "source": [
    "dotObj_dfa(brz_min_dfa(nfa2dfa(re2nfa(all357))))"
   ]
  },
  {
   "cell_type": "markdown",
   "metadata": {},
   "source": [
    "# PDA Animation"
   ]
  },
  {
   "cell_type": "code",
   "execution_count": null,
   "metadata": {},
   "outputs": [],
   "source": [
    "from jove.AnimatePDA import *"
   ]
  },
  {
   "cell_type": "markdown",
   "metadata": {},
   "source": [
    "## See how the markdown of Jove allows good commenting"
   ]
  },
  {
   "cell_type": "code",
   "execution_count": null,
   "metadata": {},
   "outputs": [],
   "source": [
    "f27sip = md2mc('''PDA \n",
    "!!---------------------------------------------------------------------------\n",
    "!! This is a PDA From Sipser's book\n",
    "!! This matches a's and b's ignoring c's\n",
    "!! or matches a's and c's, ignoring b's in the middle\n",
    "!! thus matching either a^m b^m c^n or a^m b^n c^m\n",
    "!!---------------------------------------------------------------------------\n",
    "\n",
    "!!---------------------------------------------------------------------------\n",
    "!! State: in , sin ; spush -> tostates !! comment\n",
    "!!---------------------------------------------------------------------------\n",
    "iq1    : '' , ''  ; $     -> q2       !!  start in init state by pushing a $\n",
    "\n",
    "q2     : a  , ''  ; a     -> q2       !!  stack a's\n",
    "q2     : '' , ''  ; ''    -> q3,q5    !!  split non-det for a^m b^m c^n (q3)\n",
    "                                      !!  or a^m b^n c^m (q5)\n",
    "\n",
    "q3     : b  , a   ; ''    -> q3       !!  match b's against a's\n",
    "q3     : '' , $   ; ''    -> fq4      !!  hope for acceptance when $ surfaces\n",
    "\n",
    "fq4    : c  , ''  ; ''    -> fq4      !!  be happy so long as c's come\n",
    "                                      !!  will choke and reject if anything\n",
    "                                      !!  other than c's come\n",
    "\n",
    "q5     : b  , ''  ; ''    -> q5       !!  here, we are going to punt over b's\n",
    "q5     : '' , ''  ; ''    -> q6       !!  and non-det decide to honor c's matching\n",
    "                                      !!  against a's\n",
    "\n",
    "q6     : c  , a   ; ''    -> q6       !!  OK to match so long as c's keep coming\n",
    "q6     : '' , $   ; ''    -> fq7      !!  when $ surfaces, be ready to accept in\n",
    "                                      !!  state fq7. However, anything else coming in\n",
    "                                      !!  now will foil match and cause rejection.\n",
    "!!---------------------------------------------------------------------------\n",
    "!! You may use the line below as an empty shell to populate for your purposes\n",
    "!! Also serves as a syntax reminder for entering PDAs.\n",
    "!!\n",
    "!! State : i1 , si1 ; sp1 | i2 , si2 ; sp2 -> tos1, tos2 !! comment\n",
    "!!\n",
    "!! ..    : .. , ..  ; ..  | .. , ..  ; ..  -> ..  , ..   !!  ..\n",
    "!!---------------------------------------------------------------------------\n",
    "!!---------------------------------------------------------------------------\n",
    "!!\n",
    "!! Good commenting and software-engineering methods, good clean indentation,\n",
    "!! grouping of similar states, columnar alignment, etc etc. are HUGELY\n",
    "!! important in any programming endeavor -- especially while programming\n",
    "!! automata. Otherwise, you can easily make a mistake in your automaton\n",
    "!! code. Besides, you cannot rely upon others to find your mistakes, as\n",
    "!! they will find your automaton code impossible to read!\n",
    "!!\n",
    "!!---------------------------------------------------------------------------\n",
    "\n",
    "''')"
   ]
  },
  {
   "cell_type": "code",
   "execution_count": null,
   "metadata": {},
   "outputs": [],
   "source": [
    "dotObj_pda(f27sip)"
   ]
  },
  {
   "cell_type": "code",
   "execution_count": null,
   "metadata": {},
   "outputs": [],
   "source": [
    "from jove.JoveEditor import *\n",
    "AnimatePDA(f27sip, FuseEdges=True)\n",
    "display(HTML('<link rel=\\\"stylesheet\\\" href=\\\"//stackpath.bootstrapcdn.com/font-awesome/4.7.0/css/font-awesome.min.css\\\"/>'))"
   ]
  },
  {
   "cell_type": "markdown",
   "metadata": {},
   "source": [
    "## Showing explore_pda"
   ]
  },
  {
   "cell_type": "code",
   "execution_count": null,
   "metadata": {},
   "outputs": [],
   "source": [
    "explore_pda(\"aabbcc\", f27sip)"
   ]
  },
  {
   "cell_type": "code",
   "execution_count": null,
   "metadata": {},
   "outputs": [],
   "source": []
  },
  {
   "cell_type": "markdown",
   "metadata": {},
   "source": [
    "# Jove Editor is a cockpit for animating all machine types\n",
    "\n",
    "This cockpit used to work only on one's own machine, but now works also on Colab!"
   ]
  },
  {
   "cell_type": "markdown",
   "metadata": {},
   "source": [
    "### JoveEditor has two optional parameters\n",
    "\n",
    "#### machine (default: None) - You can supply an already created jove machine (DFA, NFA, PDA, TM). The machine dictionary will be displayed under 'Edit' tab and the Animation for the machine will be displayed in the 'Animate' tab\n",
    "\n",
    "#### examples (default: False) - If True, the 'Edit' tab will contain example markdown for each machine type. Otherwise, the placeholder text displays a reminder of the rule format"
   ]
  },
  {
   "cell_type": "code",
   "execution_count": null,
   "metadata": {},
   "outputs": [],
   "source": [
    "JoveEditor(examples=True)"
   ]
  },
  {
   "cell_type": "markdown",
   "metadata": {},
   "source": [
    "# Animate* Classes\n",
    "You can animate any Jove machine (DFA, NFA, PDA, TM) using the corresponding Animate* class which will create a widget to interact with the machine.\n",
    "\n",
    "You can enter a string for the machine to consume in the 'Input:' text box at the top of the widget. The string must be composed of symbols in the machine's alphabet which is displayed in input box by default. If the string contains unknown symbols the 'Animate' button will turn red with the message 'Invalid Input' until the string is updated.\n",
    "\n",
    "Click the 'Animate' button when you are ready for the machine to animate using your input. This disables the input textbox and enables the play controls at the bottom of the widget. When you are done exploring the current input click the 'Change Input' button to disable the play controls and re-enable the input textbox. \n",
    "\n",
    "The play controls at the bottom of widget (from left to right) consist of:\n",
    "* Play          : play/resume the animation\n",
    "* Pause         : pause the animation\n",
    "* Stop          : stop the animation, play will start from the beginning\n",
    "* Loop          : loop when the end of the animation is reached and continue playing from the beginning\n",
    "* Step Backward : take one 'step' backward in the animation\n",
    "* Step Forward  : take one 'step' forward in the animation\n",
    "* Speed         : this slider lets you increase the animation playback speed"
   ]
  },
  {
   "cell_type": "markdown",
   "metadata": {},
   "source": [
    "## END of SIGCSE demos"
   ]
  }
 ],
 "metadata": {
  "kernelspec": {
   "display_name": "Python 3",
   "language": "python",
   "name": "python3"
  },
  "language_info": {
   "codemirror_mode": {
    "name": "ipython",
    "version": 3
   },
   "file_extension": ".py",
   "mimetype": "text/x-python",
   "name": "python",
   "nbconvert_exporter": "python",
   "pygments_lexer": "ipython3",
   "version": "3.7.3"
  }
 },
 "nbformat": 4,
 "nbformat_minor": 2
}
